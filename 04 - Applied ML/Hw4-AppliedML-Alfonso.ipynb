{
 "cells": [
  {
   "cell_type": "markdown",
   "metadata": {},
   "source": [
    "# ADA / Applied Data Analysis\n",
    "<h2 style=\"color:#a8a8a8\">Homework 4 - Applied Machine Learning<br>\n",
    "Aimée Montero, Alfonso Peterssen, Cyriaque Brousse</h2>"
   ]
  },
  {
   "cell_type": "markdown",
   "metadata": {
    "collapsed": true
   },
   "source": [
    "## Assignment description\n",
    "In this homework we will gain experience on Applied Machine Learning, exploring an interesting dataset about soccer players and referees.\n",
    "You can find all the data in the `CrowdstormingDataJuly1st.csv` file, while you can read a thorough [dataset description here](DATA.md).\n",
    "Given that the focus of this homework is Machine Learning, I recommend you to first take a look at [this notebook](http://nbviewer.jupyter.org/github/mathewzilla/redcard/blob/master/Crowdstorming_visualisation.ipynb)\n",
    "containing a solid work in pre-processing + visualization of the given dataset. You are *not* allowed to just copy/paste the pre-processing steps\n",
    "performed by the notebook authors -- you are still supposed to perform your own data analysis for the homework. Still, I'm confident that consulting first\n",
    "the work done by expert data analysts will speed up tangibly your effort (i.e., they have already found for you many glitches in the data :)\n",
    "\n",
    "\n",
    "### Assignment\n",
    "1. Train a `sklearn.ensemble.RandomForestClassifier` that given a soccer player description outputs his skin color. Show how different parameters \n",
    "passed to the Classifier affect the overfitting issue. Perform cross-validation to mitigate the overfitting of your model. Once you assessed your model,\n",
    "inspect the `feature_importances_` attribute and discuss the obtained results. With different assumptions on the data (e.g., dropping certain features even\n",
    "before feeding them to the classifier), can you obtain a substantially different `feature_importances_` attribute?\n",
    "\n",
    "  *BONUS*: plot the learning curves against at least 2 different sets of parameters passed to your Random Forest. To obtain smooth curves, partition\n",
    "your data in at least 20 folds. Can you find a set of parameters that leads to high bias, and one which does not?\n",
    "\n",
    "2. Aggregate the referee information grouping by soccer player, and use an unsupervised learning technique to cluster the soccer players in 2 disjoint\n",
    "clusters. Remove features iteratively, and at each step perform again the clustering and compute the silhouette score -- can you find a configuration of features with high silhouette\n",
    "score where players with dark and light skin colors belong to different clusters? Discuss the obtained results."
   ]
  },
  {
   "cell_type": "markdown",
   "metadata": {},
   "source": [
    "## Part 1 - Familiarizing ourselves with the data"
   ]
  },
  {
   "cell_type": "markdown",
   "metadata": {},
   "source": [
    "## Data description\n",
    "\n",
    "From a company for sports statistics, we obtained data and profile photos from all soccer players (N = 2053) playing in the first male divisions of England, Germany, France and Spain in the 2012-2013 season and all referees (N = 3147) that these players played under in their professional career. We created a dataset of player–referee dyads including the number of matches players and referees encountered each other and our dependent variable, the number of red cards given to a player by a particular referee throughout all matches the two encountered each other.\n",
    " \n",
    "Player photos were available from the source for 1586 out of 2053 players. Players’ skin tone was coded by two independent raters blind to the research question who, based on their profile photo, categorized players on a 5-point scale ranging from “very light skin” to “very dark skin” with “neither dark nor light skin” as the center value. \n",
    "\n",
    "Additionally, implicit bias scores for each referee country were calculated using a race implicit association test (IAT), with higher values corresponding to faster white | good, black | bad associations. Explicit bias scores for each referee country were calculated using a racial thermometer task, with higher values corresponding to greater feelings of warmth toward whites versus blacks. Both these measures were created by aggregating data from many online users in referee countries taking these tests on [Project Implicit](http://projectimplicit.net).\n",
    "\n",
    "In all, the dataset has a total of 146028 dyads of players and referees. A detailed description of all variables in the dataset can be seen in the list below.\n",
    "\n",
    "### Variables:\n",
    "\n",
    "- *playerShort* - short player ID\n",
    "- *player* - player name\n",
    "- *club* - player club\n",
    "- *leagueCountry* - country of player club (England, Germany, France, and Spain)\n",
    "- *birthday* - player birthday\n",
    "- *height* - player height (in cm)\n",
    "- *weight* - player weight (in kg)\n",
    "- *position* - detailed player position\n",
    "- *games* - number of games in the player-referee dyad\n",
    "- *victories* - victories in the player-referee dyad\n",
    "- *ties* - ties in the player-referee dyad\n",
    "- *defeats* - losses in the player-referee dyad\n",
    "- *goals* - goals scored by a player in the player-referee dyad\n",
    "- *yellowCards* - number of yellow cards player received from referee\n",
    "- *yellowReds* - number of yellow-red cards player received from referee\n",
    "- *redCards* - number of red cards player received from referee\n",
    "- *photoID* - ID of player photo (if available)\n",
    "- *rater1* - skin rating of photo by rater 1 (5-point scale ranging from “very light skin” to “very dark skin”)\n",
    "- *rater2* - skin rating of photo by rater 2 (5-point scale ranging from “very light skin” to “very dark skin”)\n",
    "- *refNum* - unique referee ID number (referee name removed for anonymizing purposes)\n",
    "- *refCountry* - unique referee country ID number (country name removed for anonymizing purposes)\n",
    "- *meanIAT* - mean implicit bias score (using the race IAT) for referee country, higher values correspond to faster white | good, black | bad associations\n",
    "- *nIAT* - sample size for race IAT in that particular country\n",
    "- *seIAT* - standard error for mean estimate of race IAT\n",
    "- *meanExp* - mean explicit bias score (using a racial thermometer task) for referee country, higher values correspond to greater feelings of warmth toward whites versus blacks\n",
    "- *nExp* - sample size for explicit bias in that particular country\n",
    "- *seExp* - standard error for mean estimate of explicit bias measure"
   ]
  },
  {
   "cell_type": "markdown",
   "metadata": {},
   "source": [
    "Let's import the required libraries:"
   ]
  },
  {
   "cell_type": "code",
   "execution_count": 92,
   "metadata": {
    "collapsed": false
   },
   "outputs": [],
   "source": [
    "import numpy as np\n",
    "import pandas as pd\n",
    "import matplotlib.pyplot as pl\n",
    "import sklearn as sk\n",
    "import datetime\n",
    "%matplotlib inline"
   ]
  },
  {
   "cell_type": "markdown",
   "metadata": {},
   "source": [
    "And import the data from the CSV source:"
   ]
  },
  {
   "cell_type": "code",
   "execution_count": 93,
   "metadata": {
    "collapsed": false
   },
   "outputs": [
    {
     "data": {
      "text/html": [
       "<div>\n",
       "<table border=\"1\" class=\"dataframe\">\n",
       "  <thead>\n",
       "    <tr style=\"text-align: right;\">\n",
       "      <th></th>\n",
       "      <th>playerShort</th>\n",
       "      <th>player</th>\n",
       "      <th>club</th>\n",
       "      <th>leagueCountry</th>\n",
       "      <th>birthday</th>\n",
       "      <th>height</th>\n",
       "      <th>weight</th>\n",
       "      <th>position</th>\n",
       "      <th>games</th>\n",
       "      <th>victories</th>\n",
       "      <th>...</th>\n",
       "      <th>rater2</th>\n",
       "      <th>refNum</th>\n",
       "      <th>refCountry</th>\n",
       "      <th>Alpha_3</th>\n",
       "      <th>meanIAT</th>\n",
       "      <th>nIAT</th>\n",
       "      <th>seIAT</th>\n",
       "      <th>meanExp</th>\n",
       "      <th>nExp</th>\n",
       "      <th>seExp</th>\n",
       "    </tr>\n",
       "  </thead>\n",
       "  <tbody>\n",
       "    <tr>\n",
       "      <th>118579</th>\n",
       "      <td>sven-schipplock</td>\n",
       "      <td>Sven Schipplock</td>\n",
       "      <td>1899 Hoffenheim</td>\n",
       "      <td>Germany</td>\n",
       "      <td>1988-11-08</td>\n",
       "      <td>185.0</td>\n",
       "      <td>79.0</td>\n",
       "      <td>Center Forward</td>\n",
       "      <td>1</td>\n",
       "      <td>0</td>\n",
       "      <td>...</td>\n",
       "      <td>0.25</td>\n",
       "      <td>2525</td>\n",
       "      <td>8</td>\n",
       "      <td>DEU</td>\n",
       "      <td>0.336628</td>\n",
       "      <td>7749.0</td>\n",
       "      <td>0.000055</td>\n",
       "      <td>0.335967</td>\n",
       "      <td>7974.0</td>\n",
       "      <td>0.000225</td>\n",
       "    </tr>\n",
       "    <tr>\n",
       "      <th>39811</th>\n",
       "      <td>julian-riedel</td>\n",
       "      <td>Julian Riedel</td>\n",
       "      <td>Bayer Leverkusen</td>\n",
       "      <td>Germany</td>\n",
       "      <td>1991-08-10</td>\n",
       "      <td>183.0</td>\n",
       "      <td>73.0</td>\n",
       "      <td>Left Fullback</td>\n",
       "      <td>1</td>\n",
       "      <td>0</td>\n",
       "      <td>...</td>\n",
       "      <td>0.25</td>\n",
       "      <td>740</td>\n",
       "      <td>8</td>\n",
       "      <td>DEU</td>\n",
       "      <td>0.336628</td>\n",
       "      <td>7749.0</td>\n",
       "      <td>0.000055</td>\n",
       "      <td>0.335967</td>\n",
       "      <td>7974.0</td>\n",
       "      <td>0.000225</td>\n",
       "    </tr>\n",
       "    <tr>\n",
       "      <th>118857</th>\n",
       "      <td>ali-al-habsi</td>\n",
       "      <td>Ali Al Habsi</td>\n",
       "      <td>Wigan Athletic</td>\n",
       "      <td>England</td>\n",
       "      <td>1981-12-30</td>\n",
       "      <td>194.0</td>\n",
       "      <td>88.0</td>\n",
       "      <td>Goalkeeper</td>\n",
       "      <td>1</td>\n",
       "      <td>1</td>\n",
       "      <td>...</td>\n",
       "      <td>NaN</td>\n",
       "      <td>2530</td>\n",
       "      <td>44</td>\n",
       "      <td>ENGL</td>\n",
       "      <td>0.326690</td>\n",
       "      <td>44791.0</td>\n",
       "      <td>0.000010</td>\n",
       "      <td>0.356446</td>\n",
       "      <td>46916.0</td>\n",
       "      <td>0.000037</td>\n",
       "    </tr>\n",
       "    <tr>\n",
       "      <th>43085</th>\n",
       "      <td>richard-wright</td>\n",
       "      <td>Richard Wright</td>\n",
       "      <td>Manchester City</td>\n",
       "      <td>England</td>\n",
       "      <td>1977-11-05</td>\n",
       "      <td>189.0</td>\n",
       "      <td>87.0</td>\n",
       "      <td>NaN</td>\n",
       "      <td>2</td>\n",
       "      <td>1</td>\n",
       "      <td>...</td>\n",
       "      <td>0.25</td>\n",
       "      <td>783</td>\n",
       "      <td>44</td>\n",
       "      <td>ENGL</td>\n",
       "      <td>0.326690</td>\n",
       "      <td>44791.0</td>\n",
       "      <td>0.000010</td>\n",
       "      <td>0.356446</td>\n",
       "      <td>46916.0</td>\n",
       "      <td>0.000037</td>\n",
       "    </tr>\n",
       "    <tr>\n",
       "      <th>30278</th>\n",
       "      <td>kamel-ghilas</td>\n",
       "      <td>Kamel Ghilas</td>\n",
       "      <td>Stade Reims</td>\n",
       "      <td>France</td>\n",
       "      <td>1984-03-09</td>\n",
       "      <td>177.0</td>\n",
       "      <td>70.0</td>\n",
       "      <td>Attacking Midfielder</td>\n",
       "      <td>1</td>\n",
       "      <td>0</td>\n",
       "      <td>...</td>\n",
       "      <td>NaN</td>\n",
       "      <td>553</td>\n",
       "      <td>99</td>\n",
       "      <td>BEN</td>\n",
       "      <td>0.255357</td>\n",
       "      <td>238.0</td>\n",
       "      <td>0.002299</td>\n",
       "      <td>0.196581</td>\n",
       "      <td>234.0</td>\n",
       "      <td>0.014588</td>\n",
       "    </tr>\n",
       "  </tbody>\n",
       "</table>\n",
       "<p>5 rows × 28 columns</p>\n",
       "</div>"
      ],
      "text/plain": [
       "            playerShort           player              club leagueCountry  \\\n",
       "118579  sven-schipplock  Sven Schipplock   1899 Hoffenheim       Germany   \n",
       "39811     julian-riedel    Julian Riedel  Bayer Leverkusen       Germany   \n",
       "118857     ali-al-habsi     Ali Al Habsi    Wigan Athletic       England   \n",
       "43085    richard-wright   Richard Wright   Manchester City       England   \n",
       "30278      kamel-ghilas     Kamel Ghilas       Stade Reims        France   \n",
       "\n",
       "         birthday  height  weight              position  games  victories  \\\n",
       "118579 1988-11-08   185.0    79.0        Center Forward      1          0   \n",
       "39811  1991-08-10   183.0    73.0         Left Fullback      1          0   \n",
       "118857 1981-12-30   194.0    88.0            Goalkeeper      1          1   \n",
       "43085  1977-11-05   189.0    87.0                   NaN      2          1   \n",
       "30278  1984-03-09   177.0    70.0  Attacking Midfielder      1          0   \n",
       "\n",
       "          ...     rater2  refNum  refCountry  Alpha_3   meanIAT     nIAT  \\\n",
       "118579    ...       0.25    2525           8      DEU  0.336628   7749.0   \n",
       "39811     ...       0.25     740           8      DEU  0.336628   7749.0   \n",
       "118857    ...        NaN    2530          44     ENGL  0.326690  44791.0   \n",
       "43085     ...       0.25     783          44     ENGL  0.326690  44791.0   \n",
       "30278     ...        NaN     553          99      BEN  0.255357    238.0   \n",
       "\n",
       "           seIAT   meanExp     nExp     seExp  \n",
       "118579  0.000055  0.335967   7974.0  0.000225  \n",
       "39811   0.000055  0.335967   7974.0  0.000225  \n",
       "118857  0.000010  0.356446  46916.0  0.000037  \n",
       "43085   0.000010  0.356446  46916.0  0.000037  \n",
       "30278   0.002299  0.196581    234.0  0.014588  \n",
       "\n",
       "[5 rows x 28 columns]"
      ]
     },
     "execution_count": 93,
     "metadata": {},
     "output_type": "execute_result"
    }
   ],
   "source": [
    "data = pd.read_csv('CrowdstormingDataJuly1st.csv', parse_dates=['birthday'], infer_datetime_format=True)\n",
    "data.sample(5)"
   ]
  },
  {
   "cell_type": "markdown",
   "metadata": {},
   "source": []
  },
  {
   "cell_type": "code",
   "execution_count": 94,
   "metadata": {
    "collapsed": true
   },
   "outputs": [],
   "source": [
    "def discretize(column):\n",
    "    le = preprocessing.LabelEncoder()\n",
    "    le.fit(column)\n",
    "    return le.transform(column)"
   ]
  },
  {
   "cell_type": "code",
   "execution_count": 113,
   "metadata": {
    "collapsed": false
   },
   "outputs": [],
   "source": [
    "def feature_engineering(data):\n",
    "    # First, we follow the intuition that we need to reconcile the `rater1` and `rater2` columns.\n",
    "    # Indeed, we want a single value on which we will then evaluate the model against.\n",
    "    # We use the mean as aggregation function:\n",
    "    data['skin'] = (data.rater1 + data.rater2) / 2\n",
    "    data = data.drop('rater1', axis=1)\n",
    "    data = data.drop('rater2', axis=1)\n",
    "    \n",
    "    non_features = [\n",
    "        'player',\n",
    "    ]\n",
    "\n",
    "    data = data.drop(non_features, axis=1)\n",
    "    \n",
    "    # Let's also drop the `photoID` column, since we don't have access to the photos anyways:\n",
    "    data = data.drop('photoID', axis=1)\n",
    "    data = data.drop('Alpha_3', axis=1)\n",
    "    \n",
    "    data = data.dropna()\n",
    "    \n",
    "    non_numeric_features = [\n",
    "        'club',\n",
    "        'leagueCountry',\n",
    "        'position',\n",
    "        'playerShort'\n",
    "    ]\n",
    "    \n",
    "    for f in non_numeric_features:\n",
    "        data[f] = discretize(data[f])\n",
    "    \n",
    "    today = datetime.date.today()\n",
    "    data.birthday = [today.year - d.year for d in data.birthday]\n",
    "    \n",
    "    y = data['skin']\n",
    "    X = data.drop('skin', axis=1)\n",
    "    \n",
    "    \n",
    "    return (X, y)"
   ]
  },
  {
   "cell_type": "markdown",
   "metadata": {},
   "source": [
    "We notice that the `refCountry` and `Alpha_3` columns are bijective: they contain the same data."
   ]
  },
  {
   "cell_type": "code",
   "execution_count": 114,
   "metadata": {
    "collapsed": false
   },
   "outputs": [],
   "source": [
    "from sklearn.ensemble import RandomForestClassifier\n",
    "rfc = RandomForestClassifier()\n",
    "from sklearn import preprocessing"
   ]
  },
  {
   "cell_type": "code",
   "execution_count": 115,
   "metadata": {
    "collapsed": false
   },
   "outputs": [
    {
     "ename": "ValueError",
     "evalue": "Unknown label type: array([[ 0.375],\n       [ 0.75 ],\n       [ 0.125],\n       ..., \n       [ 0.375],\n       [ 0.25 ],\n       [ 0.125]])",
     "output_type": "error",
     "traceback": [
      "\u001b[0;31m---------------------------------------------------------------------------\u001b[0m",
      "\u001b[0;31mValueError\u001b[0m                                Traceback (most recent call last)",
      "\u001b[0;32m<ipython-input-115-dcad7f464ac0>\u001b[0m in \u001b[0;36m<module>\u001b[0;34m()\u001b[0m\n\u001b[1;32m      1\u001b[0m \u001b[0;34m(\u001b[0m\u001b[0mtrain_X\u001b[0m\u001b[0;34m,\u001b[0m \u001b[0mtrain_Y\u001b[0m\u001b[0;34m)\u001b[0m \u001b[0;34m=\u001b[0m \u001b[0mfeature_engineering\u001b[0m\u001b[0;34m(\u001b[0m\u001b[0mdata\u001b[0m\u001b[0;34m)\u001b[0m\u001b[0;34m\u001b[0m\u001b[0m\n\u001b[0;32m----> 2\u001b[0;31m \u001b[0mrfc\u001b[0m \u001b[0;34m=\u001b[0m \u001b[0mrfc\u001b[0m\u001b[0;34m.\u001b[0m\u001b[0mfit\u001b[0m\u001b[0;34m(\u001b[0m\u001b[0mtrain_X\u001b[0m\u001b[0;34m,\u001b[0m \u001b[0mtrain_Y\u001b[0m\u001b[0;34m)\u001b[0m\u001b[0;34m\u001b[0m\u001b[0m\n\u001b[0m",
      "\u001b[0;32m/home/mukel/Applications/anaconda3/lib/python3.5/site-packages/sklearn/ensemble/forest.py\u001b[0m in \u001b[0;36mfit\u001b[0;34m(self, X, y, sample_weight)\u001b[0m\n\u001b[1;32m    233\u001b[0m         \u001b[0mself\u001b[0m\u001b[0;34m.\u001b[0m\u001b[0mn_outputs_\u001b[0m \u001b[0;34m=\u001b[0m \u001b[0my\u001b[0m\u001b[0;34m.\u001b[0m\u001b[0mshape\u001b[0m\u001b[0;34m[\u001b[0m\u001b[0;36m1\u001b[0m\u001b[0;34m]\u001b[0m\u001b[0;34m\u001b[0m\u001b[0m\n\u001b[1;32m    234\u001b[0m \u001b[0;34m\u001b[0m\u001b[0m\n\u001b[0;32m--> 235\u001b[0;31m         \u001b[0my\u001b[0m\u001b[0;34m,\u001b[0m \u001b[0mexpanded_class_weight\u001b[0m \u001b[0;34m=\u001b[0m \u001b[0mself\u001b[0m\u001b[0;34m.\u001b[0m\u001b[0m_validate_y_class_weight\u001b[0m\u001b[0;34m(\u001b[0m\u001b[0my\u001b[0m\u001b[0;34m)\u001b[0m\u001b[0;34m\u001b[0m\u001b[0m\n\u001b[0m\u001b[1;32m    236\u001b[0m \u001b[0;34m\u001b[0m\u001b[0m\n\u001b[1;32m    237\u001b[0m         \u001b[0;32mif\u001b[0m \u001b[0mgetattr\u001b[0m\u001b[0;34m(\u001b[0m\u001b[0my\u001b[0m\u001b[0;34m,\u001b[0m \u001b[0;34m\"dtype\"\u001b[0m\u001b[0;34m,\u001b[0m \u001b[0;32mNone\u001b[0m\u001b[0;34m)\u001b[0m \u001b[0;34m!=\u001b[0m \u001b[0mDOUBLE\u001b[0m \u001b[0;32mor\u001b[0m \u001b[0;32mnot\u001b[0m \u001b[0my\u001b[0m\u001b[0;34m.\u001b[0m\u001b[0mflags\u001b[0m\u001b[0;34m.\u001b[0m\u001b[0mcontiguous\u001b[0m\u001b[0;34m:\u001b[0m\u001b[0;34m\u001b[0m\u001b[0m\n",
      "\u001b[0;32m/home/mukel/Applications/anaconda3/lib/python3.5/site-packages/sklearn/ensemble/forest.py\u001b[0m in \u001b[0;36m_validate_y_class_weight\u001b[0;34m(self, y)\u001b[0m\n\u001b[1;32m    419\u001b[0m \u001b[0;34m\u001b[0m\u001b[0m\n\u001b[1;32m    420\u001b[0m     \u001b[0;32mdef\u001b[0m \u001b[0m_validate_y_class_weight\u001b[0m\u001b[0;34m(\u001b[0m\u001b[0mself\u001b[0m\u001b[0;34m,\u001b[0m \u001b[0my\u001b[0m\u001b[0;34m)\u001b[0m\u001b[0;34m:\u001b[0m\u001b[0;34m\u001b[0m\u001b[0m\n\u001b[0;32m--> 421\u001b[0;31m         \u001b[0mcheck_classification_targets\u001b[0m\u001b[0;34m(\u001b[0m\u001b[0my\u001b[0m\u001b[0;34m)\u001b[0m\u001b[0;34m\u001b[0m\u001b[0m\n\u001b[0m\u001b[1;32m    422\u001b[0m \u001b[0;34m\u001b[0m\u001b[0m\n\u001b[1;32m    423\u001b[0m         \u001b[0my\u001b[0m \u001b[0;34m=\u001b[0m \u001b[0mnp\u001b[0m\u001b[0;34m.\u001b[0m\u001b[0mcopy\u001b[0m\u001b[0;34m(\u001b[0m\u001b[0my\u001b[0m\u001b[0;34m)\u001b[0m\u001b[0;34m\u001b[0m\u001b[0m\n",
      "\u001b[0;32m/home/mukel/Applications/anaconda3/lib/python3.5/site-packages/sklearn/utils/multiclass.py\u001b[0m in \u001b[0;36mcheck_classification_targets\u001b[0;34m(y)\u001b[0m\n\u001b[1;32m    171\u001b[0m     if y_type not in ['binary', 'multiclass', 'multiclass-multioutput', \n\u001b[1;32m    172\u001b[0m             'multilabel-indicator', 'multilabel-sequences']:\n\u001b[0;32m--> 173\u001b[0;31m         \u001b[0;32mraise\u001b[0m \u001b[0mValueError\u001b[0m\u001b[0;34m(\u001b[0m\u001b[0;34m\"Unknown label type: %r\"\u001b[0m \u001b[0;34m%\u001b[0m \u001b[0my\u001b[0m\u001b[0;34m)\u001b[0m\u001b[0;34m\u001b[0m\u001b[0m\n\u001b[0m\u001b[1;32m    174\u001b[0m \u001b[0;34m\u001b[0m\u001b[0m\n\u001b[1;32m    175\u001b[0m \u001b[0;34m\u001b[0m\u001b[0m\n",
      "\u001b[0;31mValueError\u001b[0m: Unknown label type: array([[ 0.375],\n       [ 0.75 ],\n       [ 0.125],\n       ..., \n       [ 0.375],\n       [ 0.25 ],\n       [ 0.125]])"
     ]
    }
   ],
   "source": [
    "(train_X, train_Y) = feature_engineering(data)\n",
    "rfc = rfc.fit(train_X, train_Y)"
   ]
  },
  {
   "cell_type": "code",
   "execution_count": null,
   "metadata": {
    "collapsed": false
   },
   "outputs": [],
   "source": [
    "rfc.predict(train_X)"
   ]
  },
  {
   "cell_type": "code",
   "execution_count": 109,
   "metadata": {
    "collapsed": false
   },
   "outputs": [
    {
     "name": "stdout",
     "output_type": "stream",
     "text": [
      "(115457, 23)\n"
     ]
    },
    {
     "data": {
      "text/plain": [
       "(115457, 23)"
      ]
     },
     "execution_count": 109,
     "metadata": {},
     "output_type": "execute_result"
    }
   ],
   "source": []
  },
  {
   "cell_type": "code",
   "execution_count": 75,
   "metadata": {
    "collapsed": false
   },
   "outputs": [],
   "source": []
  },
  {
   "cell_type": "code",
   "execution_count": 76,
   "metadata": {
    "collapsed": false
   },
   "outputs": [
    {
     "data": {
      "text/plain": [
       "0         33\n",
       "1         34\n",
       "2         24\n",
       "3         23\n",
       "4         25\n",
       "5         37\n",
       "6         31\n",
       "7         30\n",
       "8         32\n",
       "9         29\n",
       "10        32\n",
       "11        30\n",
       "12        28\n",
       "13        34\n",
       "14        32\n",
       "15        28\n",
       "16        29\n",
       "17        35\n",
       "18        27\n",
       "19        28\n",
       "20        27\n",
       "21        30\n",
       "22        28\n",
       "23        24\n",
       "24        27\n",
       "25        28\n",
       "26        28\n",
       "27        39\n",
       "28        35\n",
       "29        28\n",
       "          ..\n",
       "145998    31\n",
       "145999    30\n",
       "146000    30\n",
       "146001    33\n",
       "146002    29\n",
       "146003    32\n",
       "146004    32\n",
       "146005    34\n",
       "146006    36\n",
       "146007    33\n",
       "146008    30\n",
       "146009    37\n",
       "146010    33\n",
       "146011    23\n",
       "146012    31\n",
       "146013    29\n",
       "146014    33\n",
       "146015    35\n",
       "146016    40\n",
       "146017    35\n",
       "146018    27\n",
       "146019    30\n",
       "146020    40\n",
       "146021    35\n",
       "146022    30\n",
       "146023    36\n",
       "146024    28\n",
       "146025    25\n",
       "146026    26\n",
       "146027    38\n",
       "Name: birthday, dtype: int64"
      ]
     },
     "execution_count": 76,
     "metadata": {},
     "output_type": "execute_result"
    }
   ],
   "source": [
    "data.birthday"
   ]
  },
  {
   "cell_type": "code",
   "execution_count": null,
   "metadata": {
    "collapsed": true
   },
   "outputs": [],
   "source": []
  }
 ],
 "metadata": {
  "anaconda-cloud": {},
  "kernelspec": {
   "display_name": "Python [conda root]",
   "language": "python",
   "name": "conda-root-py"
  },
  "language_info": {
   "codemirror_mode": {
    "name": "ipython",
    "version": 3
   },
   "file_extension": ".py",
   "mimetype": "text/x-python",
   "name": "python",
   "nbconvert_exporter": "python",
   "pygments_lexer": "ipython3",
   "version": "3.5.2"
  }
 },
 "nbformat": 4,
 "nbformat_minor": 1
}
