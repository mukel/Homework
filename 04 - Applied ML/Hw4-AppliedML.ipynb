{
 "cells": [
  {
   "cell_type": "markdown",
   "metadata": {},
   "source": [
    "# ADA / Applied Data Analysis\n",
    "<h2 style=\"color:#a8a8a8\">Homework 4 - Applied Machine Learning<br>\n",
    "Aimée Montero, Alfonso Peterssen, Cyriaque Brousse</h2>"
   ]
  },
  {
   "cell_type": "markdown",
   "metadata": {
    "collapsed": true
   },
   "source": [
    "## Assignment description\n",
    "In this homework we will gain experience on Applied Machine Learning, exploring an interesting dataset about soccer players and referees.\n",
    "You can find all the data in the `CrowdstormingDataJuly1st.csv` file, while you can read a thorough [dataset description here](DATA.md).\n",
    "Given that the focus of this homework is Machine Learning, I recommend you to first take a look at [this notebook](http://nbviewer.jupyter.org/github/mathewzilla/redcard/blob/master/Crowdstorming_visualisation.ipynb)\n",
    "containing a solid work in pre-processing + visualization of the given dataset. You are *not* allowed to just copy/paste the pre-processing steps\n",
    "performed by the notebook authors -- you are still supposed to perform your own data analysis for the homework. Still, I'm confident that consulting first\n",
    "the work done by expert data analysts will speed up tangibly your effort (i.e., they have already found for you many glitches in the data :)\n",
    "\n",
    "\n",
    "### Assignment\n",
    "1. Train a `sklearn.ensemble.RandomForestClassifier` that given a soccer player description outputs his skin color. Show how different parameters \n",
    "passed to the Classifier affect the overfitting issue. Perform cross-validation to mitigate the overfitting of your model. Once you assessed your model,\n",
    "inspect the `feature_importances_` attribute and discuss the obtained results. With different assumptions on the data (e.g., dropping certain features even\n",
    "before feeding them to the classifier), can you obtain a substantially different `feature_importances_` attribute?\n",
    "\n",
    "  *BONUS*: plot the learning curves against at least 2 different sets of parameters passed to your Random Forest. To obtain smooth curves, partition\n",
    "your data in at least 20 folds. Can you find a set of parameters that leads to high bias, and one which does not?\n",
    "\n",
    "2. Aggregate the referee information grouping by soccer player, and use an unsupervised learning technique to cluster the soccer players in 2 disjoint\n",
    "clusters. Remove features iteratively, and at each step perform again the clustering and compute the silhouette score -- can you find a configuration of features with high silhouette\n",
    "score where players with dark and light skin colors belong to different clusters? Discuss the obtained results."
   ]
  },
  {
   "cell_type": "markdown",
   "metadata": {},
   "source": [
    "## Data description\n",
    "\n",
    "From a company for sports statistics, we obtained data and profile photos from all soccer players (N = 2053) playing in the first male divisions of England, Germany, France and Spain in the 2012-2013 season and all referees (N = 3147) that these players played under in their professional career. We created a dataset of player–referee dyads including the number of matches players and referees encountered each other and our dependent variable, the number of red cards given to a player by a particular referee throughout all matches the two encountered each other.\n",
    " \n",
    "Player photos were available from the source for 1586 out of 2053 players. Players’ skin tone was coded by two independent raters blind to the research question who, based on their profile photo, categorized players on a 5-point scale ranging from “very light skin” to “very dark skin” with “neither dark nor light skin” as the center value. \n",
    "\n",
    "Additionally, implicit bias scores for each referee country were calculated using a race implicit association test (IAT), with higher values corresponding to faster white | good, black | bad associations. Explicit bias scores for each referee country were calculated using a racial thermometer task, with higher values corresponding to greater feelings of warmth toward whites versus blacks. Both these measures were created by aggregating data from many online users in referee countries taking these tests on [Project Implicit](http://projectimplicit.net).\n",
    "\n",
    "In all, the dataset has a total of 146028 dyads of players and referees. A detailed description of all variables in the dataset can be seen in the list below.\n",
    "\n",
    "### Variables:\n",
    "\n",
    "- *playerShort* - short player ID\n",
    "- *player* - player name\n",
    "- *club* - player club\n",
    "- *leagueCountry* - country of player club (England, Germany, France, and Spain)\n",
    "- *birthday* - player birthday\n",
    "- *height* - player height (in cm)\n",
    "- *weight* - player weight (in kg)\n",
    "- *position* - detailed player position\n",
    "- *games* - number of games in the player-referee dyad\n",
    "- *victories* - victories in the player-referee dyad\n",
    "- *ties* - ties in the player-referee dyad\n",
    "- *defeats* - losses in the player-referee dyad\n",
    "- *goals* - goals scored by a player in the player-referee dyad\n",
    "- *yellowCards* - number of yellow cards player received from referee\n",
    "- *yellowReds* - number of yellow-red cards player received from referee\n",
    "- *redCards* - number of red cards player received from referee\n",
    "- *photoID* - ID of player photo (if available)\n",
    "- *rater1* - skin rating of photo by rater 1 (5-point scale ranging from “very light skin” to “very dark skin”)\n",
    "- *rater2* - skin rating of photo by rater 2 (5-point scale ranging from “very light skin” to “very dark skin”)\n",
    "- *refNum* - unique referee ID number (referee name removed for anonymizing purposes)\n",
    "- *refCountry* - unique referee country ID number (country name removed for anonymizing purposes)\n",
    "- *meanIAT* - mean implicit bias score (using the race IAT) for referee country, higher values correspond to faster white | good, black | bad associations\n",
    "- *nIAT* - sample size for race IAT in that particular country\n",
    "- *seIAT* - standard error for mean estimate of race IAT\n",
    "- *meanExp* - mean explicit bias score (using a racial thermometer task) for referee country, higher values correspond to greater feelings of warmth toward whites versus blacks\n",
    "- *nExp* - sample size for explicit bias in that particular country\n",
    "- *seExp* - standard error for mean estimate of explicit bias measure"
   ]
  },
  {
   "cell_type": "markdown",
   "metadata": {},
   "source": [
    "## Part 1 - Familiarizing ourselves with the data"
   ]
  },
  {
   "cell_type": "markdown",
   "metadata": {},
   "source": [
    "Let's import the required libraries:"
   ]
  },
  {
   "cell_type": "code",
   "execution_count": 1,
   "metadata": {
    "collapsed": true
   },
   "outputs": [],
   "source": [
    "import numpy as np\n",
    "import pandas as pd\n",
    "import matplotlib.pyplot as pl\n",
    "%matplotlib inline"
   ]
  },
  {
   "cell_type": "markdown",
   "metadata": {},
   "source": [
    "And import the data from the CSV source:"
   ]
  },
  {
   "cell_type": "code",
   "execution_count": 3,
   "metadata": {
    "collapsed": false
   },
   "outputs": [
    {
     "data": {
      "text/html": [
       "<div>\n",
       "<table border=\"1\" class=\"dataframe\">\n",
       "  <thead>\n",
       "    <tr style=\"text-align: right;\">\n",
       "      <th></th>\n",
       "      <th>playerShort</th>\n",
       "      <th>player</th>\n",
       "      <th>club</th>\n",
       "      <th>leagueCountry</th>\n",
       "      <th>birthday</th>\n",
       "      <th>height</th>\n",
       "      <th>weight</th>\n",
       "      <th>position</th>\n",
       "      <th>games</th>\n",
       "      <th>victories</th>\n",
       "      <th>...</th>\n",
       "      <th>rater2</th>\n",
       "      <th>refNum</th>\n",
       "      <th>refCountry</th>\n",
       "      <th>Alpha_3</th>\n",
       "      <th>meanIAT</th>\n",
       "      <th>nIAT</th>\n",
       "      <th>seIAT</th>\n",
       "      <th>meanExp</th>\n",
       "      <th>nExp</th>\n",
       "      <th>seExp</th>\n",
       "    </tr>\n",
       "  </thead>\n",
       "  <tbody>\n",
       "    <tr>\n",
       "      <th>16033</th>\n",
       "      <td>mathieu-coutadeur</td>\n",
       "      <td>Mathieu Coutadeur</td>\n",
       "      <td>FC Lorient</td>\n",
       "      <td>France</td>\n",
       "      <td>20.06.1986</td>\n",
       "      <td>174.0</td>\n",
       "      <td>66.0</td>\n",
       "      <td>Defensive Midfielder</td>\n",
       "      <td>2</td>\n",
       "      <td>0</td>\n",
       "      <td>...</td>\n",
       "      <td>0.00</td>\n",
       "      <td>343</td>\n",
       "      <td>7</td>\n",
       "      <td>FRA</td>\n",
       "      <td>0.334684</td>\n",
       "      <td>2882.0</td>\n",
       "      <td>0.000151</td>\n",
       "      <td>0.336101</td>\n",
       "      <td>3011.0</td>\n",
       "      <td>0.000586</td>\n",
       "    </tr>\n",
       "    <tr>\n",
       "      <th>41839</th>\n",
       "      <td>milan-petrzela</td>\n",
       "      <td>Milan Petržela</td>\n",
       "      <td>FC Augsburg</td>\n",
       "      <td>Germany</td>\n",
       "      <td>19.06.1983</td>\n",
       "      <td>175.0</td>\n",
       "      <td>65.0</td>\n",
       "      <td>Right Midfielder</td>\n",
       "      <td>1</td>\n",
       "      <td>0</td>\n",
       "      <td>...</td>\n",
       "      <td>0.00</td>\n",
       "      <td>759</td>\n",
       "      <td>8</td>\n",
       "      <td>DEU</td>\n",
       "      <td>0.336628</td>\n",
       "      <td>7749.0</td>\n",
       "      <td>0.000055</td>\n",
       "      <td>0.335967</td>\n",
       "      <td>7974.0</td>\n",
       "      <td>0.000225</td>\n",
       "    </tr>\n",
       "    <tr>\n",
       "      <th>53229</th>\n",
       "      <td>franco-zuculini</td>\n",
       "      <td>Franco Zuculini</td>\n",
       "      <td>Real Zaragoza</td>\n",
       "      <td>Spain</td>\n",
       "      <td>05.09.1990</td>\n",
       "      <td>174.0</td>\n",
       "      <td>69.0</td>\n",
       "      <td>Defensive Midfielder</td>\n",
       "      <td>1</td>\n",
       "      <td>0</td>\n",
       "      <td>...</td>\n",
       "      <td>0.25</td>\n",
       "      <td>1054</td>\n",
       "      <td>49</td>\n",
       "      <td>ARG</td>\n",
       "      <td>0.379422</td>\n",
       "      <td>1038.0</td>\n",
       "      <td>0.000403</td>\n",
       "      <td>0.632988</td>\n",
       "      <td>1158.0</td>\n",
       "      <td>0.002096</td>\n",
       "    </tr>\n",
       "    <tr>\n",
       "      <th>97975</th>\n",
       "      <td>roque-santa-cruz</td>\n",
       "      <td>Roque Santa Cruz</td>\n",
       "      <td>Málaga CF</td>\n",
       "      <td>Spain</td>\n",
       "      <td>16.08.1981</td>\n",
       "      <td>191.0</td>\n",
       "      <td>83.0</td>\n",
       "      <td>Center Forward</td>\n",
       "      <td>9</td>\n",
       "      <td>4</td>\n",
       "      <td>...</td>\n",
       "      <td>0.50</td>\n",
       "      <td>2080</td>\n",
       "      <td>44</td>\n",
       "      <td>ENGL</td>\n",
       "      <td>0.326690</td>\n",
       "      <td>44791.0</td>\n",
       "      <td>0.000010</td>\n",
       "      <td>0.356446</td>\n",
       "      <td>46916.0</td>\n",
       "      <td>0.000037</td>\n",
       "    </tr>\n",
       "    <tr>\n",
       "      <th>140592</th>\n",
       "      <td>kenwyne-jones</td>\n",
       "      <td>Kenwyne Jones</td>\n",
       "      <td>Stoke City</td>\n",
       "      <td>England</td>\n",
       "      <td>05.10.1984</td>\n",
       "      <td>188.0</td>\n",
       "      <td>78.0</td>\n",
       "      <td>Right Winger</td>\n",
       "      <td>2</td>\n",
       "      <td>1</td>\n",
       "      <td>...</td>\n",
       "      <td>1.00</td>\n",
       "      <td>2986</td>\n",
       "      <td>44</td>\n",
       "      <td>ENGL</td>\n",
       "      <td>0.326690</td>\n",
       "      <td>44791.0</td>\n",
       "      <td>0.000010</td>\n",
       "      <td>0.356446</td>\n",
       "      <td>46916.0</td>\n",
       "      <td>0.000037</td>\n",
       "    </tr>\n",
       "  </tbody>\n",
       "</table>\n",
       "<p>5 rows × 28 columns</p>\n",
       "</div>"
      ],
      "text/plain": [
       "              playerShort             player           club leagueCountry  \\\n",
       "16033   mathieu-coutadeur  Mathieu Coutadeur     FC Lorient        France   \n",
       "41839      milan-petrzela     Milan Petržela    FC Augsburg       Germany   \n",
       "53229     franco-zuculini    Franco Zuculini  Real Zaragoza         Spain   \n",
       "97975    roque-santa-cruz   Roque Santa Cruz      Málaga CF         Spain   \n",
       "140592      kenwyne-jones      Kenwyne Jones     Stoke City       England   \n",
       "\n",
       "          birthday  height  weight              position  games  victories  \\\n",
       "16033   20.06.1986   174.0    66.0  Defensive Midfielder      2          0   \n",
       "41839   19.06.1983   175.0    65.0      Right Midfielder      1          0   \n",
       "53229   05.09.1990   174.0    69.0  Defensive Midfielder      1          0   \n",
       "97975   16.08.1981   191.0    83.0        Center Forward      9          4   \n",
       "140592  05.10.1984   188.0    78.0          Right Winger      2          1   \n",
       "\n",
       "          ...     rater2  refNum  refCountry  Alpha_3   meanIAT     nIAT  \\\n",
       "16033     ...       0.00     343           7      FRA  0.334684   2882.0   \n",
       "41839     ...       0.00     759           8      DEU  0.336628   7749.0   \n",
       "53229     ...       0.25    1054          49      ARG  0.379422   1038.0   \n",
       "97975     ...       0.50    2080          44     ENGL  0.326690  44791.0   \n",
       "140592    ...       1.00    2986          44     ENGL  0.326690  44791.0   \n",
       "\n",
       "           seIAT   meanExp     nExp     seExp  \n",
       "16033   0.000151  0.336101   3011.0  0.000586  \n",
       "41839   0.000055  0.335967   7974.0  0.000225  \n",
       "53229   0.000403  0.632988   1158.0  0.002096  \n",
       "97975   0.000010  0.356446  46916.0  0.000037  \n",
       "140592  0.000010  0.356446  46916.0  0.000037  \n",
       "\n",
       "[5 rows x 28 columns]"
      ]
     },
     "execution_count": 3,
     "metadata": {},
     "output_type": "execute_result"
    }
   ],
   "source": [
    "data = pd.read_csv('CrowdstormingDataJuly1st.csv')\n",
    "data.sample(5)"
   ]
  },
  {
   "cell_type": "markdown",
   "metadata": {},
   "source": [
    "First, we follow the intuition that we need to reconcile the `rater1` and `rater2` columns. Indeed, we want a single value on which we will then evaluate the model against. We use the mean as aggregation function:"
   ]
  },
  {
   "cell_type": "code",
   "execution_count": 4,
   "metadata": {
    "collapsed": true
   },
   "outputs": [],
   "source": [
    "data['skin'] = (data.rater1 + data.rater2) / 2\n",
    "data = data.drop('rater1', axis=1)\n",
    "data = data.drop('rater2', axis=1)"
   ]
  },
  {
   "cell_type": "markdown",
   "metadata": {},
   "source": [
    "Let's also drop the `photoID` column, since we don't have access to the photos anyways:"
   ]
  },
  {
   "cell_type": "code",
   "execution_count": 7,
   "metadata": {
    "collapsed": true
   },
   "outputs": [],
   "source": [
    "data = data.drop('photoID', axis=1)"
   ]
  },
  {
   "cell_type": "markdown",
   "metadata": {},
   "source": [
    "We notice that the `refCountry` and `Alpha_3` columns are bijective: they contain the same data."
   ]
  },
  {
   "cell_type": "code",
   "execution_count": null,
   "metadata": {
    "collapsed": true
   },
   "outputs": [],
   "source": [
    "# drop refcountry or alpha3"
   ]
  }
 ],
 "metadata": {
  "anaconda-cloud": {},
  "kernelspec": {
   "display_name": "Python [conda root]",
   "language": "python",
   "name": "conda-root-py"
  },
  "language_info": {
   "codemirror_mode": {
    "name": "ipython",
    "version": 3
   },
   "file_extension": ".py",
   "mimetype": "text/x-python",
   "name": "python",
   "nbconvert_exporter": "python",
   "pygments_lexer": "ipython3",
   "version": "3.5.2"
  }
 },
 "nbformat": 4,
 "nbformat_minor": 1
}
