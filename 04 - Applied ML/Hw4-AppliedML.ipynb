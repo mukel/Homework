{
 "cells": [
  {
   "cell_type": "markdown",
   "metadata": {},
   "source": [
    "# ADA / Applied Data Analysis\n",
    "<h2 style=\"color:#a8a8a8\">Homework 4 - Applied Machine Learning<br>\n",
    "Aimée Montero, Alfonso Peterssen, Cyriaque Brousse</h2>"
   ]
  },
  {
   "cell_type": "markdown",
   "metadata": {
    "collapsed": true
   },
   "source": [
    "## Assignment description\n",
    "In this homework we will gain experience on Applied Machine Learning, exploring an interesting dataset about soccer players and referees.\n",
    "Given that the focus of this homework is Machine Learning, I recommend you to first take a look at [this notebook](http://nbviewer.jupyter.org/github/mathewzilla/redcard/blob/master/Crowdstorming_visualisation.ipynb)\n",
    "containing a solid work in pre-processing + visualization of the given dataset. You are *not* allowed to just copy/paste the pre-processing steps\n",
    "performed by the notebook authors -- you are still supposed to perform your own data analysis for the homework. Still, I'm confident that consulting first\n",
    "the work done by expert data analysts will speed up tangibly your effort (i.e., they have already found for you many glitches in the data :)\n",
    "\n",
    "\n",
    "### Assignment\n",
    "1. Train a `sklearn.ensemble.RandomForestClassifier` that given a soccer player description outputs his skin color. Show how different parameters \n",
    "passed to the Classifier affect the overfitting issue. Perform cross-validation to mitigate the overfitting of your model. Once you assessed your model,\n",
    "inspect the `feature_importances_` attribute and discuss the obtained results. With different assumptions on the data (e.g., dropping certain features even\n",
    "before feeding them to the classifier), can you obtain a substantially different `feature_importances_` attribute?\n",
    "\n",
    "  *BONUS*: plot the learning curves against at least 2 different sets of parameters passed to your Random Forest. To obtain smooth curves, partition\n",
    "your data in at least 20 folds. Can you find a set of parameters that leads to high bias, and one which does not?<br><br>\n",
    "\n",
    "2. Aggregate the referee information grouping by soccer player, and use an unsupervised learning technique to cluster the soccer players in 2 disjoint\n",
    "clusters. Remove features iteratively, and at each step perform again the clustering and compute the silhouette score -- can you find a configuration of features with high silhouette\n",
    "score where players with dark and light skin colors belong to different clusters? Discuss the obtained results."
   ]
  },
  {
   "cell_type": "markdown",
   "metadata": {},
   "source": [
    "## Data description\n",
    "\n",
    "From a company for sports statistics, we obtained data and profile photos from all soccer players (N = 2053) playing in the first male divisions of England, Germany, France and Spain in the 2012-2013 season and all referees (N = 3147) that these players played under in their professional career. We created a dataset of player–referee dyads including the number of matches players and referees encountered each other and our dependent variable, the number of red cards given to a player by a particular referee throughout all matches the two encountered each other.\n",
    " \n",
    "Player photos were available from the source for 1586 out of 2053 players. Players’ skin tone was coded by two independent raters blind to the research question who, based on their profile photo, categorized players on a 5-point scale ranging from “very light skin” to “very dark skin” with “neither dark nor light skin” as the center value. \n",
    "\n",
    "Additionally, implicit bias scores for each referee country were calculated using a race implicit association test (IAT), with higher values corresponding to faster white | good, black | bad associations. Explicit bias scores for each referee country were calculated using a racial thermometer task, with higher values corresponding to greater feelings of warmth toward whites versus blacks. Both these measures were created by aggregating data from many online users in referee countries taking these tests on [Project Implicit](http://projectimplicit.net).\n",
    "\n",
    "In all, the dataset has a total of 146028 dyads of players and referees. A detailed description of all variables in the dataset can be seen in the list below.\n",
    "\n",
    "### Variables:\n",
    "\n",
    "- *playerShort* - short player ID\n",
    "- *player* - player name\n",
    "- *club* - player club\n",
    "- *leagueCountry* - country of player club (England, Germany, France, and Spain)\n",
    "- *birthday* - player birthday\n",
    "- *height* - player height (in cm)\n",
    "- *weight* - player weight (in kg)\n",
    "- *position* - detailed player position\n",
    "- *games* - number of games in the player-referee dyad\n",
    "- *victories* - victories in the player-referee dyad\n",
    "- *ties* - ties in the player-referee dyad\n",
    "- *defeats* - losses in the player-referee dyad\n",
    "- *goals* - goals scored by a player in the player-referee dyad\n",
    "- *yellowCards* - number of yellow cards player received from referee\n",
    "- *yellowReds* - number of yellow-red cards player received from referee\n",
    "- *redCards* - number of red cards player received from referee\n",
    "- *photoID* - ID of player photo (if available)\n",
    "- *rater1* - skin rating of photo by rater 1 (5-point scale ranging from “very light skin” to “very dark skin”)\n",
    "- *rater2* - skin rating of photo by rater 2 (5-point scale ranging from “very light skin” to “very dark skin”)\n",
    "- *refNum* - unique referee ID number (referee name removed for anonymizing purposes)\n",
    "- *refCountry* - unique referee country ID number (country name removed for anonymizing purposes)\n",
    "- *meanIAT* - mean implicit bias score (using the race IAT) for referee country, higher values correspond to faster white | good, black | bad associations\n",
    "- *nIAT* - sample size for race IAT in that particular country\n",
    "- *seIAT* - standard error for mean estimate of race IAT\n",
    "- *meanExp* - mean explicit bias score (using a racial thermometer task) for referee country, higher values correspond to greater feelings of warmth toward whites versus blacks\n",
    "- *nExp* - sample size for explicit bias in that particular country\n",
    "- *seExp* - standard error for mean estimate of explicit bias measure"
   ]
  },
  {
   "cell_type": "markdown",
   "metadata": {},
   "source": [
    "## Part 0 - Data preprocessing"
   ]
  },
  {
   "cell_type": "markdown",
   "metadata": {},
   "source": [
    "Let's import the required libraries:"
   ]
  },
  {
   "cell_type": "code",
   "execution_count": 131,
   "metadata": {
    "collapsed": false
   },
   "outputs": [],
   "source": [
    "import numpy as np\n",
    "import pandas as pd\n",
    "import sklearn as sk\n",
    "import matplotlib.pyplot as pl\n",
    "%matplotlib inline\n",
    "import seaborn as sb\n",
    "import warnings"
   ]
  },
  {
   "cell_type": "markdown",
   "metadata": {},
   "source": [
    "### 0a - Importing the data"
   ]
  },
  {
   "cell_type": "markdown",
   "metadata": {},
   "source": [
    "And import the data from the CSV source:"
   ]
  },
  {
   "cell_type": "code",
   "execution_count": 338,
   "metadata": {
    "collapsed": false
   },
   "outputs": [],
   "source": [
    "data = pd.read_csv('CrowdstormingDataJuly1st.csv', parse_dates=['birthday'], infer_datetime_format=True)"
   ]
  },
  {
   "cell_type": "markdown",
   "metadata": {},
   "source": [
    "As explained in [this notebook](http://nbviewer.jupyter.org/github/mathewzilla/redcard/blob/master/Crowdstorming_visualisation.ipynb), we need to discard referees for which there are less than 21 entries."
   ]
  },
  {
   "cell_type": "code",
   "execution_count": 339,
   "metadata": {
    "collapsed": false
   },
   "outputs": [
    {
     "data": {
      "text/html": [
       "<div>\n",
       "<table border=\"1\" class=\"dataframe\">\n",
       "  <thead>\n",
       "    <tr style=\"text-align: right;\">\n",
       "      <th></th>\n",
       "      <th>refNum</th>\n",
       "      <th>playerShort</th>\n",
       "      <th>player</th>\n",
       "      <th>club</th>\n",
       "      <th>leagueCountry</th>\n",
       "      <th>birthday</th>\n",
       "      <th>height</th>\n",
       "      <th>weight</th>\n",
       "      <th>position</th>\n",
       "      <th>games</th>\n",
       "      <th>...</th>\n",
       "      <th>rater1</th>\n",
       "      <th>rater2</th>\n",
       "      <th>refCountry</th>\n",
       "      <th>Alpha_3</th>\n",
       "      <th>meanIAT</th>\n",
       "      <th>nIAT</th>\n",
       "      <th>seIAT</th>\n",
       "      <th>meanExp</th>\n",
       "      <th>nExp</th>\n",
       "      <th>seExp</th>\n",
       "    </tr>\n",
       "  </thead>\n",
       "  <tbody>\n",
       "    <tr>\n",
       "      <th>40633</th>\n",
       "      <td>804</td>\n",
       "      <td>angel_4</td>\n",
       "      <td>Ángel</td>\n",
       "      <td>Levante UD</td>\n",
       "      <td>Spain</td>\n",
       "      <td>1987-04-26</td>\n",
       "      <td>172.0</td>\n",
       "      <td>68.0</td>\n",
       "      <td>Center Forward</td>\n",
       "      <td>1</td>\n",
       "      <td>...</td>\n",
       "      <td>0.50</td>\n",
       "      <td>0.50</td>\n",
       "      <td>3</td>\n",
       "      <td>ESP</td>\n",
       "      <td>0.369894</td>\n",
       "      <td>1785.0</td>\n",
       "      <td>2.294896e-04</td>\n",
       "      <td>0.588297</td>\n",
       "      <td>1897.0</td>\n",
       "      <td>0.001002</td>\n",
       "    </tr>\n",
       "    <tr>\n",
       "      <th>5829</th>\n",
       "      <td>140</td>\n",
       "      <td>riki</td>\n",
       "      <td>Riki</td>\n",
       "      <td>Deportivo La Coruña</td>\n",
       "      <td>Spain</td>\n",
       "      <td>1980-08-11</td>\n",
       "      <td>187.0</td>\n",
       "      <td>84.0</td>\n",
       "      <td>Center Forward</td>\n",
       "      <td>5</td>\n",
       "      <td>...</td>\n",
       "      <td>0.00</td>\n",
       "      <td>0.00</td>\n",
       "      <td>3</td>\n",
       "      <td>ESP</td>\n",
       "      <td>0.369894</td>\n",
       "      <td>1785.0</td>\n",
       "      <td>2.294896e-04</td>\n",
       "      <td>0.588297</td>\n",
       "      <td>1897.0</td>\n",
       "      <td>0.001002</td>\n",
       "    </tr>\n",
       "    <tr>\n",
       "      <th>94995</th>\n",
       "      <td>2230</td>\n",
       "      <td>steve-mandanda</td>\n",
       "      <td>Stéve Mandanda</td>\n",
       "      <td>Olympique Marseille</td>\n",
       "      <td>France</td>\n",
       "      <td>1985-03-28</td>\n",
       "      <td>185.0</td>\n",
       "      <td>82.0</td>\n",
       "      <td>Goalkeeper</td>\n",
       "      <td>3</td>\n",
       "      <td>...</td>\n",
       "      <td>0.75</td>\n",
       "      <td>1.00</td>\n",
       "      <td>72</td>\n",
       "      <td>PRT</td>\n",
       "      <td>0.396803</td>\n",
       "      <td>1079.0</td>\n",
       "      <td>3.919450e-04</td>\n",
       "      <td>0.790366</td>\n",
       "      <td>1121.0</td>\n",
       "      <td>0.001798</td>\n",
       "    </tr>\n",
       "    <tr>\n",
       "      <th>84011</th>\n",
       "      <td>1970</td>\n",
       "      <td>martin-demichelis</td>\n",
       "      <td>Martín Demichelis</td>\n",
       "      <td>Málaga CF</td>\n",
       "      <td>Spain</td>\n",
       "      <td>1980-12-20</td>\n",
       "      <td>184.0</td>\n",
       "      <td>80.0</td>\n",
       "      <td>Center Back</td>\n",
       "      <td>4</td>\n",
       "      <td>...</td>\n",
       "      <td>0.25</td>\n",
       "      <td>0.25</td>\n",
       "      <td>32</td>\n",
       "      <td>CHE</td>\n",
       "      <td>0.345305</td>\n",
       "      <td>1886.0</td>\n",
       "      <td>2.192564e-04</td>\n",
       "      <td>0.377193</td>\n",
       "      <td>1938.0</td>\n",
       "      <td>0.000823</td>\n",
       "    </tr>\n",
       "    <tr>\n",
       "      <th>79786</th>\n",
       "      <td>1908</td>\n",
       "      <td>martin-montoya</td>\n",
       "      <td>Martín Montoya</td>\n",
       "      <td>FC Barcelona</td>\n",
       "      <td>Spain</td>\n",
       "      <td>1991-04-14</td>\n",
       "      <td>174.0</td>\n",
       "      <td>74.0</td>\n",
       "      <td>Right Fullback</td>\n",
       "      <td>1</td>\n",
       "      <td>...</td>\n",
       "      <td>0.25</td>\n",
       "      <td>0.50</td>\n",
       "      <td>19</td>\n",
       "      <td>USA</td>\n",
       "      <td>0.327249</td>\n",
       "      <td>1975803.0</td>\n",
       "      <td>2.235373e-07</td>\n",
       "      <td>0.459471</td>\n",
       "      <td>2029548.0</td>\n",
       "      <td>0.000001</td>\n",
       "    </tr>\n",
       "  </tbody>\n",
       "</table>\n",
       "<p>5 rows × 28 columns</p>\n",
       "</div>"
      ],
      "text/plain": [
       "       refNum        playerShort             player                 club  \\\n",
       "40633     804            angel_4              Ángel           Levante UD   \n",
       "5829      140               riki               Riki  Deportivo La Coruña   \n",
       "94995    2230     steve-mandanda     Stéve Mandanda  Olympique Marseille   \n",
       "84011    1970  martin-demichelis  Martín Demichelis            Málaga CF   \n",
       "79786    1908     martin-montoya     Martín Montoya         FC Barcelona   \n",
       "\n",
       "      leagueCountry   birthday  height  weight        position  games  \\\n",
       "40633         Spain 1987-04-26   172.0    68.0  Center Forward      1   \n",
       "5829          Spain 1980-08-11   187.0    84.0  Center Forward      5   \n",
       "94995        France 1985-03-28   185.0    82.0      Goalkeeper      3   \n",
       "84011         Spain 1980-12-20   184.0    80.0     Center Back      4   \n",
       "79786         Spain 1991-04-14   174.0    74.0  Right Fullback      1   \n",
       "\n",
       "         ...     rater1  rater2  refCountry  Alpha_3   meanIAT       nIAT  \\\n",
       "40633    ...       0.50    0.50           3      ESP  0.369894     1785.0   \n",
       "5829     ...       0.00    0.00           3      ESP  0.369894     1785.0   \n",
       "94995    ...       0.75    1.00          72      PRT  0.396803     1079.0   \n",
       "84011    ...       0.25    0.25          32      CHE  0.345305     1886.0   \n",
       "79786    ...       0.25    0.50          19      USA  0.327249  1975803.0   \n",
       "\n",
       "              seIAT   meanExp       nExp     seExp  \n",
       "40633  2.294896e-04  0.588297     1897.0  0.001002  \n",
       "5829   2.294896e-04  0.588297     1897.0  0.001002  \n",
       "94995  3.919450e-04  0.790366     1121.0  0.001798  \n",
       "84011  2.192564e-04  0.377193     1938.0  0.000823  \n",
       "79786  2.235373e-07  0.459471  2029548.0  0.000001  \n",
       "\n",
       "[5 rows x 28 columns]"
      ]
     },
     "execution_count": 339,
     "metadata": {},
     "output_type": "execute_result"
    }
   ],
   "source": [
    "data = data.set_index(['refNum'])[data['refNum'].value_counts() > 21].reset_index()\n",
    "data.sample(5)"
   ]
  },
  {
   "cell_type": "markdown",
   "metadata": {},
   "source": [
    "### 0b - Exploring features"
   ]
  },
  {
   "cell_type": "markdown",
   "metadata": {},
   "source": [
    "We would drop the following proportion of the data if we discard all `null` values:"
   ]
  },
  {
   "cell_type": "code",
   "execution_count": 340,
   "metadata": {
    "collapsed": false
   },
   "outputs": [
    {
     "data": {
      "text/plain": [
       "0.20913701020966136"
      ]
     },
     "execution_count": 340,
     "metadata": {},
     "output_type": "execute_result"
    }
   ],
   "source": [
    "1 - len(data.dropna()) / len(data)"
   ]
  },
  {
   "cell_type": "markdown",
   "metadata": {},
   "source": [
    "#### Skin color ratings"
   ]
  },
  {
   "cell_type": "code",
   "execution_count": 341,
   "metadata": {
    "collapsed": false
   },
   "outputs": [
    {
     "data": {
      "text/plain": [
       "0.14710751230327862"
      ]
     },
     "execution_count": 341,
     "metadata": {},
     "output_type": "execute_result"
    }
   ],
   "source": [
    "len(data[data.rater1.isnull() | data.rater2.isnull()]) / len(data)"
   ]
  },
  {
   "cell_type": "markdown",
   "metadata": {},
   "source": [
    "We need to throw away 15% of the dataset, because for these entries we do not have information about the skin color."
   ]
  },
  {
   "cell_type": "code",
   "execution_count": 342,
   "metadata": {
    "collapsed": true
   },
   "outputs": [],
   "source": [
    "data_skin = data.dropna(how='all', subset=['rater1', 'rater2'])"
   ]
  },
  {
   "cell_type": "markdown",
   "metadata": {},
   "source": [
    "We have the following possible values in `rater1` and `rater2` fields."
   ]
  },
  {
   "cell_type": "code",
   "execution_count": 343,
   "metadata": {
    "collapsed": false
   },
   "outputs": [
    {
     "data": {
      "text/plain": [
       "0.00    45490\n",
       "0.25    40053\n",
       "0.50    12218\n",
       "0.75     8798\n",
       "1.00     7303\n",
       "Name: rater1, dtype: int64"
      ]
     },
     "execution_count": 343,
     "metadata": {},
     "output_type": "execute_result"
    }
   ],
   "source": [
    "data_skin.rater1.value_counts().sort_index()"
   ]
  },
  {
   "cell_type": "markdown",
   "metadata": {},
   "source": [
    "We need to somehow reconcile the two `rater` columns. We choose the average function, and we put the result on an integer scale:"
   ]
  },
  {
   "cell_type": "code",
   "execution_count": 344,
   "metadata": {
    "collapsed": false
   },
   "outputs": [],
   "source": [
    "warnings.filterwarnings('ignore')\n",
    "data_skin['skin'] = ((data_skin.rater1 + data_skin.rater2) / 2 * 4)\n",
    "data_skin = data_skin.drop('rater1', axis=1)\n",
    "data_skin = data_skin.drop('rater2', axis=1)"
   ]
  },
  {
   "cell_type": "markdown",
   "metadata": {},
   "source": [
    "This is what we get for the `skin` field. The higher the value, the \"darker\" the skin is."
   ]
  },
  {
   "cell_type": "code",
   "execution_count": 345,
   "metadata": {
    "collapsed": false
   },
   "outputs": [
    {
     "data": {
      "image/png": "[encoded data removed]",
      "text/plain": [
       "<matplotlib.figure.Figure at 0x27c8a474208>"
      ]
     },
     "metadata": {},
     "output_type": "display_data"
    }
   ],
   "source": [
    "plot_color = sb.color_palette()[0]\n",
    "sb.countplot(x='skin', data=data_skin, color=plot_color);"
   ]
  },
  {
   "cell_type": "markdown",
   "metadata": {},
   "source": [
    "#### Age of players"
   ]
  },
  {
   "cell_type": "markdown",
   "metadata": {},
   "source": [
    "Next, we want to convert the birthday (type `datetime` that scikit-learn does not understand) into the player's age:"
   ]
  },
  {
   "cell_type": "code",
   "execution_count": 346,
   "metadata": {
    "collapsed": false
   },
   "outputs": [],
   "source": [
    "import datetime\n",
    "now = datetime.date.today()\n",
    "\n",
    "data_skin['age'] = [now.year - b.year for b in data_skin.birthday]\n",
    "data_skin = data_skin.drop('birthday', axis=1)"
   ]
  },
  {
   "cell_type": "code",
   "execution_count": 347,
   "metadata": {
    "collapsed": false
   },
   "outputs": [
    {
     "data": {
      "text/plain": [
       "<matplotlib.axes._subplots.AxesSubplot at 0x27c8a805198>"
      ]
     },
     "execution_count": 347,
     "metadata": {},
     "output_type": "execute_result"
    },
    {
     "data": {
      "image/png": "[encoded data removed]",
      "text/plain": [
       "<matplotlib.figure.Figure at 0x27c8de7eb00>"
      ]
     },
     "metadata": {},
     "output_type": "display_data"
    }
   ],
   "source": [
    "sb.countplot(x='age', data=data_skin, color=plot_color)"
   ]
  },
  {
   "cell_type": "markdown",
   "metadata": {},
   "source": [
    "We notice that the `age` data approximately follows a normal distribution, and that there are no outliers."
   ]
  },
  {
   "cell_type": "markdown",
   "metadata": {},
   "source": [
    "#### Weight"
   ]
  },
  {
   "cell_type": "code",
   "execution_count": 348,
   "metadata": {
    "collapsed": false
   },
   "outputs": [
    {
     "data": {
      "text/plain": [
       "<matplotlib.axes._subplots.AxesSubplot at 0x27c8a805240>"
      ]
     },
     "execution_count": 348,
     "metadata": {},
     "output_type": "execute_result"
    },
    {
     "data": {
      "image/png": "[encoded data removed]",
      "text/plain": [
       "<matplotlib.figure.Figure at 0x27c912cda58>"
      ]
     },
     "metadata": {},
     "output_type": "display_data"
    }
   ],
   "source": [
    "hist = sb.countplot(x='weight', data=data_skin, color=plot_color)\n",
    "pl.setp(hist.get_xticklabels(), rotation=90)\n",
    "hist"
   ]
  },
  {
   "cell_type": "markdown",
   "metadata": {},
   "source": [
    "This also looks normally distributed and there are no outliers."
   ]
  },
  {
   "cell_type": "markdown",
   "metadata": {},
   "source": [
    "#### Height"
   ]
  },
  {
   "cell_type": "code",
   "execution_count": 349,
   "metadata": {
    "collapsed": false
   },
   "outputs": [
    {
     "data": {
      "text/plain": [
       "<matplotlib.axes._subplots.AxesSubplot at 0x27c91319e48>"
      ]
     },
     "execution_count": 349,
     "metadata": {},
     "output_type": "execute_result"
    },
    {
     "data": {
      "image/png": "[encoded data removed]",
      "text/plain": [
       "<matplotlib.figure.Figure at 0x27c912c15c0>"
      ]
     },
     "metadata": {},
     "output_type": "display_data"
    }
   ],
   "source": [
    "hist = sb.countplot(x='height', data=data_skin, color=plot_color)\n",
    "pl.setp(hist.get_xticklabels(), rotation=90)\n",
    "hist"
   ]
  },
  {
   "cell_type": "markdown",
   "metadata": {},
   "source": [
    "This also looks normally distributed and there are no outliers."
   ]
  },
  {
   "cell_type": "markdown",
   "metadata": {},
   "source": [
    "#### Country of league"
   ]
  },
  {
   "cell_type": "code",
   "execution_count": 350,
   "metadata": {
    "collapsed": false
   },
   "outputs": [
    {
     "data": {
      "text/plain": [
       "<matplotlib.axes._subplots.AxesSubplot at 0x27c8c78e5f8>"
      ]
     },
     "execution_count": 350,
     "metadata": {},
     "output_type": "execute_result"
    },
    {
     "data": {
      "image/png": "[encoded data removed]",
      "text/plain": [
       "<matplotlib.figure.Figure at 0x27c8a80c4e0>"
      ]
     },
     "metadata": {},
     "output_type": "display_data"
    }
   ],
   "source": [
    "sb.countplot(x='leagueCountry', data=data_skin, color=plot_color)"
   ]
  },
  {
   "cell_type": "markdown",
   "metadata": {},
   "source": [
    "#### Position on the field"
   ]
  },
  {
   "cell_type": "code",
   "execution_count": 351,
   "metadata": {
    "collapsed": false
   },
   "outputs": [
    {
     "data": {
      "text/plain": [
       "0.06779259103124835"
      ]
     },
     "execution_count": 351,
     "metadata": {},
     "output_type": "execute_result"
    }
   ],
   "source": [
    "data_skin.position.isnull().sum() / len(data_skin)"
   ]
  },
  {
   "cell_type": "markdown",
   "metadata": {},
   "source": [
    "7% of the entries miss a `position` information. We will replace these null values by a `Missing` entry."
   ]
  },
  {
   "cell_type": "code",
   "execution_count": 352,
   "metadata": {
    "collapsed": true
   },
   "outputs": [],
   "source": [
    "data_skin.position = data_skin.position.fillna('Missing')"
   ]
  },
  {
   "cell_type": "markdown",
   "metadata": {},
   "source": [
    "#### `refCountry` and `Alpha_3`"
   ]
  },
  {
   "cell_type": "markdown",
   "metadata": {},
   "source": [
    "There is a bijection between `refCountry` and `Alpha_3`, so we will drop the `Alpha_3` column."
   ]
  },
  {
   "cell_type": "code",
   "execution_count": 353,
   "metadata": {
    "collapsed": false
   },
   "outputs": [],
   "source": [
    "data_skin = data_skin.drop('Alpha_3', axis=1)"
   ]
  },
  {
   "cell_type": "markdown",
   "metadata": {},
   "source": [
    "#### Player full name"
   ]
  },
  {
   "cell_type": "markdown",
   "metadata": {},
   "source": [
    "We also let go of the player full name, since we already have the `playerShort` field that serves that purpose."
   ]
  },
  {
   "cell_type": "code",
   "execution_count": 354,
   "metadata": {
    "collapsed": true
   },
   "outputs": [],
   "source": [
    "data = data.drop('player', axis=1)"
   ]
  },
  {
   "cell_type": "markdown",
   "metadata": {},
   "source": [
    "#### Photo ID"
   ]
  },
  {
   "cell_type": "markdown",
   "metadata": {},
   "source": [
    "Let's also drop the `photoID` column, since we don't have access to the photos anyways:"
   ]
  },
  {
   "cell_type": "code",
   "execution_count": 355,
   "metadata": {
    "collapsed": true
   },
   "outputs": [],
   "source": [
    "data_skin = data_skin.drop('photoID', axis=1)"
   ]
  },
  {
   "cell_type": "markdown",
   "metadata": {},
   "source": [
    "#### Player full name"
   ]
  },
  {
   "cell_type": "markdown",
   "metadata": {},
   "source": [
    "We don't need this, since we already have the short name."
   ]
  },
  {
   "cell_type": "code",
   "execution_count": 356,
   "metadata": {
    "collapsed": true
   },
   "outputs": [],
   "source": [
    "data_skin = data_skin.drop('player', axis=1)"
   ]
  },
  {
   "cell_type": "markdown",
   "metadata": {},
   "source": [
    "#### Final observation"
   ]
  },
  {
   "cell_type": "markdown",
   "metadata": {},
   "source": [
    "After our preprocessing, we have this proportion of `null` values:"
   ]
  },
  {
   "cell_type": "code",
   "execution_count": 357,
   "metadata": {
    "collapsed": false
   },
   "outputs": [
    {
     "data": {
      "text/plain": [
       "0.006455182589450437"
      ]
     },
     "execution_count": 357,
     "metadata": {},
     "output_type": "execute_result"
    }
   ],
   "source": [
    "1 - len(data_skin.dropna()) / len(data_skin)"
   ]
  },
  {
   "cell_type": "markdown",
   "metadata": {},
   "source": [
    "Since that's less than 1%, we can just drop those values:"
   ]
  },
  {
   "cell_type": "code",
   "execution_count": 358,
   "metadata": {
    "collapsed": true
   },
   "outputs": [],
   "source": [
    "data_skin = data_skin.dropna()"
   ]
  },
  {
   "cell_type": "markdown",
   "metadata": {},
   "source": [
    "### 0c - Dealing with categorical attributes"
   ]
  },
  {
   "cell_type": "markdown",
   "metadata": {},
   "source": [
    "Scikit-learn does not accept categorical values as is; we need to translate them into arbitrary numerical values with the following helper:"
   ]
  },
  {
   "cell_type": "code",
   "execution_count": 359,
   "metadata": {
    "collapsed": true
   },
   "outputs": [],
   "source": [
    "from sklearn import preprocessing\n",
    "def categ_to_numeric(column):\n",
    "    \"\"\"Transforms a categorical column into numerical values.\"\"\"\n",
    "    enc = preprocessing.LabelEncoder()\n",
    "    enc.fit(column)\n",
    "    return enc.transform(column)"
   ]
  },
  {
   "cell_type": "markdown",
   "metadata": {},
   "source": [
    "And apply it to the following columns:"
   ]
  },
  {
   "cell_type": "code",
   "execution_count": 360,
   "metadata": {
    "collapsed": true
   },
   "outputs": [],
   "source": [
    "categ_features = ['playerShort', 'club', 'leagueCountry', 'position']\n",
    "for c in categ_features:\n",
    "    data_skin[c] = categ_to_numeric(data_skin[c])"
   ]
  },
  {
   "cell_type": "code",
   "execution_count": 361,
   "metadata": {
    "collapsed": false,
    "scrolled": true
   },
   "outputs": [
    {
     "data": {
      "text/html": [
       "<div>\n",
       "<table border=\"1\" class=\"dataframe\">\n",
       "  <thead>\n",
       "    <tr style=\"text-align: right;\">\n",
       "      <th></th>\n",
       "      <th>playerShort</th>\n",
       "      <th>club</th>\n",
       "      <th>leagueCountry</th>\n",
       "      <th>position</th>\n",
       "    </tr>\n",
       "  </thead>\n",
       "  <tbody>\n",
       "    <tr>\n",
       "      <th>0</th>\n",
       "      <td>0</td>\n",
       "      <td>33</td>\n",
       "      <td>0</td>\n",
       "      <td>1</td>\n",
       "    </tr>\n",
       "    <tr>\n",
       "      <th>1</th>\n",
       "      <td>42</td>\n",
       "      <td>47</td>\n",
       "      <td>0</td>\n",
       "      <td>6</td>\n",
       "    </tr>\n",
       "    <tr>\n",
       "      <th>2</th>\n",
       "      <td>61</td>\n",
       "      <td>53</td>\n",
       "      <td>0</td>\n",
       "      <td>4</td>\n",
       "    </tr>\n",
       "    <tr>\n",
       "      <th>3</th>\n",
       "      <td>86</td>\n",
       "      <td>48</td>\n",
       "      <td>0</td>\n",
       "      <td>5</td>\n",
       "    </tr>\n",
       "    <tr>\n",
       "      <th>4</th>\n",
       "      <td>100</td>\n",
       "      <td>2</td>\n",
       "      <td>2</td>\n",
       "      <td>10</td>\n",
       "    </tr>\n",
       "  </tbody>\n",
       "</table>\n",
       "</div>"
      ],
      "text/plain": [
       "   playerShort  club  leagueCountry  position\n",
       "0            0    33              0         1\n",
       "1           42    47              0         6\n",
       "2           61    53              0         4\n",
       "3           86    48              0         5\n",
       "4          100     2              2        10"
      ]
     },
     "execution_count": 361,
     "metadata": {},
     "output_type": "execute_result"
    }
   ],
   "source": [
    "data_skin[categ_features].head()"
   ]
  },
  {
   "cell_type": "markdown",
   "metadata": {},
   "source": [
    "### 0d - Standardization of numerical values"
   ]
  },
  {
   "cell_type": "markdown",
   "metadata": {},
   "source": [
    "We will now standardize numerical columns: we take the mean, subtract it from every value and then scale the values with the standard deviation:"
   ]
  },
  {
   "cell_type": "code",
   "execution_count": 362,
   "metadata": {
    "collapsed": true
   },
   "outputs": [],
   "source": [
    "def standardize_feature(column):\n",
    "    \"\"\"Standardizes a numerical column.\"\"\"\n",
    "    enc = preprocessing.StandardScaler()\n",
    "    enc.fit(column)\n",
    "    return enc.transform(column)"
   ]
  },
  {
   "cell_type": "code",
   "execution_count": 363,
   "metadata": {
    "collapsed": true
   },
   "outputs": [],
   "source": [
    "standard_features = ['height', 'weight', 'games', 'victories', 'ties', 'defeats',\n",
    "                     'goals', 'yellowCards', 'yellowReds', 'redCards', 'meanIAT',\n",
    "                     'nIAT', 'seIAT', 'meanExp', 'nExp', 'seExp']\n",
    "for c in standard_features:\n",
    "    data_skin[c] = standardize_feature(data_skin[c])"
   ]
  },
  {
   "cell_type": "markdown",
   "metadata": {},
   "source": [
    "### 0e - Preprocessing result"
   ]
  },
  {
   "cell_type": "code",
   "execution_count": 364,
   "metadata": {
    "collapsed": false
   },
   "outputs": [
    {
     "data": {
      "text/html": [
       "<div>\n",
       "<table border=\"1\" class=\"dataframe\">\n",
       "  <thead>\n",
       "    <tr style=\"text-align: right;\">\n",
       "      <th></th>\n",
       "      <th>refNum</th>\n",
       "      <th>playerShort</th>\n",
       "      <th>club</th>\n",
       "      <th>leagueCountry</th>\n",
       "      <th>height</th>\n",
       "      <th>weight</th>\n",
       "      <th>position</th>\n",
       "      <th>games</th>\n",
       "      <th>victories</th>\n",
       "      <th>ties</th>\n",
       "      <th>...</th>\n",
       "      <th>redCards</th>\n",
       "      <th>refCountry</th>\n",
       "      <th>meanIAT</th>\n",
       "      <th>nIAT</th>\n",
       "      <th>seIAT</th>\n",
       "      <th>meanExp</th>\n",
       "      <th>nExp</th>\n",
       "      <th>seExp</th>\n",
       "      <th>skin</th>\n",
       "      <th>age</th>\n",
       "    </tr>\n",
       "  </thead>\n",
       "  <tbody>\n",
       "    <tr>\n",
       "      <th>113578</th>\n",
       "      <td>2641</td>\n",
       "      <td>1013</td>\n",
       "      <td>75</td>\n",
       "      <td>2</td>\n",
       "      <td>1.016275</td>\n",
       "      <td>1.073242</td>\n",
       "      <td>1</td>\n",
       "      <td>-0.576822</td>\n",
       "      <td>-0.720198</td>\n",
       "      <td>0.211051</td>\n",
       "      <td>...</td>\n",
       "      <td>-0.114125</td>\n",
       "      <td>32</td>\n",
       "      <td>-0.103511</td>\n",
       "      <td>-0.133040</td>\n",
       "      <td>-0.102677</td>\n",
       "      <td>-0.428714</td>\n",
       "      <td>-0.134496</td>\n",
       "      <td>-0.117143</td>\n",
       "      <td>0.0</td>\n",
       "      <td>30</td>\n",
       "    </tr>\n",
       "    <tr>\n",
       "      <th>8575</th>\n",
       "      <td>233</td>\n",
       "      <td>371</td>\n",
       "      <td>33</td>\n",
       "      <td>0</td>\n",
       "      <td>1.310678</td>\n",
       "      <td>1.073242</td>\n",
       "      <td>5</td>\n",
       "      <td>-0.576822</td>\n",
       "      <td>-0.205768</td>\n",
       "      <td>-0.637284</td>\n",
       "      <td>...</td>\n",
       "      <td>-0.114125</td>\n",
       "      <td>44</td>\n",
       "      <td>-0.743283</td>\n",
       "      <td>0.222037</td>\n",
       "      <td>-0.190898</td>\n",
       "      <td>-0.532935</td>\n",
       "      <td>0.227790</td>\n",
       "      <td>-0.180587</td>\n",
       "      <td>0.0</td>\n",
       "      <td>31</td>\n",
       "    </tr>\n",
       "    <tr>\n",
       "      <th>98936</th>\n",
       "      <td>2310</td>\n",
       "      <td>1336</td>\n",
       "      <td>23</td>\n",
       "      <td>1</td>\n",
       "      <td>-0.602943</td>\n",
       "      <td>-0.323208</td>\n",
       "      <td>9</td>\n",
       "      <td>-0.576822</td>\n",
       "      <td>-0.205768</td>\n",
       "      <td>-0.637284</td>\n",
       "      <td>...</td>\n",
       "      <td>-0.114125</td>\n",
       "      <td>7</td>\n",
       "      <td>-0.468540</td>\n",
       "      <td>-0.124797</td>\n",
       "      <td>-0.131452</td>\n",
       "      <td>-0.635132</td>\n",
       "      <td>-0.125853</td>\n",
       "      <td>-0.136271</td>\n",
       "      <td>0.5</td>\n",
       "      <td>32</td>\n",
       "    </tr>\n",
       "    <tr>\n",
       "      <th>62660</th>\n",
       "      <td>1459</td>\n",
       "      <td>1098</td>\n",
       "      <td>15</td>\n",
       "      <td>2</td>\n",
       "      <td>0.427468</td>\n",
       "      <td>0.095727</td>\n",
       "      <td>1</td>\n",
       "      <td>0.232860</td>\n",
       "      <td>-0.205768</td>\n",
       "      <td>1.059386</td>\n",
       "      <td>...</td>\n",
       "      <td>-0.114125</td>\n",
       "      <td>8</td>\n",
       "      <td>-0.401720</td>\n",
       "      <td>-0.084518</td>\n",
       "      <td>-0.172000</td>\n",
       "      <td>-0.635806</td>\n",
       "      <td>-0.085878</td>\n",
       "      <td>-0.165399</td>\n",
       "      <td>0.5</td>\n",
       "      <td>26</td>\n",
       "    </tr>\n",
       "    <tr>\n",
       "      <th>36705</th>\n",
       "      <td>724</td>\n",
       "      <td>1370</td>\n",
       "      <td>88</td>\n",
       "      <td>2</td>\n",
       "      <td>1.163476</td>\n",
       "      <td>0.793952</td>\n",
       "      <td>1</td>\n",
       "      <td>-0.576822</td>\n",
       "      <td>-0.720198</td>\n",
       "      <td>0.211051</td>\n",
       "      <td>...</td>\n",
       "      <td>-0.114125</td>\n",
       "      <td>48</td>\n",
       "      <td>1.301064</td>\n",
       "      <td>-0.134074</td>\n",
       "      <td>-0.097331</td>\n",
       "      <td>0.337957</td>\n",
       "      <td>-0.134842</td>\n",
       "      <td>-0.095497</td>\n",
       "      <td>0.0</td>\n",
       "      <td>27</td>\n",
       "    </tr>\n",
       "    <tr>\n",
       "      <th>25219</th>\n",
       "      <td>494</td>\n",
       "      <td>852</td>\n",
       "      <td>30</td>\n",
       "      <td>2</td>\n",
       "      <td>2.341089</td>\n",
       "      <td>3.307562</td>\n",
       "      <td>5</td>\n",
       "      <td>-0.576822</td>\n",
       "      <td>-0.720198</td>\n",
       "      <td>0.211051</td>\n",
       "      <td>...</td>\n",
       "      <td>-0.114125</td>\n",
       "      <td>8</td>\n",
       "      <td>-0.401720</td>\n",
       "      <td>-0.084518</td>\n",
       "      <td>-0.172000</td>\n",
       "      <td>-0.635806</td>\n",
       "      <td>-0.085878</td>\n",
       "      <td>-0.165399</td>\n",
       "      <td>0.0</td>\n",
       "      <td>26</td>\n",
       "    </tr>\n",
       "    <tr>\n",
       "      <th>74777</th>\n",
       "      <td>1766</td>\n",
       "      <td>1284</td>\n",
       "      <td>17</td>\n",
       "      <td>3</td>\n",
       "      <td>0.721872</td>\n",
       "      <td>0.933597</td>\n",
       "      <td>1</td>\n",
       "      <td>-0.306928</td>\n",
       "      <td>-0.720198</td>\n",
       "      <td>0.211051</td>\n",
       "      <td>...</td>\n",
       "      <td>-0.114125</td>\n",
       "      <td>3</td>\n",
       "      <td>0.741536</td>\n",
       "      <td>-0.133876</td>\n",
       "      <td>-0.098370</td>\n",
       "      <td>0.631731</td>\n",
       "      <td>-0.134826</td>\n",
       "      <td>-0.102722</td>\n",
       "      <td>0.0</td>\n",
       "      <td>34</td>\n",
       "    </tr>\n",
       "    <tr>\n",
       "      <th>116614</th>\n",
       "      <td>2722</td>\n",
       "      <td>1316</td>\n",
       "      <td>38</td>\n",
       "      <td>2</td>\n",
       "      <td>-0.455741</td>\n",
       "      <td>-0.602498</td>\n",
       "      <td>3</td>\n",
       "      <td>-0.576822</td>\n",
       "      <td>-0.720198</td>\n",
       "      <td>-0.637284</td>\n",
       "      <td>...</td>\n",
       "      <td>-0.114125</td>\n",
       "      <td>8</td>\n",
       "      <td>-0.401720</td>\n",
       "      <td>-0.084518</td>\n",
       "      <td>-0.172000</td>\n",
       "      <td>-0.635806</td>\n",
       "      <td>-0.085878</td>\n",
       "      <td>-0.165399</td>\n",
       "      <td>0.0</td>\n",
       "      <td>24</td>\n",
       "    </tr>\n",
       "    <tr>\n",
       "      <th>99692</th>\n",
       "      <td>2331</td>\n",
       "      <td>1044</td>\n",
       "      <td>62</td>\n",
       "      <td>0</td>\n",
       "      <td>0.574670</td>\n",
       "      <td>-0.602498</td>\n",
       "      <td>9</td>\n",
       "      <td>-0.037034</td>\n",
       "      <td>-0.205768</td>\n",
       "      <td>0.211051</td>\n",
       "      <td>...</td>\n",
       "      <td>-0.114125</td>\n",
       "      <td>44</td>\n",
       "      <td>-0.743283</td>\n",
       "      <td>0.222037</td>\n",
       "      <td>-0.190898</td>\n",
       "      <td>-0.532935</td>\n",
       "      <td>0.227790</td>\n",
       "      <td>-0.180587</td>\n",
       "      <td>2.0</td>\n",
       "      <td>34</td>\n",
       "    </tr>\n",
       "    <tr>\n",
       "      <th>90901</th>\n",
       "      <td>2085</td>\n",
       "      <td>1296</td>\n",
       "      <td>59</td>\n",
       "      <td>0</td>\n",
       "      <td>0.869073</td>\n",
       "      <td>1.073242</td>\n",
       "      <td>1</td>\n",
       "      <td>1.582330</td>\n",
       "      <td>0.308661</td>\n",
       "      <td>1.059386</td>\n",
       "      <td>...</td>\n",
       "      <td>-0.114125</td>\n",
       "      <td>44</td>\n",
       "      <td>-0.743283</td>\n",
       "      <td>0.222037</td>\n",
       "      <td>-0.190898</td>\n",
       "      <td>-0.532935</td>\n",
       "      <td>0.227790</td>\n",
       "      <td>-0.180587</td>\n",
       "      <td>1.0</td>\n",
       "      <td>39</td>\n",
       "    </tr>\n",
       "  </tbody>\n",
       "</table>\n",
       "<p>10 rows × 24 columns</p>\n",
       "</div>"
      ],
      "text/plain": [
       "        refNum  playerShort  club  leagueCountry    height    weight  \\\n",
       "113578    2641         1013    75              2  1.016275  1.073242   \n",
       "8575       233          371    33              0  1.310678  1.073242   \n",
       "98936     2310         1336    23              1 -0.602943 -0.323208   \n",
       "62660     1459         1098    15              2  0.427468  0.095727   \n",
       "36705      724         1370    88              2  1.163476  0.793952   \n",
       "25219      494          852    30              2  2.341089  3.307562   \n",
       "74777     1766         1284    17              3  0.721872  0.933597   \n",
       "116614    2722         1316    38              2 -0.455741 -0.602498   \n",
       "99692     2331         1044    62              0  0.574670 -0.602498   \n",
       "90901     2085         1296    59              0  0.869073  1.073242   \n",
       "\n",
       "        position     games  victories      ties ...   redCards  refCountry  \\\n",
       "113578         1 -0.576822  -0.720198  0.211051 ...  -0.114125          32   \n",
       "8575           5 -0.576822  -0.205768 -0.637284 ...  -0.114125          44   \n",
       "98936          9 -0.576822  -0.205768 -0.637284 ...  -0.114125           7   \n",
       "62660          1  0.232860  -0.205768  1.059386 ...  -0.114125           8   \n",
       "36705          1 -0.576822  -0.720198  0.211051 ...  -0.114125          48   \n",
       "25219          5 -0.576822  -0.720198  0.211051 ...  -0.114125           8   \n",
       "74777          1 -0.306928  -0.720198  0.211051 ...  -0.114125           3   \n",
       "116614         3 -0.576822  -0.720198 -0.637284 ...  -0.114125           8   \n",
       "99692          9 -0.037034  -0.205768  0.211051 ...  -0.114125          44   \n",
       "90901          1  1.582330   0.308661  1.059386 ...  -0.114125          44   \n",
       "\n",
       "         meanIAT      nIAT     seIAT   meanExp      nExp     seExp  skin  age  \n",
       "113578 -0.103511 -0.133040 -0.102677 -0.428714 -0.134496 -0.117143   0.0   30  \n",
       "8575   -0.743283  0.222037 -0.190898 -0.532935  0.227790 -0.180587   0.0   31  \n",
       "98936  -0.468540 -0.124797 -0.131452 -0.635132 -0.125853 -0.136271   0.5   32  \n",
       "62660  -0.401720 -0.084518 -0.172000 -0.635806 -0.085878 -0.165399   0.5   26  \n",
       "36705   1.301064 -0.134074 -0.097331  0.337957 -0.134842 -0.095497   0.0   27  \n",
       "25219  -0.401720 -0.084518 -0.172000 -0.635806 -0.085878 -0.165399   0.0   26  \n",
       "74777   0.741536 -0.133876 -0.098370  0.631731 -0.134826 -0.102722   0.0   34  \n",
       "116614 -0.401720 -0.084518 -0.172000 -0.635806 -0.085878 -0.165399   0.0   24  \n",
       "99692  -0.743283  0.222037 -0.190898 -0.532935  0.227790 -0.180587   2.0   34  \n",
       "90901  -0.743283  0.222037 -0.190898 -0.532935  0.227790 -0.180587   1.0   39  \n",
       "\n",
       "[10 rows x 24 columns]"
      ]
     },
     "execution_count": 364,
     "metadata": {},
     "output_type": "execute_result"
    }
   ],
   "source": [
    "data_skin.sample(10)"
   ]
  },
  {
   "cell_type": "markdown",
   "metadata": {},
   "source": [
    "## Part 1 - Classification"
   ]
  }
 ],
 "metadata": {
  "anaconda-cloud": {},
  "kernelspec": {
   "display_name": "Python [conda root]",
   "language": "python",
   "name": "conda-root-py"
  },
  "language_info": {
   "codemirror_mode": {
    "name": "ipython",
    "version": 3
   },
   "file_extension": ".py",
   "mimetype": "text/x-python",
   "name": "python",
   "nbconvert_exporter": "python",
   "pygments_lexer": "ipython3",
   "version": "3.5.2"
  }
 },
 "nbformat": 4,
 "nbformat_minor": 1
}
