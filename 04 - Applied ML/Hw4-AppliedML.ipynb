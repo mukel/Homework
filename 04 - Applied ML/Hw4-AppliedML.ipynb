{
 "cells": [
  {
   "cell_type": "markdown",
   "metadata": {},
   "source": [
    "# ADA / Applied Data Analysis\n",
    "<h2 style=\"color:#a8a8a8\">Homework 4 - Applied Machine Learning<br>\n",
    "Aimée Montero, Alfonso Peterssen, Cyriaque Brousse</h2>"
   ]
  },
  {
   "cell_type": "markdown",
   "metadata": {
    "collapsed": true
   },
   "source": [
    "## Assignment description\n",
    "In this homework we will gain experience on Applied Machine Learning, exploring an interesting dataset about soccer players and referees.\n",
    "Given that the focus of this homework is Machine Learning, I recommend you to first take a look at [this notebook](http://nbviewer.jupyter.org/github/mathewzilla/redcard/blob/master/Crowdstorming_visualisation.ipynb)\n",
    "containing a solid work in pre-processing + visualization of the given dataset. You are *not* allowed to just copy/paste the pre-processing steps\n",
    "performed by the notebook authors -- you are still supposed to perform your own data analysis for the homework. Still, I'm confident that consulting first\n",
    "the work done by expert data analysts will speed up tangibly your effort (i.e., they have already found for you many glitches in the data :)\n",
    "\n",
    "\n",
    "### Assignment\n",
    "1. Train a `sklearn.ensemble.RandomForestClassifier` that given a soccer player description outputs his skin color. Show how different parameters \n",
    "passed to the Classifier affect the overfitting issue. Perform cross-validation to mitigate the overfitting of your model. Once you assessed your model,\n",
    "inspect the `feature_importances_` attribute and discuss the obtained results. With different assumptions on the data (e.g., dropping certain features even\n",
    "before feeding them to the classifier), can you obtain a substantially different `feature_importances_` attribute?\n",
    "\n",
    "  *BONUS*: plot the learning curves against at least 2 different sets of parameters passed to your Random Forest. To obtain smooth curves, partition\n",
    "your data in at least 20 folds. Can you find a set of parameters that leads to high bias, and one which does not?<br><br>\n",
    "\n",
    "2. Aggregate the referee information grouping by soccer player, and use an unsupervised learning technique to cluster the soccer players in 2 disjoint\n",
    "clusters. Remove features iteratively, and at each step perform again the clustering and compute the silhouette score -- can you find a configuration of features with high silhouette\n",
    "score where players with dark and light skin colors belong to different clusters? Discuss the obtained results."
   ]
  },
  {
   "cell_type": "markdown",
   "metadata": {},
   "source": [
    "## Data description\n",
    "\n",
    "From a company for sports statistics, we obtained data and profile photos from all soccer players (N = 2053) playing in the first male divisions of England, Germany, France and Spain in the 2012-2013 season and all referees (N = 3147) that these players played under in their professional career. We created a dataset of player–referee dyads including the number of matches players and referees encountered each other and our dependent variable, the number of red cards given to a player by a particular referee throughout all matches the two encountered each other.\n",
    " \n",
    "Player photos were available from the source for 1586 out of 2053 players. Players’ skin tone was coded by two independent raters blind to the research question who, based on their profile photo, categorized players on a 5-point scale ranging from “very light skin” to “very dark skin” with “neither dark nor light skin” as the center value. \n",
    "\n",
    "Additionally, implicit bias scores for each referee country were calculated using a race implicit association test (IAT), with higher values corresponding to faster white | good, black | bad associations. Explicit bias scores for each referee country were calculated using a racial thermometer task, with higher values corresponding to greater feelings of warmth toward whites versus blacks. Both these measures were created by aggregating data from many online users in referee countries taking these tests on [Project Implicit](http://projectimplicit.net).\n",
    "\n",
    "In all, the dataset has a total of 146028 dyads of players and referees. A detailed description of all variables in the dataset can be seen in the list below.\n",
    "\n",
    "### Variables:\n",
    "\n",
    "- *playerShort* - short player ID\n",
    "- *player* - player name\n",
    "- *club* - player club\n",
    "- *leagueCountry* - country of player club (England, Germany, France, and Spain)\n",
    "- *birthday* - player birthday\n",
    "- *height* - player height (in cm)\n",
    "- *weight* - player weight (in kg)\n",
    "- *position* - detailed player position\n",
    "- *games* - number of games in the player-referee dyad\n",
    "- *victories* - victories in the player-referee dyad\n",
    "- *ties* - ties in the player-referee dyad\n",
    "- *defeats* - losses in the player-referee dyad\n",
    "- *goals* - goals scored by a player in the player-referee dyad\n",
    "- *yellowCards* - number of yellow cards player received from referee\n",
    "- *yellowReds* - number of yellow-red cards player received from referee\n",
    "- *redCards* - number of red cards player received from referee\n",
    "- *photoID* - ID of player photo (if available)\n",
    "- *rater1* - skin rating of photo by rater 1 (5-point scale ranging from “very light skin” to “very dark skin”)\n",
    "- *rater2* - skin rating of photo by rater 2 (5-point scale ranging from “very light skin” to “very dark skin”)\n",
    "- *refNum* - unique referee ID number (referee name removed for anonymizing purposes)\n",
    "- *refCountry* - unique referee country ID number (country name removed for anonymizing purposes)\n",
    "- *meanIAT* - mean implicit bias score (using the race IAT) for referee country, higher values correspond to faster white | good, black | bad associations\n",
    "- *nIAT* - sample size for race IAT in that particular country\n",
    "- *seIAT* - standard error for mean estimate of race IAT\n",
    "- *meanExp* - mean explicit bias score (using a racial thermometer task) for referee country, higher values correspond to greater feelings of warmth toward whites versus blacks\n",
    "- *nExp* - sample size for explicit bias in that particular country\n",
    "- *seExp* - standard error for mean estimate of explicit bias measure"
   ]
  },
  {
   "cell_type": "markdown",
   "metadata": {},
   "source": [
    "## Part 0 - Data preprocessing"
   ]
  },
  {
   "cell_type": "markdown",
   "metadata": {},
   "source": [
    "Let's import the required libraries:"
   ]
  },
  {
   "cell_type": "code",
   "execution_count": 126,
   "metadata": {
    "collapsed": false
   },
   "outputs": [],
   "source": [
    "import numpy as np\n",
    "import pandas as pd\n",
    "import sklearn as sk\n",
    "import matplotlib.pyplot as pl\n",
    "%matplotlib inline\n",
    "import seaborn as sb\n",
    "import warnings"
   ]
  },
  {
   "cell_type": "markdown",
   "metadata": {},
   "source": [
    "### 0a - Importing the data"
   ]
  },
  {
   "cell_type": "markdown",
   "metadata": {},
   "source": [
    "And import the data from the CSV source:"
   ]
  },
  {
   "cell_type": "code",
   "execution_count": 127,
   "metadata": {
    "collapsed": false
   },
   "outputs": [],
   "source": [
    "data = pd.read_csv('CrowdstormingDataJuly1st.csv', parse_dates=['birthday'], infer_datetime_format=True)\n",
    "full_data_length = len(data)"
   ]
  },
  {
   "cell_type": "markdown",
   "metadata": {},
   "source": [
    "#### Referees with less than 22 entries"
   ]
  },
  {
   "cell_type": "markdown",
   "metadata": {},
   "source": [
    "As explained in [this notebook](http://nbviewer.jupyter.org/github/mathewzilla/redcard/blob/master/Crowdstorming_visualisation.ipynb), we need to discard referees for which there are less than 22 entries."
   ]
  },
  {
   "cell_type": "code",
   "execution_count": 128,
   "metadata": {
    "collapsed": false
   },
   "outputs": [],
   "source": [
    "referees = data.refNum.value_counts()\n",
    "referees_good = referees[referees > 21]"
   ]
  },
  {
   "cell_type": "markdown",
   "metadata": {},
   "source": [
    "We see that the proportion of referees with less than 22 entries is:"
   ]
  },
  {
   "cell_type": "code",
   "execution_count": 129,
   "metadata": {
    "collapsed": false
   },
   "outputs": [
    {
     "data": {
      "text/plain": [
       "0.682872577057515"
      ]
     },
     "execution_count": 129,
     "metadata": {},
     "output_type": "execute_result"
    }
   ],
   "source": [
    "1 - len(referees_good) / len(referees)"
   ]
  },
  {
   "cell_type": "markdown",
   "metadata": {},
   "source": [
    "We lose 68% of the referees, but we keep 91% of the dyads:"
   ]
  },
  {
   "cell_type": "code",
   "execution_count": 130,
   "metadata": {
    "collapsed": false
   },
   "outputs": [
    {
     "data": {
      "text/plain": [
       "0.914215082039061"
      ]
     },
     "execution_count": 130,
     "metadata": {},
     "output_type": "execute_result"
    }
   ],
   "source": [
    "data = data[data.refNum.isin(referees_good.index.values)]\n",
    "len(data) / full_data_length"
   ]
  },
  {
   "cell_type": "markdown",
   "metadata": {},
   "source": [
    "### 0b - Exploring features"
   ]
  },
  {
   "cell_type": "markdown",
   "metadata": {},
   "source": [
    "We would drop the following proportion of the data if we discard all `null` values:"
   ]
  },
  {
   "cell_type": "code",
   "execution_count": 131,
   "metadata": {
    "collapsed": false
   },
   "outputs": [
    {
     "data": {
      "text/plain": [
       "0.20913701020966136"
      ]
     },
     "execution_count": 131,
     "metadata": {},
     "output_type": "execute_result"
    }
   ],
   "source": [
    "1 - len(data.dropna()) / len(data)"
   ]
  },
  {
   "cell_type": "markdown",
   "metadata": {},
   "source": [
    "#### Skin color ratings"
   ]
  },
  {
   "cell_type": "code",
   "execution_count": 132,
   "metadata": {
    "collapsed": false
   },
   "outputs": [
    {
     "data": {
      "text/plain": [
       "0.14710751230327862"
      ]
     },
     "execution_count": 132,
     "metadata": {},
     "output_type": "execute_result"
    }
   ],
   "source": [
    "len(data[data.rater1.isnull() | data.rater2.isnull()]) / len(data)"
   ]
  },
  {
   "cell_type": "markdown",
   "metadata": {},
   "source": [
    "We need to throw away 15% of the dataset, because for these entries we do not have information about the skin color."
   ]
  },
  {
   "cell_type": "code",
   "execution_count": 133,
   "metadata": {
    "collapsed": true
   },
   "outputs": [],
   "source": [
    "data_skin = data.dropna(how='all', subset=['rater1', 'rater2'])"
   ]
  },
  {
   "cell_type": "markdown",
   "metadata": {},
   "source": [
    "We have the following possible values in `rater1` and `rater2` fields."
   ]
  },
  {
   "cell_type": "code",
   "execution_count": 134,
   "metadata": {
    "collapsed": false
   },
   "outputs": [
    {
     "data": {
      "text/plain": [
       "0.00    45490\n",
       "0.25    40053\n",
       "0.50    12218\n",
       "0.75     8798\n",
       "1.00     7303\n",
       "Name: rater1, dtype: int64"
      ]
     },
     "execution_count": 134,
     "metadata": {},
     "output_type": "execute_result"
    }
   ],
   "source": [
    "data_skin.rater1.value_counts().sort_index()"
   ]
  },
  {
   "cell_type": "markdown",
   "metadata": {},
   "source": [
    "We need to somehow reconcile the two `rater` columns. We choose the average function, and we put the result on an integer scale:"
   ]
  },
  {
   "cell_type": "code",
   "execution_count": 135,
   "metadata": {
    "collapsed": false
   },
   "outputs": [
    {
     "name": "stderr",
     "output_type": "stream",
     "text": [
      "/home/mukel/Applications/anaconda3/lib/python3.5/site-packages/ipykernel/__main__.py:1: SettingWithCopyWarning: \n",
      "A value is trying to be set on a copy of a slice from a DataFrame.\n",
      "Try using .loc[row_indexer,col_indexer] = value instead\n",
      "\n",
      "See the caveats in the documentation: http://pandas.pydata.org/pandas-docs/stable/indexing.html#indexing-view-versus-copy\n",
      "  if __name__ == '__main__':\n"
     ]
    }
   ],
   "source": [
    "data_skin['skin'] = ((data_skin.rater1 + data_skin.rater2) / 2)\n",
    "data_skin = data_skin.drop('rater1', axis=1)\n",
    "data_skin = data_skin.drop('rater2', axis=1)\n",
    "\n",
    "# Create two new binary feature for skin color.\n",
    "data_skin['darker_skin'] = data_skin['skin'] <= 0.5"
   ]
  },
  {
   "cell_type": "markdown",
   "metadata": {},
   "source": [
    "This is what we get for the `skin` field. The higher the value, the \"darker\" the skin is.\n",
    "\n",
    "We also added a binary 'darker_skin' for binary classification."
   ]
  },
  {
   "cell_type": "code",
   "execution_count": 136,
   "metadata": {
    "collapsed": false
   },
   "outputs": [
    {
     "data": {
      "image/png": "[encoded data removed]",
      "text/plain": [
       "<matplotlib.figure.Figure at 0x7f52f1d822e8>"
      ]
     },
     "metadata": {},
     "output_type": "display_data"
    }
   ],
   "source": [
    "plot_color = sb.color_palette()[0]\n",
    "sb.countplot(x='skin', data=data_skin, color=plot_color);"
   ]
  },
  {
   "cell_type": "markdown",
   "metadata": {},
   "source": [
    "#### Age of players"
   ]
  },
  {
   "cell_type": "markdown",
   "metadata": {},
   "source": [
    "Next, we want to convert the birthday (type `datetime` that scikit-learn does not understand) into the player's age:"
   ]
  },
  {
   "cell_type": "code",
   "execution_count": 137,
   "metadata": {
    "collapsed": false
   },
   "outputs": [],
   "source": [
    "import datetime\n",
    "now = datetime.date.today()\n",
    "\n",
    "data_skin['age'] = [now.year - b.year for b in data_skin.birthday]\n",
    "data_skin = data_skin.drop('birthday', axis=1)"
   ]
  },
  {
   "cell_type": "code",
   "execution_count": 138,
   "metadata": {
    "collapsed": false
   },
   "outputs": [
    {
     "data": {
      "text/plain": [
       "<matplotlib.axes._subplots.AxesSubplot at 0x7f52e2713198>"
      ]
     },
     "execution_count": 138,
     "metadata": {},
     "output_type": "execute_result"
    },
    {
     "data": {
      "image/png": "[encoded data removed]",
      "text/plain": [
       "<matplotlib.figure.Figure at 0x7f53181ce0f0>"
      ]
     },
     "metadata": {},
     "output_type": "display_data"
    }
   ],
   "source": [
    "sb.countplot(x='age', data=data_skin, color=plot_color)"
   ]
  },
  {
   "cell_type": "markdown",
   "metadata": {},
   "source": [
    "We notice that the `age` data approximately follows a normal distribution, and that there are no outliers."
   ]
  },
  {
   "cell_type": "markdown",
   "metadata": {},
   "source": [
    "#### Weight"
   ]
  },
  {
   "cell_type": "code",
   "execution_count": 139,
   "metadata": {
    "collapsed": false
   },
   "outputs": [
    {
     "data": {
      "text/plain": [
       "<matplotlib.axes._subplots.AxesSubplot at 0x7f52e395a550>"
      ]
     },
     "execution_count": 139,
     "metadata": {},
     "output_type": "execute_result"
    },
    {
     "data": {
      "image/png": "[encoded data removed]",
      "text/plain": [
       "<matplotlib.figure.Figure at 0x7f52e2707ac8>"
      ]
     },
     "metadata": {},
     "output_type": "display_data"
    }
   ],
   "source": [
    "hist = sb.countplot(x='weight', data=data_skin, color=plot_color)\n",
    "pl.setp(hist.get_xticklabels(), rotation=90)\n",
    "hist"
   ]
  },
  {
   "cell_type": "markdown",
   "metadata": {},
   "source": [
    "This also looks normally distributed and there are no outliers."
   ]
  },
  {
   "cell_type": "markdown",
   "metadata": {},
   "source": [
    "#### Height"
   ]
  },
  {
   "cell_type": "code",
   "execution_count": 140,
   "metadata": {
    "collapsed": false
   },
   "outputs": [
    {
     "data": {
      "text/plain": [
       "<matplotlib.axes._subplots.AxesSubplot at 0x7f52e385eda0>"
      ]
     },
     "execution_count": 140,
     "metadata": {},
     "output_type": "execute_result"
    },
    {
     "data": {
      "image/png": "[encoded data removed]",
      "text/plain": [
       "<matplotlib.figure.Figure at 0x7f52f1d5b9e8>"
      ]
     },
     "metadata": {},
     "output_type": "display_data"
    }
   ],
   "source": [
    "hist = sb.countplot(x='height', data=data_skin, color=plot_color)\n",
    "pl.setp(hist.get_xticklabels(), rotation=90)\n",
    "hist"
   ]
  },
  {
   "cell_type": "markdown",
   "metadata": {},
   "source": [
    "This also looks normally distributed and there are no outliers."
   ]
  },
  {
   "cell_type": "markdown",
   "metadata": {},
   "source": [
    "#### Country of league"
   ]
  },
  {
   "cell_type": "code",
   "execution_count": 141,
   "metadata": {
    "collapsed": false
   },
   "outputs": [
    {
     "data": {
      "text/plain": [
       "<matplotlib.axes._subplots.AxesSubplot at 0x7f52e243ce80>"
      ]
     },
     "execution_count": 141,
     "metadata": {},
     "output_type": "execute_result"
    },
    {
     "data": {
      "image/png": "[encoded data removed]",
      "text/plain": [
       "<matplotlib.figure.Figure at 0x7f52e394d470>"
      ]
     },
     "metadata": {},
     "output_type": "display_data"
    }
   ],
   "source": [
    "sb.countplot(x='leagueCountry', data=data_skin, color=plot_color)"
   ]
  },
  {
   "cell_type": "markdown",
   "metadata": {},
   "source": [
    "#### Position on the field"
   ]
  },
  {
   "cell_type": "code",
   "execution_count": 142,
   "metadata": {
    "collapsed": false
   },
   "outputs": [
    {
     "data": {
      "text/plain": [
       "0.06779259103124835"
      ]
     },
     "execution_count": 142,
     "metadata": {},
     "output_type": "execute_result"
    }
   ],
   "source": [
    "data_skin.position.isnull().sum() / len(data_skin)"
   ]
  },
  {
   "cell_type": "markdown",
   "metadata": {},
   "source": [
    "7% of the entries miss a `position` information. We will replace these null values by a `Missing` entry."
   ]
  },
  {
   "cell_type": "code",
   "execution_count": 143,
   "metadata": {
    "collapsed": true
   },
   "outputs": [],
   "source": [
    "data_skin.position = data_skin.position.fillna('Missing')"
   ]
  },
  {
   "cell_type": "code",
   "execution_count": 144,
   "metadata": {
    "collapsed": false
   },
   "outputs": [
    {
     "data": {
      "text/plain": [
       "<matplotlib.axes._subplots.AxesSubplot at 0x7f52e23cd908>"
      ]
     },
     "execution_count": 144,
     "metadata": {},
     "output_type": "execute_result"
    },
    {
     "data": {
      "image/png": "[encoded data removed]",
      "text/plain": [
       "<matplotlib.figure.Figure at 0x7f52e23afcf8>"
      ]
     },
     "metadata": {},
     "output_type": "display_data"
    }
   ],
   "source": [
    "hist = sb.countplot(x='position', data=data_skin, color=plot_color)\n",
    "pl.setp(hist.get_xticklabels(), rotation=90)\n",
    "hist"
   ]
  },
  {
   "cell_type": "markdown",
   "metadata": {},
   "source": [
    "#### `refCountry` and `Alpha_3`"
   ]
  },
  {
   "cell_type": "markdown",
   "metadata": {},
   "source": [
    "There is a bijection between `refCountry` and `Alpha_3`, so we will drop the `Alpha_3` column."
   ]
  },
  {
   "cell_type": "code",
   "execution_count": 145,
   "metadata": {
    "collapsed": false
   },
   "outputs": [],
   "source": [
    "data_skin = data_skin.drop('Alpha_3', axis=1)"
   ]
  },
  {
   "cell_type": "markdown",
   "metadata": {},
   "source": [
    "#### Photo ID"
   ]
  },
  {
   "cell_type": "markdown",
   "metadata": {},
   "source": [
    "Let's also drop the `photoID` column, since we don't have access to the photos anyways:"
   ]
  },
  {
   "cell_type": "code",
   "execution_count": 146,
   "metadata": {
    "collapsed": true
   },
   "outputs": [],
   "source": [
    "data_skin = data_skin.drop('photoID', axis=1)"
   ]
  },
  {
   "cell_type": "markdown",
   "metadata": {},
   "source": [
    "#### Player name"
   ]
  },
  {
   "cell_type": "markdown",
   "metadata": {},
   "source": [
    "We don't need this, since we already have the short name."
   ]
  },
  {
   "cell_type": "code",
   "execution_count": 147,
   "metadata": {
    "collapsed": true
   },
   "outputs": [],
   "source": [
    "data_skin = data_skin.drop('player', axis=1)"
   ]
  },
  {
   "cell_type": "markdown",
   "metadata": {},
   "source": [
    "#### Final observation"
   ]
  },
  {
   "cell_type": "markdown",
   "metadata": {},
   "source": [
    "After our preprocessing, we have this proportion of `null` values:"
   ]
  },
  {
   "cell_type": "code",
   "execution_count": 148,
   "metadata": {
    "collapsed": false
   },
   "outputs": [
    {
     "data": {
      "text/plain": [
       "0.006455182589450437"
      ]
     },
     "execution_count": 148,
     "metadata": {},
     "output_type": "execute_result"
    }
   ],
   "source": [
    "1 - len(data_skin.dropna()) / len(data_skin)"
   ]
  },
  {
   "cell_type": "markdown",
   "metadata": {},
   "source": [
    "Since that's less than 1%, we can just drop those values:"
   ]
  },
  {
   "cell_type": "code",
   "execution_count": 149,
   "metadata": {
    "collapsed": true
   },
   "outputs": [],
   "source": [
    "data_skin = data_skin.dropna()"
   ]
  },
  {
   "cell_type": "markdown",
   "metadata": {},
   "source": [
    "### 0c - Dealing with categorical attributes"
   ]
  },
  {
   "cell_type": "markdown",
   "metadata": {},
   "source": [
    "Scikit-learn does not accept categorical values as is; we need to translate them into arbitrary numerical values with the following helper:"
   ]
  },
  {
   "cell_type": "code",
   "execution_count": 150,
   "metadata": {
    "collapsed": true
   },
   "outputs": [],
   "source": [
    "from sklearn import preprocessing\n",
    "def categ_to_numeric(column):\n",
    "    \"\"\"Transforms a categorical column into numerical values.\"\"\"\n",
    "    enc = preprocessing.LabelEncoder()\n",
    "    enc.fit(column)\n",
    "    return enc.transform(column)"
   ]
  },
  {
   "cell_type": "markdown",
   "metadata": {},
   "source": [
    "And apply it to the following columns:"
   ]
  },
  {
   "cell_type": "code",
   "execution_count": 151,
   "metadata": {
    "collapsed": false
   },
   "outputs": [],
   "source": [
    "categ_features = ['playerShort', 'club', 'leagueCountry', 'position', 'skin']\n",
    "for c in categ_features:\n",
    "    data_skin[c] = categ_to_numeric(data_skin[c])"
   ]
  },
  {
   "cell_type": "code",
   "execution_count": 152,
   "metadata": {
    "collapsed": false,
    "scrolled": true
   },
   "outputs": [
    {
     "data": {
      "text/html": [
       "<div>\n",
       "<table border=\"1\" class=\"dataframe\">\n",
       "  <thead>\n",
       "    <tr style=\"text-align: right;\">\n",
       "      <th></th>\n",
       "      <th>playerShort</th>\n",
       "      <th>club</th>\n",
       "      <th>leagueCountry</th>\n",
       "      <th>position</th>\n",
       "      <th>skin</th>\n",
       "    </tr>\n",
       "  </thead>\n",
       "  <tbody>\n",
       "    <tr>\n",
       "      <th>5</th>\n",
       "      <td>0</td>\n",
       "      <td>33</td>\n",
       "      <td>0</td>\n",
       "      <td>1</td>\n",
       "      <td>1</td>\n",
       "    </tr>\n",
       "    <tr>\n",
       "      <th>6</th>\n",
       "      <td>42</td>\n",
       "      <td>47</td>\n",
       "      <td>0</td>\n",
       "      <td>6</td>\n",
       "      <td>1</td>\n",
       "    </tr>\n",
       "    <tr>\n",
       "      <th>7</th>\n",
       "      <td>61</td>\n",
       "      <td>53</td>\n",
       "      <td>0</td>\n",
       "      <td>4</td>\n",
       "      <td>8</td>\n",
       "    </tr>\n",
       "    <tr>\n",
       "      <th>8</th>\n",
       "      <td>86</td>\n",
       "      <td>48</td>\n",
       "      <td>0</td>\n",
       "      <td>5</td>\n",
       "      <td>2</td>\n",
       "    </tr>\n",
       "    <tr>\n",
       "      <th>9</th>\n",
       "      <td>100</td>\n",
       "      <td>2</td>\n",
       "      <td>2</td>\n",
       "      <td>10</td>\n",
       "      <td>0</td>\n",
       "    </tr>\n",
       "  </tbody>\n",
       "</table>\n",
       "</div>"
      ],
      "text/plain": [
       "   playerShort  club  leagueCountry  position  skin\n",
       "5            0    33              0         1     1\n",
       "6           42    47              0         6     1\n",
       "7           61    53              0         4     8\n",
       "8           86    48              0         5     2\n",
       "9          100     2              2        10     0"
      ]
     },
     "execution_count": 152,
     "metadata": {},
     "output_type": "execute_result"
    }
   ],
   "source": [
    "data_skin[categ_features].head()"
   ]
  },
  {
   "cell_type": "markdown",
   "metadata": {},
   "source": [
    "### 0d - Standardization of numerical values"
   ]
  },
  {
   "cell_type": "markdown",
   "metadata": {},
   "source": [
    "We will now standardize some numerical columns: we take the mean, subtract it from every value and then scale the values with the standard deviation:"
   ]
  },
  {
   "cell_type": "code",
   "execution_count": 153,
   "metadata": {
    "collapsed": true
   },
   "outputs": [],
   "source": [
    "def standardize_feature(column):\n",
    "    \"\"\"Standardizes a numerical column.\"\"\"\n",
    "    enc = preprocessing.StandardScaler()\n",
    "    enc.fit(column)\n",
    "    return enc.transform(column)"
   ]
  },
  {
   "cell_type": "markdown",
   "metadata": {},
   "source": [
    "We apply this to the following columns:"
   ]
  },
  {
   "cell_type": "code",
   "execution_count": 154,
   "metadata": {
    "collapsed": false
   },
   "outputs": [
    {
     "name": "stderr",
     "output_type": "stream",
     "text": [
      "/home/mukel/Applications/anaconda3/lib/python3.5/site-packages/sklearn/utils/validation.py:420: DataConversionWarning: Data with input dtype int64 was converted to float64 by StandardScaler.\n",
      "  warnings.warn(msg, DataConversionWarning)\n",
      "/home/mukel/Applications/anaconda3/lib/python3.5/site-packages/sklearn/preprocessing/data.py:583: DeprecationWarning: Passing 1d arrays as data is deprecated in 0.17 and will raise ValueError in 0.19. Reshape your data either using X.reshape(-1, 1) if your data has a single feature or X.reshape(1, -1) if it contains a single sample.\n",
      "  warnings.warn(DEPRECATION_MSG_1D, DeprecationWarning)\n",
      "/home/mukel/Applications/anaconda3/lib/python3.5/site-packages/sklearn/utils/validation.py:420: DataConversionWarning: Data with input dtype int64 was converted to float64 by StandardScaler.\n",
      "  warnings.warn(msg, DataConversionWarning)\n",
      "/home/mukel/Applications/anaconda3/lib/python3.5/site-packages/sklearn/preprocessing/data.py:646: DeprecationWarning: Passing 1d arrays as data is deprecated in 0.17 and will raise ValueError in 0.19. Reshape your data either using X.reshape(-1, 1) if your data has a single feature or X.reshape(1, -1) if it contains a single sample.\n",
      "  warnings.warn(DEPRECATION_MSG_1D, DeprecationWarning)\n",
      "/home/mukel/Applications/anaconda3/lib/python3.5/site-packages/sklearn/preprocessing/data.py:583: DeprecationWarning: Passing 1d arrays as data is deprecated in 0.17 and will raise ValueError in 0.19. Reshape your data either using X.reshape(-1, 1) if your data has a single feature or X.reshape(1, -1) if it contains a single sample.\n",
      "  warnings.warn(DEPRECATION_MSG_1D, DeprecationWarning)\n",
      "/home/mukel/Applications/anaconda3/lib/python3.5/site-packages/sklearn/preprocessing/data.py:646: DeprecationWarning: Passing 1d arrays as data is deprecated in 0.17 and will raise ValueError in 0.19. Reshape your data either using X.reshape(-1, 1) if your data has a single feature or X.reshape(1, -1) if it contains a single sample.\n",
      "  warnings.warn(DEPRECATION_MSG_1D, DeprecationWarning)\n",
      "/home/mukel/Applications/anaconda3/lib/python3.5/site-packages/sklearn/preprocessing/data.py:583: DeprecationWarning: Passing 1d arrays as data is deprecated in 0.17 and will raise ValueError in 0.19. Reshape your data either using X.reshape(-1, 1) if your data has a single feature or X.reshape(1, -1) if it contains a single sample.\n",
      "  warnings.warn(DEPRECATION_MSG_1D, DeprecationWarning)\n",
      "/home/mukel/Applications/anaconda3/lib/python3.5/site-packages/sklearn/preprocessing/data.py:646: DeprecationWarning: Passing 1d arrays as data is deprecated in 0.17 and will raise ValueError in 0.19. Reshape your data either using X.reshape(-1, 1) if your data has a single feature or X.reshape(1, -1) if it contains a single sample.\n",
      "  warnings.warn(DEPRECATION_MSG_1D, DeprecationWarning)\n"
     ]
    }
   ],
   "source": [
    "standard_features = ['age', 'height', 'weight']\n",
    "for c in standard_features:\n",
    "    data_skin[c] = standardize_feature(data_skin[c])"
   ]
  },
  {
   "cell_type": "code",
   "execution_count": 155,
   "metadata": {
    "collapsed": false
   },
   "outputs": [
    {
     "data": {
      "text/html": [
       "<div>\n",
       "<table border=\"1\" class=\"dataframe\">\n",
       "  <thead>\n",
       "    <tr style=\"text-align: right;\">\n",
       "      <th></th>\n",
       "      <th>age</th>\n",
       "      <th>height</th>\n",
       "      <th>weight</th>\n",
       "    </tr>\n",
       "  </thead>\n",
       "  <tbody>\n",
       "    <tr>\n",
       "      <th>5</th>\n",
       "      <td>1.360303</td>\n",
       "      <td>-0.014136</td>\n",
       "      <td>-0.742143</td>\n",
       "    </tr>\n",
       "    <tr>\n",
       "      <th>6</th>\n",
       "      <td>-0.028845</td>\n",
       "      <td>0.721872</td>\n",
       "      <td>0.514662</td>\n",
       "    </tr>\n",
       "    <tr>\n",
       "      <th>7</th>\n",
       "      <td>-0.260369</td>\n",
       "      <td>-0.308539</td>\n",
       "      <td>-1.161078</td>\n",
       "    </tr>\n",
       "    <tr>\n",
       "      <th>8</th>\n",
       "      <td>0.202680</td>\n",
       "      <td>1.605081</td>\n",
       "      <td>0.514662</td>\n",
       "    </tr>\n",
       "    <tr>\n",
       "      <th>9</th>\n",
       "      <td>-0.491894</td>\n",
       "      <td>-0.308539</td>\n",
       "      <td>-0.881788</td>\n",
       "    </tr>\n",
       "  </tbody>\n",
       "</table>\n",
       "</div>"
      ],
      "text/plain": [
       "        age    height    weight\n",
       "5  1.360303 -0.014136 -0.742143\n",
       "6 -0.028845  0.721872  0.514662\n",
       "7 -0.260369 -0.308539 -1.161078\n",
       "8  0.202680  1.605081  0.514662\n",
       "9 -0.491894 -0.308539 -0.881788"
      ]
     },
     "execution_count": 155,
     "metadata": {},
     "output_type": "execute_result"
    }
   ],
   "source": [
    "data_skin[standard_features].head()"
   ]
  },
  {
   "cell_type": "markdown",
   "metadata": {},
   "source": [
    "### 0e - Preprocessing result"
   ]
  },
  {
   "cell_type": "code",
   "execution_count": 156,
   "metadata": {
    "collapsed": false
   },
   "outputs": [
    {
     "data": {
      "text/html": [
       "<div>\n",
       "<table border=\"1\" class=\"dataframe\">\n",
       "  <thead>\n",
       "    <tr style=\"text-align: right;\">\n",
       "      <th></th>\n",
       "      <th>playerShort</th>\n",
       "      <th>club</th>\n",
       "      <th>leagueCountry</th>\n",
       "      <th>height</th>\n",
       "      <th>weight</th>\n",
       "      <th>position</th>\n",
       "      <th>games</th>\n",
       "      <th>victories</th>\n",
       "      <th>ties</th>\n",
       "      <th>defeats</th>\n",
       "      <th>...</th>\n",
       "      <th>refCountry</th>\n",
       "      <th>meanIAT</th>\n",
       "      <th>nIAT</th>\n",
       "      <th>seIAT</th>\n",
       "      <th>meanExp</th>\n",
       "      <th>nExp</th>\n",
       "      <th>seExp</th>\n",
       "      <th>skin</th>\n",
       "      <th>darker_skin</th>\n",
       "      <th>age</th>\n",
       "    </tr>\n",
       "  </thead>\n",
       "  <tbody>\n",
       "    <tr>\n",
       "      <th>64682</th>\n",
       "      <td>792</td>\n",
       "      <td>51</td>\n",
       "      <td>3</td>\n",
       "      <td>0.133065</td>\n",
       "      <td>-0.602498</td>\n",
       "      <td>0</td>\n",
       "      <td>4</td>\n",
       "      <td>0</td>\n",
       "      <td>0</td>\n",
       "      <td>4</td>\n",
       "      <td>...</td>\n",
       "      <td>3</td>\n",
       "      <td>0.369894</td>\n",
       "      <td>1785.0</td>\n",
       "      <td>0.000229</td>\n",
       "      <td>0.588297</td>\n",
       "      <td>1897.0</td>\n",
       "      <td>0.001002</td>\n",
       "      <td>5</td>\n",
       "      <td>False</td>\n",
       "      <td>0.897254</td>\n",
       "    </tr>\n",
       "    <tr>\n",
       "      <th>85771</th>\n",
       "      <td>568</td>\n",
       "      <td>15</td>\n",
       "      <td>2</td>\n",
       "      <td>0.869073</td>\n",
       "      <td>1.212887</td>\n",
       "      <td>4</td>\n",
       "      <td>1</td>\n",
       "      <td>1</td>\n",
       "      <td>0</td>\n",
       "      <td>0</td>\n",
       "      <td>...</td>\n",
       "      <td>55</td>\n",
       "      <td>0.357363</td>\n",
       "      <td>367.0</td>\n",
       "      <td>0.001099</td>\n",
       "      <td>0.449468</td>\n",
       "      <td>376.0</td>\n",
       "      <td>0.004877</td>\n",
       "      <td>0</td>\n",
       "      <td>True</td>\n",
       "      <td>-1.186468</td>\n",
       "    </tr>\n",
       "    <tr>\n",
       "      <th>62228</th>\n",
       "      <td>1067</td>\n",
       "      <td>9</td>\n",
       "      <td>3</td>\n",
       "      <td>-1.927757</td>\n",
       "      <td>-1.859302</td>\n",
       "      <td>12</td>\n",
       "      <td>1</td>\n",
       "      <td>0</td>\n",
       "      <td>1</td>\n",
       "      <td>0</td>\n",
       "      <td>...</td>\n",
       "      <td>55</td>\n",
       "      <td>0.357363</td>\n",
       "      <td>367.0</td>\n",
       "      <td>0.001099</td>\n",
       "      <td>0.449468</td>\n",
       "      <td>376.0</td>\n",
       "      <td>0.004877</td>\n",
       "      <td>0</td>\n",
       "      <td>True</td>\n",
       "      <td>-1.649517</td>\n",
       "    </tr>\n",
       "    <tr>\n",
       "      <th>123562</th>\n",
       "      <td>950</td>\n",
       "      <td>16</td>\n",
       "      <td>2</td>\n",
       "      <td>-0.897346</td>\n",
       "      <td>-1.719657</td>\n",
       "      <td>0</td>\n",
       "      <td>1</td>\n",
       "      <td>1</td>\n",
       "      <td>0</td>\n",
       "      <td>0</td>\n",
       "      <td>...</td>\n",
       "      <td>31</td>\n",
       "      <td>0.368946</td>\n",
       "      <td>2411.0</td>\n",
       "      <td>0.000173</td>\n",
       "      <td>0.637172</td>\n",
       "      <td>2475.0</td>\n",
       "      <td>0.000913</td>\n",
       "      <td>2</td>\n",
       "      <td>True</td>\n",
       "      <td>-1.649517</td>\n",
       "    </tr>\n",
       "    <tr>\n",
       "      <th>142461</th>\n",
       "      <td>1475</td>\n",
       "      <td>37</td>\n",
       "      <td>2</td>\n",
       "      <td>0.574670</td>\n",
       "      <td>0.654307</td>\n",
       "      <td>5</td>\n",
       "      <td>1</td>\n",
       "      <td>0</td>\n",
       "      <td>0</td>\n",
       "      <td>1</td>\n",
       "      <td>...</td>\n",
       "      <td>8</td>\n",
       "      <td>0.336628</td>\n",
       "      <td>7749.0</td>\n",
       "      <td>0.000055</td>\n",
       "      <td>0.335967</td>\n",
       "      <td>7974.0</td>\n",
       "      <td>0.000225</td>\n",
       "      <td>2</td>\n",
       "      <td>True</td>\n",
       "      <td>-0.954943</td>\n",
       "    </tr>\n",
       "    <tr>\n",
       "      <th>121106</th>\n",
       "      <td>920</td>\n",
       "      <td>90</td>\n",
       "      <td>0</td>\n",
       "      <td>-0.014136</td>\n",
       "      <td>0.654307</td>\n",
       "      <td>2</td>\n",
       "      <td>3</td>\n",
       "      <td>2</td>\n",
       "      <td>0</td>\n",
       "      <td>1</td>\n",
       "      <td>...</td>\n",
       "      <td>64</td>\n",
       "      <td>0.352920</td>\n",
       "      <td>5952.0</td>\n",
       "      <td>0.000070</td>\n",
       "      <td>0.445679</td>\n",
       "      <td>6121.0</td>\n",
       "      <td>0.000269</td>\n",
       "      <td>7</td>\n",
       "      <td>False</td>\n",
       "      <td>0.897254</td>\n",
       "    </tr>\n",
       "    <tr>\n",
       "      <th>24364</th>\n",
       "      <td>525</td>\n",
       "      <td>6</td>\n",
       "      <td>0</td>\n",
       "      <td>-0.455741</td>\n",
       "      <td>-1.161078</td>\n",
       "      <td>12</td>\n",
       "      <td>1</td>\n",
       "      <td>1</td>\n",
       "      <td>0</td>\n",
       "      <td>0</td>\n",
       "      <td>...</td>\n",
       "      <td>3</td>\n",
       "      <td>0.369894</td>\n",
       "      <td>1785.0</td>\n",
       "      <td>0.000229</td>\n",
       "      <td>0.588297</td>\n",
       "      <td>1897.0</td>\n",
       "      <td>0.001002</td>\n",
       "      <td>6</td>\n",
       "      <td>False</td>\n",
       "      <td>-0.491894</td>\n",
       "    </tr>\n",
       "    <tr>\n",
       "      <th>31593</th>\n",
       "      <td>372</td>\n",
       "      <td>28</td>\n",
       "      <td>3</td>\n",
       "      <td>-1.044547</td>\n",
       "      <td>-1.021433</td>\n",
       "      <td>2</td>\n",
       "      <td>1</td>\n",
       "      <td>0</td>\n",
       "      <td>1</td>\n",
       "      <td>0</td>\n",
       "      <td>...</td>\n",
       "      <td>27</td>\n",
       "      <td>0.385082</td>\n",
       "      <td>537.0</td>\n",
       "      <td>0.000756</td>\n",
       "      <td>0.859431</td>\n",
       "      <td>562.0</td>\n",
       "      <td>0.003620</td>\n",
       "      <td>2</td>\n",
       "      <td>True</td>\n",
       "      <td>0.897254</td>\n",
       "    </tr>\n",
       "    <tr>\n",
       "      <th>5957</th>\n",
       "      <td>416</td>\n",
       "      <td>51</td>\n",
       "      <td>3</td>\n",
       "      <td>-1.044547</td>\n",
       "      <td>-0.742143</td>\n",
       "      <td>7</td>\n",
       "      <td>6</td>\n",
       "      <td>3</td>\n",
       "      <td>2</td>\n",
       "      <td>1</td>\n",
       "      <td>...</td>\n",
       "      <td>3</td>\n",
       "      <td>0.369894</td>\n",
       "      <td>1785.0</td>\n",
       "      <td>0.000229</td>\n",
       "      <td>0.588297</td>\n",
       "      <td>1897.0</td>\n",
       "      <td>0.001002</td>\n",
       "      <td>2</td>\n",
       "      <td>True</td>\n",
       "      <td>1.128779</td>\n",
       "    </tr>\n",
       "    <tr>\n",
       "      <th>4717</th>\n",
       "      <td>982</td>\n",
       "      <td>58</td>\n",
       "      <td>1</td>\n",
       "      <td>0.869073</td>\n",
       "      <td>-0.043918</td>\n",
       "      <td>4</td>\n",
       "      <td>5</td>\n",
       "      <td>2</td>\n",
       "      <td>2</td>\n",
       "      <td>1</td>\n",
       "      <td>...</td>\n",
       "      <td>7</td>\n",
       "      <td>0.334684</td>\n",
       "      <td>2882.0</td>\n",
       "      <td>0.000151</td>\n",
       "      <td>0.336101</td>\n",
       "      <td>3011.0</td>\n",
       "      <td>0.000586</td>\n",
       "      <td>1</td>\n",
       "      <td>True</td>\n",
       "      <td>0.665729</td>\n",
       "    </tr>\n",
       "  </tbody>\n",
       "</table>\n",
       "<p>10 rows × 25 columns</p>\n",
       "</div>"
      ],
      "text/plain": [
       "        playerShort  club  leagueCountry    height    weight  position  games  \\\n",
       "64682           792    51              3  0.133065 -0.602498         0      4   \n",
       "85771           568    15              2  0.869073  1.212887         4      1   \n",
       "62228          1067     9              3 -1.927757 -1.859302        12      1   \n",
       "123562          950    16              2 -0.897346 -1.719657         0      1   \n",
       "142461         1475    37              2  0.574670  0.654307         5      1   \n",
       "121106          920    90              0 -0.014136  0.654307         2      3   \n",
       "24364           525     6              0 -0.455741 -1.161078        12      1   \n",
       "31593           372    28              3 -1.044547 -1.021433         2      1   \n",
       "5957            416    51              3 -1.044547 -0.742143         7      6   \n",
       "4717            982    58              1  0.869073 -0.043918         4      5   \n",
       "\n",
       "        victories  ties  defeats    ...     refCountry   meanIAT    nIAT  \\\n",
       "64682           0     0        4    ...              3  0.369894  1785.0   \n",
       "85771           1     0        0    ...             55  0.357363   367.0   \n",
       "62228           0     1        0    ...             55  0.357363   367.0   \n",
       "123562          1     0        0    ...             31  0.368946  2411.0   \n",
       "142461          0     0        1    ...              8  0.336628  7749.0   \n",
       "121106          2     0        1    ...             64  0.352920  5952.0   \n",
       "24364           1     0        0    ...              3  0.369894  1785.0   \n",
       "31593           0     1        0    ...             27  0.385082   537.0   \n",
       "5957            3     2        1    ...              3  0.369894  1785.0   \n",
       "4717            2     2        1    ...              7  0.334684  2882.0   \n",
       "\n",
       "           seIAT   meanExp    nExp     seExp  skin  darker_skin       age  \n",
       "64682   0.000229  0.588297  1897.0  0.001002     5        False  0.897254  \n",
       "85771   0.001099  0.449468   376.0  0.004877     0         True -1.186468  \n",
       "62228   0.001099  0.449468   376.0  0.004877     0         True -1.649517  \n",
       "123562  0.000173  0.637172  2475.0  0.000913     2         True -1.649517  \n",
       "142461  0.000055  0.335967  7974.0  0.000225     2         True -0.954943  \n",
       "121106  0.000070  0.445679  6121.0  0.000269     7        False  0.897254  \n",
       "24364   0.000229  0.588297  1897.0  0.001002     6        False -0.491894  \n",
       "31593   0.000756  0.859431   562.0  0.003620     2         True  0.897254  \n",
       "5957    0.000229  0.588297  1897.0  0.001002     2         True  1.128779  \n",
       "4717    0.000151  0.336101  3011.0  0.000586     1         True  0.665729  \n",
       "\n",
       "[10 rows x 25 columns]"
      ]
     },
     "execution_count": 156,
     "metadata": {},
     "output_type": "execute_result"
    }
   ],
   "source": [
    "data_skin.sample(10)"
   ]
  },
  {
   "cell_type": "markdown",
   "metadata": {},
   "source": [
    "## Part 1 - Skin color classifier"
   ]
  },
  {
   "cell_type": "markdown",
   "metadata": {},
   "source": [
    "### 1a- Features and target"
   ]
  },
  {
   "cell_type": "markdown",
   "metadata": {},
   "source": [
    "We take care to drop the player's name, as it could introduce bias."
   ]
  },
  {
   "cell_type": "code",
   "execution_count": 157,
   "metadata": {
    "collapsed": true
   },
   "outputs": [],
   "source": [
    "from sklearn import cross_validation, metrics\n",
    "from sklearn.ensemble import RandomForestClassifier\n",
    "from sklearn.metrics import accuracy_score"
   ]
  },
  {
   "cell_type": "code",
   "execution_count": 158,
   "metadata": {
    "collapsed": false
   },
   "outputs": [
    {
     "data": {
      "text/html": [
       "<div>\n",
       "<table border=\"1\" class=\"dataframe\">\n",
       "  <thead>\n",
       "    <tr style=\"text-align: right;\">\n",
       "      <th></th>\n",
       "      <th>club</th>\n",
       "      <th>leagueCountry</th>\n",
       "      <th>height</th>\n",
       "      <th>weight</th>\n",
       "      <th>position</th>\n",
       "      <th>goals</th>\n",
       "      <th>age</th>\n",
       "      <th>darker_skin</th>\n",
       "    </tr>\n",
       "    <tr>\n",
       "      <th>playerShort</th>\n",
       "      <th></th>\n",
       "      <th></th>\n",
       "      <th></th>\n",
       "      <th></th>\n",
       "      <th></th>\n",
       "      <th></th>\n",
       "      <th></th>\n",
       "      <th></th>\n",
       "    </tr>\n",
       "  </thead>\n",
       "  <tbody>\n",
       "    <tr>\n",
       "      <th>279</th>\n",
       "      <td>8.0</td>\n",
       "      <td>0.0</td>\n",
       "      <td>1.163476</td>\n",
       "      <td>0.933597</td>\n",
       "      <td>2.0</td>\n",
       "      <td>1.108108</td>\n",
       "      <td>-1.186468</td>\n",
       "      <td>False</td>\n",
       "    </tr>\n",
       "    <tr>\n",
       "      <th>94</th>\n",
       "      <td>57.0</td>\n",
       "      <td>1.0</td>\n",
       "      <td>0.574670</td>\n",
       "      <td>1.073242</td>\n",
       "      <td>2.0</td>\n",
       "      <td>1.262500</td>\n",
       "      <td>-0.028845</td>\n",
       "      <td>True</td>\n",
       "    </tr>\n",
       "    <tr>\n",
       "      <th>1405</th>\n",
       "      <td>33.0</td>\n",
       "      <td>0.0</td>\n",
       "      <td>-0.161338</td>\n",
       "      <td>0.095727</td>\n",
       "      <td>10.0</td>\n",
       "      <td>0.017699</td>\n",
       "      <td>0.434205</td>\n",
       "      <td>True</td>\n",
       "    </tr>\n",
       "    <tr>\n",
       "      <th>616</th>\n",
       "      <td>1.0</td>\n",
       "      <td>2.0</td>\n",
       "      <td>0.574670</td>\n",
       "      <td>0.793952</td>\n",
       "      <td>2.0</td>\n",
       "      <td>1.112903</td>\n",
       "      <td>1.128779</td>\n",
       "      <td>True</td>\n",
       "    </tr>\n",
       "    <tr>\n",
       "      <th>1322</th>\n",
       "      <td>44.0</td>\n",
       "      <td>0.0</td>\n",
       "      <td>2.046686</td>\n",
       "      <td>1.212887</td>\n",
       "      <td>1.0</td>\n",
       "      <td>0.083333</td>\n",
       "      <td>-1.186468</td>\n",
       "      <td>True</td>\n",
       "    </tr>\n",
       "    <tr>\n",
       "      <th>635</th>\n",
       "      <td>47.0</td>\n",
       "      <td>0.0</td>\n",
       "      <td>-1.780555</td>\n",
       "      <td>-1.300723</td>\n",
       "      <td>11.0</td>\n",
       "      <td>0.466102</td>\n",
       "      <td>-0.260369</td>\n",
       "      <td>True</td>\n",
       "    </tr>\n",
       "    <tr>\n",
       "      <th>229</th>\n",
       "      <td>33.0</td>\n",
       "      <td>0.0</td>\n",
       "      <td>0.574670</td>\n",
       "      <td>-0.881788</td>\n",
       "      <td>12.0</td>\n",
       "      <td>0.821782</td>\n",
       "      <td>-0.028845</td>\n",
       "      <td>True</td>\n",
       "    </tr>\n",
       "    <tr>\n",
       "      <th>218</th>\n",
       "      <td>15.0</td>\n",
       "      <td>2.0</td>\n",
       "      <td>0.427468</td>\n",
       "      <td>-0.323208</td>\n",
       "      <td>9.0</td>\n",
       "      <td>0.187500</td>\n",
       "      <td>-1.881042</td>\n",
       "      <td>True</td>\n",
       "    </tr>\n",
       "    <tr>\n",
       "      <th>400</th>\n",
       "      <td>58.0</td>\n",
       "      <td>1.0</td>\n",
       "      <td>0.869073</td>\n",
       "      <td>1.631822</td>\n",
       "      <td>1.0</td>\n",
       "      <td>0.201493</td>\n",
       "      <td>1.128779</td>\n",
       "      <td>True</td>\n",
       "    </tr>\n",
       "    <tr>\n",
       "      <th>974</th>\n",
       "      <td>2.0</td>\n",
       "      <td>2.0</td>\n",
       "      <td>0.427468</td>\n",
       "      <td>-0.183563</td>\n",
       "      <td>1.0</td>\n",
       "      <td>0.109375</td>\n",
       "      <td>-0.028845</td>\n",
       "      <td>True</td>\n",
       "    </tr>\n",
       "  </tbody>\n",
       "</table>\n",
       "</div>"
      ],
      "text/plain": [
       "             club  leagueCountry    height    weight  position     goals  \\\n",
       "playerShort                                                                \n",
       "279           8.0            0.0  1.163476  0.933597       2.0  1.108108   \n",
       "94           57.0            1.0  0.574670  1.073242       2.0  1.262500   \n",
       "1405         33.0            0.0 -0.161338  0.095727      10.0  0.017699   \n",
       "616           1.0            2.0  0.574670  0.793952       2.0  1.112903   \n",
       "1322         44.0            0.0  2.046686  1.212887       1.0  0.083333   \n",
       "635          47.0            0.0 -1.780555 -1.300723      11.0  0.466102   \n",
       "229          33.0            0.0  0.574670 -0.881788      12.0  0.821782   \n",
       "218          15.0            2.0  0.427468 -0.323208       9.0  0.187500   \n",
       "400          58.0            1.0  0.869073  1.631822       1.0  0.201493   \n",
       "974           2.0            2.0  0.427468 -0.183563       1.0  0.109375   \n",
       "\n",
       "                  age darker_skin  \n",
       "playerShort                        \n",
       "279         -1.186468       False  \n",
       "94          -0.028845        True  \n",
       "1405         0.434205        True  \n",
       "616          1.128779        True  \n",
       "1322        -1.186468        True  \n",
       "635         -0.260369        True  \n",
       "229         -0.028845        True  \n",
       "218         -1.881042        True  \n",
       "400          1.128779        True  \n",
       "974         -0.028845        True  "
      ]
     },
     "execution_count": 158,
     "metadata": {},
     "output_type": "execute_result"
    }
   ],
   "source": [
    "observations = data_skin.groupby(['playerShort']).mean()\n",
    "\n",
    "player_features = ['club', 'leagueCountry', 'height', 'weight', 'position', 'goals', 'age', 'darker_skin']\n",
    "\n",
    "observations = observations[player_features]\n",
    "observations.sample(10)"
   ]
  },
  {
   "cell_type": "markdown",
   "metadata": {},
   "source": [
    "Since we want to predict the binary skin label (`darker_skin`), we need to drop it in the features matrix, and isolate it as a vector."
   ]
  },
  {
   "cell_type": "code",
   "execution_count": 159,
   "metadata": {
    "collapsed": false
   },
   "outputs": [
    {
     "data": {
      "text/plain": [
       "array([1, 1, 1, ..., 0, 1, 1])"
      ]
     },
     "execution_count": 159,
     "metadata": {},
     "output_type": "execute_result"
    }
   ],
   "source": [
    "target = 1 * np.array(observations.darker_skin)\n",
    "observations = observations.drop('darker_skin', axis=1)\n",
    "target"
   ]
  },
  {
   "cell_type": "markdown",
   "metadata": {},
   "source": [
    "### 1b - Constructing and assessing a model"
   ]
  },
  {
   "cell_type": "markdown",
   "metadata": {},
   "source": [
    "#### Number of estimators"
   ]
  },
  {
   "cell_type": "markdown",
   "metadata": {},
   "source": [
    "We will test the accuracy for an increasing number of trees in the forest.<br>\n",
    "We perform a 5-fold cross-validation."
   ]
  },
  {
   "cell_type": "code",
   "execution_count": 160,
   "metadata": {
    "collapsed": false
   },
   "outputs": [
    {
     "name": "stdout",
     "output_type": "stream",
     "text": [
      "[ 0.7498296   0.79530185  0.81322623  0.82730445  0.83309802  0.83820188]\n"
     ]
    },
    {
     "data": {
      "text/plain": [
       "<matplotlib.collections.PolyCollection at 0x7f52e2672438>"
      ]
     },
     "execution_count": 160,
     "metadata": {},
     "output_type": "execute_result"
    },
    {
     "data": {
      "image/png": "[encoded data removed]",
      "text/plain": [
       "<matplotlib.figure.Figure at 0x7f52e26725c0>"
      ]
     },
     "metadata": {},
     "output_type": "display_data"
    }
   ],
   "source": [
    "n_estim = [1, 5, 10, 20, 50, 100]\n",
    "\n",
    "pl.title(\"Learning curve (#estimators)\")\n",
    "pl.xlabel('#estimators')\n",
    "pl.ylabel('Accuracy')\n",
    "\n",
    "means = []\n",
    "stds = []\n",
    "for n in n_estim:\n",
    "    model = RandomForestClassifier(n_estimators=n)\n",
    "    scores = cross_validation.cross_val_score(model, observations, target, cv=20, n_jobs=-1)\n",
    "    means.append(scores.mean())\n",
    "    stds.append(scores.std())\n",
    "    #print('Finished forest with', str(n), 'trees.')        \n",
    "stds = np.array(stds)\n",
    "means = np.array(means)\n",
    "print(means)\n",
    "pl.plot(n_estim, means, marker='.')\n",
    "pl.fill_between(n_estim, means - stds, means + stds, alpha=.2)"
   ]
  },
  {
   "cell_type": "markdown",
   "metadata": {},
   "source": [
    "In this case, n = 50 gives an accuracy of 82.9% for binary (dark/light) skin color prediction. n = 100 yields a 83.1% accuracy.<br>\n",
    "We will keep 50 as our value for n."
   ]
  },
  {
   "cell_type": "markdown",
   "metadata": {},
   "source": [
    "#### Max features"
   ]
  },
  {
   "cell_type": "markdown",
   "metadata": {},
   "source": [
    "We can also tune the maximum number of features we allow the classifier to use.<br>\n",
    "The default number is `sqrt(n)` where `n` is the total number of features.<br>\n",
    "In our case, n = 22, so the classifier uses 5 features at each split.<br><br>\n",
    "\n",
    "The accuracy with 5 features is 76%/83%, so we consider this satisfying.<br>\n",
    "If we increase this number, the quality of the model will improve but the time used to compute it will increase as well."
   ]
  },
  {
   "cell_type": "markdown",
   "metadata": {},
   "source": [
    "#### Feature importances"
   ]
  },
  {
   "cell_type": "markdown",
   "metadata": {},
   "source": [
    "We are looking to assess the importance of each feature in the classification."
   ]
  },
  {
   "cell_type": "code",
   "execution_count": 161,
   "metadata": {
    "collapsed": true
   },
   "outputs": [],
   "source": [
    "forest = RandomForestClassifier(n_estimators=50).fit(observations, target)"
   ]
  },
  {
   "cell_type": "markdown",
   "metadata": {},
   "source": [
    "The following code is adapted from the [scikit-learn documentation](http://scikit-learn.org/stable/auto_examples/ensemble/plot_forest_importances.html)."
   ]
  },
  {
   "cell_type": "code",
   "execution_count": 162,
   "metadata": {
    "collapsed": false
   },
   "outputs": [
    {
     "name": "stdout",
     "output_type": "stream",
     "text": [
      "Feature ranking:\n",
      "1. goals (0.209394)\n",
      "2. club (0.163916)\n",
      "3. weight (0.145676)\n",
      "4. height (0.141818)\n",
      "5. age (0.136312)\n",
      "6. leagueCountry (0.101882)\n",
      "7. position (0.101002)\n"
     ]
    },
    {
     "data": {
      "image/png": "[encoded data removed]",
      "text/plain": [
       "<matplotlib.figure.Figure at 0x7f52e26ef2b0>"
      ]
     },
     "metadata": {},
     "output_type": "display_data"
    }
   ],
   "source": [
    "importances = forest.feature_importances_\n",
    "importances_std = std = np.std([tree.feature_importances_ for tree in forest.estimators_], axis=0)\n",
    "indices = np.argsort(importances)[::-1]\n",
    "features = observations.columns\n",
    "\n",
    "# Print the feature ranking\n",
    "print(\"Feature ranking:\")\n",
    "\n",
    "for f in range(observations.shape[1]):\n",
    "    print(\"%d. %s (%f)\" % (f + 1, features[indices[f]], importances[indices[f]]))\n",
    "\n",
    "# Plot the feature importances of the forest\n",
    "pl.figure()\n",
    "pl.title(\"Feature importances\")\n",
    "pl.bar(range(observations.shape[1]), importances[indices],\n",
    "       color=\"r\", yerr=std[indices], align=\"center\")\n",
    "pl.xticks(range(observations.shape[1]), [features[i] for i in indices], rotation=90)\n",
    "pl.xlim([-1, observations.shape[1]])\n",
    "pl.show()"
   ]
  },
  {
   "cell_type": "markdown",
   "metadata": {},
   "source": [
    "It seems that the features that add the most information in the classification are `goals`, `club`, `weight`, `height`, `age`, `leagueCountry` and `position` in that order."
   ]
  },
  {
   "cell_type": "markdown",
   "metadata": {},
   "source": [
    "## Part 2 - Clustering"
   ]
  },
  {
   "cell_type": "markdown",
   "metadata": {},
   "source": [
    "Aggregate referee-related data. 'refNum' and 'refCountry' are categorical, thus excluded. The player 'skin' color is also preserved."
   ]
  },
  {
   "cell_type": "code",
   "execution_count": 163,
   "metadata": {
    "collapsed": false
   },
   "outputs": [
    {
     "data": {
      "text/html": [
       "<div>\n",
       "<table border=\"1\" class=\"dataframe\">\n",
       "  <thead>\n",
       "    <tr style=\"text-align: right;\">\n",
       "      <th></th>\n",
       "      <th>skin</th>\n",
       "      <th>meanIAT</th>\n",
       "      <th>nIAT</th>\n",
       "      <th>meanExp</th>\n",
       "      <th>nExp</th>\n",
       "      <th>seIAT</th>\n",
       "      <th>seExp</th>\n",
       "    </tr>\n",
       "    <tr>\n",
       "      <th>playerShort</th>\n",
       "      <th></th>\n",
       "      <th></th>\n",
       "      <th></th>\n",
       "      <th></th>\n",
       "      <th></th>\n",
       "      <th></th>\n",
       "      <th></th>\n",
       "    </tr>\n",
       "  </thead>\n",
       "  <tbody>\n",
       "    <tr>\n",
       "      <th>0</th>\n",
       "      <td>1</td>\n",
       "      <td>0.344759</td>\n",
       "      <td>20088.589744</td>\n",
       "      <td>0.487879</td>\n",
       "      <td>21033.250000</td>\n",
       "      <td>0.000333</td>\n",
       "      <td>0.001553</td>\n",
       "    </tr>\n",
       "    <tr>\n",
       "      <th>1</th>\n",
       "      <td>1</td>\n",
       "      <td>0.349332</td>\n",
       "      <td>26877.147368</td>\n",
       "      <td>0.453989</td>\n",
       "      <td>27659.842105</td>\n",
       "      <td>0.000226</td>\n",
       "      <td>0.001025</td>\n",
       "    </tr>\n",
       "    <tr>\n",
       "      <th>2</th>\n",
       "      <td>2</td>\n",
       "      <td>0.345893</td>\n",
       "      <td>21234.861386</td>\n",
       "      <td>0.491482</td>\n",
       "      <td>22238.742574</td>\n",
       "      <td>0.000367</td>\n",
       "      <td>0.002032</td>\n",
       "    </tr>\n",
       "    <tr>\n",
       "      <th>3</th>\n",
       "      <td>0</td>\n",
       "      <td>0.346790</td>\n",
       "      <td>40568.571429</td>\n",
       "      <td>0.511650</td>\n",
       "      <td>42088.153061</td>\n",
       "      <td>0.000525</td>\n",
       "      <td>0.002938</td>\n",
       "    </tr>\n",
       "    <tr>\n",
       "      <th>4</th>\n",
       "      <td>2</td>\n",
       "      <td>0.331600</td>\n",
       "      <td>2832.351351</td>\n",
       "      <td>0.335587</td>\n",
       "      <td>2953.837838</td>\n",
       "      <td>0.001488</td>\n",
       "      <td>0.005296</td>\n",
       "    </tr>\n",
       "  </tbody>\n",
       "</table>\n",
       "</div>"
      ],
      "text/plain": [
       "             skin   meanIAT          nIAT   meanExp          nExp     seIAT  \\\n",
       "playerShort                                                                   \n",
       "0               1  0.344759  20088.589744  0.487879  21033.250000  0.000333   \n",
       "1               1  0.349332  26877.147368  0.453989  27659.842105  0.000226   \n",
       "2               2  0.345893  21234.861386  0.491482  22238.742574  0.000367   \n",
       "3               0  0.346790  40568.571429  0.511650  42088.153061  0.000525   \n",
       "4               2  0.331600   2832.351351  0.335587   2953.837838  0.001488   \n",
       "\n",
       "                seExp  \n",
       "playerShort            \n",
       "0            0.001553  \n",
       "1            0.001025  \n",
       "2            0.002032  \n",
       "3            0.002938  \n",
       "4            0.005296  "
      ]
     },
     "execution_count": 163,
     "metadata": {},
     "output_type": "execute_result"
    }
   ],
   "source": [
    "\n",
    "referee_data = ['meanIAT', 'nIAT', 'meanExp', 'nExp', 'seIAT', 'seExp']\n",
    "X = data_skin.groupby(['playerShort'])[['skin'] + referee_data].mean()\n",
    "X.head()"
   ]
  },
  {
   "cell_type": "code",
   "execution_count": 164,
   "metadata": {
    "collapsed": true
   },
   "outputs": [],
   "source": [
    "from sklearn.cluster import KMeans\n",
    "from sklearn.metrics import silhouette_samples, silhouette_score"
   ]
  },
  {
   "cell_type": "markdown",
   "metadata": {},
   "source": [
    "Given a classification/clustering computes the correlation with the skin color."
   ]
  },
  {
   "cell_type": "code",
   "execution_count": 165,
   "metadata": {
    "collapsed": false
   },
   "outputs": [],
   "source": [
    "def skin_color_score(X, cluster_labels):\n",
    "    \"\"\"\n",
    "    Computes the how related is the clusters to the skin colors (light/dark).\n",
    "    Neutral skin colors are not taken into account.\n",
    "    \"\"\"\n",
    "    skin = X.skin\n",
    "    W = skin[cluster_labels == 0]\n",
    "    B = skin[cluster_labels == 1]\n",
    "    white_count = (skin < 4).sum()\n",
    "    black_count = (skin > 4).sum()\n",
    "    return ((W < 4).sum() / white_count + (B > 4).sum() / black_count) / 2"
   ]
  },
  {
   "cell_type": "code",
   "execution_count": 166,
   "metadata": {
    "collapsed": true
   },
   "outputs": [],
   "source": [
    "def skin_color_correlation(X, cluster_labels):\n",
    "    # Our clustering algorithm doesn't distinguish between dark or light.\n",
    "    # So we have to test both assignments.\n",
    "    return max(skin_color_score(X, cluster_labels), skin_color_score(X, 1 - cluster_labels))\n",
    "\n",
    "def compute_scores(X, columns):\n",
    "    \"\"\"Computes the clustering score for a given subset of columns.\"\"\"\n",
    "    clusterer = KMeans(n_clusters=2, random_state=10)\n",
    "    cluster_labels = clusterer.fit_predict(X[columns])\n",
    "    # The silhouette_score gives the average value for all the samples.\n",
    "    # This gives a perspective into the density and separation of the formed\n",
    "    # clusters\n",
    "    silhouette_avg = silhouette_score(X[columns], cluster_labels)\n",
    "    return silhouette_avg, skin_color_correlation(X, cluster_labels)"
   ]
  },
  {
   "cell_type": "code",
   "execution_count": 167,
   "metadata": {
    "collapsed": false
   },
   "outputs": [],
   "source": [
    "single_scores = [(f,) + compute_scores(X, [f]) for f in X.columns]"
   ]
  },
  {
   "cell_type": "code",
   "execution_count": 168,
   "metadata": {
    "collapsed": false
   },
   "outputs": [
    {
     "data": {
      "text/plain": [
       "[('skin', 0.71690625032040844, 1.0),\n",
       " ('meanExp', 0.61240355191635953, 0.63467295567213744),\n",
       " ('meanIAT', 0.62021620047149217, 0.62626782820747307),\n",
       " ('seExp', 0.81972763781885194, 0.60943671688245016),\n",
       " ('seIAT', 0.84345221190641562, 0.60457236367136735),\n",
       " ('nIAT', 0.8170322619542516, 0.51480643660457881),\n",
       " ('nExp', 0.72970184326197363, 0.51446631692095424)]"
      ]
     },
     "execution_count": 168,
     "metadata": {},
     "output_type": "execute_result"
    }
   ],
   "source": [
    "sorted(single_scores, key=lambda tup: tup[2], reverse=True)"
   ]
  },
  {
   "cell_type": "markdown",
   "metadata": {},
   "source": [
    "We discard `nIAT` and `nExp` since their clustering scores are unrelated to skin color (random).\n",
    "\n",
    "Instead of removing one by one, we can just test all possible combinations.\n",
    "There are only 15 non-empty possibilities."
   ]
  },
  {
   "cell_type": "code",
   "execution_count": 169,
   "metadata": {
    "collapsed": false
   },
   "outputs": [
    {
     "name": "stdout",
     "output_type": "stream",
     "text": [
      "('meanExp',) (0.61240355191635953, 0.63467295567213744)\n",
      "('meanIAT',) (0.62021620047149217, 0.62626782820747307)\n",
      "('seExp',) (0.81972763781885194, 0.60943671688245016)\n",
      "('seIAT',) (0.84345221190641562, 0.60457236367136735)\n",
      "('meanExp', 'meanIAT') (0.60860572605256169, 0.63277181498772683)\n",
      "('meanExp', 'seExp') (0.61089743059442281, 0.63467295567213744)\n",
      "('meanExp', 'seIAT') (0.6123140095290488, 0.63467295567213744)\n",
      "('meanIAT', 'seExp') (0.58987078151968442, 0.62626782820747307)\n",
      "('meanIAT', 'seIAT') (0.61769309768487302, 0.62626782820747307)\n",
      "('seExp', 'seIAT') (0.81982033914901453, 0.60943671688245016)\n",
      "('meanExp', 'meanIAT', 'seExp') (0.60734951648637936, 0.63277181498772683)\n",
      "('meanExp', 'meanIAT', 'seIAT') (0.60854522538935818, 0.63277181498772683)\n",
      "('meanExp', 'seExp', 'seIAT') (0.61089228367114878, 0.63467295567213744)\n",
      "('meanIAT', 'seExp', 'seIAT') (0.58904495359858589, 0.62626782820747307)\n",
      "('meanExp', 'meanIAT', 'seExp', 'seIAT') (0.60730472544843217, 0.63277181498772683)\n"
     ]
    }
   ],
   "source": [
    "import itertools\n",
    "best_features = ['meanExp', 'meanIAT', 'seExp', 'seIAT']\n",
    "\n",
    "def all_subsets(elems):\n",
    "    for L in range(1, len(elems)+1):\n",
    "        for subset in itertools.combinations(elems, L):\n",
    "            yield subset\n",
    "\n",
    "for x in all_subsets(best_features):\n",
    "        print(x, compute_scores(X, list(x)))"
   ]
  },
  {
   "cell_type": "markdown",
   "metadata": {
    "collapsed": false
   },
   "source": [
    "So, by just keeping `meanExp` we obtain a 63% accuracy on the prediction, while having a 0.61 silhouette score."
   ]
  },
  {
   "cell_type": "code",
   "execution_count": null,
   "metadata": {
    "collapsed": true
   },
   "outputs": [],
   "source": []
  }
 ],
 "metadata": {
  "anaconda-cloud": {},
  "kernelspec": {
   "display_name": "Python [conda root]",
   "language": "python",
   "name": "conda-root-py"
  },
  "language_info": {
   "codemirror_mode": {
    "name": "ipython",
    "version": 3
   },
   "file_extension": ".py",
   "mimetype": "text/x-python",
   "name": "python",
   "nbconvert_exporter": "python",
   "pygments_lexer": "ipython3",
   "version": "3.5.2"
  }
 },
 "nbformat": 4,
 "nbformat_minor": 1
}
