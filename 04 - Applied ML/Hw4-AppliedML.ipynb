{
 "cells": [
  {
   "cell_type": "markdown",
   "metadata": {},
   "source": [
    "# ADA / Applied Data Analysis\n",
    "<h2 style=\"color:#a8a8a8\">Homework 4 - Applied Machine Learning<br>\n",
    "Aimée Montero, Alfonso Peterssen, Cyriaque Brousse</h2>"
   ]
  },
  {
   "cell_type": "markdown",
   "metadata": {
    "collapsed": true
   },
   "source": [
    "## Assignment description\n",
    "In this homework we will gain experience on Applied Machine Learning, exploring an interesting dataset about soccer players and referees.\n",
    "Given that the focus of this homework is Machine Learning, I recommend you to first take a look at [this notebook](http://nbviewer.jupyter.org/github/mathewzilla/redcard/blob/master/Crowdstorming_visualisation.ipynb)\n",
    "containing a solid work in pre-processing + visualization of the given dataset. You are *not* allowed to just copy/paste the pre-processing steps\n",
    "performed by the notebook authors -- you are still supposed to perform your own data analysis for the homework. Still, I'm confident that consulting first\n",
    "the work done by expert data analysts will speed up tangibly your effort (i.e., they have already found for you many glitches in the data :)\n",
    "\n",
    "\n",
    "### Assignment\n",
    "1. Train a `sklearn.ensemble.RandomForestClassifier` that given a soccer player description outputs his skin color. Show how different parameters \n",
    "passed to the Classifier affect the overfitting issue. Perform cross-validation to mitigate the overfitting of your model. Once you assessed your model,\n",
    "inspect the `feature_importances_` attribute and discuss the obtained results. With different assumptions on the data (e.g., dropping certain features even\n",
    "before feeding them to the classifier), can you obtain a substantially different `feature_importances_` attribute?\n",
    "\n",
    "  *BONUS*: plot the learning curves against at least 2 different sets of parameters passed to your Random Forest. To obtain smooth curves, partition\n",
    "your data in at least 20 folds. Can you find a set of parameters that leads to high bias, and one which does not?\n",
    "\n",
    "2. Aggregate the referee information grouping by soccer player, and use an unsupervised learning technique to cluster the soccer players in 2 disjoint\n",
    "clusters. Remove features iteratively, and at each step perform again the clustering and compute the silhouette score -- can you find a configuration of features with high silhouette\n",
    "score where players with dark and light skin colors belong to different clusters? Discuss the obtained results."
   ]
  },
  {
   "cell_type": "markdown",
   "metadata": {},
   "source": [
    "## Data description\n",
    "\n",
    "From a company for sports statistics, we obtained data and profile photos from all soccer players (N = 2053) playing in the first male divisions of England, Germany, France and Spain in the 2012-2013 season and all referees (N = 3147) that these players played under in their professional career. We created a dataset of player–referee dyads including the number of matches players and referees encountered each other and our dependent variable, the number of red cards given to a player by a particular referee throughout all matches the two encountered each other.\n",
    " \n",
    "Player photos were available from the source for 1586 out of 2053 players. Players’ skin tone was coded by two independent raters blind to the research question who, based on their profile photo, categorized players on a 5-point scale ranging from “very light skin” to “very dark skin” with “neither dark nor light skin” as the center value. \n",
    "\n",
    "Additionally, implicit bias scores for each referee country were calculated using a race implicit association test (IAT), with higher values corresponding to faster white | good, black | bad associations. Explicit bias scores for each referee country were calculated using a racial thermometer task, with higher values corresponding to greater feelings of warmth toward whites versus blacks. Both these measures were created by aggregating data from many online users in referee countries taking these tests on [Project Implicit](http://projectimplicit.net).\n",
    "\n",
    "In all, the dataset has a total of 146028 dyads of players and referees. A detailed description of all variables in the dataset can be seen in the list below.\n",
    "\n",
    "### Variables:\n",
    "\n",
    "- *playerShort* - short player ID\n",
    "- *player* - player name\n",
    "- *club* - player club\n",
    "- *leagueCountry* - country of player club (England, Germany, France, and Spain)\n",
    "- *birthday* - player birthday\n",
    "- *height* - player height (in cm)\n",
    "- *weight* - player weight (in kg)\n",
    "- *position* - detailed player position\n",
    "- *games* - number of games in the player-referee dyad\n",
    "- *victories* - victories in the player-referee dyad\n",
    "- *ties* - ties in the player-referee dyad\n",
    "- *defeats* - losses in the player-referee dyad\n",
    "- *goals* - goals scored by a player in the player-referee dyad\n",
    "- *yellowCards* - number of yellow cards player received from referee\n",
    "- *yellowReds* - number of yellow-red cards player received from referee\n",
    "- *redCards* - number of red cards player received from referee\n",
    "- *photoID* - ID of player photo (if available)\n",
    "- *rater1* - skin rating of photo by rater 1 (5-point scale ranging from “very light skin” to “very dark skin”)\n",
    "- *rater2* - skin rating of photo by rater 2 (5-point scale ranging from “very light skin” to “very dark skin”)\n",
    "- *refNum* - unique referee ID number (referee name removed for anonymizing purposes)\n",
    "- *refCountry* - unique referee country ID number (country name removed for anonymizing purposes)\n",
    "- *meanIAT* - mean implicit bias score (using the race IAT) for referee country, higher values correspond to faster white | good, black | bad associations\n",
    "- *nIAT* - sample size for race IAT in that particular country\n",
    "- *seIAT* - standard error for mean estimate of race IAT\n",
    "- *meanExp* - mean explicit bias score (using a racial thermometer task) for referee country, higher values correspond to greater feelings of warmth toward whites versus blacks\n",
    "- *nExp* - sample size for explicit bias in that particular country\n",
    "- *seExp* - standard error for mean estimate of explicit bias measure"
   ]
  },
  {
   "cell_type": "markdown",
   "metadata": {},
   "source": [
    "## Part 1 - Familiarizing ourselves with the data"
   ]
  },
  {
   "cell_type": "markdown",
   "metadata": {},
   "source": [
    "Let's import the required libraries:"
   ]
  },
  {
   "cell_type": "code",
   "execution_count": 2,
   "metadata": {
    "collapsed": true
   },
   "outputs": [],
   "source": [
    "import numpy as np\n",
    "import pandas as pd\n",
    "import matplotlib.pyplot as pl\n",
    "%matplotlib inline"
   ]
  },
  {
   "cell_type": "markdown",
   "metadata": {},
   "source": [
    "### Importing and cleaning the data"
   ]
  },
  {
   "cell_type": "markdown",
   "metadata": {},
   "source": [
    "And import the data from the CSV source:"
   ]
  },
  {
   "cell_type": "code",
   "execution_count": 17,
   "metadata": {
    "collapsed": false
   },
   "outputs": [
    {
     "data": {
      "text/html": [
       "<div>\n",
       "<table border=\"1\" class=\"dataframe\">\n",
       "  <thead>\n",
       "    <tr style=\"text-align: right;\">\n",
       "      <th></th>\n",
       "      <th>playerShort</th>\n",
       "      <th>player</th>\n",
       "      <th>club</th>\n",
       "      <th>leagueCountry</th>\n",
       "      <th>birthday</th>\n",
       "      <th>height</th>\n",
       "      <th>weight</th>\n",
       "      <th>position</th>\n",
       "      <th>games</th>\n",
       "      <th>victories</th>\n",
       "      <th>...</th>\n",
       "      <th>rater2</th>\n",
       "      <th>refNum</th>\n",
       "      <th>refCountry</th>\n",
       "      <th>Alpha_3</th>\n",
       "      <th>meanIAT</th>\n",
       "      <th>nIAT</th>\n",
       "      <th>seIAT</th>\n",
       "      <th>meanExp</th>\n",
       "      <th>nExp</th>\n",
       "      <th>seExp</th>\n",
       "    </tr>\n",
       "  </thead>\n",
       "  <tbody>\n",
       "    <tr>\n",
       "      <th>18920</th>\n",
       "      <td>anthony-le-tallec</td>\n",
       "      <td>Anthony Le Tallec</td>\n",
       "      <td>Valenciennes FC</td>\n",
       "      <td>France</td>\n",
       "      <td>1984-10-03</td>\n",
       "      <td>184.0</td>\n",
       "      <td>73.0</td>\n",
       "      <td>Right Winger</td>\n",
       "      <td>6</td>\n",
       "      <td>1</td>\n",
       "      <td>...</td>\n",
       "      <td>0.25</td>\n",
       "      <td>373</td>\n",
       "      <td>7</td>\n",
       "      <td>FRA</td>\n",
       "      <td>0.334684</td>\n",
       "      <td>2882.0</td>\n",
       "      <td>0.000151</td>\n",
       "      <td>0.336101</td>\n",
       "      <td>3011.0</td>\n",
       "      <td>0.000586</td>\n",
       "    </tr>\n",
       "    <tr>\n",
       "      <th>55000</th>\n",
       "      <td>jacob-butterfield</td>\n",
       "      <td>Jacob Butterfield</td>\n",
       "      <td>Bolton Wanderers</td>\n",
       "      <td>England</td>\n",
       "      <td>1990-06-10</td>\n",
       "      <td>180.0</td>\n",
       "      <td>77.0</td>\n",
       "      <td>Center Midfielder</td>\n",
       "      <td>7</td>\n",
       "      <td>3</td>\n",
       "      <td>...</td>\n",
       "      <td>NaN</td>\n",
       "      <td>1096</td>\n",
       "      <td>44</td>\n",
       "      <td>ENGL</td>\n",
       "      <td>0.326690</td>\n",
       "      <td>44791.0</td>\n",
       "      <td>0.000010</td>\n",
       "      <td>0.356446</td>\n",
       "      <td>46916.0</td>\n",
       "      <td>0.000037</td>\n",
       "    </tr>\n",
       "    <tr>\n",
       "      <th>52437</th>\n",
       "      <td>haris-vuckic</td>\n",
       "      <td>Haris Vučkić</td>\n",
       "      <td>Newcastle United</td>\n",
       "      <td>England</td>\n",
       "      <td>1992-08-21</td>\n",
       "      <td>187.0</td>\n",
       "      <td>80.0</td>\n",
       "      <td>NaN</td>\n",
       "      <td>1</td>\n",
       "      <td>1</td>\n",
       "      <td>...</td>\n",
       "      <td>0.25</td>\n",
       "      <td>1014</td>\n",
       "      <td>44</td>\n",
       "      <td>ENGL</td>\n",
       "      <td>0.326690</td>\n",
       "      <td>44791.0</td>\n",
       "      <td>0.000010</td>\n",
       "      <td>0.356446</td>\n",
       "      <td>46916.0</td>\n",
       "      <td>0.000037</td>\n",
       "    </tr>\n",
       "    <tr>\n",
       "      <th>67633</th>\n",
       "      <td>marvin-plattenhardt</td>\n",
       "      <td>Marvin Plattenhardt</td>\n",
       "      <td>1. FC Nürnberg</td>\n",
       "      <td>Germany</td>\n",
       "      <td>1992-01-26</td>\n",
       "      <td>181.0</td>\n",
       "      <td>76.0</td>\n",
       "      <td>Left Fullback</td>\n",
       "      <td>1</td>\n",
       "      <td>1</td>\n",
       "      <td>...</td>\n",
       "      <td>0.25</td>\n",
       "      <td>1435</td>\n",
       "      <td>8</td>\n",
       "      <td>DEU</td>\n",
       "      <td>0.336628</td>\n",
       "      <td>7749.0</td>\n",
       "      <td>0.000055</td>\n",
       "      <td>0.335967</td>\n",
       "      <td>7974.0</td>\n",
       "      <td>0.000225</td>\n",
       "    </tr>\n",
       "    <tr>\n",
       "      <th>80544</th>\n",
       "      <td>thomas-kahlenberg</td>\n",
       "      <td>Thomas Kahlenberg</td>\n",
       "      <td>VfL Wolfsburg</td>\n",
       "      <td>Germany</td>\n",
       "      <td>1983-03-20</td>\n",
       "      <td>183.0</td>\n",
       "      <td>72.0</td>\n",
       "      <td>Attacking Midfielder</td>\n",
       "      <td>1</td>\n",
       "      <td>0</td>\n",
       "      <td>...</td>\n",
       "      <td>0.00</td>\n",
       "      <td>1740</td>\n",
       "      <td>76</td>\n",
       "      <td>SVK</td>\n",
       "      <td>0.429987</td>\n",
       "      <td>139.0</td>\n",
       "      <td>0.002622</td>\n",
       "      <td>0.668966</td>\n",
       "      <td>145.0</td>\n",
       "      <td>0.012878</td>\n",
       "    </tr>\n",
       "  </tbody>\n",
       "</table>\n",
       "<p>5 rows × 28 columns</p>\n",
       "</div>"
      ],
      "text/plain": [
       "               playerShort               player              club  \\\n",
       "18920    anthony-le-tallec    Anthony Le Tallec   Valenciennes FC   \n",
       "55000    jacob-butterfield    Jacob Butterfield  Bolton Wanderers   \n",
       "52437         haris-vuckic         Haris Vučkić  Newcastle United   \n",
       "67633  marvin-plattenhardt  Marvin Plattenhardt    1. FC Nürnberg   \n",
       "80544    thomas-kahlenberg    Thomas Kahlenberg     VfL Wolfsburg   \n",
       "\n",
       "      leagueCountry   birthday  height  weight              position  games  \\\n",
       "18920        France 1984-10-03   184.0    73.0          Right Winger      6   \n",
       "55000       England 1990-06-10   180.0    77.0     Center Midfielder      7   \n",
       "52437       England 1992-08-21   187.0    80.0                   NaN      1   \n",
       "67633       Germany 1992-01-26   181.0    76.0         Left Fullback      1   \n",
       "80544       Germany 1983-03-20   183.0    72.0  Attacking Midfielder      1   \n",
       "\n",
       "       victories    ...     rater2  refNum  refCountry  Alpha_3   meanIAT  \\\n",
       "18920          1    ...       0.25     373           7      FRA  0.334684   \n",
       "55000          3    ...        NaN    1096          44     ENGL  0.326690   \n",
       "52437          1    ...       0.25    1014          44     ENGL  0.326690   \n",
       "67633          1    ...       0.25    1435           8      DEU  0.336628   \n",
       "80544          0    ...       0.00    1740          76      SVK  0.429987   \n",
       "\n",
       "          nIAT     seIAT   meanExp     nExp     seExp  \n",
       "18920   2882.0  0.000151  0.336101   3011.0  0.000586  \n",
       "55000  44791.0  0.000010  0.356446  46916.0  0.000037  \n",
       "52437  44791.0  0.000010  0.356446  46916.0  0.000037  \n",
       "67633   7749.0  0.000055  0.335967   7974.0  0.000225  \n",
       "80544    139.0  0.002622  0.668966    145.0  0.012878  \n",
       "\n",
       "[5 rows x 28 columns]"
      ]
     },
     "execution_count": 17,
     "metadata": {},
     "output_type": "execute_result"
    }
   ],
   "source": [
    "data = pd.read_csv('CrowdstormingDataJuly1st.csv', parse_dates=['birthday'], infer_datetime_format=True)\n",
    "data.sample(5)"
   ]
  },
  {
   "cell_type": "markdown",
   "metadata": {},
   "source": [
    "First, we follow the intuition that we need to reconcile the `rater1` and `rater2` columns. Indeed, we want a single value on which we will then evaluate the model against. We use the mean as aggregation function:"
   ]
  },
  {
   "cell_type": "code",
   "execution_count": 18,
   "metadata": {
    "collapsed": true
   },
   "outputs": [],
   "source": [
    "data['skin'] = (data.rater1 + data.rater2) / 2\n",
    "data = data.drop('rater1', axis=1)\n",
    "data = data.drop('rater2', axis=1)"
   ]
  },
  {
   "cell_type": "markdown",
   "metadata": {},
   "source": [
    "Let's also drop the `photoID` column, since we don't have access to the photos anyways:"
   ]
  },
  {
   "cell_type": "code",
   "execution_count": 19,
   "metadata": {
    "collapsed": true
   },
   "outputs": [],
   "source": [
    "data = data.drop('photoID', axis=1)"
   ]
  },
  {
   "cell_type": "markdown",
   "metadata": {},
   "source": [
    "We notice that the `refCountry` and `Alpha_3` columns are bijective: they contain the same data.<br>\n",
    "We will keep only the `refCountry` one, since it's an integer value."
   ]
  },
  {
   "cell_type": "code",
   "execution_count": 20,
   "metadata": {
    "collapsed": false
   },
   "outputs": [],
   "source": [
    "data = data.drop('Alpha_3', axis=1)"
   ]
  },
  {
   "cell_type": "markdown",
   "metadata": {},
   "source": [
    "We also let go of the player full name, since we already have the `playerShort` field that serves that purpose."
   ]
  },
  {
   "cell_type": "code",
   "execution_count": 23,
   "metadata": {
    "collapsed": true
   },
   "outputs": [],
   "source": [
    "data = data.drop('player', axis=1)"
   ]
  },
  {
   "cell_type": "markdown",
   "metadata": {},
   "source": [
    "Next, we want to convert the birthday (type `datetime` that scikit-learn does not understand) into the player's age:"
   ]
  },
  {
   "cell_type": "code",
   "execution_count": 26,
   "metadata": {
    "collapsed": false
   },
   "outputs": [],
   "source": [
    "import datetime\n",
    "now = datetime.date.today()\n",
    "\n",
    "data['age'] = [now.year - b.year for b in data.birthday]\n",
    "data = data.drop('birthday', axis=1)"
   ]
  },
  {
   "cell_type": "code",
   "execution_count": 27,
   "metadata": {
    "collapsed": false
   },
   "outputs": [
    {
     "data": {
      "text/html": [
       "<div>\n",
       "<table border=\"1\" class=\"dataframe\">\n",
       "  <thead>\n",
       "    <tr style=\"text-align: right;\">\n",
       "      <th></th>\n",
       "      <th>playerShort</th>\n",
       "      <th>club</th>\n",
       "      <th>leagueCountry</th>\n",
       "      <th>height</th>\n",
       "      <th>weight</th>\n",
       "      <th>position</th>\n",
       "      <th>games</th>\n",
       "      <th>victories</th>\n",
       "      <th>ties</th>\n",
       "      <th>defeats</th>\n",
       "      <th>...</th>\n",
       "      <th>refNum</th>\n",
       "      <th>refCountry</th>\n",
       "      <th>meanIAT</th>\n",
       "      <th>nIAT</th>\n",
       "      <th>seIAT</th>\n",
       "      <th>meanExp</th>\n",
       "      <th>nExp</th>\n",
       "      <th>seExp</th>\n",
       "      <th>skin</th>\n",
       "      <th>age</th>\n",
       "    </tr>\n",
       "  </thead>\n",
       "  <tbody>\n",
       "    <tr>\n",
       "      <th>59513</th>\n",
       "      <td>emmanuel-adebayor</td>\n",
       "      <td>Tottenham Hotspur</td>\n",
       "      <td>England</td>\n",
       "      <td>190.0</td>\n",
       "      <td>75.0</td>\n",
       "      <td>Center Forward</td>\n",
       "      <td>23</td>\n",
       "      <td>9</td>\n",
       "      <td>7</td>\n",
       "      <td>7</td>\n",
       "      <td>...</td>\n",
       "      <td>1214</td>\n",
       "      <td>44</td>\n",
       "      <td>0.326690</td>\n",
       "      <td>44791.0</td>\n",
       "      <td>0.000010</td>\n",
       "      <td>0.356446</td>\n",
       "      <td>46916.0</td>\n",
       "      <td>0.000037</td>\n",
       "      <td>1.00</td>\n",
       "      <td>32</td>\n",
       "    </tr>\n",
       "    <tr>\n",
       "      <th>136650</th>\n",
       "      <td>jonas-hofmann</td>\n",
       "      <td>Borussia Dortmund</td>\n",
       "      <td>Germany</td>\n",
       "      <td>176.0</td>\n",
       "      <td>67.0</td>\n",
       "      <td>Right Midfielder</td>\n",
       "      <td>1</td>\n",
       "      <td>0</td>\n",
       "      <td>1</td>\n",
       "      <td>0</td>\n",
       "      <td>...</td>\n",
       "      <td>2905</td>\n",
       "      <td>8</td>\n",
       "      <td>0.336628</td>\n",
       "      <td>7749.0</td>\n",
       "      <td>0.000055</td>\n",
       "      <td>0.335967</td>\n",
       "      <td>7974.0</td>\n",
       "      <td>0.000225</td>\n",
       "      <td>0.00</td>\n",
       "      <td>24</td>\n",
       "    </tr>\n",
       "    <tr>\n",
       "      <th>75657</th>\n",
       "      <td>marcel-halstenberg</td>\n",
       "      <td>Borussia Dortmund</td>\n",
       "      <td>Germany</td>\n",
       "      <td>186.0</td>\n",
       "      <td>82.0</td>\n",
       "      <td>Center Back</td>\n",
       "      <td>1</td>\n",
       "      <td>1</td>\n",
       "      <td>0</td>\n",
       "      <td>0</td>\n",
       "      <td>...</td>\n",
       "      <td>1646</td>\n",
       "      <td>8</td>\n",
       "      <td>0.336628</td>\n",
       "      <td>7749.0</td>\n",
       "      <td>0.000055</td>\n",
       "      <td>0.335967</td>\n",
       "      <td>7974.0</td>\n",
       "      <td>0.000225</td>\n",
       "      <td>0.00</td>\n",
       "      <td>25</td>\n",
       "    </tr>\n",
       "    <tr>\n",
       "      <th>66615</th>\n",
       "      <td>isma-lopez</td>\n",
       "      <td>Athletic Bilbao</td>\n",
       "      <td>Spain</td>\n",
       "      <td>180.0</td>\n",
       "      <td>76.0</td>\n",
       "      <td>NaN</td>\n",
       "      <td>1</td>\n",
       "      <td>0</td>\n",
       "      <td>1</td>\n",
       "      <td>0</td>\n",
       "      <td>...</td>\n",
       "      <td>1396</td>\n",
       "      <td>3</td>\n",
       "      <td>0.369894</td>\n",
       "      <td>1785.0</td>\n",
       "      <td>0.000229</td>\n",
       "      <td>0.588297</td>\n",
       "      <td>1897.0</td>\n",
       "      <td>0.001002</td>\n",
       "      <td>0.25</td>\n",
       "      <td>26</td>\n",
       "    </tr>\n",
       "    <tr>\n",
       "      <th>35841</th>\n",
       "      <td>ross-turnbull</td>\n",
       "      <td>Chelsea FC</td>\n",
       "      <td>England</td>\n",
       "      <td>193.0</td>\n",
       "      <td>85.0</td>\n",
       "      <td>Goalkeeper</td>\n",
       "      <td>1</td>\n",
       "      <td>0</td>\n",
       "      <td>1</td>\n",
       "      <td>0</td>\n",
       "      <td>...</td>\n",
       "      <td>637</td>\n",
       "      <td>44</td>\n",
       "      <td>0.326690</td>\n",
       "      <td>44791.0</td>\n",
       "      <td>0.000010</td>\n",
       "      <td>0.356446</td>\n",
       "      <td>46916.0</td>\n",
       "      <td>0.000037</td>\n",
       "      <td>0.00</td>\n",
       "      <td>31</td>\n",
       "    </tr>\n",
       "  </tbody>\n",
       "</table>\n",
       "<p>5 rows × 24 columns</p>\n",
       "</div>"
      ],
      "text/plain": [
       "               playerShort               club leagueCountry  height  weight  \\\n",
       "59513    emmanuel-adebayor  Tottenham Hotspur       England   190.0    75.0   \n",
       "136650       jonas-hofmann  Borussia Dortmund       Germany   176.0    67.0   \n",
       "75657   marcel-halstenberg  Borussia Dortmund       Germany   186.0    82.0   \n",
       "66615           isma-lopez    Athletic Bilbao         Spain   180.0    76.0   \n",
       "35841        ross-turnbull         Chelsea FC       England   193.0    85.0   \n",
       "\n",
       "                position  games  victories  ties  defeats ...   refNum  \\\n",
       "59513     Center Forward     23          9     7        7 ...     1214   \n",
       "136650  Right Midfielder      1          0     1        0 ...     2905   \n",
       "75657        Center Back      1          1     0        0 ...     1646   \n",
       "66615                NaN      1          0     1        0 ...     1396   \n",
       "35841         Goalkeeper      1          0     1        0 ...      637   \n",
       "\n",
       "        refCountry   meanIAT     nIAT     seIAT   meanExp     nExp     seExp  \\\n",
       "59513           44  0.326690  44791.0  0.000010  0.356446  46916.0  0.000037   \n",
       "136650           8  0.336628   7749.0  0.000055  0.335967   7974.0  0.000225   \n",
       "75657            8  0.336628   7749.0  0.000055  0.335967   7974.0  0.000225   \n",
       "66615            3  0.369894   1785.0  0.000229  0.588297   1897.0  0.001002   \n",
       "35841           44  0.326690  44791.0  0.000010  0.356446  46916.0  0.000037   \n",
       "\n",
       "        skin  age  \n",
       "59513   1.00   32  \n",
       "136650  0.00   24  \n",
       "75657   0.00   25  \n",
       "66615   0.25   26  \n",
       "35841   0.00   31  \n",
       "\n",
       "[5 rows x 24 columns]"
      ]
     },
     "execution_count": 27,
     "metadata": {},
     "output_type": "execute_result"
    }
   ],
   "source": [
    "data.sample(5)"
   ]
  },
  {
   "cell_type": "markdown",
   "metadata": {},
   "source": [
    "Also, we need to drop all `N/A` values:"
   ]
  },
  {
   "cell_type": "code",
   "execution_count": 30,
   "metadata": {
    "collapsed": false
   },
   "outputs": [],
   "source": [
    "data = data.dropna()"
   ]
  },
  {
   "cell_type": "markdown",
   "metadata": {},
   "source": [
    "### Dealing with categorical attributes"
   ]
  },
  {
   "cell_type": "code",
   "execution_count": null,
   "metadata": {
    "collapsed": true
   },
   "outputs": [],
   "source": []
  }
 ],
 "metadata": {
  "anaconda-cloud": {},
  "kernelspec": {
   "display_name": "Python [conda root]",
   "language": "python",
   "name": "conda-root-py"
  },
  "language_info": {
   "codemirror_mode": {
    "name": "ipython",
    "version": 3
   },
   "file_extension": ".py",
   "mimetype": "text/x-python",
   "name": "python",
   "nbconvert_exporter": "python",
   "pygments_lexer": "ipython3",
   "version": "3.5.2"
  }
 },
 "nbformat": 4,
 "nbformat_minor": 1
}
