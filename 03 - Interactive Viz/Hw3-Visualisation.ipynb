{
 "cells": [
  {
   "cell_type": "markdown",
   "metadata": {},
   "source": [
    "# ADA / Applied Data Analysis\n",
    "<h2 style=\"color:#a8a8a8\">Homework 3 - Visualization<br>\n",
    "Aimée Montero, Alfonso Peterssen, Cyriaque Brousse</h2>"
   ]
  },
  {
   "cell_type": "markdown",
   "metadata": {},
   "source": [
    "## Part 1 - Data import"
   ]
  },
  {
   "cell_type": "markdown",
   "metadata": {
    "collapsed": true
   },
   "source": [
    "Let's import the required libraries:"
   ]
  },
  {
   "cell_type": "code",
   "execution_count": 56,
   "metadata": {
    "collapsed": false
   },
   "outputs": [],
   "source": [
    "import folium\n",
    "import pandas as pd\n",
    "import requests\n",
    "import json"
   ]
  },
  {
   "cell_type": "markdown",
   "metadata": {},
   "source": [
    "Read the data from the provided CSV file:"
   ]
  },
  {
   "cell_type": "code",
   "execution_count": 2,
   "metadata": {
    "collapsed": false
   },
   "outputs": [],
   "source": [
    "data = pd.read_csv('data/grantexport.csv', sep=';')"
   ]
  },
  {
   "cell_type": "code",
   "execution_count": 3,
   "metadata": {
    "collapsed": false
   },
   "outputs": [],
   "source": [
    "cols = {'Project Number' : 'pnr',\n",
    "       'Project Title' : 'title',\n",
    "       'University' : 'univ',\n",
    "       'Approved Amount' : 'amount'}\n",
    "data = data.rename(columns=cols)\n",
    "data = data[[v for (k,v) in cols.items()]]"
   ]
  },
  {
   "cell_type": "markdown",
   "metadata": {
    "collapsed": true
   },
   "source": [
    "According to the documentation, the values in the field `pnr` are unique. We check this and use it as an index for our data frame."
   ]
  },
  {
   "cell_type": "code",
   "execution_count": 4,
   "metadata": {
    "collapsed": false
   },
   "outputs": [
    {
     "data": {
      "text/plain": [
       "True"
      ]
     },
     "execution_count": 4,
     "metadata": {},
     "output_type": "execute_result"
    }
   ],
   "source": [
    "data.pnr.is_unique"
   ]
  },
  {
   "cell_type": "code",
   "execution_count": null,
   "metadata": {
    "collapsed": false
   },
   "outputs": [],
   "source": [
    "data = data.set_index('pnr')"
   ]
  },
  {
   "cell_type": "markdown",
   "metadata": {},
   "source": [
    "We discard the values in the `amount` field that are not numeric. The documentation states that *\"This amount is not indicated in the case of mobility fellowships since it depends on administrative factors, typically the destination, cost of living, family allowances (if applicable) and exchange rate differences.\"*."
   ]
  },
  {
   "cell_type": "code",
   "execution_count": 8,
   "metadata": {
    "collapsed": false
   },
   "outputs": [
    {
     "data": {
      "text/html": [
       "<div>\n",
       "<table border=\"1\" class=\"dataframe\">\n",
       "  <thead>\n",
       "    <tr style=\"text-align: right;\">\n",
       "      <th></th>\n",
       "      <th>title</th>\n",
       "      <th>univ</th>\n",
       "      <th>amount</th>\n",
       "    </tr>\n",
       "    <tr>\n",
       "      <th>pnr</th>\n",
       "      <th></th>\n",
       "      <th></th>\n",
       "      <th></th>\n",
       "    </tr>\n",
       "  </thead>\n",
       "  <tbody>\n",
       "    <tr>\n",
       "      <th>122847</th>\n",
       "      <td>The 3rd international workshop on approaches t...</td>\n",
       "      <td>ETH Zürich - ETHZ</td>\n",
       "      <td>5000.0</td>\n",
       "    </tr>\n",
       "    <tr>\n",
       "      <th>455</th>\n",
       "      <td>Musikinstrumente der Schweiz</td>\n",
       "      <td>NPO (Biblioth., Museen, Verwalt.) - NPO</td>\n",
       "      <td>74298.0</td>\n",
       "    </tr>\n",
       "    <tr>\n",
       "      <th>28071</th>\n",
       "      <td>Untersuchung der Rolle der Lipide und Lipoprot...</td>\n",
       "      <td>NaN</td>\n",
       "      <td>NaN</td>\n",
       "    </tr>\n",
       "    <tr>\n",
       "      <th>28475</th>\n",
       "      <td>Uebergangsmetallcluster als homogene Katalysat...</td>\n",
       "      <td>Université de Neuchâtel - NE</td>\n",
       "      <td>197707.0</td>\n",
       "    </tr>\n",
       "    <tr>\n",
       "      <th>46761</th>\n",
       "      <td>Grenzlagen der Laurophyllierung in der Schweiz</td>\n",
       "      <td>ETH Zürich - ETHZ</td>\n",
       "      <td>82407.0</td>\n",
       "    </tr>\n",
       "  </tbody>\n",
       "</table>\n",
       "</div>"
      ],
      "text/plain": [
       "                                                    title  \\\n",
       "pnr                                                         \n",
       "122847  The 3rd international workshop on approaches t...   \n",
       "455                          Musikinstrumente der Schweiz   \n",
       "28071   Untersuchung der Rolle der Lipide und Lipoprot...   \n",
       "28475   Uebergangsmetallcluster als homogene Katalysat...   \n",
       "46761      Grenzlagen der Laurophyllierung in der Schweiz   \n",
       "\n",
       "                                           univ    amount  \n",
       "pnr                                                        \n",
       "122847                        ETH Zürich - ETHZ    5000.0  \n",
       "455     NPO (Biblioth., Museen, Verwalt.) - NPO   74298.0  \n",
       "28071                                       NaN       NaN  \n",
       "28475              Université de Neuchâtel - NE  197707.0  \n",
       "46761                         ETH Zürich - ETHZ   82407.0  "
      ]
     },
     "execution_count": 8,
     "metadata": {},
     "output_type": "execute_result"
    }
   ],
   "source": [
    "data.amount = pd.to_numeric(data.amount, errors='coerce')\n",
    "data.amount.isnull().sum()\n",
    "data.sample(5)"
   ]
  },
  {
   "cell_type": "markdown",
   "metadata": {},
   "source": [
    "The number of rows for which the `amount` field is not a number is:"
   ]
  },
  {
   "cell_type": "code",
   "execution_count": 9,
   "metadata": {
    "collapsed": false
   },
   "outputs": [
    {
     "data": {
      "text/plain": [
       "10910"
      ]
     },
     "execution_count": 9,
     "metadata": {},
     "output_type": "execute_result"
    }
   ],
   "source": [
    "data.amount.isnull().sum()"
   ]
  },
  {
   "cell_type": "markdown",
   "metadata": {},
   "source": [
    "## Part 2 - Mapping universities to cantons"
   ]
  },
  {
   "cell_type": "markdown",
   "metadata": {},
   "source": [
    "<p>We want to display, somehow, the amount of money granted to each canton.<br>\n",
    "To achieve that, the first step is to match each `univ` value to a new `location` field.<p>\n",
    "\n",
    "<p>To do that, we will use the Google Places API. We take care not to divulge the API key, which will be placed in a separate file, ignored by Git.<br>\n",
    "The API call will return a location for each university. We then input this location in the Reverse Geocoding API, which will return a canton.</p>"
   ]
  },
  {
   "cell_type": "markdown",
   "metadata": {},
   "source": [
    "First, we need to import the Google API key from the key file:"
   ]
  },
  {
   "cell_type": "code",
   "execution_count": 29,
   "metadata": {
    "collapsed": false
   },
   "outputs": [],
   "source": [
    "api_key = !head api_key\n",
    "api_key = api_key[0]"
   ]
  },
  {
   "cell_type": "markdown",
   "metadata": {},
   "source": [
    "We define the following helper method for fetching JSON from Google APIs:"
   ]
  },
  {
   "cell_type": "code",
   "execution_count": 110,
   "metadata": {
    "collapsed": true
   },
   "outputs": [],
   "source": [
    "def fetch_json(url, params):\n",
    "    ''' Fetches the json object resulting from the query of the url with\n",
    "        the given params.\n",
    "        Checks that the status is OK, otherwise returns None.\n",
    "        If the status is OK, then it will return the first result,\n",
    "        if it exists, None otherwise.\n",
    "    '''\n",
    "    response = requests.get(url, params)\n",
    "    obj = json.loads(response.text)\n",
    "    \n",
    "    if obj['status'] != 'OK':\n",
    "        print('[E] status was', obj['status'])\n",
    "        return None\n",
    "    \n",
    "    if len(obj['results']) < 1:\n",
    "        return None\n",
    "    \n",
    "    return obj['results'][0]"
   ]
  },
  {
   "cell_type": "markdown",
   "metadata": {},
   "source": [
    "We get the location of the university:"
   ]
  },
  {
   "cell_type": "code",
   "execution_count": 111,
   "metadata": {
    "collapsed": false
   },
   "outputs": [
    {
     "data": {
      "text/plain": [
       "{'lat': 46.5190557, 'lng': 6.566757600000001}"
      ]
     },
     "execution_count": 111,
     "metadata": {},
     "output_type": "execute_result"
    }
   ],
   "source": [
    "url = 'https://maps.googleapis.com/maps/api/place/textsearch/json'\n",
    "params = { 'key' : api_key, 'query' : 'epfl'}\n",
    "\n",
    "latlng = fetch_json(url, params)['geometry']['location']\n",
    "latlng"
   ]
  },
  {
   "cell_type": "markdown",
   "metadata": {},
   "source": [
    "We can input this result into the Reverse Geocoding API:"
   ]
  },
  {
   "cell_type": "code",
   "execution_count": 112,
   "metadata": {
    "collapsed": false
   },
   "outputs": [
    {
     "name": "stdout",
     "output_type": "stream",
     "text": [
      "Vaud\n"
     ]
    }
   ],
   "source": [
    "url = 'http://maps.googleapis.com/maps/api/geocode/json'\n",
    "params = {'latlng' : str(latlng['lat']) + ','+ str(latlng['lng']),\n",
    "          'sensor' : 'false'}\n",
    "\n",
    "for r in fetch_json(url, params)['address_components']:\n",
    "    if 'administrative_area_level_1' in r['types']:\n",
    "        print(r['long_name'])"
   ]
  },
  {
   "cell_type": "code",
   "execution_count": null,
   "metadata": {
    "collapsed": true
   },
   "outputs": [],
   "source": []
  }
 ],
 "metadata": {
  "anaconda-cloud": {},
  "kernelspec": {
   "display_name": "Python [conda root]",
   "language": "python",
   "name": "conda-root-py"
  },
  "language_info": {
   "codemirror_mode": {
    "name": "ipython",
    "version": 3
   },
   "file_extension": ".py",
   "mimetype": "text/x-python",
   "name": "python",
   "nbconvert_exporter": "python",
   "pygments_lexer": "ipython3",
   "version": "3.5.2"
  }
 },
 "nbformat": 4,
 "nbformat_minor": 1
}
