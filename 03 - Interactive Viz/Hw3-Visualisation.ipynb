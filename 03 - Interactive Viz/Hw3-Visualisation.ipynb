{
 "cells": [
  {
   "cell_type": "markdown",
   "metadata": {},
   "source": [
    "# ADA / Applied Data Analysis\n",
    "<h2 style=\"color:#a8a8a8\">Homework 3 - Visualization<br>\n",
    "Aimée Montero, Alfonso Peterssen, Cyriaque Brousse</h2>"
   ]
  },
  {
   "cell_type": "markdown",
   "metadata": {},
   "source": [
    "In this homework we will practice with interactive visualization, which is the key ingredient of many successful viz (especially when it comes to infographics).\n",
    "You will be working with the P3 database of the [SNSF](http://www.snf.ch/en/Pages/default.aspx) (Swiss National Science Foundation).\n",
    "As you can see from their [entry page](http://p3.snf.ch/), P3 already offers some ready-made viz, but we want to build a more advanced one for the sake\n",
    "of quick data exploration. Therefore, start by [downloading the raw data](http://p3.snf.ch/Pages/DataAndDocumentation.aspx) (just for the Grant Export), and read carefully\n",
    "the documentation to understand the schema."
   ]
  },
  {
   "cell_type": "markdown",
   "metadata": {},
   "source": [
    "Build a [Choropleth map](https://en.wikipedia.org/wiki/Choropleth_map) which shows intuitively (i.e., use colors wisely) how much grant money goes to each Swiss canton.\n",
    "To do so, you will need to use the provided TopoJSON file, combined with the Choropleth map example you can find in the Folium README file."
   ]
  },
  {
   "cell_type": "markdown",
   "metadata": {},
   "source": [
    "<ol class=\"toc-item\"><li><a href=\"#Part-1---Data-import\">Part 1 - Data import</a><ol class=\"toc-item\"><li><a href=\"#1a---Indexing\">1a - Indexing</a></li><li><a href=\"#1b---Cleaning-the-data\">1b - Cleaning the data</a></li></ol></li><li><a href=\"#Part-2---Mapping-universities-to-cantons\">Part 2 - Mapping universities to cantons</a><ol class=\"toc-item\"><li><a href=\"#2a---Defining-abstractions\">2a - Defining abstractions</a></li><li><a href=\"#2b---Using-caching\">2b - Using caching</a></li><li><a href=\"#2c---Retrieving-the-canton-for-each-entry\">2c - Retrieving the canton for each entry</a></li><li><a href=\"#2d---Putting-everything-back-together\">2d - Putting everything back together</a></li></ol></li><li><a href=\"#Part-3---Visualization\">Part 3 - Visualization</a><ol class=\"toc-item\"><li><a href=\"#3a---Why-are-you-not-Swiss??\">3a - Why are you not Swiss??</a></li><li><a href=\"#3b---Summing-grants-per-canton\">3b - Summing grants per canton</a></li><li><a href=\"#3c---Final-map\">3c - Final map</a></li></ol></li></ol>"
   ]
  },
  {
   "cell_type": "markdown",
   "metadata": {},
   "source": [
    "## Part 1 - Data import"
   ]
  },
  {
   "cell_type": "markdown",
   "metadata": {
    "collapsed": true
   },
   "source": [
    "Let's import the required libraries:"
   ]
  },
  {
   "cell_type": "code",
   "execution_count": 1,
   "metadata": {
    "collapsed": false
   },
   "outputs": [],
   "source": [
    "import folium\n",
    "import pandas as pd\n",
    "import numpy as np\n",
    "import requests\n",
    "import json"
   ]
  },
  {
   "cell_type": "markdown",
   "metadata": {},
   "source": [
    "<p>In this homework, we tested the efficiency of the suggested library and that of the Google Places API. The latter has a much higher retrieval rate of the location for a given university, so we will use it.</p>\n",
    "\n",
    "<p>We define the constants for the Google APIs:</p>"
   ]
  },
  {
   "cell_type": "code",
   "execution_count": 2,
   "metadata": {
    "collapsed": true
   },
   "outputs": [],
   "source": [
    "# change this flag to force overwrite of the saved values by fresh data from Google APIs (takes a long time)\n",
    "force_download = False"
   ]
  },
  {
   "cell_type": "code",
   "execution_count": 3,
   "metadata": {
    "collapsed": true
   },
   "outputs": [],
   "source": [
    "places_api_url = 'https://maps.googleapis.com/maps/api/place/textsearch/json'\n",
    "geocode_api_url = 'http://maps.googleapis.com/maps/api/geocode/json'"
   ]
  },
  {
   "cell_type": "markdown",
   "metadata": {},
   "source": [
    "Read the SNF data from the provided CSV file:"
   ]
  },
  {
   "cell_type": "code",
   "execution_count": 4,
   "metadata": {
    "collapsed": false
   },
   "outputs": [],
   "source": [
    "data = pd.read_csv('data/grantexport.csv', sep=';')"
   ]
  },
  {
   "cell_type": "markdown",
   "metadata": {},
   "source": [
    "We keep only the columns that are relevant to us and rename then accordingly:"
   ]
  },
  {
   "cell_type": "code",
   "execution_count": 8,
   "metadata": {
    "collapsed": false
   },
   "outputs": [],
   "source": [
    "cols = {'Project Number' : 'pnr',\n",
    "       'Project Title' : 'title',\n",
    "       'University' : 'univ',\n",
    "       'Institution' : 'inst',\n",
    "       'Approved Amount' : 'amount'}\n",
    "data = data.rename(columns=cols)\n",
    "data = data[[v for (k,v) in cols.items()]]"
   ]
  },
  {
   "cell_type": "markdown",
   "metadata": {},
   "source": [
    "***Size of raw data (number of entries)***"
   ]
  },
  {
   "cell_type": "code",
   "execution_count": 9,
   "metadata": {
    "collapsed": false
   },
   "outputs": [
    {
     "data": {
      "text/plain": [
       "63969"
      ]
     },
     "execution_count": 9,
     "metadata": {},
     "output_type": "execute_result"
    }
   ],
   "source": [
    "len(data)"
   ]
  },
  {
   "cell_type": "markdown",
   "metadata": {},
   "source": [
    "### 1a - Indexing"
   ]
  },
  {
   "cell_type": "markdown",
   "metadata": {
    "collapsed": true
   },
   "source": [
    "According to the documentation, the values in the field `pnr` are unique. We check this and use it as an index for our data frame."
   ]
  },
  {
   "cell_type": "code",
   "execution_count": 10,
   "metadata": {
    "collapsed": false
   },
   "outputs": [
    {
     "data": {
      "text/plain": [
       "True"
      ]
     },
     "execution_count": 10,
     "metadata": {},
     "output_type": "execute_result"
    }
   ],
   "source": [
    "data.pnr.is_unique"
   ]
  },
  {
   "cell_type": "code",
   "execution_count": 11,
   "metadata": {
    "collapsed": false
   },
   "outputs": [],
   "source": [
    "data = data.set_index('pnr')"
   ]
  },
  {
   "cell_type": "markdown",
   "metadata": {},
   "source": [
    "<p>We discard the values in the `amount` field that are not numeric. The documentation states that *\"This amount is not indicated in the case of mobility fellowships since it depends on administrative factors, typically the destination, cost of living, family allowances (if applicable) and exchange rate differences.\"*.</p>\n",
    "\n",
    "<p>The `coerce` argument will change all the `amount` values that are not actual number into `NaN`.</p>"
   ]
  },
  {
   "cell_type": "code",
   "execution_count": 12,
   "metadata": {
    "collapsed": false
   },
   "outputs": [
    {
     "data": {
      "text/html": [
       "<div>\n",
       "<table border=\"1\" class=\"dataframe\">\n",
       "  <thead>\n",
       "    <tr style=\"text-align: right;\">\n",
       "      <th></th>\n",
       "      <th>univ</th>\n",
       "      <th>amount</th>\n",
       "      <th>title</th>\n",
       "      <th>inst</th>\n",
       "    </tr>\n",
       "    <tr>\n",
       "      <th>pnr</th>\n",
       "      <th></th>\n",
       "      <th></th>\n",
       "      <th></th>\n",
       "      <th></th>\n",
       "    </tr>\n",
       "  </thead>\n",
       "  <tbody>\n",
       "    <tr>\n",
       "      <th>102913</th>\n",
       "      <td>Université de Lausanne - LA</td>\n",
       "      <td>1369147.0</td>\n",
       "      <td>Evolution, maintenance and signalling function...</td>\n",
       "      <td>Institute of Ecology University of Lausanne Bâ...</td>\n",
       "    </tr>\n",
       "    <tr>\n",
       "      <th>136558</th>\n",
       "      <td>Eidg. Material und Prüfungsanstalt - EMPA</td>\n",
       "      <td>431944.0</td>\n",
       "      <td>Modified Nanofibrillated Cellulose in Wood Coa...</td>\n",
       "      <td>Empa Wood Laboratory</td>\n",
       "    </tr>\n",
       "    <tr>\n",
       "      <th>161760</th>\n",
       "      <td>NaN</td>\n",
       "      <td>NaN</td>\n",
       "      <td>La surmortalité des jeunes adultes : causes et...</td>\n",
       "      <td>Institut national d'études démographiques INED</td>\n",
       "    </tr>\n",
       "    <tr>\n",
       "      <th>29255</th>\n",
       "      <td>NaN</td>\n",
       "      <td>330.0</td>\n",
       "      <td>Exil der deutschen Arbeiterbewegung in der Sch...</td>\n",
       "      <td>UNI: Berlin D-O</td>\n",
       "    </tr>\n",
       "    <tr>\n",
       "      <th>67740</th>\n",
       "      <td>EPF Lausanne - EPFL</td>\n",
       "      <td>173604.0</td>\n",
       "      <td>Intelligent computational control for complex ...</td>\n",
       "      <td>Institut de structures EPFL - IS - ENAC</td>\n",
       "    </tr>\n",
       "  </tbody>\n",
       "</table>\n",
       "</div>"
      ],
      "text/plain": [
       "                                             univ     amount  \\\n",
       "pnr                                                            \n",
       "102913                Université de Lausanne - LA  1369147.0   \n",
       "136558  Eidg. Material und Prüfungsanstalt - EMPA   431944.0   \n",
       "161760                                        NaN        NaN   \n",
       "29255                                         NaN      330.0   \n",
       "67740                         EPF Lausanne - EPFL   173604.0   \n",
       "\n",
       "                                                    title  \\\n",
       "pnr                                                         \n",
       "102913  Evolution, maintenance and signalling function...   \n",
       "136558  Modified Nanofibrillated Cellulose in Wood Coa...   \n",
       "161760  La surmortalité des jeunes adultes : causes et...   \n",
       "29255   Exil der deutschen Arbeiterbewegung in der Sch...   \n",
       "67740   Intelligent computational control for complex ...   \n",
       "\n",
       "                                                     inst  \n",
       "pnr                                                        \n",
       "102913  Institute of Ecology University of Lausanne Bâ...  \n",
       "136558                               Empa Wood Laboratory  \n",
       "161760     Institut national d'études démographiques INED  \n",
       "29255                                     UNI: Berlin D-O  \n",
       "67740             Institut de structures EPFL - IS - ENAC  "
      ]
     },
     "execution_count": 12,
     "metadata": {},
     "output_type": "execute_result"
    }
   ],
   "source": [
    "data.amount = pd.to_numeric(data.amount, errors='coerce')\n",
    "data.sample(5)"
   ]
  },
  {
   "cell_type": "markdown",
   "metadata": {},
   "source": [
    "### 1b - Cleaning the data"
   ]
  },
  {
   "cell_type": "markdown",
   "metadata": {},
   "source": [
    "The number of rows for which the `amount` field is not a number is:"
   ]
  },
  {
   "cell_type": "code",
   "execution_count": 13,
   "metadata": {
    "collapsed": false
   },
   "outputs": [
    {
     "data": {
      "text/plain": [
       "10910"
      ]
     },
     "execution_count": 13,
     "metadata": {},
     "output_type": "execute_result"
    }
   ],
   "source": [
    "data.amount.isnull().sum()"
   ]
  },
  {
   "cell_type": "markdown",
   "metadata": {},
   "source": [
    "We notice that some entries have fields that are not specified. We use the following replacement policy, which is important to keep in mind for later:"
   ]
  },
  {
   "cell_type": "code",
   "execution_count": 15,
   "metadata": {
    "collapsed": false
   },
   "outputs": [
    {
     "data": {
      "text/html": [
       "<div>\n",
       "<table border=\"1\" class=\"dataframe\">\n",
       "  <thead>\n",
       "    <tr style=\"text-align: right;\">\n",
       "      <th></th>\n",
       "      <th>univ</th>\n",
       "      <th>amount</th>\n",
       "      <th>title</th>\n",
       "      <th>inst</th>\n",
       "    </tr>\n",
       "    <tr>\n",
       "      <th>pnr</th>\n",
       "      <th></th>\n",
       "      <th></th>\n",
       "      <th></th>\n",
       "      <th></th>\n",
       "    </tr>\n",
       "  </thead>\n",
       "  <tbody>\n",
       "    <tr>\n",
       "      <th>27082</th>\n",
       "      <td>EPF Lausanne - EPFL</td>\n",
       "      <td>333038.0</td>\n",
       "      <td>Colloidal processing of anisotropic particles</td>\n",
       "      <td>Institut des matériaux EPFL - STI - IMX</td>\n",
       "    </tr>\n",
       "    <tr>\n",
       "      <th>107956</th>\n",
       "      <td>EPF Lausanne - EPFL</td>\n",
       "      <td>206936.0</td>\n",
       "      <td>Excited state geometries and photochemical rea...</td>\n",
       "      <td>Laboratoire de spectroscopie ultrarapide EPFL ...</td>\n",
       "    </tr>\n",
       "    <tr>\n",
       "      <th>131828</th>\n",
       "      <td>EPF Lausanne - EPFL</td>\n",
       "      <td>112363.0</td>\n",
       "      <td>Static and dynamic force spectroscopy in virol...</td>\n",
       "      <td>Laboratoire de physique de la matière vivante ...</td>\n",
       "    </tr>\n",
       "    <tr>\n",
       "      <th>142213</th>\n",
       "      <td>Universität Zürich - ZH</td>\n",
       "      <td>362821.0</td>\n",
       "      <td>Effects of Sex Steroids on Adult Stem/Progenit...</td>\n",
       "      <td>Klinik für Reproduktions-Endokrinologie Depart...</td>\n",
       "    </tr>\n",
       "    <tr>\n",
       "      <th>57477</th>\n",
       "      <td>Université de Fribourg - FR</td>\n",
       "      <td>3250.0</td>\n",
       "      <td>Juliusz Slowacki (1809-1849). Probleme einer P...</td>\n",
       "      <td>Slavisches Seminar Universität Freiburg</td>\n",
       "    </tr>\n",
       "  </tbody>\n",
       "</table>\n",
       "</div>"
      ],
      "text/plain": [
       "                               univ    amount  \\\n",
       "pnr                                             \n",
       "27082           EPF Lausanne - EPFL  333038.0   \n",
       "107956          EPF Lausanne - EPFL  206936.0   \n",
       "131828          EPF Lausanne - EPFL  112363.0   \n",
       "142213      Universität Zürich - ZH  362821.0   \n",
       "57477   Université de Fribourg - FR    3250.0   \n",
       "\n",
       "                                                    title  \\\n",
       "pnr                                                         \n",
       "27082       Colloidal processing of anisotropic particles   \n",
       "107956  Excited state geometries and photochemical rea...   \n",
       "131828  Static and dynamic force spectroscopy in virol...   \n",
       "142213  Effects of Sex Steroids on Adult Stem/Progenit...   \n",
       "57477   Juliusz Slowacki (1809-1849). Probleme einer P...   \n",
       "\n",
       "                                                     inst  \n",
       "pnr                                                        \n",
       "27082             Institut des matériaux EPFL - STI - IMX  \n",
       "107956  Laboratoire de spectroscopie ultrarapide EPFL ...  \n",
       "131828  Laboratoire de physique de la matière vivante ...  \n",
       "142213  Klinik für Reproduktions-Endokrinologie Depart...  \n",
       "57477             Slavisches Seminar Universität Freiburg  "
      ]
     },
     "execution_count": 15,
     "metadata": {},
     "output_type": "execute_result"
    }
   ],
   "source": [
    "data = data.replace('Nicht zuteilbar - NA', np.NaN)\n",
    "data = data.replace('NPO (Biblioth., Museen, Verwalt.) - NPO', 'NPO')\n",
    "data = data.replace('Firmen/Privatwirtschaft - FP', 'FP')\n",
    "data = data.replace('Weitere Institute - FINST', 'FINST')\n",
    "data = data.dropna()\n",
    "data.sample(5)"
   ]
  },
  {
   "cell_type": "markdown",
   "metadata": {},
   "source": [
    "The ***number of entries*** we will be working with is then:"
   ]
  },
  {
   "cell_type": "code",
   "execution_count": 16,
   "metadata": {
    "collapsed": false
   },
   "outputs": [
    {
     "data": {
      "text/plain": [
       "47048"
      ]
     },
     "execution_count": 16,
     "metadata": {},
     "output_type": "execute_result"
    }
   ],
   "source": [
    "data_size = len(data)\n",
    "data_size"
   ]
  },
  {
   "cell_type": "markdown",
   "metadata": {},
   "source": [
    "## Part 2 - Mapping universities to cantons"
   ]
  },
  {
   "cell_type": "markdown",
   "metadata": {},
   "source": [
    "<p>We want to display, somehow, the amount of money granted to each canton.<br>\n",
    "In technical terms, it means we have to find a mapping for  each `univ` value to its corresponding `canton` value.<p>\n",
    "\n",
    "<p>To do that, we will use the Google Places API. We take care not to divulge the API key, which will be placed in a separate file, ignored by Git.<br>\n",
    "The API call will return a location for each university. We then input this location in the Reverse Geocoding API, which will return a canton.</p>"
   ]
  },
  {
   "cell_type": "markdown",
   "metadata": {},
   "source": [
    "### 2a - Defining abstractions"
   ]
  },
  {
   "cell_type": "markdown",
   "metadata": {},
   "source": [
    "First, we need to import the Google API key from the key file:"
   ]
  },
  {
   "cell_type": "code",
   "execution_count": 17,
   "metadata": {
    "collapsed": false
   },
   "outputs": [],
   "source": [
    "api_key = !head api_key\n",
    "api_key = api_key[0]"
   ]
  },
  {
   "cell_type": "markdown",
   "metadata": {},
   "source": [
    "We define the following helper method for fetching JSON from Google APIs:"
   ]
  },
  {
   "cell_type": "code",
   "execution_count": 18,
   "metadata": {
    "collapsed": true
   },
   "outputs": [],
   "source": [
    "def fetch_json(url, params):\n",
    "    ''' Fetches the json object resulting from the query of the url with\n",
    "        the given params.\n",
    "        Checks that the status is OK, otherwise returns None.\n",
    "        If the status is OK, then it will return the first result,\n",
    "        if it exists, None otherwise.\n",
    "    '''\n",
    "    response = requests.get(url, params)\n",
    "    obj = json.loads(response.text)\n",
    "    \n",
    "    if obj['status'] != 'OK':\n",
    "        #print('[E] status was', obj['status'])\n",
    "        return None\n",
    "    \n",
    "    if len(obj['results']) < 1:\n",
    "        return None\n",
    "    \n",
    "    return obj['results'][0]"
   ]
  },
  {
   "cell_type": "markdown",
   "metadata": {},
   "source": [
    "We define the following functions to get the canton from the university name, or the institution name if the university name is a non-profit or a private organization:"
   ]
  },
  {
   "cell_type": "code",
   "execution_count": 20,
   "metadata": {
    "collapsed": true
   },
   "outputs": [],
   "source": [
    "def get_query(univ, inst):\n",
    "    ''' Returns the university if it is not a non-profit or private organization, the institution otherwise.\n",
    "    '''\n",
    "    return univ if univ not in ('NPO', 'FP', 'FINST') else inst"
   ]
  },
  {
   "cell_type": "markdown",
   "metadata": {},
   "source": [
    "It is here that the \"magic\" happens:<br>\n",
    "for a pair `(university, institution)`, this function will figure out which of the two members of the tuple to feed to the Google APIs, and from the response, compute the canton for this pair.<br>\n",
    "It uses a global cache so that the query result is remembered if it is an actual canton."
   ]
  },
  {
   "cell_type": "code",
   "execution_count": 22,
   "metadata": {
    "collapsed": false
   },
   "outputs": [],
   "source": [
    "def get_canton(univ, inst, cache):\n",
    "    ''' Maps the input univ or inst to its canton.\n",
    "        First, tries to query the APIs on the university.\n",
    "          If no result was found, then query on the institution.\n",
    "          If still no result is found, returns 'NA'.\n",
    "        Caches the results in the cache dictionary.\n",
    "    '''\n",
    "    \n",
    "    ################ HELPERS ################\n",
    "    def get_location(query):\n",
    "        ''' Returns a location in the form (lat,lng) for the given query word, or 'NA' if nothing was found.\n",
    "            To do so, it uses the Google Places API.\n",
    "        '''\n",
    "        params = { 'key' : api_key, 'query' : query}\n",
    "        places_json = fetch_json(places_api_url, params)\n",
    "        \n",
    "        if places_json == None:\n",
    "            return 'NA'\n",
    "        else:\n",
    "            return places_json['geometry']['location']\n",
    "    \n",
    "    def get_canton_from_location(latlng):\n",
    "        ''' Returns a canton from the provided location object, or 'NA' if nothing was found.\n",
    "            To do so, it uses the Google Geocode API.\n",
    "        '''\n",
    "        params = {'latlng' : str(latlng['lat']) + ',' + str(latlng['lng']), 'sensor' : 'false'}\n",
    "        geo_json = fetch_json(geocode_api_url, params)\n",
    "        \n",
    "        if geo_json == None:\n",
    "            return 'NA'\n",
    "        else:\n",
    "            for r in geo_json['address_components']:\n",
    "                if 'administrative_area_level_1' in r['types']:\n",
    "                    return r['short_name']\n",
    "            return 'NA'\n",
    "    \n",
    "    \n",
    "    ################ FUNCTION CODE ################\n",
    "    \n",
    "    # use the cache for values that were previously retrieved\n",
    "    if univ in cache:\n",
    "        return cache[univ]\n",
    "    elif inst in cache:\n",
    "        return cache[inst]\n",
    "    \n",
    "    # determine the right query word (university or institution) and then perform a first lookup\n",
    "    query  = get_query(univ, inst)\n",
    "    latlng = get_location(query)\n",
    "    \n",
    "    # if it failed, try to lookup by institution name\n",
    "    if latlng == 'NA' and univ not in ('NPO', 'FP', 'FINST'):\n",
    "        query = inst\n",
    "        latlng = get_location(query)\n",
    "    \n",
    "    # if that failed too, we have no further options\n",
    "    if latlng == 'NA':\n",
    "        return 'NA'\n",
    "    \n",
    "    # querying geocode api to get a canton from the location\n",
    "    canton = get_canton_from_location(latlng)\n",
    "    if canton != 'NA':\n",
    "        cache[query] = canton\n",
    "    return canton"
   ]
  },
  {
   "cell_type": "markdown",
   "metadata": {},
   "source": [
    "### 2b - Using caching"
   ]
  },
  {
   "cell_type": "markdown",
   "metadata": {},
   "source": [
    "To make good use of time and API requests, we use caching.<br>\n",
    "To do so, we will group every entry by its university and try to find a canton for each entry. If we do, we register it in the cache:"
   ]
  },
  {
   "cell_type": "code",
   "execution_count": 23,
   "metadata": {
    "collapsed": false
   },
   "outputs": [],
   "source": [
    "cache = {}\n",
    "univs = data.univ.groupby(data.univ)\n",
    "\n",
    "for u in univs:\n",
    "    canton = get_canton(u[0], None, {})\n",
    "    if not canton == 'NA':\n",
    "        cache[u[0]] = canton"
   ]
  },
  {
   "cell_type": "markdown",
   "metadata": {},
   "source": [
    "As we can see, the canton for EPFL was successfully retrieved and cached. In subsequent calls for EPFL, the APIs will not be queried anymore."
   ]
  },
  {
   "cell_type": "code",
   "execution_count": 24,
   "metadata": {
    "collapsed": false
   },
   "outputs": [
    {
     "data": {
      "text/plain": [
       "'VD'"
      ]
     },
     "execution_count": 24,
     "metadata": {},
     "output_type": "execute_result"
    }
   ],
   "source": [
    "cache['EPF Lausanne - EPFL']"
   ]
  },
  {
   "cell_type": "markdown",
   "metadata": {},
   "source": [
    "The initial cache will work for the following proportion of the universities. Then, it will grow as the queries start being executed on the dataframe entries."
   ]
  },
  {
   "cell_type": "code",
   "execution_count": 25,
   "metadata": {
    "collapsed": false
   },
   "outputs": [
    {
     "name": "stdout",
     "output_type": "stream",
     "text": [
      "60 / 76\n"
     ]
    }
   ],
   "source": [
    "print(len(cache), '/', len(univs))"
   ]
  },
  {
   "cell_type": "markdown",
   "metadata": {},
   "source": [
    "### 2c - Retrieving the canton for each entry"
   ]
  },
  {
   "cell_type": "markdown",
   "metadata": {},
   "source": [
    "We now iterate over all the entries of the dataframe, yielding exactly one `canton` value per entry.<br>\n",
    "This should usually be done using a mapping function from one column to the other (as it was originally done), but so much can go wrong in 47,000+ entries (network failure, etc.), that we prefer the iterative solution. At least, we can save what has already been computed."
   ]
  },
  {
   "cell_type": "code",
   "execution_count": 27,
   "metadata": {
    "collapsed": false
   },
   "outputs": [],
   "source": [
    "if force_download:\n",
    "    cantons = pd.DataFrame(columns=('pnr', 'canton'))\n",
    "    cantons = cantons.set_index('pnr')\n",
    "    \n",
    "    for r in data.itertuples(index=True):\n",
    "        cantons.loc[r[0]] = get_canton(r.univ, r.inst, cache)\n",
    "else:\n",
    "    cantons = pd.read_csv('data/out_cantons.csv', sep=';')\n",
    "    cantons = cantons.set_index('pnr')"
   ]
  },
  {
   "cell_type": "markdown",
   "metadata": {},
   "source": [
    "<p>The proportion of retrieved `canton` values (vs. `NA` values) is:</p>\n",
    "\n",
    "*(The requirement from the assignment was 95%)*"
   ]
  },
  {
   "cell_type": "code",
   "execution_count": 29,
   "metadata": {
    "collapsed": false
   },
   "outputs": [
    {
     "name": "stdout",
     "output_type": "stream",
     "text": [
      "98.36 % of canton values are not null\n"
     ]
    }
   ],
   "source": [
    "cantons = cantons.replace('NA', np.NaN)\n",
    "proportion = (len(cantons.dropna()) / len(cantons)) * 100\n",
    "print('%.2f' % proportion, '% of canton values are not null')"
   ]
  },
  {
   "cell_type": "markdown",
   "metadata": {},
   "source": [
    "We can, if the file isn't already saved, write the computed values to disk:"
   ]
  },
  {
   "cell_type": "code",
   "execution_count": 30,
   "metadata": {
    "collapsed": false
   },
   "outputs": [],
   "source": [
    "if force_download:\n",
    "    cantons.to_csv('data/out_cantons.csv', sep=';', columns=['canton'])"
   ]
  },
  {
   "cell_type": "markdown",
   "metadata": {},
   "source": [
    "### 2d - Putting everything back together"
   ]
  },
  {
   "cell_type": "markdown",
   "metadata": {
    "collapsed": false
   },
   "source": [
    "First, check that the two dataframes are of the same length:"
   ]
  },
  {
   "cell_type": "code",
   "execution_count": 31,
   "metadata": {
    "collapsed": false
   },
   "outputs": [
    {
     "data": {
      "text/plain": [
       "True"
      ]
     },
     "execution_count": 31,
     "metadata": {},
     "output_type": "execute_result"
    }
   ],
   "source": [
    "len(data) == len(cantons)"
   ]
  },
  {
   "cell_type": "markdown",
   "metadata": {},
   "source": [
    "Then add the `canton` column to the original data frame:"
   ]
  },
  {
   "cell_type": "code",
   "execution_count": 32,
   "metadata": {
    "collapsed": false
   },
   "outputs": [
    {
     "data": {
      "text/html": [
       "<div>\n",
       "<table border=\"1\" class=\"dataframe\">\n",
       "  <thead>\n",
       "    <tr style=\"text-align: right;\">\n",
       "      <th></th>\n",
       "      <th>univ</th>\n",
       "      <th>amount</th>\n",
       "      <th>title</th>\n",
       "      <th>inst</th>\n",
       "      <th>canton</th>\n",
       "    </tr>\n",
       "    <tr>\n",
       "      <th>pnr</th>\n",
       "      <th></th>\n",
       "      <th></th>\n",
       "      <th></th>\n",
       "      <th></th>\n",
       "      <th></th>\n",
       "    </tr>\n",
       "  </thead>\n",
       "  <tbody>\n",
       "    <tr>\n",
       "      <th>5724</th>\n",
       "      <td>Université de Genève - GE</td>\n",
       "      <td>322114.0</td>\n",
       "      <td>Etudes sur la régulation de la transcription c...</td>\n",
       "      <td>Département de Biologie Moléculaire Faculté de...</td>\n",
       "      <td>Genève</td>\n",
       "    </tr>\n",
       "    <tr>\n",
       "      <th>141953</th>\n",
       "      <td>Universität Zürich - ZH</td>\n",
       "      <td>5000.0</td>\n",
       "      <td>Perspectives on Wittgenstein's Philosophy of M...</td>\n",
       "      <td>Philosophisches Seminar Universität Zürich</td>\n",
       "      <td>ZH</td>\n",
       "    </tr>\n",
       "    <tr>\n",
       "      <th>53286</th>\n",
       "      <td>Paul Scherrer Institut - PSI</td>\n",
       "      <td>150000.0</td>\n",
       "      <td>R'EQUIP: Energieaufgelöste Reflexionselektrone...</td>\n",
       "      <td>Paul Scherrer Institut</td>\n",
       "      <td>AG</td>\n",
       "    </tr>\n",
       "    <tr>\n",
       "      <th>116563</th>\n",
       "      <td>Universität Zürich - ZH</td>\n",
       "      <td>72283.0</td>\n",
       "      <td>Efficient, Diversified, and Secure Electricity...</td>\n",
       "      <td>Sozialökonomisches Institut (SOI) Universität ...</td>\n",
       "      <td>ZH</td>\n",
       "    </tr>\n",
       "    <tr>\n",
       "      <th>107476</th>\n",
       "      <td>ETH Zürich - ETHZ</td>\n",
       "      <td>67564.0</td>\n",
       "      <td>Micromechanics of magnetic shape-memory alloys</td>\n",
       "      <td>Institut für Angewandte Physik ETH Zürich</td>\n",
       "      <td>ZH</td>\n",
       "    </tr>\n",
       "  </tbody>\n",
       "</table>\n",
       "</div>"
      ],
      "text/plain": [
       "                                univ    amount  \\\n",
       "pnr                                              \n",
       "5724       Université de Genève - GE  322114.0   \n",
       "141953       Universität Zürich - ZH    5000.0   \n",
       "53286   Paul Scherrer Institut - PSI  150000.0   \n",
       "116563       Universität Zürich - ZH   72283.0   \n",
       "107476             ETH Zürich - ETHZ   67564.0   \n",
       "\n",
       "                                                    title  \\\n",
       "pnr                                                         \n",
       "5724    Etudes sur la régulation de la transcription c...   \n",
       "141953  Perspectives on Wittgenstein's Philosophy of M...   \n",
       "53286   R'EQUIP: Energieaufgelöste Reflexionselektrone...   \n",
       "116563  Efficient, Diversified, and Secure Electricity...   \n",
       "107476     Micromechanics of magnetic shape-memory alloys   \n",
       "\n",
       "                                                     inst  canton  \n",
       "pnr                                                                \n",
       "5724    Département de Biologie Moléculaire Faculté de...  Genève  \n",
       "141953         Philosophisches Seminar Universität Zürich      ZH  \n",
       "53286                              Paul Scherrer Institut      AG  \n",
       "116563  Sozialökonomisches Institut (SOI) Universität ...      ZH  \n",
       "107476          Institut für Angewandte Physik ETH Zürich      ZH  "
      ]
     },
     "execution_count": 32,
     "metadata": {},
     "output_type": "execute_result"
    }
   ],
   "source": [
    "data_cantons = pd.concat([data, cantons], axis=1, join_axes=[data.index])\n",
    "data_cantons.sample(5)"
   ]
  },
  {
   "cell_type": "markdown",
   "metadata": {
    "collapsed": true
   },
   "source": [
    "## Part 3 - Visualization"
   ]
  },
  {
   "cell_type": "markdown",
   "metadata": {},
   "source": [
    "We need to get rid of the `NA` values for the `canton` field:"
   ]
  },
  {
   "cell_type": "code",
   "execution_count": 33,
   "metadata": {
    "collapsed": false
   },
   "outputs": [
    {
     "name": "stdout",
     "output_type": "stream",
     "text": [
      "771 rows were deleted\n"
     ]
    }
   ],
   "source": [
    "print(data_cantons.canton.isnull().sum(), 'rows were deleted')\n",
    "data_cantons = data_cantons.dropna()"
   ]
  },
  {
   "cell_type": "markdown",
   "metadata": {},
   "source": [
    "### 3a - Why are you not Swiss??"
   ]
  },
  {
   "cell_type": "markdown",
   "metadata": {},
   "source": [
    "We notice that some queries that were executed yielded a `canton` field that does not match an actual Swiss canton. It is for example the case for grants given to embassies in foreign countries. <br>\n",
    "We need to filter the data to keep only the actual Swiss cantons. To that effect, we will get a list of `(short_name,long_name)` for each canton by using the provided `json` file. Then we can filter our dataframe."
   ]
  },
  {
   "cell_type": "code",
   "execution_count": 34,
   "metadata": {
    "collapsed": false
   },
   "outputs": [],
   "source": [
    "import codecs\n",
    "\n",
    "topo_file = codecs.open('data/ch-cantons.topojson.json', 'r', 'utf-8')\n",
    "obj = json.load(topo_file)\n",
    "topo_file.close()"
   ]
  },
  {
   "cell_type": "code",
   "execution_count": 35,
   "metadata": {
    "collapsed": false
   },
   "outputs": [
    {
     "data": {
      "text/plain": [
       "{'AG': 'Aargau',\n",
       " 'AI': 'Appenzell Innerrhoden',\n",
       " 'AR': 'Appenzell Ausserrhoden',\n",
       " 'BE': 'Bern/Berne',\n",
       " 'BL': 'Basel-Landschaft',\n",
       " 'BS': 'Basel-Stadt',\n",
       " 'FR': 'Fribourg',\n",
       " 'GE': 'Genève',\n",
       " 'GL': 'Glarus',\n",
       " 'GR': 'Graubünden/Grigioni',\n",
       " 'JU': 'Jura',\n",
       " 'LU': 'Luzern',\n",
       " 'NE': 'Neuchâtel',\n",
       " 'NW': 'Nidwalden',\n",
       " 'OW': 'Obwalden',\n",
       " 'SG': 'St. Gallen',\n",
       " 'SH': 'Schaffhausen',\n",
       " 'SO': 'Solothurn',\n",
       " 'SZ': 'Schwyz',\n",
       " 'TG': 'Thurgau',\n",
       " 'TI': 'Ticino',\n",
       " 'UR': 'Uri',\n",
       " 'VD': 'Vaud',\n",
       " 'VS': 'Valais/Wallis',\n",
       " 'ZG': 'Zug',\n",
       " 'ZH': 'Zürich'}"
      ]
     },
     "execution_count": 35,
     "metadata": {},
     "output_type": "execute_result"
    }
   ],
   "source": [
    "canton_ids = {}\n",
    "for c in obj['objects']['cantons']['geometries']:\n",
    "    canton_ids[c['id']] = c['properties']['name']\n",
    "canton_ids"
   ]
  },
  {
   "cell_type": "markdown",
   "metadata": {},
   "source": [
    "It looks like the data for Geneva was encoded by Google using the long name `Genève` instead of the code `GE`. We fix this:"
   ]
  },
  {
   "cell_type": "code",
   "execution_count": 36,
   "metadata": {
    "collapsed": false
   },
   "outputs": [],
   "source": [
    "data_cantons.canton = data_cantons.canton.replace('Genève', 'GE')"
   ]
  },
  {
   "cell_type": "markdown",
   "metadata": {},
   "source": [
    "The number of entries whose `canton` field does not match an actual canton is:"
   ]
  },
  {
   "cell_type": "code",
   "execution_count": 37,
   "metadata": {
    "collapsed": false
   },
   "outputs": [
    {
     "data": {
      "text/plain": [
       "167"
      ]
     },
     "execution_count": 37,
     "metadata": {},
     "output_type": "execute_result"
    }
   ],
   "source": [
    "not_swiss_predicate = [r for r in data_cantons.index if data_cantons.canton[r] not in canton_ids]\n",
    "len(data_cantons.loc[not_swiss_predicate])"
   ]
  },
  {
   "cell_type": "markdown",
   "metadata": {},
   "source": [
    "We use the defined predicate to drop the non-Swiss rows:"
   ]
  },
  {
   "cell_type": "code",
   "execution_count": 38,
   "metadata": {
    "collapsed": false
   },
   "outputs": [],
   "source": [
    "data_cantons = data_cantons.drop(not_swiss_predicate)"
   ]
  },
  {
   "cell_type": "markdown",
   "metadata": {},
   "source": [
    "### 3b - Summing grants per canton"
   ]
  },
  {
   "cell_type": "markdown",
   "metadata": {},
   "source": [
    "The first step is to group each entry by canton and sun all the grants allotted to each canton:"
   ]
  },
  {
   "cell_type": "code",
   "execution_count": 39,
   "metadata": {
    "collapsed": false
   },
   "outputs": [],
   "source": [
    "totals = data_cantons.groupby('canton').sum()"
   ]
  },
  {
   "cell_type": "markdown",
   "metadata": {},
   "source": [
    "We have data for the following number of cantons:"
   ]
  },
  {
   "cell_type": "code",
   "execution_count": 40,
   "metadata": {
    "collapsed": false
   },
   "outputs": [
    {
     "name": "stdout",
     "output_type": "stream",
     "text": [
      "23 / 26\n"
     ]
    }
   ],
   "source": [
    "print(len(totals), '/', '26')"
   ]
  },
  {
   "cell_type": "markdown",
   "metadata": {},
   "source": [
    "For the sake of completeness, we add `0`s for the cantons that are not represented:"
   ]
  },
  {
   "cell_type": "code",
   "execution_count": 41,
   "metadata": {
    "collapsed": false
   },
   "outputs": [],
   "source": [
    "for c in canton_ids:\n",
    "    if c not in totals.index:\n",
    "        totals.loc[c] = 0"
   ]
  },
  {
   "cell_type": "markdown",
   "metadata": {},
   "source": [
    "This gives the final list of cantons, sorted by descending total of grants received:"
   ]
  },
  {
   "cell_type": "code",
   "execution_count": 42,
   "metadata": {
    "collapsed": false
   },
   "outputs": [
    {
     "data": {
      "text/html": [
       "<div>\n",
       "<table border=\"1\" class=\"dataframe\">\n",
       "  <thead>\n",
       "    <tr style=\"text-align: right;\">\n",
       "      <th></th>\n",
       "      <th>amount</th>\n",
       "    </tr>\n",
       "    <tr>\n",
       "      <th>canton</th>\n",
       "      <th></th>\n",
       "    </tr>\n",
       "  </thead>\n",
       "  <tbody>\n",
       "    <tr>\n",
       "      <th>ZH</th>\n",
       "      <td>3.695896e+09</td>\n",
       "    </tr>\n",
       "    <tr>\n",
       "      <th>VD</th>\n",
       "      <td>2.421402e+09</td>\n",
       "    </tr>\n",
       "    <tr>\n",
       "      <th>GE</th>\n",
       "      <td>1.872504e+09</td>\n",
       "    </tr>\n",
       "    <tr>\n",
       "      <th>BE</th>\n",
       "      <td>1.563420e+09</td>\n",
       "    </tr>\n",
       "    <tr>\n",
       "      <th>BS</th>\n",
       "      <td>1.393876e+09</td>\n",
       "    </tr>\n",
       "    <tr>\n",
       "      <th>FR</th>\n",
       "      <td>4.533588e+08</td>\n",
       "    </tr>\n",
       "    <tr>\n",
       "      <th>NE</th>\n",
       "      <td>4.011148e+08</td>\n",
       "    </tr>\n",
       "    <tr>\n",
       "      <th>AG</th>\n",
       "      <td>1.272474e+08</td>\n",
       "    </tr>\n",
       "    <tr>\n",
       "      <th>TI</th>\n",
       "      <td>1.206732e+08</td>\n",
       "    </tr>\n",
       "    <tr>\n",
       "      <th>SG</th>\n",
       "      <td>9.397932e+07</td>\n",
       "    </tr>\n",
       "    <tr>\n",
       "      <th>LU</th>\n",
       "      <td>6.893517e+07</td>\n",
       "    </tr>\n",
       "    <tr>\n",
       "      <th>GR</th>\n",
       "      <td>4.682432e+07</td>\n",
       "    </tr>\n",
       "    <tr>\n",
       "      <th>SO</th>\n",
       "      <td>4.477807e+07</td>\n",
       "    </tr>\n",
       "    <tr>\n",
       "      <th>JU</th>\n",
       "      <td>3.489236e+07</td>\n",
       "    </tr>\n",
       "    <tr>\n",
       "      <th>VS</th>\n",
       "      <td>3.232015e+07</td>\n",
       "    </tr>\n",
       "    <tr>\n",
       "      <th>ZG</th>\n",
       "      <td>1.104449e+07</td>\n",
       "    </tr>\n",
       "    <tr>\n",
       "      <th>TG</th>\n",
       "      <td>6.491288e+06</td>\n",
       "    </tr>\n",
       "    <tr>\n",
       "      <th>BL</th>\n",
       "      <td>6.012975e+06</td>\n",
       "    </tr>\n",
       "    <tr>\n",
       "      <th>UR</th>\n",
       "      <td>4.299089e+06</td>\n",
       "    </tr>\n",
       "    <tr>\n",
       "      <th>SZ</th>\n",
       "      <td>1.616138e+06</td>\n",
       "    </tr>\n",
       "    <tr>\n",
       "      <th>SH</th>\n",
       "      <td>1.452024e+06</td>\n",
       "    </tr>\n",
       "    <tr>\n",
       "      <th>AR</th>\n",
       "      <td>3.560000e+05</td>\n",
       "    </tr>\n",
       "    <tr>\n",
       "      <th>GL</th>\n",
       "      <td>2.689700e+04</td>\n",
       "    </tr>\n",
       "    <tr>\n",
       "      <th>NW</th>\n",
       "      <td>0.000000e+00</td>\n",
       "    </tr>\n",
       "    <tr>\n",
       "      <th>AI</th>\n",
       "      <td>0.000000e+00</td>\n",
       "    </tr>\n",
       "    <tr>\n",
       "      <th>OW</th>\n",
       "      <td>0.000000e+00</td>\n",
       "    </tr>\n",
       "  </tbody>\n",
       "</table>\n",
       "</div>"
      ],
      "text/plain": [
       "              amount\n",
       "canton              \n",
       "ZH      3.695896e+09\n",
       "VD      2.421402e+09\n",
       "GE      1.872504e+09\n",
       "BE      1.563420e+09\n",
       "BS      1.393876e+09\n",
       "FR      4.533588e+08\n",
       "NE      4.011148e+08\n",
       "AG      1.272474e+08\n",
       "TI      1.206732e+08\n",
       "SG      9.397932e+07\n",
       "LU      6.893517e+07\n",
       "GR      4.682432e+07\n",
       "SO      4.477807e+07\n",
       "JU      3.489236e+07\n",
       "VS      3.232015e+07\n",
       "ZG      1.104449e+07\n",
       "TG      6.491288e+06\n",
       "BL      6.012975e+06\n",
       "UR      4.299089e+06\n",
       "SZ      1.616138e+06\n",
       "SH      1.452024e+06\n",
       "AR      3.560000e+05\n",
       "GL      2.689700e+04\n",
       "NW      0.000000e+00\n",
       "AI      0.000000e+00\n",
       "OW      0.000000e+00"
      ]
     },
     "execution_count": 42,
     "metadata": {},
     "output_type": "execute_result"
    }
   ],
   "source": [
    "totals.sort_values(by='amount', ascending=False)"
   ]
  },
  {
   "cell_type": "markdown",
   "metadata": {},
   "source": [
    "### 3c - Final map"
   ]
  },
  {
   "cell_type": "markdown",
   "metadata": {},
   "source": [
    "<p>Let's split the grants totals into six slices.</p>\n",
    "\n",
    "<p>First, we used a linear scale of 1/5th quantiles (20%, 40%, ...). However, we realized that in the top 26/5 = 5+ values, there was a very large gap between the first and the last value, but they were represented with the same color.<br>\n",
    "The same goes for the last quantile: AR and GL were allotted grants but they were represented with the same color are NW, AI and OW, which had no money granted.</p>\n",
    "\n",
    "<p>We then came up with the following quantiles scale for our representation:</p>"
   ]
  },
  {
   "cell_type": "code",
   "execution_count": 46,
   "metadata": {
    "collapsed": false
   },
   "outputs": [],
   "source": [
    "quantiles = totals.quantile([.10, .45, .60, .85, .90, 1.0])\n",
    "scale = quantiles.amount.tolist()"
   ]
  },
  {
   "cell_type": "markdown",
   "metadata": {},
   "source": [
    "This snippet will give us the final map, using our custom scale:"
   ]
  },
  {
   "cell_type": "code",
   "execution_count": 47,
   "metadata": {
    "collapsed": false
   },
   "outputs": [],
   "source": [
    "map_cantons = folium.Map(location=[46.9,8.3], zoom_start=8, tiles='cartodbpositron')\n",
    "map_cantons.choropleth(geo_path = 'data/ch-cantons.topojson.json',\n",
    "                       data = totals.reset_index(),\n",
    "                       columns = ['canton', 'amount'],\n",
    "                       key_on = 'feature.id',\n",
    "                       threshold_scale = scale,\n",
    "                       topojson = 'objects.cantons',\n",
    "                       fill_color = 'GnBu',\n",
    "                       legend_name = 'Total amount of SNF grants (CHF)'\n",
    ")"
   ]
  },
  {
   "cell_type": "code",
   "execution_count": 50,
   "metadata": {
    "collapsed": false
   },
   "outputs": [
    {
     "name": "stdout",
     "output_type": "stream",
     "text": [
      "Total amount of SNF grants (CHF):\n"
     ]
    },
    {
     "data": {
      "text/html": [
       "<div style=\"width:100%;\"><div style=\"position:relative;width:100%;height:0;padding-bottom:60%;\"><iframe src=\"data:text/html;base64,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\" style=\"position:absolute;width:100%;height:100%;left:0;top:0;\"></iframe></div></div>"
      ],
      "text/plain": [
       "<folium.folium.Map at 0x258a2b388d0>"
      ]
     },
     "execution_count": 50,
     "metadata": {},
     "output_type": "execute_result"
    }
   ],
   "source": [
    "map_cantons.save('map.html')\n",
    "print('Total amount of SNF grants (CHF):')\n",
    "map_cantons"
   ]
  },
  {
   "cell_type": "markdown",
   "metadata": {
    "collapsed": true
   },
   "source": [
    "N.B. For convenience, we include the following screenshot of the map. If the reader wants to see a dynamic map, they should download the `map.html` file that's included in the repo.<br>\n",
    "<img src=\"screenshot-map.png\">"
   ]
  },
  {
   "cell_type": "code",
   "execution_count": null,
   "metadata": {
    "collapsed": true
   },
   "outputs": [],
   "source": []
  }
 ],
 "metadata": {
  "anaconda-cloud": {},
  "kernelspec": {
   "display_name": "Python [conda root]",
   "language": "python",
   "name": "conda-root-py"
  },
  "language_info": {
   "codemirror_mode": {
    "name": "ipython",
    "version": 3
   },
   "file_extension": ".py",
   "mimetype": "text/x-python",
   "name": "python",
   "nbconvert_exporter": "python",
   "pygments_lexer": "ipython3",
   "version": "3.5.2"
  }
 },
 "nbformat": 4,
 "nbformat_minor": 1
}
