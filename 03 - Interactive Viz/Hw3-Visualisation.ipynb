{
 "cells": [
  {
   "cell_type": "markdown",
   "metadata": {},
   "source": [
    "# ADA / Applied Data Analysis\n",
    "<h2 style=\"color:#a8a8a8\">Homework 3 - Visualization<br>\n",
    "Aimée Montero, Alfonso Peterssen, Cyriaque Brousse</h2>"
   ]
  },
  {
   "cell_type": "markdown",
   "metadata": {},
   "source": [
    "<ol class=\"toc-item\"><li><a href=\"#Part-1---Data-import\">Part 1 - Data import</a><ol class=\"toc-item\"><li><a href=\"#1a---Indexing\">1a - Indexing</a></li><li><a href=\"#1b---Cleaning-the-data\">1b - Cleaning the data</a></li></ol></li><li><a href=\"#Part-2---Mapping-universities-to-cantons\">Part 2 - Mapping universities to cantons</a><ol class=\"toc-item\"><li><a href=\"#2a---Defining-abstractions\">2a - Defining abstractions</a></li><li><a href=\"#2b---Using-caching\">2b - Using caching</a></li><li><a href=\"#2c---Retrieving-the-canton-for-each-entry\">2c - Retrieving the canton for each entry</a></li><li><a href=\"#2d---Putting-everything-back-together\">2d - Putting everything back together</a></li></ol></li><li><a href=\"#Part-3---Visualization\">Part 3 - Visualization</a><ol class=\"toc-item\"><li><a href=\"#3a---Why-are-you-not-Swiss??\">3a - Why are you not Swiss??</a></li><li><a href=\"#3b---Summing-grants-per-canton\">3b - Summing grants per canton</a></li><li><a href=\"#3c---Final-map\">3c - Final map</a></li></ol></li></ol>"
   ]
  },
  {
   "cell_type": "markdown",
   "metadata": {},
   "source": [
    "## Part 1 - Data import"
   ]
  },
  {
   "cell_type": "markdown",
   "metadata": {
    "collapsed": true
   },
   "source": [
    "Let's import the required libraries:"
   ]
  },
  {
   "cell_type": "code",
   "execution_count": 55,
   "metadata": {
    "collapsed": false
   },
   "outputs": [],
   "source": [
    "import folium\n",
    "import pandas as pd\n",
    "import numpy as np\n",
    "import requests\n",
    "import json"
   ]
  },
  {
   "cell_type": "markdown",
   "metadata": {},
   "source": [
    "And define the constants for the Google APIs:"
   ]
  },
  {
   "cell_type": "code",
   "execution_count": 56,
   "metadata": {
    "collapsed": true
   },
   "outputs": [],
   "source": [
    "# change this flag to force overwrite of the saved values by fresh data from Google APIs (takes a long time)\n",
    "force_download = False"
   ]
  },
  {
   "cell_type": "code",
   "execution_count": 57,
   "metadata": {
    "collapsed": true
   },
   "outputs": [],
   "source": [
    "places_api_url = 'https://maps.googleapis.com/maps/api/place/textsearch/json'\n",
    "geocode_api_url = 'http://maps.googleapis.com/maps/api/geocode/json'"
   ]
  },
  {
   "cell_type": "markdown",
   "metadata": {},
   "source": [
    "Read the data from the provided CSV file:"
   ]
  },
  {
   "cell_type": "code",
   "execution_count": 58,
   "metadata": {
    "collapsed": false
   },
   "outputs": [],
   "source": [
    "data = pd.read_csv('data/grantexport.csv', sep=';')"
   ]
  },
  {
   "cell_type": "code",
   "execution_count": 59,
   "metadata": {
    "collapsed": false
   },
   "outputs": [],
   "source": [
    "cols = {'Project Number' : 'pnr',\n",
    "       'Project Title' : 'title',\n",
    "       'University' : 'univ',\n",
    "       'Institution' : 'inst',\n",
    "       'Approved Amount' : 'amount'}\n",
    "data = data.rename(columns=cols)\n",
    "data = data[[v for (k,v) in cols.items()]]"
   ]
  },
  {
   "cell_type": "markdown",
   "metadata": {},
   "source": [
    "### 1a - Indexing"
   ]
  },
  {
   "cell_type": "markdown",
   "metadata": {
    "collapsed": true
   },
   "source": [
    "According to the documentation, the values in the field `pnr` are unique. We check this and use it as an index for our data frame."
   ]
  },
  {
   "cell_type": "code",
   "execution_count": 60,
   "metadata": {
    "collapsed": false
   },
   "outputs": [
    {
     "data": {
      "text/plain": [
       "True"
      ]
     },
     "execution_count": 60,
     "metadata": {},
     "output_type": "execute_result"
    }
   ],
   "source": [
    "data.pnr.is_unique"
   ]
  },
  {
   "cell_type": "code",
   "execution_count": 61,
   "metadata": {
    "collapsed": false
   },
   "outputs": [],
   "source": [
    "data = data.set_index('pnr')"
   ]
  },
  {
   "cell_type": "markdown",
   "metadata": {},
   "source": [
    "We discard the values in the `amount` field that are not numeric. The documentation states that *\"This amount is not indicated in the case of mobility fellowships since it depends on administrative factors, typically the destination, cost of living, family allowances (if applicable) and exchange rate differences.\"*."
   ]
  },
  {
   "cell_type": "code",
   "execution_count": 62,
   "metadata": {
    "collapsed": false
   },
   "outputs": [
    {
     "data": {
      "text/html": [
       "<div>\n",
       "<table border=\"1\" class=\"dataframe\">\n",
       "  <thead>\n",
       "    <tr style=\"text-align: right;\">\n",
       "      <th></th>\n",
       "      <th>amount</th>\n",
       "      <th>univ</th>\n",
       "      <th>inst</th>\n",
       "      <th>title</th>\n",
       "    </tr>\n",
       "    <tr>\n",
       "      <th>pnr</th>\n",
       "      <th></th>\n",
       "      <th></th>\n",
       "      <th></th>\n",
       "      <th></th>\n",
       "    </tr>\n",
       "  </thead>\n",
       "  <tbody>\n",
       "    <tr>\n",
       "      <th>160083</th>\n",
       "      <td>151554.0</td>\n",
       "      <td>EPF Lausanne - EPFL</td>\n",
       "      <td>Laboratoire d'hydraulique environnementale EPF...</td>\n",
       "      <td>The Stochastic Torrent: stochastic model for b...</td>\n",
       "    </tr>\n",
       "    <tr>\n",
       "      <th>102331</th>\n",
       "      <td>NaN</td>\n",
       "      <td>NaN</td>\n",
       "      <td>The Netherlands Cancer Institute Division of G...</td>\n",
       "      <td>Pharmacogenotyping and -phhenotyping in cancer...</td>\n",
       "    </tr>\n",
       "    <tr>\n",
       "      <th>59161</th>\n",
       "      <td>713366.0</td>\n",
       "      <td>Universität Zürich - ZH</td>\n",
       "      <td>Physik-Institut Universität Zürich</td>\n",
       "      <td>Elementary particle physics at the electron-Pr...</td>\n",
       "    </tr>\n",
       "    <tr>\n",
       "      <th>136563</th>\n",
       "      <td>8000.0</td>\n",
       "      <td>Universität Basel - BS</td>\n",
       "      <td>Musikwissenschaftliches Seminar Universität Basel</td>\n",
       "      <td>Urbanität, Identitätskonstruktion und Humanism...</td>\n",
       "    </tr>\n",
       "    <tr>\n",
       "      <th>127021</th>\n",
       "      <td>305940.0</td>\n",
       "      <td>EPF Lausanne - EPFL</td>\n",
       "      <td>Laboratoire de design et media EPFL IC ISIM LDM</td>\n",
       "      <td>Spatio-Temporal Memory Streaming</td>\n",
       "    </tr>\n",
       "  </tbody>\n",
       "</table>\n",
       "</div>"
      ],
      "text/plain": [
       "          amount                     univ  \\\n",
       "pnr                                         \n",
       "160083  151554.0      EPF Lausanne - EPFL   \n",
       "102331       NaN                      NaN   \n",
       "59161   713366.0  Universität Zürich - ZH   \n",
       "136563    8000.0   Universität Basel - BS   \n",
       "127021  305940.0      EPF Lausanne - EPFL   \n",
       "\n",
       "                                                     inst  \\\n",
       "pnr                                                         \n",
       "160083  Laboratoire d'hydraulique environnementale EPF...   \n",
       "102331  The Netherlands Cancer Institute Division of G...   \n",
       "59161                  Physik-Institut Universität Zürich   \n",
       "136563  Musikwissenschaftliches Seminar Universität Basel   \n",
       "127021    Laboratoire de design et media EPFL IC ISIM LDM   \n",
       "\n",
       "                                                    title  \n",
       "pnr                                                        \n",
       "160083  The Stochastic Torrent: stochastic model for b...  \n",
       "102331  Pharmacogenotyping and -phhenotyping in cancer...  \n",
       "59161   Elementary particle physics at the electron-Pr...  \n",
       "136563  Urbanität, Identitätskonstruktion und Humanism...  \n",
       "127021                   Spatio-Temporal Memory Streaming  "
      ]
     },
     "execution_count": 62,
     "metadata": {},
     "output_type": "execute_result"
    }
   ],
   "source": [
    "data.amount = pd.to_numeric(data.amount, errors='coerce')\n",
    "data.sample(5)"
   ]
  },
  {
   "cell_type": "markdown",
   "metadata": {},
   "source": [
    "### 1b - Cleaning the data"
   ]
  },
  {
   "cell_type": "markdown",
   "metadata": {},
   "source": [
    "The number of rows for which the `amount` field is not a number is:"
   ]
  },
  {
   "cell_type": "code",
   "execution_count": 63,
   "metadata": {
    "collapsed": false
   },
   "outputs": [
    {
     "data": {
      "text/plain": [
       "10910"
      ]
     },
     "execution_count": 63,
     "metadata": {},
     "output_type": "execute_result"
    }
   ],
   "source": [
    "data.amount.isnull().sum()"
   ]
  },
  {
   "cell_type": "code",
   "execution_count": 152,
   "metadata": {
    "collapsed": false
   },
   "outputs": [
    {
     "data": {
      "text/html": [
       "<div>\n",
       "<table border=\"1\" class=\"dataframe\">\n",
       "  <thead>\n",
       "    <tr style=\"text-align: right;\">\n",
       "      <th></th>\n",
       "      <th>amount</th>\n",
       "      <th>univ</th>\n",
       "      <th>inst</th>\n",
       "      <th>title</th>\n",
       "    </tr>\n",
       "    <tr>\n",
       "      <th>pnr</th>\n",
       "      <th></th>\n",
       "      <th></th>\n",
       "      <th></th>\n",
       "      <th></th>\n",
       "    </tr>\n",
       "  </thead>\n",
       "  <tbody>\n",
       "    <tr>\n",
       "      <th>154628</th>\n",
       "      <td>7400.0</td>\n",
       "      <td>Université de Neuchâtel - NE</td>\n",
       "      <td>Linguistique française Sciences du langage et ...</td>\n",
       "      <td>Les marqueurs évidentiels dans les langues rom...</td>\n",
       "    </tr>\n",
       "    <tr>\n",
       "      <th>29530</th>\n",
       "      <td>21900.0</td>\n",
       "      <td>Universität Basel - BS</td>\n",
       "      <td>UNI: Katedra socioekonomickej geografie Prir o...</td>\n",
       "      <td>Stadterneuerung des Stadtteils Petrzalka in Br...</td>\n",
       "    </tr>\n",
       "    <tr>\n",
       "      <th>134571</th>\n",
       "      <td>243084.0</td>\n",
       "      <td>Eidg. Material und Prüfungsanstalt - EMPA</td>\n",
       "      <td>Eidg. Materialprüfungs- und Forschungsanstalt ...</td>\n",
       "      <td>Carbon-Nanotube/Metal Interfaces: Tailoring an...</td>\n",
       "    </tr>\n",
       "    <tr>\n",
       "      <th>113542</th>\n",
       "      <td>214314.0</td>\n",
       "      <td>EPF Lausanne - EPFL</td>\n",
       "      <td>Laboratoire en semiconducteurs avancés pour la...</td>\n",
       "      <td>III-V Nitride Microcavities and Nanostructures</td>\n",
       "    </tr>\n",
       "    <tr>\n",
       "      <th>6917</th>\n",
       "      <td>61557.0</td>\n",
       "      <td>Universität Bern - BE</td>\n",
       "      <td>Laboratorium für Populationsgenetik Institut f...</td>\n",
       "      <td>Enzymelektrophoretische Untersuchungen über di...</td>\n",
       "    </tr>\n",
       "  </tbody>\n",
       "</table>\n",
       "</div>"
      ],
      "text/plain": [
       "          amount                                       univ  \\\n",
       "pnr                                                           \n",
       "154628    7400.0               Université de Neuchâtel - NE   \n",
       "29530    21900.0                     Universität Basel - BS   \n",
       "134571  243084.0  Eidg. Material und Prüfungsanstalt - EMPA   \n",
       "113542  214314.0                        EPF Lausanne - EPFL   \n",
       "6917     61557.0                      Universität Bern - BE   \n",
       "\n",
       "                                                     inst  \\\n",
       "pnr                                                         \n",
       "154628  Linguistique française Sciences du langage et ...   \n",
       "29530   UNI: Katedra socioekonomickej geografie Prir o...   \n",
       "134571  Eidg. Materialprüfungs- und Forschungsanstalt ...   \n",
       "113542  Laboratoire en semiconducteurs avancés pour la...   \n",
       "6917    Laboratorium für Populationsgenetik Institut f...   \n",
       "\n",
       "                                                    title  \n",
       "pnr                                                        \n",
       "154628  Les marqueurs évidentiels dans les langues rom...  \n",
       "29530   Stadterneuerung des Stadtteils Petrzalka in Br...  \n",
       "134571  Carbon-Nanotube/Metal Interfaces: Tailoring an...  \n",
       "113542     III-V Nitride Microcavities and Nanostructures  \n",
       "6917    Enzymelektrophoretische Untersuchungen über di...  "
      ]
     },
     "execution_count": 152,
     "metadata": {},
     "output_type": "execute_result"
    }
   ],
   "source": [
    "data = data.replace('Nicht zuteilbar - NA', np.NaN)\n",
    "data = data.replace('NPO (Biblioth., Museen, Verwalt.) - NPO', 'NPO')\n",
    "data = data.replace('Firmen/Privatwirtschaft - FP', 'FP')\n",
    "data = data.replace('Weitere Institute - FINST', 'FINST')\n",
    "data = data.dropna()\n",
    "data.sample(5)"
   ]
  },
  {
   "cell_type": "markdown",
   "metadata": {},
   "source": [
    "## Part 2 - Mapping universities to cantons"
   ]
  },
  {
   "cell_type": "markdown",
   "metadata": {},
   "source": [
    "<p>We want to display, somehow, the amount of money granted to each canton.<br>\n",
    "In technical terms, it means we have to find a mapping for  each `univ` value to its corresponding `canton` value.<p>\n",
    "\n",
    "<p>To do that, we will use the Google Places API. We take care not to divulge the API key, which will be placed in a separate file, ignored by Git.<br>\n",
    "The API call will return a location for each university. We then input this location in the Reverse Geocoding API, which will return a canton.</p>"
   ]
  },
  {
   "cell_type": "markdown",
   "metadata": {},
   "source": [
    "### 2a - Defining abstractions"
   ]
  },
  {
   "cell_type": "markdown",
   "metadata": {},
   "source": [
    "First, we need to import the Google API key from the key file:"
   ]
  },
  {
   "cell_type": "code",
   "execution_count": 65,
   "metadata": {
    "collapsed": false
   },
   "outputs": [],
   "source": [
    "api_key = !head api_key\n",
    "api_key = api_key[0]"
   ]
  },
  {
   "cell_type": "markdown",
   "metadata": {},
   "source": [
    "We define the following helper method for fetching JSON from Google APIs:"
   ]
  },
  {
   "cell_type": "code",
   "execution_count": 66,
   "metadata": {
    "collapsed": true
   },
   "outputs": [],
   "source": [
    "def fetch_json(url, params):\n",
    "    ''' Fetches the json object resulting from the query of the url with\n",
    "        the given params.\n",
    "        Checks that the status is OK, otherwise returns None.\n",
    "        If the status is OK, then it will return the first result,\n",
    "        if it exists, None otherwise.\n",
    "    '''\n",
    "    response = requests.get(url, params)\n",
    "    obj = json.loads(response.text)\n",
    "    \n",
    "    if obj['status'] != 'OK':\n",
    "        #print('[E] status was', obj['status'])\n",
    "        return None\n",
    "    \n",
    "    if len(obj['results']) < 1:\n",
    "        return None\n",
    "    \n",
    "    return obj['results'][0]"
   ]
  },
  {
   "cell_type": "markdown",
   "metadata": {},
   "source": [
    "We define the following functions to get the canton from the university name, or the institution name if the university name is a non-profit or a private organization:"
   ]
  },
  {
   "cell_type": "code",
   "execution_count": 153,
   "metadata": {
    "collapsed": true
   },
   "outputs": [],
   "source": [
    "def get_query(univ, inst):\n",
    "    ''' Returns the university if it is not a non-profit or private organization, the institution otherwise.\n",
    "    '''\n",
    "    return univ if univ not in ('NPO', 'FP', 'FINST') else inst"
   ]
  },
  {
   "cell_type": "code",
   "execution_count": 154,
   "metadata": {
    "collapsed": false
   },
   "outputs": [],
   "source": [
    "def get_canton(univ, inst, cache):\n",
    "    ''' Maps the input univ or inst to its canton.\n",
    "        First, tries to query the APIs on the university.\n",
    "          If no result was found, then query on the institution.\n",
    "          If still no result is found, returns 'NA'.\n",
    "        Caches the results in the cache dictionary.\n",
    "    '''\n",
    "    \n",
    "    def get_location(query):\n",
    "        ''' Returns a location in the form (lat,lng) for the given query word, or 'NA' if nothing was found.\n",
    "            To do so, it uses the Google Places API.\n",
    "        '''\n",
    "        params = { 'key' : api_key, 'query' : query}\n",
    "        places_json = fetch_json(places_api_url, params)\n",
    "        \n",
    "        if places_json == None:\n",
    "            return 'NA'\n",
    "        else:\n",
    "            return places_json['geometry']['location']\n",
    "    \n",
    "    def get_canton_from_location(latlng):\n",
    "        ''' Returns a canton from the provided location object, or 'NA' if nothing was found.\n",
    "            To do so, it uses the Google Geocode API.\n",
    "        '''\n",
    "        params = {'latlng' : str(latlng['lat']) + ',' + str(latlng['lng']), 'sensor' : 'false'}\n",
    "        geo_json = fetch_json(geocode_api_url, params)\n",
    "        \n",
    "        if geo_json == None:\n",
    "            return 'NA'\n",
    "        else:\n",
    "            for r in geo_json['address_components']:\n",
    "                if 'administrative_area_level_1' in r['types']:\n",
    "                    return r['short_name']\n",
    "            return 'NA'\n",
    "    \n",
    "    # use the cache for values that were previously retrieved\n",
    "    if univ in cache:\n",
    "        return cache[univ]\n",
    "    elif inst in cache:\n",
    "        return cache[inst]\n",
    "    \n",
    "    # determine the right query word (university or institution) and then perform a first lookup\n",
    "    query  = get_query(univ, inst)\n",
    "    latlng = get_location(query)\n",
    "    \n",
    "    # if it failed, try to lookup by institution name\n",
    "    if latlng == 'NA' and univ not in ('NPO', 'FP', 'FINST'):\n",
    "        latlng = get_location(query=inst)\n",
    "    \n",
    "    # if that failed too, we have no further options\n",
    "    if latlng == 'NA':\n",
    "        return 'NA'\n",
    "    \n",
    "    # querying geocode api to get a canton from the location\n",
    "    canton = get_canton_from_location(latlng)\n",
    "    if canton != 'NA':\n",
    "        cache[query] = canton\n",
    "    return canton"
   ]
  },
  {
   "cell_type": "markdown",
   "metadata": {},
   "source": [
    "### 2b - Using caching"
   ]
  },
  {
   "cell_type": "markdown",
   "metadata": {},
   "source": [
    "To make good use of time and API requests, we use caching.<br>\n",
    "To do so, we will group every entry by its university and try to find a canton for each entry. If we do, we register it in the cache:"
   ]
  },
  {
   "cell_type": "code",
   "execution_count": 102,
   "metadata": {
    "collapsed": false
   },
   "outputs": [],
   "source": [
    "cache = {}\n",
    "univs = data.univ.groupby(data.univ)\n",
    "\n",
    "for u in univs:\n",
    "    canton = get_canton(u[0], None, {})\n",
    "    if not canton == 'NA':\n",
    "        cache[u[0]] = canton"
   ]
  },
  {
   "cell_type": "markdown",
   "metadata": {},
   "source": [
    "As we can see, the canton for EPFL was successfully retrieved and cached. In subsequent calls for EPFL, the APIs will not be queried anymore."
   ]
  },
  {
   "cell_type": "code",
   "execution_count": 103,
   "metadata": {
    "collapsed": false
   },
   "outputs": [
    {
     "data": {
      "text/plain": [
       "'VD'"
      ]
     },
     "execution_count": 103,
     "metadata": {},
     "output_type": "execute_result"
    }
   ],
   "source": [
    "cache['EPF Lausanne - EPFL']"
   ]
  },
  {
   "cell_type": "markdown",
   "metadata": {},
   "source": [
    "The initial cache will work for the following proportion of the universities. Then, it will grow as the queries start being executed on the dataframe entries."
   ]
  },
  {
   "cell_type": "code",
   "execution_count": 104,
   "metadata": {
    "collapsed": false
   },
   "outputs": [
    {
     "name": "stdout",
     "output_type": "stream",
     "text": [
      "60 / 76\n"
     ]
    }
   ],
   "source": [
    "print(len(cache.keys()), '/', len(univs))"
   ]
  },
  {
   "cell_type": "markdown",
   "metadata": {},
   "source": [
    "### 2c - Retrieving the canton for each entry"
   ]
  },
  {
   "cell_type": "markdown",
   "metadata": {},
   "source": [
    "We now iterate over all the entries of the dataframe, yielding exactly one `canton` value per entry.<br>\n",
    "This should usually be done using a mapping function from one column to the other (as it was originally done), but so much can go wrong in 47,000+ entries (network failure, etc.), that we prefer the iterative solution. At least, we can save what has already been computed."
   ]
  },
  {
   "cell_type": "code",
   "execution_count": 168,
   "metadata": {
    "collapsed": false
   },
   "outputs": [],
   "source": [
    "if force_download:\n",
    "    cantons = pd.DataFrame(columns=('pnr', 'canton'))\n",
    "    cantons = cantons.set_index('pnr')\n",
    "    \n",
    "    for r in data.itertuples(index=True):\n",
    "        cantons.loc[r[0]] = get_canton(r.univ, r.inst, cache)\n",
    "else:\n",
    "    cantons = pd.read_csv('data/out_cantons.csv', sep=';')\n",
    "    cantons = cantons.set_index('pnr')"
   ]
  },
  {
   "cell_type": "markdown",
   "metadata": {},
   "source": [
    "The proportion of retrieved `canton` values (vs. `NA` values) is:"
   ]
  },
  {
   "cell_type": "code",
   "execution_count": 169,
   "metadata": {
    "collapsed": false
   },
   "outputs": [
    {
     "name": "stdout",
     "output_type": "stream",
     "text": [
      "98.30 % of canton values are not null\n"
     ]
    }
   ],
   "source": [
    "cantons = cantons.replace('NA', np.NaN)\n",
    "proportion = (len(cantons.dropna()) / len(cantons)) * 100\n",
    "print('%.2f' % proportion, '% of canton values are not null')"
   ]
  },
  {
   "cell_type": "markdown",
   "metadata": {},
   "source": [
    "We can, if the file isn't already saved, write the computed values to disk:"
   ]
  },
  {
   "cell_type": "code",
   "execution_count": 170,
   "metadata": {
    "collapsed": false
   },
   "outputs": [],
   "source": [
    "if force_download:\n",
    "    cantons.to_csv('data/out_cantons.csv', sep=';', columns=['canton'])"
   ]
  },
  {
   "cell_type": "markdown",
   "metadata": {},
   "source": [
    "### 2d - Putting everything back together"
   ]
  },
  {
   "cell_type": "markdown",
   "metadata": {
    "collapsed": false
   },
   "source": [
    "First, check that the two dataframes are of the same length:"
   ]
  },
  {
   "cell_type": "code",
   "execution_count": 171,
   "metadata": {
    "collapsed": false
   },
   "outputs": [
    {
     "data": {
      "text/plain": [
       "True"
      ]
     },
     "execution_count": 171,
     "metadata": {},
     "output_type": "execute_result"
    }
   ],
   "source": [
    "len(data) == len(cantons)"
   ]
  },
  {
   "cell_type": "markdown",
   "metadata": {},
   "source": [
    "Then add the `canton` column to the original data frame:"
   ]
  },
  {
   "cell_type": "code",
   "execution_count": 172,
   "metadata": {
    "collapsed": false
   },
   "outputs": [
    {
     "data": {
      "text/html": [
       "<div>\n",
       "<table border=\"1\" class=\"dataframe\">\n",
       "  <thead>\n",
       "    <tr style=\"text-align: right;\">\n",
       "      <th></th>\n",
       "      <th>amount</th>\n",
       "      <th>univ</th>\n",
       "      <th>inst</th>\n",
       "      <th>title</th>\n",
       "      <th>canton</th>\n",
       "    </tr>\n",
       "    <tr>\n",
       "      <th>pnr</th>\n",
       "      <th></th>\n",
       "      <th></th>\n",
       "      <th></th>\n",
       "      <th></th>\n",
       "      <th></th>\n",
       "    </tr>\n",
       "  </thead>\n",
       "  <tbody>\n",
       "    <tr>\n",
       "      <th>150451</th>\n",
       "      <td>1153770.0</td>\n",
       "      <td>Université de Lausanne - LA</td>\n",
       "      <td>Institut d'études politiques, historiques et i...</td>\n",
       "      <td>Party strategies and the dynamics of electoral...</td>\n",
       "      <td>VD</td>\n",
       "    </tr>\n",
       "    <tr>\n",
       "      <th>61145</th>\n",
       "      <td>6860.0</td>\n",
       "      <td>Universität Basel - BS</td>\n",
       "      <td>Deutsches Seminar Universität Basel</td>\n",
       "      <td>Spracherwerb und Lebensalter - ontogenetische ...</td>\n",
       "      <td>BS</td>\n",
       "    </tr>\n",
       "    <tr>\n",
       "      <th>162493</th>\n",
       "      <td>117917.0</td>\n",
       "      <td>Universität Zürich - ZH</td>\n",
       "      <td>Institut für Theoretische Physik Universität Z...</td>\n",
       "      <td>Gravitational Lensing by galaxies and galaxy c...</td>\n",
       "      <td>ZH</td>\n",
       "    </tr>\n",
       "    <tr>\n",
       "      <th>26628</th>\n",
       "      <td>245893.0</td>\n",
       "      <td>Universität Basel - BS</td>\n",
       "      <td>Departement Forschung Kantonsspital Basel</td>\n",
       "      <td>Carbohydrates as mediators and modulators of c...</td>\n",
       "      <td>BS</td>\n",
       "    </tr>\n",
       "    <tr>\n",
       "      <th>165560</th>\n",
       "      <td>200000.0</td>\n",
       "      <td>EPF Lausanne - EPFL</td>\n",
       "      <td>Institut de physique de la matière condensée E...</td>\n",
       "      <td>Light-induced control of the Metal Insulator T...</td>\n",
       "      <td>VD</td>\n",
       "    </tr>\n",
       "  </tbody>\n",
       "</table>\n",
       "</div>"
      ],
      "text/plain": [
       "           amount                         univ  \\\n",
       "pnr                                              \n",
       "150451  1153770.0  Université de Lausanne - LA   \n",
       "61145      6860.0       Universität Basel - BS   \n",
       "162493   117917.0      Universität Zürich - ZH   \n",
       "26628    245893.0       Universität Basel - BS   \n",
       "165560   200000.0          EPF Lausanne - EPFL   \n",
       "\n",
       "                                                     inst  \\\n",
       "pnr                                                         \n",
       "150451  Institut d'études politiques, historiques et i...   \n",
       "61145                 Deutsches Seminar Universität Basel   \n",
       "162493  Institut für Theoretische Physik Universität Z...   \n",
       "26628           Departement Forschung Kantonsspital Basel   \n",
       "165560  Institut de physique de la matière condensée E...   \n",
       "\n",
       "                                                    title canton  \n",
       "pnr                                                               \n",
       "150451  Party strategies and the dynamics of electoral...     VD  \n",
       "61145   Spracherwerb und Lebensalter - ontogenetische ...     BS  \n",
       "162493  Gravitational Lensing by galaxies and galaxy c...     ZH  \n",
       "26628   Carbohydrates as mediators and modulators of c...     BS  \n",
       "165560  Light-induced control of the Metal Insulator T...     VD  "
      ]
     },
     "execution_count": 172,
     "metadata": {},
     "output_type": "execute_result"
    }
   ],
   "source": [
    "data_cantons = pd.concat([data, cantons], axis=1, join_axes=[data.index])\n",
    "data_cantons.sample(5)"
   ]
  },
  {
   "cell_type": "markdown",
   "metadata": {
    "collapsed": true
   },
   "source": [
    "## Part 3 - Visualization"
   ]
  },
  {
   "cell_type": "markdown",
   "metadata": {},
   "source": [
    "We need to get rid of the `NA` values for the `canton` field:"
   ]
  },
  {
   "cell_type": "code",
   "execution_count": 173,
   "metadata": {
    "collapsed": false
   },
   "outputs": [
    {
     "name": "stdout",
     "output_type": "stream",
     "text": [
      "800 rows were deleted\n"
     ]
    }
   ],
   "source": [
    "print(data_cantons.canton.isnull().sum(), 'rows were deleted')\n",
    "data_cantons = data_cantons.dropna()"
   ]
  },
  {
   "cell_type": "markdown",
   "metadata": {},
   "source": [
    "### 3a - Why are you not Swiss??"
   ]
  },
  {
   "cell_type": "markdown",
   "metadata": {},
   "source": [
    "We notice that some queries that were executed yielded a `canton` field that does not match an actual Swiss canton. It is for example the case for grants given to embassies in foreign countries. <br>\n",
    "We need to filter the data to keep only the actual Swiss cantons. To that effect, we will get a list of `(short_name,long_name)` for each canton by using the provided `json` file. Then we can filter our dataframe."
   ]
  },
  {
   "cell_type": "code",
   "execution_count": 174,
   "metadata": {
    "collapsed": false
   },
   "outputs": [],
   "source": [
    "import codecs\n",
    "\n",
    "topo_file = codecs.open('data/ch-cantons.topojson.json', 'r', 'utf-8')\n",
    "obj = json.load(topo_file)\n",
    "topo_file.close()"
   ]
  },
  {
   "cell_type": "code",
   "execution_count": 175,
   "metadata": {
    "collapsed": false
   },
   "outputs": [
    {
     "data": {
      "text/plain": [
       "{'AG': 'Aargau',\n",
       " 'AI': 'Appenzell Innerrhoden',\n",
       " 'AR': 'Appenzell Ausserrhoden',\n",
       " 'BE': 'Bern/Berne',\n",
       " 'BL': 'Basel-Landschaft',\n",
       " 'BS': 'Basel-Stadt',\n",
       " 'FR': 'Fribourg',\n",
       " 'GE': 'Genève',\n",
       " 'GL': 'Glarus',\n",
       " 'GR': 'Graubünden/Grigioni',\n",
       " 'JU': 'Jura',\n",
       " 'LU': 'Luzern',\n",
       " 'NE': 'Neuchâtel',\n",
       " 'NW': 'Nidwalden',\n",
       " 'OW': 'Obwalden',\n",
       " 'SG': 'St. Gallen',\n",
       " 'SH': 'Schaffhausen',\n",
       " 'SO': 'Solothurn',\n",
       " 'SZ': 'Schwyz',\n",
       " 'TG': 'Thurgau',\n",
       " 'TI': 'Ticino',\n",
       " 'UR': 'Uri',\n",
       " 'VD': 'Vaud',\n",
       " 'VS': 'Valais/Wallis',\n",
       " 'ZG': 'Zug',\n",
       " 'ZH': 'Zürich'}"
      ]
     },
     "execution_count": 175,
     "metadata": {},
     "output_type": "execute_result"
    }
   ],
   "source": [
    "canton_ids = {}\n",
    "for c in obj['objects']['cantons']['geometries']:\n",
    "    canton_ids[c['id']] = c['properties']['name']\n",
    "canton_ids"
   ]
  },
  {
   "cell_type": "markdown",
   "metadata": {},
   "source": [
    "It looks like the data for Geneva was encoded by Google using the long name `Genève`instead of the code `GE`. We fix this:"
   ]
  },
  {
   "cell_type": "code",
   "execution_count": 176,
   "metadata": {
    "collapsed": false
   },
   "outputs": [],
   "source": [
    "data_cantons.canton = data_cantons.canton.replace('Genève', 'GE')"
   ]
  },
  {
   "cell_type": "markdown",
   "metadata": {},
   "source": [
    "The number of entries whose `canton` field does not match an actual canton is:"
   ]
  },
  {
   "cell_type": "code",
   "execution_count": 177,
   "metadata": {
    "collapsed": false
   },
   "outputs": [
    {
     "data": {
      "text/plain": [
       "203"
      ]
     },
     "execution_count": 177,
     "metadata": {},
     "output_type": "execute_result"
    }
   ],
   "source": [
    "not_swiss_predicate = [r for r in data_cantons.index if data_cantons.canton[r] not in canton_ids]\n",
    "len(data_cantons.loc[not_swiss_predicate])"
   ]
  },
  {
   "cell_type": "markdown",
   "metadata": {},
   "source": [
    "We use the defined predicate to drop the non-Swiss rows:"
   ]
  },
  {
   "cell_type": "code",
   "execution_count": 178,
   "metadata": {
    "collapsed": false
   },
   "outputs": [],
   "source": [
    "data_cantons = data_cantons.drop(not_swiss_predicate)"
   ]
  },
  {
   "cell_type": "markdown",
   "metadata": {},
   "source": [
    "### 3b - Summing grants per canton"
   ]
  },
  {
   "cell_type": "markdown",
   "metadata": {},
   "source": [
    "The first step is to group each entry by canton and sun all the grants allotted to each canton:"
   ]
  },
  {
   "cell_type": "code",
   "execution_count": 222,
   "metadata": {
    "collapsed": false
   },
   "outputs": [],
   "source": [
    "totals = data_cantons.groupby('canton').sum()"
   ]
  },
  {
   "cell_type": "markdown",
   "metadata": {},
   "source": [
    "We have data for the following number of cantons:"
   ]
  },
  {
   "cell_type": "code",
   "execution_count": 223,
   "metadata": {
    "collapsed": false
   },
   "outputs": [
    {
     "name": "stdout",
     "output_type": "stream",
     "text": [
      "23 / 26\n"
     ]
    }
   ],
   "source": [
    "print(len(totals), '/', '26')"
   ]
  },
  {
   "cell_type": "markdown",
   "metadata": {},
   "source": [
    "For the sake of completeness, we add `0`s for the cantons that are not represented:"
   ]
  },
  {
   "cell_type": "code",
   "execution_count": 224,
   "metadata": {
    "collapsed": false
   },
   "outputs": [],
   "source": [
    "for c in canton_ids:\n",
    "    if c not in totals.index:\n",
    "        totals.loc[c] = 0"
   ]
  },
  {
   "cell_type": "markdown",
   "metadata": {},
   "source": [
    "This gives the final list of cantons, sorted by descending total of grants received:"
   ]
  },
  {
   "cell_type": "code",
   "execution_count": 238,
   "metadata": {
    "collapsed": false
   },
   "outputs": [
    {
     "data": {
      "text/html": [
       "<div>\n",
       "<table border=\"1\" class=\"dataframe\">\n",
       "  <thead>\n",
       "    <tr style=\"text-align: right;\">\n",
       "      <th></th>\n",
       "      <th>amount</th>\n",
       "    </tr>\n",
       "    <tr>\n",
       "      <th>canton</th>\n",
       "      <th></th>\n",
       "    </tr>\n",
       "  </thead>\n",
       "  <tbody>\n",
       "    <tr>\n",
       "      <th>ZH</th>\n",
       "      <td>3.695473e+09</td>\n",
       "    </tr>\n",
       "    <tr>\n",
       "      <th>VD</th>\n",
       "      <td>2.421560e+09</td>\n",
       "    </tr>\n",
       "    <tr>\n",
       "      <th>GE</th>\n",
       "      <td>1.872341e+09</td>\n",
       "    </tr>\n",
       "    <tr>\n",
       "      <th>BE</th>\n",
       "      <td>1.560613e+09</td>\n",
       "    </tr>\n",
       "    <tr>\n",
       "      <th>BS</th>\n",
       "      <td>1.393646e+09</td>\n",
       "    </tr>\n",
       "    <tr>\n",
       "      <th>FR</th>\n",
       "      <td>4.533588e+08</td>\n",
       "    </tr>\n",
       "    <tr>\n",
       "      <th>NE</th>\n",
       "      <td>4.011148e+08</td>\n",
       "    </tr>\n",
       "    <tr>\n",
       "      <th>AG</th>\n",
       "      <td>1.276241e+08</td>\n",
       "    </tr>\n",
       "    <tr>\n",
       "      <th>TI</th>\n",
       "      <td>1.201184e+08</td>\n",
       "    </tr>\n",
       "    <tr>\n",
       "      <th>SG</th>\n",
       "      <td>9.355281e+07</td>\n",
       "    </tr>\n",
       "    <tr>\n",
       "      <th>LU</th>\n",
       "      <td>6.893517e+07</td>\n",
       "    </tr>\n",
       "    <tr>\n",
       "      <th>SO</th>\n",
       "      <td>4.417793e+07</td>\n",
       "    </tr>\n",
       "    <tr>\n",
       "      <th>JU</th>\n",
       "      <td>3.489236e+07</td>\n",
       "    </tr>\n",
       "    <tr>\n",
       "      <th>GR</th>\n",
       "      <td>3.472588e+07</td>\n",
       "    </tr>\n",
       "    <tr>\n",
       "      <th>VS</th>\n",
       "      <td>3.252572e+07</td>\n",
       "    </tr>\n",
       "    <tr>\n",
       "      <th>ZG</th>\n",
       "      <td>1.104449e+07</td>\n",
       "    </tr>\n",
       "    <tr>\n",
       "      <th>TG</th>\n",
       "      <td>6.414700e+06</td>\n",
       "    </tr>\n",
       "    <tr>\n",
       "      <th>BL</th>\n",
       "      <td>6.012975e+06</td>\n",
       "    </tr>\n",
       "    <tr>\n",
       "      <th>UR</th>\n",
       "      <td>4.299089e+06</td>\n",
       "    </tr>\n",
       "    <tr>\n",
       "      <th>SZ</th>\n",
       "      <td>1.616138e+06</td>\n",
       "    </tr>\n",
       "    <tr>\n",
       "      <th>SH</th>\n",
       "      <td>1.452024e+06</td>\n",
       "    </tr>\n",
       "    <tr>\n",
       "      <th>AR</th>\n",
       "      <td>3.560000e+05</td>\n",
       "    </tr>\n",
       "    <tr>\n",
       "      <th>GL</th>\n",
       "      <td>2.689700e+04</td>\n",
       "    </tr>\n",
       "    <tr>\n",
       "      <th>AI</th>\n",
       "      <td>0.000000e+00</td>\n",
       "    </tr>\n",
       "    <tr>\n",
       "      <th>OW</th>\n",
       "      <td>0.000000e+00</td>\n",
       "    </tr>\n",
       "    <tr>\n",
       "      <th>NW</th>\n",
       "      <td>0.000000e+00</td>\n",
       "    </tr>\n",
       "  </tbody>\n",
       "</table>\n",
       "</div>"
      ],
      "text/plain": [
       "              amount\n",
       "canton              \n",
       "ZH      3.695473e+09\n",
       "VD      2.421560e+09\n",
       "GE      1.872341e+09\n",
       "BE      1.560613e+09\n",
       "BS      1.393646e+09\n",
       "FR      4.533588e+08\n",
       "NE      4.011148e+08\n",
       "AG      1.276241e+08\n",
       "TI      1.201184e+08\n",
       "SG      9.355281e+07\n",
       "LU      6.893517e+07\n",
       "SO      4.417793e+07\n",
       "JU      3.489236e+07\n",
       "GR      3.472588e+07\n",
       "VS      3.252572e+07\n",
       "ZG      1.104449e+07\n",
       "TG      6.414700e+06\n",
       "BL      6.012975e+06\n",
       "UR      4.299089e+06\n",
       "SZ      1.616138e+06\n",
       "SH      1.452024e+06\n",
       "AR      3.560000e+05\n",
       "GL      2.689700e+04\n",
       "AI      0.000000e+00\n",
       "OW      0.000000e+00\n",
       "NW      0.000000e+00"
      ]
     },
     "execution_count": 238,
     "metadata": {},
     "output_type": "execute_result"
    }
   ],
   "source": [
    "totals.sort_values(by='amount', ascending=False)"
   ]
  },
  {
   "cell_type": "markdown",
   "metadata": {},
   "source": [
    "### 3c - Final map"
   ]
  },
  {
   "cell_type": "code",
   "execution_count": 283,
   "metadata": {
    "collapsed": false
   },
   "outputs": [
    {
     "name": "stderr",
     "output_type": "stream",
     "text": [
      "C:\\Program Files\\Anaconda3\\lib\\site-packages\\ipykernel\\__main__.py:8: FutureWarning: 'threshold_scale' default behavior has changed. Now you get a linear scale between the 'min' and the 'max' of your data. To get former behavior, use folium.utilities.split_six.\n"
     ]
    }
   ],
   "source": [
    "map_cantons = folium.Map(location=[46.9,8.3], zoom_start=8)\n",
    "map_cantons.choropleth(geo_path = 'data/ch-cantons.topojson.json',\n",
    "                       data = totals.reset_index(),\n",
    "                       columns = ['canton', 'amount'],\n",
    "                       key_on = 'feature.id',\n",
    "                       topojson = 'objects.cantons',\n",
    "                       fill_color = 'BuPu',\n",
    "                       legend_name = 'Total amount of SNF grants (CHF)'\n",
    ")"
   ]
  },
  {
   "cell_type": "code",
   "execution_count": 284,
   "metadata": {
    "collapsed": false
   },
   "outputs": [
    {
     "data": {
      "text/html": [
       "<div style=\"width:100%;\"><div style=\"position:relative;width:100%;height:0;padding-bottom:60%;\"><iframe src=\"data:text/html;base64,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\" style=\"position:absolute;width:100%;height:100%;left:0;top:0;\"></iframe></div></div>"
      ],
      "text/plain": [
       "<folium.folium.Map at 0x19f5b4fa6d8>"
      ]
     },
     "execution_count": 284,
     "metadata": {},
     "output_type": "execute_result"
    }
   ],
   "source": [
    "map_cantons"
   ]
  },
  {
   "cell_type": "code",
   "execution_count": null,
   "metadata": {
    "collapsed": true
   },
   "outputs": [],
   "source": []
  }
 ],
 "metadata": {
  "anaconda-cloud": {},
  "kernelspec": {
   "display_name": "Python [conda root]",
   "language": "python",
   "name": "conda-root-py"
  },
  "language_info": {
   "codemirror_mode": {
    "name": "ipython",
    "version": 3
   },
   "file_extension": ".py",
   "mimetype": "text/x-python",
   "name": "python",
   "nbconvert_exporter": "python",
   "pygments_lexer": "ipython3",
   "version": "3.5.2"
  }
 },
 "nbformat": 4,
 "nbformat_minor": 1
}
