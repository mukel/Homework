{
 "cells": [
  {
   "cell_type": "markdown",
   "metadata": {},
   "source": [
    "# Homework 2 - Montero, Peterssen, Brousse"
   ]
  },
  {
   "cell_type": "markdown",
   "metadata": {},
   "source": [
    "## Part 1 - Getting links to the lists of students enrolled in CS from 2007 to 2017"
   ]
  },
  {
   "cell_type": "markdown",
   "metadata": {},
   "source": [
    "First, import the libraries required for the homework."
   ]
  },
  {
   "cell_type": "code",
   "execution_count": 1,
   "metadata": {
    "collapsed": false
   },
   "outputs": [],
   "source": [
    "from bs4 import BeautifulSoup\n",
    "import requests\n",
    "import re"
   ]
  },
  {
   "cell_type": "markdown",
   "metadata": {},
   "source": [
    "Also, define some constants and utility methods."
   ]
  },
  {
   "cell_type": "code",
   "execution_count": 2,
   "metadata": {
    "collapsed": true
   },
   "outputs": [],
   "source": [
    "# only link provided by assignment, splitted in two for convenience\n",
    "isa_base = 'http://isa.epfl.ch/imoniteur_ISAP/'\n",
    "isa_landing_page = isa_base + '%21gedpublicreports.htm?ww_i_reportmodel=133685247'\n",
    "isa_report_page = isa_base + '%21gedpublicreports.html'"
   ]
  },
  {
   "cell_type": "code",
   "execution_count": 3,
   "metadata": {
    "collapsed": true
   },
   "outputs": [],
   "source": [
    "def fetch(url, args=None):\n",
    "    '''GETs a webpage, determined by its url, and optional parameters.\n",
    "       Returns a BeautifulSoup containing the parsed HTML page. '''\n",
    "    req = requests.get(url, args)\n",
    "    if req.status_code != requests.codes.ok:\n",
    "        print('Error: code' + str(req.status_code))\n",
    "        return None\n",
    "    \n",
    "    return BeautifulSoup(req.text, 'html.parser')"
   ]
  },
  {
   "cell_type": "markdown",
   "metadata": {},
   "source": [
    "Find the form in the web page."
   ]
  },
  {
   "cell_type": "code",
   "execution_count": 4,
   "metadata": {
    "collapsed": false
   },
   "outputs": [],
   "source": [
    "main_soup = fetch(isa_landing_page)\n",
    "\n",
    "# the form is contained in a frame called 'toc'. We need to find the URL it is pointing to\n",
    "frame = main_soup.find('frame', attrs={'name' : 'toc'})\n",
    "frame_url = frame.attrs['src']\n",
    "\n",
    "# now we can find the form inside the toc frame\n",
    "frame_soup = fetch(isa_base + frame_url)\n",
    "form = frame_soup.find('form', attrs={'name' : 'f'})\n",
    "\n",
    "# We need to get the 'action' of the form, that is, where to go when the user clicks 'send'\n",
    "# Don't forget to concatenate it with the base isa url\n",
    "form_action = isa_base + form.attrs['action']"
   ]
  },
  {
   "cell_type": "markdown",
   "metadata": {},
   "source": [
    "It is now time to prepare the arguments we want to pass to the form. To this effect, we needed to use the `interceptor` add-on and explore a bit.<br>\n",
    "We will get ALL the possible lists of students for the section 'Informatique'. This is done with the following arguments (taken from our postman exploration) :"
   ]
  },
  {
   "cell_type": "code",
   "execution_count": 5,
   "metadata": {
    "collapsed": false
   },
   "outputs": [],
   "source": [
    "args = {\n",
    "    'ww_b_list' : '1',\n",
    "    'ww_i_reportmodel': '133685247',\n",
    "    'ww_c_langue': '',\n",
    "    'ww_i_reportModelXsl' : '133685270', # for html\n",
    "    \n",
    "    'zz_x_UNITE_ACAD' : 'Informatique',\n",
    "    'ww_x_UNITE_ACAD' : '249847', # this is Computer science section\n",
    "    \n",
    "    'zz_x_PERIODE_ACAD' : '',\n",
    "    'ww_x_PERIODE_ACAD' : 'null', # we want all possible years\n",
    "    \n",
    "    'zz_x_PERIODE_PEDAGO' : '',\n",
    "    'ww_x_PERIODE_PEDAGO' : 'null', # we want all possible semesters\n",
    "    \n",
    "    'zz_x_HIVERETE' : '',\n",
    "    'ww_x_HIVERETE' : 'null', # both summer and winter semesters\n",
    "    \n",
    "    'dummy' : 'ok' # (we just accept that fact...)\n",
    "}"
   ]
  },
  {
   "cell_type": "markdown",
   "metadata": {
    "collapsed": true
   },
   "source": [
    "We will now send our request to get all the links to the lists. This is done by filling the form with our custom values, sending it and collecting the links."
   ]
  },
  {
   "cell_type": "code",
   "execution_count": 6,
   "metadata": {
    "collapsed": false
   },
   "outputs": [
    {
     "data": {
      "text/plain": [
       "[{'desc': 'Echange IN, 2005-2006, Semestre automne', 'key': '24065660'},\n",
       " {'desc': 'Echange IN, 2005-2006, Semestre printemps', 'key': '24065672'},\n",
       " {'desc': 'Echange IN, 2006-2007, Semestre automne', 'key': '39467937'},\n",
       " {'desc': 'Echange IN, 2006-2007, Semestre printemps', 'key': '39467957'},\n",
       " {'desc': 'Echange IN, 2007-2008, Semestre automne', 'key': '71454914'}]"
      ]
     },
     "execution_count": 6,
     "metadata": {},
     "output_type": "execute_result"
    }
   ],
   "source": [
    "# sending our request\n",
    "form_send_soup = fetch(form_action, args)\n",
    "\n",
    "# collect links, taking care of *not* including the first link (\"tous\")\n",
    "links = form_send_soup.find_all('a', attrs={'class' : 'ww_x_GPS'})\n",
    "\n",
    "# Drop the \"tous\" link, and transform into a dict: key -> description\n",
    "pattern = r\".*\\w+=(\\d+).*\"\n",
    "clean_links = [\n",
    "    dict({\n",
    "        'desc' : a.text.strip(),\n",
    "        'key' : re.match(pattern, a.attrs['onclick']).group(1)\n",
    "    }) for a in links if a.text != 'Tous'\n",
    "]\n",
    "\n",
    "# For demonstration, we include the head of the extracted links.\n",
    "clean_links[:5]"
   ]
  },
  {
   "cell_type": "markdown",
   "metadata": {},
   "source": [
    "Now, we want to keep only the links whose description match:<br>\n",
    "`Informatique, [period], [degree] semestre [semester]`.<br>\n",
    "To this effect, we match the string above to extract the wanted information, and keep the key from before:"
   ]
  },
  {
   "cell_type": "code",
   "execution_count": 7,
   "metadata": {
    "collapsed": false
   },
   "outputs": [
    {
     "data": {
      "text/plain": [
       "{'degree': 'Bachelor',\n",
       " 'end': 2005,\n",
       " 'key': '2225262',\n",
       " 'semester': '1',\n",
       " 'start': 2004}"
      ]
     },
     "execution_count": 7,
     "metadata": {},
     "output_type": "execute_result"
    }
   ],
   "source": [
    "pattern = r\"Informatique, (\\d+)-(\\d+), (\\w+) semestre (\\d)\"\n",
    "detailed_links = []\n",
    "for link in clean_links:\n",
    "    match = re.match(pattern, link['desc'])\n",
    "    if match:\n",
    "        detailed_links.append(dict({\n",
    "            'start' : int(match.group(1)),\n",
    "            'end' : int(match.group(2)),\n",
    "            'degree' : match.group(3),\n",
    "            'semester' : match.group(4),\n",
    "            'key' : link['key']\n",
    "        }))\n",
    "\n",
    "# The first element is:\n",
    "detailed_links[0]"
   ]
  },
  {
   "cell_type": "markdown",
   "metadata": {},
   "source": [
    "We can now filter the links to keep only the valid ones.<br>\n",
    "The conditions for validity are: start_year >= 2007 and end_year <= 2017 (i.e. now)."
   ]
  },
  {
   "cell_type": "code",
   "execution_count": 8,
   "metadata": {
    "collapsed": false
   },
   "outputs": [
    {
     "data": {
      "text/plain": [
       "{'degree': 'Bachelor',\n",
       " 'end': 2008,\n",
       " 'key': '71297531',\n",
       " 'semester': '1',\n",
       " 'start': 2007}"
      ]
     },
     "execution_count": 8,
     "metadata": {},
     "output_type": "execute_result"
    }
   ],
   "source": [
    "valid_links = [e for e in detailed_links if e['start'] >= 2007 and e['end'] <= 2017]\n",
    "\n",
    "# The first item is no longer before 2007, as wanted\n",
    "valid_links[0]"
   ]
  },
  {
   "cell_type": "markdown",
   "metadata": {},
   "source": [
    "## Part 2 - Fetching the lists of students from the links"
   ]
  },
  {
   "cell_type": "markdown",
   "metadata": {
    "collapsed": true
   },
   "source": [
    "We will now extract the list of students for each of the semesters given by the links.<br>\n",
    "The methods are chained for more clarity (top-level to low-level)."
   ]
  },
  {
   "cell_type": "code",
   "execution_count": 9,
   "metadata": {
    "collapsed": true
   },
   "outputs": [],
   "source": [
    "def fetch_student_list_from_link(link):\n",
    "    # init or overwrite the report key for the current link\n",
    "    args['ww_x_GPS'] = link['key']\n",
    "    return parse_student_list(fetch(isa_report_page, args), link)\n",
    "\n",
    "def parse_student_list(soup, link):\n",
    "    table = soup.find('table')\n",
    "    \n",
    "    # in html, rows of a table are called 'tr'\n",
    "    all_rows = soup.find_all('tr')\n",
    "    \n",
    "    # the headers of each column are in the second row of the table\n",
    "    # the students are stored in the subsequent rows\n",
    "    data = all_rows[2:]\n",
    "    headers = [h.text for h in all_rows[1].find_all('th')]\n",
    "    \n",
    "    parsed_students = [parse_student(headers, row, link) for row in data]\n",
    "    return parsed_students\n",
    "\n",
    "def parse_student(headers, row, link):\n",
    "    # in html, individual cells of a row of a table are called 'td'\n",
    "    cells = row.find_all('td')\n",
    "    \n",
    "    # initilaize a parsed student \"object\". It is a dict containing the 4 keys that we want,\n",
    "    student = {\n",
    "        'start' : link['start'],\n",
    "        'end' : link['end'],\n",
    "        'degree' : link['degree'],\n",
    "        'semester' : link['semester']\n",
    "    }\n",
    "    \n",
    "    for (h, c) in zip(headers, cells):\n",
    "        student[h] = c.text\n",
    "\n",
    "    return student  "
   ]
  },
  {
   "cell_type": "markdown",
   "metadata": {},
   "source": [
    "As an example, let's parse the first student of the first link (2007-2008 BA1):"
   ]
  },
  {
   "cell_type": "code",
   "execution_count": 10,
   "metadata": {
    "collapsed": false
   },
   "outputs": [
    {
     "data": {
      "text/plain": [
       "{'Civilité': 'Monsieur',\n",
       " 'Ecole Echange': '',\n",
       " 'Filière opt.': '',\n",
       " 'Mineur': '',\n",
       " 'No Sciper': '169569',\n",
       " 'Nom Prénom': 'Arévalo\\xa0Christian',\n",
       " 'Orientation Bachelor': '',\n",
       " 'Orientation Master': '',\n",
       " 'Spécialisation': '',\n",
       " 'Statut': 'Présent',\n",
       " 'Type Echange': '',\n",
       " 'degree': 'Bachelor',\n",
       " 'end': 2008,\n",
       " 'semester': '1',\n",
       " 'start': 2007}"
      ]
     },
     "execution_count": 10,
     "metadata": {},
     "output_type": "execute_result"
    }
   ],
   "source": [
    "fetch_student_list_from_link(valid_links[0])[0]"
   ]
  },
  {
   "cell_type": "markdown",
   "metadata": {},
   "source": [
    "Now, we would like to concatenate <b>all</b> students from all lists. This is done by iterating over all the valid links:"
   ]
  },
  {
   "cell_type": "code",
   "execution_count": 11,
   "metadata": {
    "collapsed": true
   },
   "outputs": [],
   "source": [
    "students_in_classes = [fetch_student_list_from_link(link) for link in valid_links]"
   ]
  },
  {
   "cell_type": "markdown",
   "metadata": {},
   "source": [
    "The problem now is that `all_students` is a list of lists of students. We want to have only a single list containing all the students, without sublevels. The solution for flattening is taken from [stackoverflow](http://stackoverflow.com/questions/952914/making-a-flat-list-out-of-list-of-lists-in-python)."
   ]
  },
  {
   "cell_type": "code",
   "execution_count": 12,
   "metadata": {
    "collapsed": false
   },
   "outputs": [],
   "source": [
    "students = [s for class_list in students_in_classes for s in class_list]"
   ]
  },
  {
   "cell_type": "markdown",
   "metadata": {},
   "source": [
    "## Part 3 - Statistical analysis"
   ]
  },
  {
   "cell_type": "code",
   "execution_count": 13,
   "metadata": {
    "collapsed": true
   },
   "outputs": [],
   "source": [
    "import pandas as pd"
   ]
  },
  {
   "cell_type": "code",
   "execution_count": 14,
   "metadata": {
    "collapsed": false
   },
   "outputs": [
    {
     "data": {
      "text/html": [
       "<div>\n",
       "<table border=\"1\" class=\"dataframe\">\n",
       "  <thead>\n",
       "    <tr style=\"text-align: right;\">\n",
       "      <th></th>\n",
       "      <th>title</th>\n",
       "      <th>name</th>\n",
       "      <th>start</th>\n",
       "      <th>end</th>\n",
       "      <th>degree</th>\n",
       "      <th>semester</th>\n",
       "      <th>status</th>\n",
       "      <th>spec</th>\n",
       "      <th>minor</th>\n",
       "    </tr>\n",
       "    <tr>\n",
       "      <th>sciper</th>\n",
       "      <th></th>\n",
       "      <th></th>\n",
       "      <th></th>\n",
       "      <th></th>\n",
       "      <th></th>\n",
       "      <th></th>\n",
       "      <th></th>\n",
       "      <th></th>\n",
       "      <th></th>\n",
       "    </tr>\n",
       "  </thead>\n",
       "  <tbody>\n",
       "    <tr>\n",
       "      <th>195290</th>\n",
       "      <td>Monsieur</td>\n",
       "      <td>Prakash Aman</td>\n",
       "      <td>2011</td>\n",
       "      <td>2012</td>\n",
       "      <td>Bachelor</td>\n",
       "      <td>4</td>\n",
       "      <td>Présent</td>\n",
       "      <td></td>\n",
       "      <td></td>\n",
       "    </tr>\n",
       "    <tr>\n",
       "      <th>228408</th>\n",
       "      <td>Monsieur</td>\n",
       "      <td>Milliet Alain Georges Paul</td>\n",
       "      <td>2012</td>\n",
       "      <td>2013</td>\n",
       "      <td>Bachelor</td>\n",
       "      <td>1</td>\n",
       "      <td>Présent</td>\n",
       "      <td></td>\n",
       "      <td></td>\n",
       "    </tr>\n",
       "    <tr>\n",
       "      <th>223344</th>\n",
       "      <td>Monsieur</td>\n",
       "      <td>Forel Duncan Montana</td>\n",
       "      <td>2013</td>\n",
       "      <td>2014</td>\n",
       "      <td>Bachelor</td>\n",
       "      <td>4</td>\n",
       "      <td>Présent</td>\n",
       "      <td></td>\n",
       "      <td></td>\n",
       "    </tr>\n",
       "    <tr>\n",
       "      <th>242489</th>\n",
       "      <td>Monsieur</td>\n",
       "      <td>Gomez Vivolo Antoine</td>\n",
       "      <td>2014</td>\n",
       "      <td>2015</td>\n",
       "      <td>Bachelor</td>\n",
       "      <td>2</td>\n",
       "      <td>Présent</td>\n",
       "      <td></td>\n",
       "      <td></td>\n",
       "    </tr>\n",
       "    <tr>\n",
       "      <th>223287</th>\n",
       "      <td>Monsieur</td>\n",
       "      <td>Reich Nicolas Alexandre</td>\n",
       "      <td>2012</td>\n",
       "      <td>2013</td>\n",
       "      <td>Bachelor</td>\n",
       "      <td>2</td>\n",
       "      <td>Présent</td>\n",
       "      <td></td>\n",
       "      <td></td>\n",
       "    </tr>\n",
       "  </tbody>\n",
       "</table>\n",
       "</div>"
      ],
      "text/plain": [
       "           title                        name  start   end    degree  semester  \\\n",
       "sciper                                                                          \n",
       "195290  Monsieur                Prakash Aman   2011  2012  Bachelor         4   \n",
       "228408  Monsieur  Milliet Alain Georges Paul   2012  2013  Bachelor         1   \n",
       "223344  Monsieur        Forel Duncan Montana   2013  2014  Bachelor         4   \n",
       "242489  Monsieur        Gomez Vivolo Antoine   2014  2015  Bachelor         2   \n",
       "223287  Monsieur     Reich Nicolas Alexandre   2012  2013  Bachelor         2   \n",
       "\n",
       "         status spec minor  \n",
       "sciper                      \n",
       "195290  Présent             \n",
       "228408  Présent             \n",
       "223344  Présent             \n",
       "242489  Présent             \n",
       "223287  Présent             "
      ]
     },
     "execution_count": 14,
     "metadata": {},
     "output_type": "execute_result"
    }
   ],
   "source": [
    "# incorporate the students into a data frame, keep only useful columns, and give them an English name\n",
    "data = pd.DataFrame(students)\n",
    "data = data[['Civilité', 'No Sciper', 'Nom Prénom', 'start', 'end', 'degree', 'semester', 'Statut', 'Spécialisation', 'Mineur']]\n",
    "data = data.rename(columns={'Civilité' : 'title',\n",
    "                            'No Sciper' : 'sciper',\n",
    "                            'Nom Prénom' : 'name',\n",
    "                            'Statut' : 'status',\n",
    "                            'Spécialisation' : 'spec',\n",
    "                            'Mineur' : 'minor'})\n",
    "\n",
    "# 'semester' value is an integer\n",
    "data.semester = data.semester.astype(int)\n",
    "\n",
    "# index by sciper number\n",
    "data = data.set_index('sciper')\n",
    "\n",
    "data.sample(5)"
   ]
  },
  {
   "cell_type": "markdown",
   "metadata": {},
   "source": [
    "### Part 3a - Bachelor data"
   ]
  },
  {
   "cell_type": "markdown",
   "metadata": {},
   "source": [
    "We're keeping only students who were both in BA1 and BA6:"
   ]
  },
  {
   "cell_type": "code",
   "execution_count": 16,
   "metadata": {
    "collapsed": false
   },
   "outputs": [
    {
     "name": "stdout",
     "output_type": "stream",
     "text": [
      "There were 1720 students in IN-BA1 over the years\n",
      "There were 1160 students in IN-BA2 over the years\n",
      "There were 730 students in IN-BA3 over the years\n",
      "There were 630 students in IN-BA4 over the years\n",
      "There were 890 students in IN-BA5 over the years\n",
      "There were 664 students in IN-BA6 over the years\n",
      "There were 397 students in BA1 and thereafter in BA6 over the years\n"
     ]
    }
   ],
   "source": [
    "ba_data = data[data['degree'] == 'Bachelor']\n",
    "ba_1 = ba_data[ba_data.semester == 1]\n",
    "ba_2 = ba_data[ba_data.semester == 2]\n",
    "ba_3 = ba_data[ba_data.semester == 3]\n",
    "ba_4 = ba_data[ba_data.semester == 4]\n",
    "ba_5 = ba_data[ba_data.semester == 5]\n",
    "ba_6 = ba_data[ba_data.semester == 6]\n",
    "\n",
    "print('There were', len(ba_1), 'students in IN-BA1 over the years')\n",
    "print('There were', len(ba_2), 'students in IN-BA2 over the years')\n",
    "print('There were', len(ba_3), 'students in IN-BA3 over the years')\n",
    "print('There were', len(ba_4), 'students in IN-BA4 over the years')\n",
    "print('There were', len(ba_5), 'students in IN-BA5 over the years')\n",
    "print('There were', len(ba_6), 'students in IN-BA6 over the years')\n",
    "\n",
    "# compute the intersection by using sets\n",
    "intersection_index = set(ba_1.index).intersection(set(ba_6.index))\n",
    "intersection = ba_data[ba_data.index.isin(intersection_index)].sort_index()\n",
    "\n",
    "print('There were', len(intersection_index), 'students in BA1 and thereafter in BA6 over the years')"
   ]
  },
  {
   "cell_type": "markdown",
   "metadata": {},
   "source": [
    "Now each semester that every qualifying student has done is in the dataframe.<br>\n",
    "We need to group the students by sciper and count the number of semesters."
   ]
  },
  {
   "cell_type": "code",
   "execution_count": 498,
   "metadata": {
    "collapsed": false
   },
   "outputs": [],
   "source": [
    "semester_count = intersection.reset_index()[['sciper', 'semester']].groupby(['sciper']).count()\n",
    "semester_count = semester_count.rename(columns={'semester' : 'semester_count'})\n",
    "intersection_counted = intersection.merge(semester_count, left_index=True, right_index=True)"
   ]
  },
  {
   "cell_type": "markdown",
   "metadata": {},
   "source": [
    "We want to keep one row per person and drop the columns that aren't useful for the analysis."
   ]
  },
  {
   "cell_type": "code",
   "execution_count": 499,
   "metadata": {
    "collapsed": true
   },
   "outputs": [],
   "source": [
    "intersection_counted = intersection_counted.groupby(intersection_counted.index).agg('first')\n",
    "intersection_counted = intersection_counted[['title', 'name', 'semester_count']]"
   ]
  },
  {
   "cell_type": "markdown",
   "metadata": {},
   "source": [
    "We can now group by sex and compute the required stats:"
   ]
  },
  {
   "cell_type": "code",
   "execution_count": 504,
   "metadata": {
    "collapsed": false
   },
   "outputs": [
    {
     "data": {
      "text/html": [
       "<div>\n",
       "<table border=\"1\" class=\"dataframe\">\n",
       "  <thead>\n",
       "    <tr style=\"text-align: right;\">\n",
       "      <th></th>\n",
       "      <th>semester_count</th>\n",
       "    </tr>\n",
       "    <tr>\n",
       "      <th>title</th>\n",
       "      <th></th>\n",
       "    </tr>\n",
       "  </thead>\n",
       "  <tbody>\n",
       "    <tr>\n",
       "      <th>Madame</th>\n",
       "      <td>6.793103</td>\n",
       "    </tr>\n",
       "    <tr>\n",
       "      <th>Monsieur</th>\n",
       "      <td>7.105978</td>\n",
       "    </tr>\n",
       "  </tbody>\n",
       "</table>\n",
       "</div>"
      ],
      "text/plain": [
       "          semester_count\n",
       "title                   \n",
       "Madame          6.793103\n",
       "Monsieur        7.105978"
      ]
     },
     "execution_count": 504,
     "metadata": {},
     "output_type": "execute_result"
    }
   ],
   "source": [
    "intersection_counted.groupby('title').mean()"
   ]
  },
  {
   "cell_type": "markdown",
   "metadata": {},
   "source": [
    "### Discussion:\n",
    "TODO !!!!!"
   ]
  },
  {
   "cell_type": "markdown",
   "metadata": {},
   "source": [
    "## Part 3b - Master data"
   ]
  },
  {
   "cell_type": "code",
   "execution_count": null,
   "metadata": {
    "collapsed": true
   },
   "outputs": [],
   "source": []
  }
 ],
 "metadata": {
  "anaconda-cloud": {},
  "kernelspec": {
   "display_name": "Python [conda root]",
   "language": "python",
   "name": "conda-root-py"
  },
  "language_info": {
   "codemirror_mode": {
    "name": "ipython",
    "version": 3
   },
   "file_extension": ".py",
   "mimetype": "text/x-python",
   "name": "python",
   "nbconvert_exporter": "python",
   "pygments_lexer": "ipython3",
   "version": "3.5.2"
  }
 },
 "nbformat": 4,
 "nbformat_minor": 1
}
