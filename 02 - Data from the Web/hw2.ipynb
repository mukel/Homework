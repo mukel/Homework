{
 "cells": [
  {
   "cell_type": "markdown",
   "metadata": {},
   "source": [
    "# Homework 2 - Montero, Peterssen, Brousse"
   ]
  },
  {
   "cell_type": "markdown",
   "metadata": {},
   "source": [
    "## Part 1 - Getting links to the lists of students enrolled in CS from 2007 to 2017"
   ]
  },
  {
   "cell_type": "markdown",
   "metadata": {},
   "source": [
    "First, import the libraries required for the homework."
   ]
  },
  {
   "cell_type": "code",
   "execution_count": 619,
   "metadata": {
    "collapsed": false
   },
   "outputs": [],
   "source": [
    "from bs4 import BeautifulSoup\n",
    "import requests\n",
    "import re\n",
    "import numpy as np"
   ]
  },
  {
   "cell_type": "markdown",
   "metadata": {},
   "source": [
    "Also, define some constants and utility methods."
   ]
  },
  {
   "cell_type": "code",
   "execution_count": 212,
   "metadata": {
    "collapsed": true
   },
   "outputs": [],
   "source": [
    "# only link provided by assignment, splitted in two for convenience\n",
    "isa_base = 'http://isa.epfl.ch/imoniteur_ISAP/'\n",
    "isa_landing_page = isa_base + '%21gedpublicreports.htm?ww_i_reportmodel=133685247'\n",
    "isa_report_page = isa_base + '%21gedpublicreports.html'"
   ]
  },
  {
   "cell_type": "code",
   "execution_count": 196,
   "metadata": {
    "collapsed": true
   },
   "outputs": [],
   "source": [
    "def fetch(url, args=None):\n",
    "    '''GETs a webpage, determined by its url, and optional parameters.\n",
    "       Returns a BeautifulSoup containing the parsed HTML page. '''\n",
    "    req = requests.get(url, args)\n",
    "    if req.status_code != requests.codes.ok:\n",
    "        print('Error: code' + str(req.status_code))\n",
    "        return None\n",
    "    \n",
    "    return BeautifulSoup(req.text, 'html.parser')"
   ]
  },
  {
   "cell_type": "markdown",
   "metadata": {},
   "source": [
    "Find the form in the web page."
   ]
  },
  {
   "cell_type": "code",
   "execution_count": 197,
   "metadata": {
    "collapsed": false
   },
   "outputs": [],
   "source": [
    "main_soup = fetch(isa_landing_page)\n",
    "\n",
    "# the form is contained in a frame called 'toc'. We need to find the URL it is pointing to\n",
    "frame = main_soup.find('frame', attrs={'name' : 'toc'})\n",
    "frame_url = frame.attrs['src']\n",
    "\n",
    "# now we can find the form inside the toc frame\n",
    "frame_soup = fetch(isa_base + frame_url)\n",
    "form = frame_soup.find('form', attrs={'name' : 'f'})\n",
    "\n",
    "# We need to get the 'action' of the form, that is, where to go when the user clicks 'send'\n",
    "# Don't forget to concatenate it with the base isa url\n",
    "form_action = isa_base + form.attrs['action']"
   ]
  },
  {
   "cell_type": "markdown",
   "metadata": {},
   "source": [
    "It is now time to prepare the arguments we want to pass to the form. To this effect, we needed to use the `interceptor` add-on and explore a bit.<br>\n",
    "We will get ALL the possible lists of students for the section 'Informatique'. This is done with the following arguments (taken from our postman exploration) :"
   ]
  },
  {
   "cell_type": "code",
   "execution_count": 174,
   "metadata": {
    "collapsed": false
   },
   "outputs": [],
   "source": [
    "args = {\n",
    "    'ww_b_list' : '1',\n",
    "    'ww_i_reportmodel': '133685247',\n",
    "    'ww_c_langue': '',\n",
    "    'ww_i_reportModelXsl' : '133685270', # for html\n",
    "    \n",
    "    'zz_x_UNITE_ACAD' : 'Informatique',\n",
    "    'ww_x_UNITE_ACAD' : '249847', # this is Computer science section\n",
    "    \n",
    "    'zz_x_PERIODE_ACAD' : '',\n",
    "    'ww_x_PERIODE_ACAD' : 'null', # we want all possible years\n",
    "    \n",
    "    'zz_x_PERIODE_PEDAGO' : '',\n",
    "    'ww_x_PERIODE_PEDAGO' : 'null', # we want all possible semesters\n",
    "    \n",
    "    'zz_x_HIVERETE' : '',\n",
    "    'ww_x_HIVERETE' : 'null', # both summer and winter semesters\n",
    "    \n",
    "    'dummy' : 'ok' # (we just accept that fact...)\n",
    "}"
   ]
  },
  {
   "cell_type": "markdown",
   "metadata": {
    "collapsed": true
   },
   "source": [
    "We will now send our request to get all the links to the lists. This is done by filling the form with our custom values, sending it and collecting the links."
   ]
  },
  {
   "cell_type": "code",
   "execution_count": 172,
   "metadata": {
    "collapsed": false
   },
   "outputs": [
    {
     "data": {
      "text/plain": [
       "[{'desc': 'Echange IN, 2005-2006, Semestre automne', 'key': '24065660'},\n",
       " {'desc': 'Echange IN, 2005-2006, Semestre printemps', 'key': '24065672'},\n",
       " {'desc': 'Echange IN, 2006-2007, Semestre automne', 'key': '39467937'},\n",
       " {'desc': 'Echange IN, 2006-2007, Semestre printemps', 'key': '39467957'},\n",
       " {'desc': 'Echange IN, 2007-2008, Semestre automne', 'key': '71454914'}]"
      ]
     },
     "execution_count": 172,
     "metadata": {},
     "output_type": "execute_result"
    }
   ],
   "source": [
    "# sending our request\n",
    "form_send_soup = fetch(form_action, args)\n",
    "\n",
    "# collect links, taking care of *not* including the first link (\"tous\")\n",
    "links = form_send_soup.find_all('a', attrs={'class' : 'ww_x_GPS'})\n",
    "\n",
    "# Drop the \"tous\" link, and transform into a dict: key -> description\n",
    "pattern = r\".*\\w+=(\\d+).*\"\n",
    "clean_links = [\n",
    "    dict({\n",
    "        'desc' : a.text.strip(),\n",
    "        'key' : re.match(pattern, a.attrs['onclick']).group(1)\n",
    "    }) for a in links if a.text != 'Tous'\n",
    "]\n",
    "\n",
    "# For demonstration, we include the head of the extracted links.\n",
    "clean_links[:5]"
   ]
  },
  {
   "cell_type": "markdown",
   "metadata": {},
   "source": [
    "Now, we want to keep only the links whose description match:<br>\n",
    "`Informatique, [period], [degree] semestre [semester]`.<br>\n",
    "To this effect, we match the string above to extract the wanted information, and keep the key from before:"
   ]
  },
  {
   "cell_type": "code",
   "execution_count": 575,
   "metadata": {
    "collapsed": false
   },
   "outputs": [
    {
     "data": {
      "text/plain": [
       "{'degree': 'Bachelor',\n",
       " 'end': 2005,\n",
       " 'key': '2225262',\n",
       " 'semester': '1',\n",
       " 'start': 2004}"
      ]
     },
     "execution_count": 575,
     "metadata": {},
     "output_type": "execute_result"
    }
   ],
   "source": [
    "pattern = r\"Informatique, (\\d+)-(\\d+), (\\w+) semestre (\\d)\"\n",
    "detailed_links = []\n",
    "for link in clean_links:\n",
    "    match = re.match(pattern, link['desc'])\n",
    "    if match:\n",
    "        detailed_links.append(dict({\n",
    "            'start' : int(match.group(1)),\n",
    "            'end' : int(match.group(2)),\n",
    "            'degree' : match.group(3),\n",
    "            'semester' : match.group(4),\n",
    "            'key' : link['key']\n",
    "        }))\n",
    "\n",
    "# The first element is:\n",
    "detailed_links[0]"
   ]
  },
  {
   "cell_type": "markdown",
   "metadata": {},
   "source": [
    "We can now filter the links to keep only the valid ones.<br>\n",
    "The conditions for validity are: start_year >= 2007 and end_year <= 2017 (i.e. now)."
   ]
  },
  {
   "cell_type": "code",
   "execution_count": 156,
   "metadata": {
    "collapsed": false
   },
   "outputs": [
    {
     "data": {
      "text/plain": [
       "{'degree': 'Bachelor',\n",
       " 'end': 2008,\n",
       " 'key': '71297531',\n",
       " 'semester': '1',\n",
       " 'start': 2007}"
      ]
     },
     "execution_count": 156,
     "metadata": {},
     "output_type": "execute_result"
    }
   ],
   "source": [
    "valid_links = [e for e in detailed_links if e['start'] >= 2007 and e['end'] <= 2017]\n",
    "\n",
    "# The first item is no longer before 2007, as wanted\n",
    "valid_links[0]"
   ]
  },
  {
   "cell_type": "markdown",
   "metadata": {},
   "source": [
    "## Part 2 - Fetching the lists of students from the links"
   ]
  },
  {
   "cell_type": "markdown",
   "metadata": {
    "collapsed": true
   },
   "source": [
    "We will now extract the list of students for each of the semesters given by the links.<br>\n",
    "The methods are chained for more clarity (top-level to low-level)."
   ]
  },
  {
   "cell_type": "code",
   "execution_count": 260,
   "metadata": {
    "collapsed": true
   },
   "outputs": [],
   "source": [
    "def fetch_student_list_from_link(link):\n",
    "    # init or overwrite the report key for the current link\n",
    "    args['ww_x_GPS'] = link['key']\n",
    "    return parse_student_list(fetch(isa_report_page, args), link)\n",
    "\n",
    "def parse_student_list(soup, link):\n",
    "    table = soup.find('table')\n",
    "    \n",
    "    # in html, rows of a table are called 'tr'\n",
    "    all_rows = soup.find_all('tr')\n",
    "    \n",
    "    # the headers of each column are in the second row of the table\n",
    "    # the students are stored in the subsequent rows\n",
    "    data = all_rows[2:]\n",
    "    headers = [h.text for h in all_rows[1].find_all('th')]\n",
    "    \n",
    "    parsed_students = [parse_student(headers, row, link) for row in data]\n",
    "    return parsed_students\n",
    "\n",
    "def parse_student(headers, row, link):\n",
    "    # in html, individual cells of a row of a table are called 'td'\n",
    "    cells = row.find_all('td')\n",
    "    \n",
    "    # initilaize a parsed student \"object\". It is a dict containing the 4 keys that we want,\n",
    "    student = {\n",
    "        'start' : link['start'],\n",
    "        'end' : link['end'],\n",
    "        'degree' : link['degree'],\n",
    "        'semester' : link['semester']\n",
    "    }\n",
    "    \n",
    "    for (h, c) in zip(headers, cells):\n",
    "        student[h] = c.text\n",
    "\n",
    "    return student  "
   ]
  },
  {
   "cell_type": "markdown",
   "metadata": {},
   "source": [
    "As an example, let's parse the first student of the first link (2007-2008 BA1):"
   ]
  },
  {
   "cell_type": "code",
   "execution_count": 261,
   "metadata": {
    "collapsed": false
   },
   "outputs": [
    {
     "data": {
      "text/plain": [
       "{'Civilité': 'Monsieur',\n",
       " 'Ecole Echange': '',\n",
       " 'Filière opt.': '',\n",
       " 'Mineur': '',\n",
       " 'No Sciper': '169569',\n",
       " 'Nom Prénom': 'Arévalo\\xa0Christian',\n",
       " 'Orientation Bachelor': '',\n",
       " 'Orientation Master': '',\n",
       " 'Spécialisation': '',\n",
       " 'Statut': 'Présent',\n",
       " 'Type Echange': '',\n",
       " 'degree': 'Bachelor',\n",
       " 'end': 2008,\n",
       " 'semester': '1',\n",
       " 'start': 2007}"
      ]
     },
     "execution_count": 261,
     "metadata": {},
     "output_type": "execute_result"
    }
   ],
   "source": [
    "fetch_student_list_from_link(valid_links[0])[0]"
   ]
  },
  {
   "cell_type": "markdown",
   "metadata": {},
   "source": [
    "Now, we would like to concatenate <b>all</b> students from all lists. This is done by iterating over all the valid links:"
   ]
  },
  {
   "cell_type": "code",
   "execution_count": 271,
   "metadata": {
    "collapsed": true
   },
   "outputs": [],
   "source": [
    "students_in_classes = [fetch_student_list_from_link(link) for link in valid_links]"
   ]
  },
  {
   "cell_type": "markdown",
   "metadata": {},
   "source": [
    "The problem now is that `all_students` is a list of lists of students. We want to have only a single list containing all the students, without sublevels. The solution for flattening is taken from [stackoverflow](http://stackoverflow.com/questions/952914/making-a-flat-list-out-of-list-of-lists-in-python)."
   ]
  },
  {
   "cell_type": "code",
   "execution_count": 753,
   "metadata": {
    "collapsed": false
   },
   "outputs": [
    {
     "data": {
      "text/plain": [
       "8509"
      ]
     },
     "execution_count": 753,
     "metadata": {},
     "output_type": "execute_result"
    }
   ],
   "source": [
    "students = [s for class_list in students_in_classes for s in class_list]\n",
    "len(students)"
   ]
  },
  {
   "cell_type": "markdown",
   "metadata": {},
   "source": [
    "## Part 3 - Statistical analysis"
   ]
  },
  {
   "cell_type": "code",
   "execution_count": 273,
   "metadata": {
    "collapsed": true
   },
   "outputs": [],
   "source": [
    "import pandas as pd"
   ]
  },
  {
   "cell_type": "code",
   "execution_count": 829,
   "metadata": {
    "collapsed": false
   },
   "outputs": [
    {
     "data": {
      "text/html": [
       "<div>\n",
       "<table border=\"1\" class=\"dataframe\">\n",
       "  <thead>\n",
       "    <tr style=\"text-align: right;\">\n",
       "      <th></th>\n",
       "      <th>title</th>\n",
       "      <th>name</th>\n",
       "      <th>start</th>\n",
       "      <th>end</th>\n",
       "      <th>degree</th>\n",
       "      <th>semester</th>\n",
       "      <th>status</th>\n",
       "      <th>spec</th>\n",
       "      <th>minor</th>\n",
       "    </tr>\n",
       "    <tr>\n",
       "      <th>sciper</th>\n",
       "      <th></th>\n",
       "      <th></th>\n",
       "      <th></th>\n",
       "      <th></th>\n",
       "      <th></th>\n",
       "      <th></th>\n",
       "      <th></th>\n",
       "      <th></th>\n",
       "      <th></th>\n",
       "    </tr>\n",
       "  </thead>\n",
       "  <tbody>\n",
       "    <tr>\n",
       "      <th>180008</th>\n",
       "      <td>Monsieur</td>\n",
       "      <td>Wertenbroek Rick</td>\n",
       "      <td>2009</td>\n",
       "      <td>2010</td>\n",
       "      <td>Bachelor</td>\n",
       "      <td>3</td>\n",
       "      <td>Présent</td>\n",
       "      <td></td>\n",
       "      <td></td>\n",
       "    </tr>\n",
       "    <tr>\n",
       "      <th>213287</th>\n",
       "      <td>Monsieur</td>\n",
       "      <td>Jacobs Frédéric Jean H</td>\n",
       "      <td>2011</td>\n",
       "      <td>2012</td>\n",
       "      <td>Bachelor</td>\n",
       "      <td>1</td>\n",
       "      <td>Présent</td>\n",
       "      <td></td>\n",
       "      <td></td>\n",
       "    </tr>\n",
       "    <tr>\n",
       "      <th>234458</th>\n",
       "      <td>Monsieur</td>\n",
       "      <td>Hugi Romain Guillaume</td>\n",
       "      <td>2014</td>\n",
       "      <td>2015</td>\n",
       "      <td>Bachelor</td>\n",
       "      <td>1</td>\n",
       "      <td>Présent</td>\n",
       "      <td></td>\n",
       "      <td></td>\n",
       "    </tr>\n",
       "    <tr>\n",
       "      <th>204157</th>\n",
       "      <td>Monsieur</td>\n",
       "      <td>Cremese Guillaume Georges</td>\n",
       "      <td>2011</td>\n",
       "      <td>2012</td>\n",
       "      <td>Bachelor</td>\n",
       "      <td>1</td>\n",
       "      <td>Présent</td>\n",
       "      <td></td>\n",
       "      <td></td>\n",
       "    </tr>\n",
       "    <tr>\n",
       "      <th>170414</th>\n",
       "      <td>Monsieur</td>\n",
       "      <td>Eberle Julien</td>\n",
       "      <td>2008</td>\n",
       "      <td>2009</td>\n",
       "      <td>Master</td>\n",
       "      <td>2</td>\n",
       "      <td>Congé</td>\n",
       "      <td>Internet computing</td>\n",
       "      <td></td>\n",
       "    </tr>\n",
       "  </tbody>\n",
       "</table>\n",
       "</div>"
      ],
      "text/plain": [
       "           title                       name  start   end    degree  semester  \\\n",
       "sciper                                                                         \n",
       "180008  Monsieur           Wertenbroek Rick   2009  2010  Bachelor         3   \n",
       "213287  Monsieur     Jacobs Frédéric Jean H   2011  2012  Bachelor         1   \n",
       "234458  Monsieur      Hugi Romain Guillaume   2014  2015  Bachelor         1   \n",
       "204157  Monsieur  Cremese Guillaume Georges   2011  2012  Bachelor         1   \n",
       "170414  Monsieur              Eberle Julien   2008  2009    Master         2   \n",
       "\n",
       "         status                spec minor  \n",
       "sciper                                     \n",
       "180008  Présent                            \n",
       "213287  Présent                            \n",
       "234458  Présent                            \n",
       "204157  Présent                            \n",
       "170414    Congé  Internet computing        "
      ]
     },
     "execution_count": 829,
     "metadata": {},
     "output_type": "execute_result"
    }
   ],
   "source": [
    "# incorporate the students into a data frame, keep only useful columns, and give them an English name\n",
    "data = pd.DataFrame(students)\n",
    "data = data[['Civilité', 'No Sciper', 'Nom Prénom', 'start', 'end', 'degree', 'semester', 'Statut', 'Spécialisation', 'Mineur']]\n",
    "data = data.rename(columns={'Civilité' : 'title',\n",
    "                            'No Sciper' : 'sciper',\n",
    "                            'Nom Prénom' : 'name',\n",
    "                            'Statut' : 'status',\n",
    "                            'Spécialisation' : 'spec',\n",
    "                            'Mineur' : 'minor'})\n",
    "\n",
    "# 'semester' value is an integer\n",
    "data.semester = data.semester.astype(int)\n",
    "\n",
    "# index by sciper number\n",
    "data = data.set_index('sciper')\n",
    "\n",
    "data.sample(5)"
   ]
  },
  {
   "cell_type": "markdown",
   "metadata": {},
   "source": [
    "### Part 3a - Bachelor data"
   ]
  },
  {
   "cell_type": "markdown",
   "metadata": {},
   "source": [
    "We're keeping only students who were both in BA1 and BA6:"
   ]
  },
  {
   "cell_type": "code",
   "execution_count": 775,
   "metadata": {
    "collapsed": false
   },
   "outputs": [
    {
     "name": "stdout",
     "output_type": "stream",
     "text": [
      "There were 1719 students in IN-BA1 over the years\n",
      "There were 665 students in IN-BA6 over the years\n"
     ]
    }
   ],
   "source": [
    "# filter to keep only bachelor data and appropriate semesters\n",
    "ba_data = data[data.degree == 'Bachelor']\n",
    "ba_1 = ba_data[ba_data.semester == 1]\n",
    "ba_6 = ba_data[ba_data.semester == 6]\n",
    "\n",
    "print('There were', len(ba_1), 'students in IN-BA1 over the years')\n",
    "print('There were', len(ba_6), 'students in IN-BA6 over the years')"
   ]
  },
  {
   "cell_type": "code",
   "execution_count": 776,
   "metadata": {
    "collapsed": true
   },
   "outputs": [],
   "source": [
    "# compute the intersection by using sets\n",
    "def compute_intersection_first_last_semester(df, first, last):\n",
    "    intersection_index = set(first.index).intersection(set(last.index))\n",
    "    intersection = df[df.index.isin(intersection_index)].sort_index()\n",
    "    return intersection"
   ]
  },
  {
   "cell_type": "markdown",
   "metadata": {},
   "source": [
    "Now each semester that every qualifying student has done is in the dataframe.<br>\n",
    "We need to group the students by sciper and count the number of semesters."
   ]
  },
  {
   "cell_type": "code",
   "execution_count": 777,
   "metadata": {
    "collapsed": false
   },
   "outputs": [],
   "source": [
    "def compute_semester_count(intersection):\n",
    "    semester_count = intersection.reset_index()[['sciper', 'semester']].groupby(['sciper']).count()\n",
    "    semester_count = semester_count.rename(columns={'semester' : 'semester_count'})\n",
    "    intersection_counted = intersection.merge(semester_count, left_index=True, right_index=True)\n",
    "    return intersection_counted"
   ]
  },
  {
   "cell_type": "markdown",
   "metadata": {},
   "source": [
    "With use of the two defined functions, we can now get our semester count:"
   ]
  },
  {
   "cell_type": "code",
   "execution_count": 778,
   "metadata": {
    "collapsed": false
   },
   "outputs": [],
   "source": [
    "ba_counted = compute_semester_count(compute_intersection_first_last_semester(ba_data, ba_1, ba_6))"
   ]
  },
  {
   "cell_type": "markdown",
   "metadata": {},
   "source": [
    "We want to keep one row per person and drop the columns that aren't useful for the analysis."
   ]
  },
  {
   "cell_type": "code",
   "execution_count": 780,
   "metadata": {
    "collapsed": false
   },
   "outputs": [],
   "source": [
    "ba_counted = ba_counted.groupby(ba_counted.index).agg('first')\n",
    "ba_counted = ba_counted[['title', 'name', 'semester_count']]"
   ]
  },
  {
   "cell_type": "markdown",
   "metadata": {},
   "source": [
    "We can now group by sex and compute the required stats:"
   ]
  },
  {
   "cell_type": "code",
   "execution_count": 819,
   "metadata": {
    "collapsed": false
   },
   "outputs": [
    {
     "data": {
      "text/html": [
       "<div>\n",
       "<table border=\"1\" class=\"dataframe\">\n",
       "  <thead>\n",
       "    <tr style=\"text-align: right;\">\n",
       "      <th></th>\n",
       "      <th></th>\n",
       "      <th>semester_count</th>\n",
       "    </tr>\n",
       "    <tr>\n",
       "      <th>title</th>\n",
       "      <th></th>\n",
       "      <th></th>\n",
       "    </tr>\n",
       "  </thead>\n",
       "  <tbody>\n",
       "    <tr>\n",
       "      <th rowspan=\"8\" valign=\"top\">Madame</th>\n",
       "      <th>count</th>\n",
       "      <td>29.000000</td>\n",
       "    </tr>\n",
       "    <tr>\n",
       "      <th>mean</th>\n",
       "      <td>6.793103</td>\n",
       "    </tr>\n",
       "    <tr>\n",
       "      <th>std</th>\n",
       "      <td>1.346406</td>\n",
       "    </tr>\n",
       "    <tr>\n",
       "      <th>min</th>\n",
       "      <td>6.000000</td>\n",
       "    </tr>\n",
       "    <tr>\n",
       "      <th>25%</th>\n",
       "      <td>6.000000</td>\n",
       "    </tr>\n",
       "    <tr>\n",
       "      <th>50%</th>\n",
       "      <td>6.000000</td>\n",
       "    </tr>\n",
       "    <tr>\n",
       "      <th>75%</th>\n",
       "      <td>8.000000</td>\n",
       "    </tr>\n",
       "    <tr>\n",
       "      <th>max</th>\n",
       "      <td>11.000000</td>\n",
       "    </tr>\n",
       "    <tr>\n",
       "      <th rowspan=\"8\" valign=\"top\">Monsieur</th>\n",
       "      <th>count</th>\n",
       "      <td>368.000000</td>\n",
       "    </tr>\n",
       "    <tr>\n",
       "      <th>mean</th>\n",
       "      <td>7.105978</td>\n",
       "    </tr>\n",
       "    <tr>\n",
       "      <th>std</th>\n",
       "      <td>1.536891</td>\n",
       "    </tr>\n",
       "    <tr>\n",
       "      <th>min</th>\n",
       "      <td>4.000000</td>\n",
       "    </tr>\n",
       "    <tr>\n",
       "      <th>25%</th>\n",
       "      <td>6.000000</td>\n",
       "    </tr>\n",
       "    <tr>\n",
       "      <th>50%</th>\n",
       "      <td>6.000000</td>\n",
       "    </tr>\n",
       "    <tr>\n",
       "      <th>75%</th>\n",
       "      <td>8.000000</td>\n",
       "    </tr>\n",
       "    <tr>\n",
       "      <th>max</th>\n",
       "      <td>12.000000</td>\n",
       "    </tr>\n",
       "  </tbody>\n",
       "</table>\n",
       "</div>"
      ],
      "text/plain": [
       "                semester_count\n",
       "title                         \n",
       "Madame   count       29.000000\n",
       "         mean         6.793103\n",
       "         std          1.346406\n",
       "         min          6.000000\n",
       "         25%          6.000000\n",
       "         50%          6.000000\n",
       "         75%          8.000000\n",
       "         max         11.000000\n",
       "Monsieur count      368.000000\n",
       "         mean         7.105978\n",
       "         std          1.536891\n",
       "         min          4.000000\n",
       "         25%          6.000000\n",
       "         50%          6.000000\n",
       "         75%          8.000000\n",
       "         max         12.000000"
      ]
     },
     "execution_count": 819,
     "metadata": {},
     "output_type": "execute_result"
    }
   ],
   "source": [
    "ba_counted.groupby('title').describe()"
   ]
  },
  {
   "cell_type": "markdown",
   "metadata": {},
   "source": [
    "### Discussion:\n",
    "TODO !!!!!"
   ]
  },
  {
   "cell_type": "markdown",
   "metadata": {},
   "source": [
    "## Part 3b - Master data"
   ]
  },
  {
   "cell_type": "markdown",
   "metadata": {},
   "source": [
    "<p>We will perform the same kind of computation as before to compute the number of semesters per student. We need to mind the fact that some students don't start in the first semester, but in the second one. Also, we need to distinguish between students with a specialization or a minor, and those without.</p>\n",
    "<p><b>Assumptions:</b><br>\n",
    "- Some students have a MA3 registered even though they don't do either a specialization or a minor. We will consider them anyways.<br>\n",
    "</p>"
   ]
  },
  {
   "cell_type": "code",
   "execution_count": 782,
   "metadata": {
    "collapsed": false
   },
   "outputs": [
    {
     "name": "stdout",
     "output_type": "stream",
     "text": [
      "There were 948 students in IN-MA1 over the years\n",
      "There were 1062 students in IN-MA2 over the years\n",
      "There were 706 students in IN-MA3 over the years\n"
     ]
    }
   ],
   "source": [
    "# Proceed as before to filter into semesters\n",
    "ma_data = data[data.degree == 'Master']\n",
    "ma_1 = ma_data[ma_data.semester == 1]\n",
    "ma_2 = ma_data[ma_data.semester == 2]\n",
    "ma_3 = ma_data[ma_data.semester == 3]\n",
    "\n",
    "print('There were', len(ma_1), 'students in IN-MA1 over the years')\n",
    "print('There were', len(ma_2), 'students in IN-MA2 over the years')\n",
    "print('There were', len(ma_3), 'students in IN-MA3 over the years')"
   ]
  },
  {
   "cell_type": "markdown",
   "metadata": {},
   "source": [
    "In the bachelor analysis, we needed to compute the semester count between the first BA1 and the last BA6.<br>\n",
    "Here, it is not that simple, since the last semester of MA is not the same for everyone: some students finish in MA2, some finish in MA3, and they can very well succeed in both cases.<br>\n",
    "=&gt; The problem here is then to figure out, for which student, if their last semester is MA2 or MA3. This is done with the following index:"
   ]
  },
  {
   "cell_type": "code",
   "execution_count": 783,
   "metadata": {
    "collapsed": false
   },
   "outputs": [
    {
     "data": {
      "text/html": [
       "<div>\n",
       "<table border=\"1\" class=\"dataframe\">\n",
       "  <thead>\n",
       "    <tr style=\"text-align: right;\">\n",
       "      <th></th>\n",
       "      <th>semester</th>\n",
       "    </tr>\n",
       "    <tr>\n",
       "      <th>sciper</th>\n",
       "      <th></th>\n",
       "    </tr>\n",
       "  </thead>\n",
       "  <tbody>\n",
       "    <tr>\n",
       "      <th>128911</th>\n",
       "      <td>3</td>\n",
       "    </tr>\n",
       "    <tr>\n",
       "      <th>129093</th>\n",
       "      <td>3</td>\n",
       "    </tr>\n",
       "    <tr>\n",
       "      <th>129326</th>\n",
       "      <td>3</td>\n",
       "    </tr>\n",
       "    <tr>\n",
       "      <th>138088</th>\n",
       "      <td>1</td>\n",
       "    </tr>\n",
       "    <tr>\n",
       "      <th>145546</th>\n",
       "      <td>3</td>\n",
       "    </tr>\n",
       "  </tbody>\n",
       "</table>\n",
       "</div>"
      ],
      "text/plain": [
       "        semester\n",
       "sciper          \n",
       "128911         3\n",
       "129093         3\n",
       "129326         3\n",
       "138088         1\n",
       "145546         3"
      ]
     },
     "execution_count": 783,
     "metadata": {},
     "output_type": "execute_result"
    }
   ],
   "source": [
    "last_index = ma_data.groupby(ma_data.index).agg({'semester' : np.max})\n",
    "\n",
    "# 'semester' column here indicates the last semester number of the given student.\n",
    "last_index.head(5)"
   ]
  },
  {
   "cell_type": "markdown",
   "metadata": {},
   "source": [
    "Now, we merge this table back with all the master data. This is a typical `inner join`:"
   ]
  },
  {
   "cell_type": "code",
   "execution_count": 784,
   "metadata": {
    "collapsed": false
   },
   "outputs": [
    {
     "data": {
      "text/html": [
       "<div>\n",
       "<table border=\"1\" class=\"dataframe\">\n",
       "  <thead>\n",
       "    <tr style=\"text-align: right;\">\n",
       "      <th></th>\n",
       "      <th>title</th>\n",
       "      <th>name</th>\n",
       "      <th>start</th>\n",
       "      <th>end</th>\n",
       "      <th>degree</th>\n",
       "      <th>semester</th>\n",
       "      <th>status</th>\n",
       "      <th>spec</th>\n",
       "      <th>minor</th>\n",
       "    </tr>\n",
       "    <tr>\n",
       "      <th>sciper</th>\n",
       "      <th></th>\n",
       "      <th></th>\n",
       "      <th></th>\n",
       "      <th></th>\n",
       "      <th></th>\n",
       "      <th></th>\n",
       "      <th></th>\n",
       "      <th></th>\n",
       "      <th></th>\n",
       "    </tr>\n",
       "  </thead>\n",
       "  <tbody>\n",
       "    <tr>\n",
       "      <th>128911</th>\n",
       "      <td>Monsieur</td>\n",
       "      <td>Gulati Asheesh</td>\n",
       "      <td>2007</td>\n",
       "      <td>2008</td>\n",
       "      <td>Master</td>\n",
       "      <td>3</td>\n",
       "      <td>Présent</td>\n",
       "      <td>Internet computing</td>\n",
       "      <td></td>\n",
       "    </tr>\n",
       "    <tr>\n",
       "      <th>129093</th>\n",
       "      <td>Monsieur</td>\n",
       "      <td>Zhou Maoan</td>\n",
       "      <td>2007</td>\n",
       "      <td>2008</td>\n",
       "      <td>Master</td>\n",
       "      <td>3</td>\n",
       "      <td>Stage</td>\n",
       "      <td></td>\n",
       "      <td></td>\n",
       "    </tr>\n",
       "    <tr>\n",
       "      <th>129326</th>\n",
       "      <td>Monsieur</td>\n",
       "      <td>Ni Zhong Zhong</td>\n",
       "      <td>2007</td>\n",
       "      <td>2008</td>\n",
       "      <td>Master</td>\n",
       "      <td>3</td>\n",
       "      <td>Présent</td>\n",
       "      <td></td>\n",
       "      <td></td>\n",
       "    </tr>\n",
       "    <tr>\n",
       "      <th>138088</th>\n",
       "      <td>Monsieur</td>\n",
       "      <td>Droz-dit-Busset Arnault</td>\n",
       "      <td>2007</td>\n",
       "      <td>2008</td>\n",
       "      <td>Master</td>\n",
       "      <td>1</td>\n",
       "      <td>Présent</td>\n",
       "      <td></td>\n",
       "      <td></td>\n",
       "    </tr>\n",
       "    <tr>\n",
       "      <th>145546</th>\n",
       "      <td>Monsieur</td>\n",
       "      <td>Clivaz Jean-Philippe</td>\n",
       "      <td>2007</td>\n",
       "      <td>2008</td>\n",
       "      <td>Master</td>\n",
       "      <td>3</td>\n",
       "      <td>Présent</td>\n",
       "      <td></td>\n",
       "      <td></td>\n",
       "    </tr>\n",
       "  </tbody>\n",
       "</table>\n",
       "</div>"
      ],
      "text/plain": [
       "           title                     name  start   end  degree  semester  \\\n",
       "sciper                                                                     \n",
       "128911  Monsieur           Gulati Asheesh   2007  2008  Master         3   \n",
       "129093  Monsieur               Zhou Maoan   2007  2008  Master         3   \n",
       "129326  Monsieur           Ni Zhong Zhong   2007  2008  Master         3   \n",
       "138088  Monsieur  Droz-dit-Busset Arnault   2007  2008  Master         1   \n",
       "145546  Monsieur     Clivaz Jean-Philippe   2007  2008  Master         3   \n",
       "\n",
       "         status                spec minor  \n",
       "sciper                                     \n",
       "128911  Présent  Internet computing        \n",
       "129093    Stage                            \n",
       "129326  Présent                            \n",
       "138088  Présent                            \n",
       "145546  Présent                            "
      ]
     },
     "execution_count": 784,
     "metadata": {},
     "output_type": "execute_result"
    }
   ],
   "source": [
    "ma_last = ma_data.reset_index().merge(last_index.reset_index(), how='inner', on=['sciper','semester']).set_index('sciper')\n",
    "ma_last.sort_index().head(5)"
   ]
  },
  {
   "cell_type": "markdown",
   "metadata": {},
   "source": [
    "We need to <b>not consider</b> students whose maximal semester number is 1: this would be an indication that the student did not graduate at EPFL:"
   ]
  },
  {
   "cell_type": "code",
   "execution_count": 785,
   "metadata": {
    "collapsed": false
   },
   "outputs": [
    {
     "data": {
      "text/html": [
       "<div>\n",
       "<table border=\"1\" class=\"dataframe\">\n",
       "  <thead>\n",
       "    <tr style=\"text-align: right;\">\n",
       "      <th></th>\n",
       "      <th>title</th>\n",
       "      <th>name</th>\n",
       "      <th>start</th>\n",
       "      <th>end</th>\n",
       "      <th>degree</th>\n",
       "      <th>semester</th>\n",
       "      <th>status</th>\n",
       "      <th>spec</th>\n",
       "      <th>minor</th>\n",
       "    </tr>\n",
       "    <tr>\n",
       "      <th>sciper</th>\n",
       "      <th></th>\n",
       "      <th></th>\n",
       "      <th></th>\n",
       "      <th></th>\n",
       "      <th></th>\n",
       "      <th></th>\n",
       "      <th></th>\n",
       "      <th></th>\n",
       "      <th></th>\n",
       "    </tr>\n",
       "  </thead>\n",
       "  <tbody>\n",
       "    <tr>\n",
       "      <th>128911</th>\n",
       "      <td>Monsieur</td>\n",
       "      <td>Gulati Asheesh</td>\n",
       "      <td>2007</td>\n",
       "      <td>2008</td>\n",
       "      <td>Master</td>\n",
       "      <td>3</td>\n",
       "      <td>Présent</td>\n",
       "      <td>Internet computing</td>\n",
       "      <td></td>\n",
       "    </tr>\n",
       "    <tr>\n",
       "      <th>129093</th>\n",
       "      <td>Monsieur</td>\n",
       "      <td>Zhou Maoan</td>\n",
       "      <td>2007</td>\n",
       "      <td>2008</td>\n",
       "      <td>Master</td>\n",
       "      <td>3</td>\n",
       "      <td>Stage</td>\n",
       "      <td></td>\n",
       "      <td></td>\n",
       "    </tr>\n",
       "    <tr>\n",
       "      <th>129326</th>\n",
       "      <td>Monsieur</td>\n",
       "      <td>Ni Zhong Zhong</td>\n",
       "      <td>2007</td>\n",
       "      <td>2008</td>\n",
       "      <td>Master</td>\n",
       "      <td>3</td>\n",
       "      <td>Présent</td>\n",
       "      <td></td>\n",
       "      <td></td>\n",
       "    </tr>\n",
       "    <tr>\n",
       "      <th>145546</th>\n",
       "      <td>Monsieur</td>\n",
       "      <td>Clivaz Jean-Philippe</td>\n",
       "      <td>2007</td>\n",
       "      <td>2008</td>\n",
       "      <td>Master</td>\n",
       "      <td>3</td>\n",
       "      <td>Présent</td>\n",
       "      <td></td>\n",
       "      <td></td>\n",
       "    </tr>\n",
       "    <tr>\n",
       "      <th>145957</th>\n",
       "      <td>Monsieur</td>\n",
       "      <td>Hügli Michael</td>\n",
       "      <td>2007</td>\n",
       "      <td>2008</td>\n",
       "      <td>Master</td>\n",
       "      <td>3</td>\n",
       "      <td>Présent</td>\n",
       "      <td></td>\n",
       "      <td></td>\n",
       "    </tr>\n",
       "  </tbody>\n",
       "</table>\n",
       "</div>"
      ],
      "text/plain": [
       "           title                  name  start   end  degree  semester  \\\n",
       "sciper                                                                  \n",
       "128911  Monsieur        Gulati Asheesh   2007  2008  Master         3   \n",
       "129093  Monsieur            Zhou Maoan   2007  2008  Master         3   \n",
       "129326  Monsieur        Ni Zhong Zhong   2007  2008  Master         3   \n",
       "145546  Monsieur  Clivaz Jean-Philippe   2007  2008  Master         3   \n",
       "145957  Monsieur         Hügli Michael   2007  2008  Master         3   \n",
       "\n",
       "         status                spec minor  \n",
       "sciper                                     \n",
       "128911  Présent  Internet computing        \n",
       "129093    Stage                            \n",
       "129326  Présent                            \n",
       "145546  Présent                            \n",
       "145957  Présent                            "
      ]
     },
     "execution_count": 785,
     "metadata": {},
     "output_type": "execute_result"
    }
   ],
   "source": [
    "ma_last = ma_last[ma_last.semester != 1]\n",
    "ma_last.sort_index().head(5)"
   ]
  },
  {
   "cell_type": "markdown",
   "metadata": {},
   "source": [
    "Now, we can use the functions that we defined in the Bachelor part, to compute the now usual intersection between students who were in the MA1 and then subsequently in their respective last semester of Master (MA2 or MA3)."
   ]
  },
  {
   "cell_type": "code",
   "execution_count": 839,
   "metadata": {
    "collapsed": false
   },
   "outputs": [
    {
     "data": {
      "text/html": [
       "<div>\n",
       "<table border=\"1\" class=\"dataframe\">\n",
       "  <thead>\n",
       "    <tr style=\"text-align: right;\">\n",
       "      <th></th>\n",
       "      <th>title</th>\n",
       "      <th>name</th>\n",
       "      <th>semester_count</th>\n",
       "      <th>minor</th>\n",
       "      <th>spec</th>\n",
       "    </tr>\n",
       "    <tr>\n",
       "      <th>sciper</th>\n",
       "      <th></th>\n",
       "      <th></th>\n",
       "      <th></th>\n",
       "      <th></th>\n",
       "      <th></th>\n",
       "    </tr>\n",
       "  </thead>\n",
       "  <tbody>\n",
       "    <tr>\n",
       "      <th>214477</th>\n",
       "      <td>Madame</td>\n",
       "      <td>Jenatton Kateline</td>\n",
       "      <td>3</td>\n",
       "      <td></td>\n",
       "      <td></td>\n",
       "    </tr>\n",
       "    <tr>\n",
       "      <th>166263</th>\n",
       "      <td>Monsieur</td>\n",
       "      <td>Roux Alexandre</td>\n",
       "      <td>3</td>\n",
       "      <td></td>\n",
       "      <td>Foundations of Software</td>\n",
       "    </tr>\n",
       "    <tr>\n",
       "      <th>169942</th>\n",
       "      <td>Monsieur</td>\n",
       "      <td>Habegger Mathieu</td>\n",
       "      <td>4</td>\n",
       "      <td></td>\n",
       "      <td></td>\n",
       "    </tr>\n",
       "    <tr>\n",
       "      <th>234277</th>\n",
       "      <td>Monsieur</td>\n",
       "      <td>Sharma Puneet</td>\n",
       "      <td>3</td>\n",
       "      <td></td>\n",
       "      <td></td>\n",
       "    </tr>\n",
       "    <tr>\n",
       "      <th>183920</th>\n",
       "      <td>Monsieur</td>\n",
       "      <td>Crisan Daniel</td>\n",
       "      <td>2</td>\n",
       "      <td></td>\n",
       "      <td></td>\n",
       "    </tr>\n",
       "  </tbody>\n",
       "</table>\n",
       "</div>"
      ],
      "text/plain": [
       "           title               name  semester_count minor  \\\n",
       "sciper                                                      \n",
       "214477    Madame  Jenatton Kateline               3         \n",
       "166263  Monsieur     Roux Alexandre               3         \n",
       "169942  Monsieur   Habegger Mathieu               4         \n",
       "234277  Monsieur      Sharma Puneet               3         \n",
       "183920  Monsieur      Crisan Daniel               2         \n",
       "\n",
       "                           spec  \n",
       "sciper                           \n",
       "214477                           \n",
       "166263  Foundations of Software  \n",
       "169942                           \n",
       "234277                           \n",
       "183920                           "
      ]
     },
     "execution_count": 839,
     "metadata": {},
     "output_type": "execute_result"
    }
   ],
   "source": [
    "ma_counted = compute_semester_count(compute_intersection_first_last_semester(ma_data, ma_1, ma_last))\n",
    "ma_counted = ma_counted.groupby(ma_counted.index).agg('first')\n",
    "ma_counted = ma_counted[['title', 'name', 'semester_count', 'minor', 'spec']]\n",
    "ma_counted.sample(5)"
   ]
  },
  {
   "cell_type": "markdown",
   "metadata": {},
   "source": [
    "### Considering Master project (\"PDM\") data"
   ]
  },
  {
   "cell_type": "markdown",
   "metadata": {},
   "source": [
    "It is now time to add the data for the students that did their PDM.<br>\n",
    "All the students present in the `ma_counted` table above are already considered to have graduated successfully from EPFL, but the duration needs to be adjusted to take into account their PDM.<br>\n",
    "We just need to fetch PDM data:"
   ]
  },
  {
   "cell_type": "code",
   "execution_count": 869,
   "metadata": {
    "collapsed": false
   },
   "outputs": [],
   "source": [
    "pdm_data = data[data.degree == 'PDM']"
   ]
  },
  {
   "cell_type": "markdown",
   "metadata": {},
   "source": [
    "Some PDMs are longer than one semester. We can now compute the number of semesters of each student in `pdm_data`."
   ]
  },
  {
   "cell_type": "code",
   "execution_count": 870,
   "metadata": {
    "collapsed": false
   },
   "outputs": [
    {
     "data": {
      "text/html": [
       "<div>\n",
       "<table border=\"1\" class=\"dataframe\">\n",
       "  <thead>\n",
       "    <tr style=\"text-align: right;\">\n",
       "      <th></th>\n",
       "      <th>semester_count_pdm</th>\n",
       "    </tr>\n",
       "    <tr>\n",
       "      <th>sciper</th>\n",
       "      <th></th>\n",
       "    </tr>\n",
       "  </thead>\n",
       "  <tbody>\n",
       "    <tr>\n",
       "      <th>227209</th>\n",
       "      <td>1</td>\n",
       "    </tr>\n",
       "  </tbody>\n",
       "</table>\n",
       "</div>"
      ],
      "text/plain": [
       "        semester_count_pdm\n",
       "sciper                    \n",
       "227209                   1"
      ]
     },
     "execution_count": 870,
     "metadata": {},
     "output_type": "execute_result"
    }
   ],
   "source": [
    "pdm_counted = pdm_data.reset_index()[['sciper', 'semester']].groupby(['sciper']).count()\n",
    "pdm_counted = pdm_counted.rename(columns={'semester' : 'semester_count_pdm'})\n",
    "pdm_counted.head()"
   ]
  },
  {
   "cell_type": "markdown",
   "metadata": {},
   "source": [
    "Now we concatenate this table with `ma_counted`.<br>\n",
    "It is assumed that every student that did a first and a last semester of courses also did a PDM, even if this is not registered in ISA (some other databases seem to exist). Thus we add one semester to the count of the students who are in that case:"
   ]
  },
  {
   "cell_type": "code",
   "execution_count": 871,
   "metadata": {
    "collapsed": false
   },
   "outputs": [
    {
     "data": {
      "text/html": [
       "<div>\n",
       "<table border=\"1\" class=\"dataframe\">\n",
       "  <thead>\n",
       "    <tr style=\"text-align: right;\">\n",
       "      <th></th>\n",
       "      <th>semester_count_pdm</th>\n",
       "      <th>title</th>\n",
       "      <th>name</th>\n",
       "      <th>semester_count</th>\n",
       "      <th>minor</th>\n",
       "      <th>spec</th>\n",
       "    </tr>\n",
       "  </thead>\n",
       "  <tbody>\n",
       "    <tr>\n",
       "      <th>146330</th>\n",
       "      <td>1.0</td>\n",
       "      <td>Monsieur</td>\n",
       "      <td>Cardinaux Damien</td>\n",
       "      <td>3</td>\n",
       "      <td></td>\n",
       "      <td></td>\n",
       "    </tr>\n",
       "    <tr>\n",
       "      <th>146742</th>\n",
       "      <td>1.0</td>\n",
       "      <td>Monsieur</td>\n",
       "      <td>Marx Clément</td>\n",
       "      <td>5</td>\n",
       "      <td></td>\n",
       "      <td>Signals, Images and Interfaces</td>\n",
       "    </tr>\n",
       "    <tr>\n",
       "      <th>146929</th>\n",
       "      <td>1.0</td>\n",
       "      <td>Monsieur</td>\n",
       "      <td>Junod Antoine</td>\n",
       "      <td>2</td>\n",
       "      <td></td>\n",
       "      <td></td>\n",
       "    </tr>\n",
       "    <tr>\n",
       "      <th>147008</th>\n",
       "      <td>1.0</td>\n",
       "      <td>Monsieur</td>\n",
       "      <td>Good Xavier</td>\n",
       "      <td>4</td>\n",
       "      <td></td>\n",
       "      <td>Signals, Images and Interfaces</td>\n",
       "    </tr>\n",
       "    <tr>\n",
       "      <th>152232</th>\n",
       "      <td>1.0</td>\n",
       "      <td>Monsieur</td>\n",
       "      <td>Anagnostaras David</td>\n",
       "      <td>3</td>\n",
       "      <td>Mineur en Management, technologie et entrepren...</td>\n",
       "      <td></td>\n",
       "    </tr>\n",
       "  </tbody>\n",
       "</table>\n",
       "</div>"
      ],
      "text/plain": [
       "        semester_count_pdm     title                name  semester_count  \\\n",
       "146330                 1.0  Monsieur    Cardinaux Damien               3   \n",
       "146742                 1.0  Monsieur        Marx Clément               5   \n",
       "146929                 1.0  Monsieur       Junod Antoine               2   \n",
       "147008                 1.0  Monsieur         Good Xavier               4   \n",
       "152232                 1.0  Monsieur  Anagnostaras David               3   \n",
       "\n",
       "                                                    minor  \\\n",
       "146330                                                      \n",
       "146742                                                      \n",
       "146929                                                      \n",
       "147008                                                      \n",
       "152232  Mineur en Management, technologie et entrepren...   \n",
       "\n",
       "                                  spec  \n",
       "146330                                  \n",
       "146742  Signals, Images and Interfaces  \n",
       "146929                                  \n",
       "147008  Signals, Images and Interfaces  \n",
       "152232                                  "
      ]
     },
     "execution_count": 871,
     "metadata": {},
     "output_type": "execute_result"
    }
   ],
   "source": [
    "ma_with_pdm = pd.concat([pdm_counted, ma_counted], axis=1)\n",
    "ma_with_pdm['semester_count_pdm'].fillna(1, inplace=True)\n",
    "ma_with_pdm.head()"
   ]
  },
  {
   "cell_type": "markdown",
   "metadata": {},
   "source": [
    "The final `semester_count` is given by the sum of itself with the number of semesters for the PDM:"
   ]
  },
  {
   "cell_type": "code",
   "execution_count": 872,
   "metadata": {
    "collapsed": false
   },
   "outputs": [
    {
     "data": {
      "text/html": [
       "<div>\n",
       "<table border=\"1\" class=\"dataframe\">\n",
       "  <thead>\n",
       "    <tr style=\"text-align: right;\">\n",
       "      <th></th>\n",
       "      <th>title</th>\n",
       "      <th>name</th>\n",
       "      <th>semester_count</th>\n",
       "      <th>minor</th>\n",
       "      <th>spec</th>\n",
       "    </tr>\n",
       "  </thead>\n",
       "  <tbody>\n",
       "    <tr>\n",
       "      <th>146330</th>\n",
       "      <td>Monsieur</td>\n",
       "      <td>Cardinaux Damien</td>\n",
       "      <td>4.0</td>\n",
       "      <td></td>\n",
       "      <td></td>\n",
       "    </tr>\n",
       "    <tr>\n",
       "      <th>146742</th>\n",
       "      <td>Monsieur</td>\n",
       "      <td>Marx Clément</td>\n",
       "      <td>6.0</td>\n",
       "      <td></td>\n",
       "      <td>Signals, Images and Interfaces</td>\n",
       "    </tr>\n",
       "    <tr>\n",
       "      <th>146929</th>\n",
       "      <td>Monsieur</td>\n",
       "      <td>Junod Antoine</td>\n",
       "      <td>3.0</td>\n",
       "      <td></td>\n",
       "      <td></td>\n",
       "    </tr>\n",
       "    <tr>\n",
       "      <th>147008</th>\n",
       "      <td>Monsieur</td>\n",
       "      <td>Good Xavier</td>\n",
       "      <td>5.0</td>\n",
       "      <td></td>\n",
       "      <td>Signals, Images and Interfaces</td>\n",
       "    </tr>\n",
       "    <tr>\n",
       "      <th>152232</th>\n",
       "      <td>Monsieur</td>\n",
       "      <td>Anagnostaras David</td>\n",
       "      <td>4.0</td>\n",
       "      <td>Mineur en Management, technologie et entrepren...</td>\n",
       "      <td></td>\n",
       "    </tr>\n",
       "  </tbody>\n",
       "</table>\n",
       "</div>"
      ],
      "text/plain": [
       "           title                name  semester_count  \\\n",
       "146330  Monsieur    Cardinaux Damien             4.0   \n",
       "146742  Monsieur        Marx Clément             6.0   \n",
       "146929  Monsieur       Junod Antoine             3.0   \n",
       "147008  Monsieur         Good Xavier             5.0   \n",
       "152232  Monsieur  Anagnostaras David             4.0   \n",
       "\n",
       "                                                    minor  \\\n",
       "146330                                                      \n",
       "146742                                                      \n",
       "146929                                                      \n",
       "147008                                                      \n",
       "152232  Mineur en Management, technologie et entrepren...   \n",
       "\n",
       "                                  spec  \n",
       "146330                                  \n",
       "146742  Signals, Images and Interfaces  \n",
       "146929                                  \n",
       "147008  Signals, Images and Interfaces  \n",
       "152232                                  "
      ]
     },
     "execution_count": 872,
     "metadata": {},
     "output_type": "execute_result"
    }
   ],
   "source": [
    "ma_with_pdm.semester_count = ma_with_pdm.semester_count + ma_with_pdm.semester_count_pdm\n",
    "ma_with_pdm = ma_with_pdm.drop('semester_count_pdm', axis=1)\n",
    "ma_with_pdm.head()"
   ]
  },
  {
   "cell_type": "markdown",
   "metadata": {},
   "source": [
    "### Students with a specialization"
   ]
  },
  {
   "cell_type": "code",
   "execution_count": 796,
   "metadata": {
    "collapsed": false
   },
   "outputs": [
    {
     "data": {
      "text/plain": [
       "Index(['title', 'name', 'start', 'end', 'degree', 'semester', 'status', 'spec',\n",
       "       'minor'],\n",
       "      dtype='object')"
      ]
     },
     "execution_count": 796,
     "metadata": {},
     "output_type": "execute_result"
    }
   ],
   "source": [
    "students_with_spec = intersection_counted.groupby('spec').mean()\n",
    "students_with_spec"
   ]
  },
  {
   "cell_type": "code",
   "execution_count": null,
   "metadata": {
    "collapsed": false
   },
   "outputs": [],
   "source": []
  },
  {
   "cell_type": "code",
   "execution_count": null,
   "metadata": {
    "collapsed": true
   },
   "outputs": [],
   "source": []
  }
 ],
 "metadata": {
  "anaconda-cloud": {},
  "kernelspec": {
   "display_name": "Python [conda root]",
   "language": "python",
   "name": "conda-root-py"
  },
  "language_info": {
   "codemirror_mode": {
    "name": "ipython",
    "version": 3
   },
   "file_extension": ".py",
   "mimetype": "text/x-python",
   "name": "python",
   "nbconvert_exporter": "python",
   "pygments_lexer": "ipython3",
   "version": "3.5.2"
  }
 },
 "nbformat": 4,
 "nbformat_minor": 1
}
