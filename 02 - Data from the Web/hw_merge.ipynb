{
 "cells": [
  {
   "cell_type": "markdown",
   "metadata": {},
   "source": [
    "# Homework 2 - Montero, Peterssen, Brousse"
   ]
  },
  {
   "cell_type": "code",
   "execution_count": 83,
   "metadata": {
    "collapsed": false
   },
   "outputs": [],
   "source": [
    "from bs4 import BeautifulSoup\n",
    "import requests\n",
    "import re\n",
    "import numpy as np\n",
    "import pandas as pd"
   ]
  },
  {
   "cell_type": "markdown",
   "metadata": {
    "collapsed": true
   },
   "source": [
    "## Fetching all students enrolled in CS in Bachelor from 2007 to 2017"
   ]
  },
  {
   "cell_type": "code",
   "execution_count": 84,
   "metadata": {
    "collapsed": true
   },
   "outputs": [],
   "source": [
    "# Base url of isa\n",
    "base_url = \"http://isa.epfl.ch/imoniteur_ISAP/!GEDPUBLICREPORTS\""
   ]
  },
  {
   "cell_type": "markdown",
   "metadata": {
    "collapsed": true
   },
   "source": [
    "## Part 1 - Fetch from ISA all codes used as parameters for fetching data"
   ]
  },
  {
   "cell_type": "code",
   "execution_count": 85,
   "metadata": {
    "collapsed": false
   },
   "outputs": [
    {
     "data": {
      "text/plain": [
       "{'ww_x_HIVERETE': {\"Semestre d'automne\": '2936286',\n",
       "  'Semestre de printemps': '2936295'},\n",
       " 'ww_x_PERIODE_ACAD': {'2007-2008': '978181',\n",
       "  '2008-2009': '978187',\n",
       "  '2009-2010': '978195',\n",
       "  '2010-2011': '39486325',\n",
       "  '2011-2012': '123455150',\n",
       "  '2012-2013': '123456101',\n",
       "  '2013-2014': '213637754',\n",
       "  '2014-2015': '213637922',\n",
       "  '2015-2016': '213638028',\n",
       "  '2016-2017': '355925344'},\n",
       " 'ww_x_PERIODE_PEDAGO': {'Bachelor semestre 1': '249108',\n",
       "  'Bachelor semestre 2': '249114',\n",
       "  'Bachelor semestre 3': '942155',\n",
       "  'Bachelor semestre 4': '942163',\n",
       "  'Bachelor semestre 5': '942120',\n",
       "  'Bachelor semestre 5b': '2226768',\n",
       "  'Bachelor semestre 6': '942175',\n",
       "  'Bachelor semestre 6b': '2226785',\n",
       "  'Master semestre 1': '2230106',\n",
       "  'Master semestre 2': '942192',\n",
       "  'Master semestre 3': '2230128',\n",
       "  'Master semestre 4': '2230140',\n",
       "  'Mineur semestre 1': '2335667',\n",
       "  'Mineur semestre 2': '2335676',\n",
       "  'Mise à niveau': '2063602308',\n",
       "  'Projet Master automne': '249127',\n",
       "  'Projet Master printemps': '3781783',\n",
       "  'Semestre automne': '953159',\n",
       "  'Semestre printemps': '2754553',\n",
       "  'Stage automne 3ème année': '953137',\n",
       "  'Stage automne 4ème année': '2226616',\n",
       "  'Stage printemps 3ème année': '983606',\n",
       "  'Stage printemps 4ème année': '2226626',\n",
       "  'Stage printemps master': '2227132'},\n",
       " 'ww_x_UNITE_ACAD': {'Architecture': '942293',\n",
       "  'Chimie et génie chimique': '246696',\n",
       "  'Cours de mathématiques spéciales': '943282',\n",
       "  'EME (EPFL Middle East)': '637841336',\n",
       "  'Génie civil': '942623',\n",
       "  'Génie mécanique': '944263',\n",
       "  'Génie électrique et électronique ': '943936',\n",
       "  'Humanités digitales': '2054839157',\n",
       "  'Informatique': '249847',\n",
       "  'Ingénierie financière': '120623110',\n",
       "  'Management de la technologie': '946882',\n",
       "  'Mathématiques': '944590',\n",
       "  'Microtechnique': '945244',\n",
       "  'Physique': '945571',\n",
       "  'Science et génie des matériaux': '944917',\n",
       "  \"Sciences et ingénierie de l'environnement\": '942953',\n",
       "  'Sciences et technologies du vivant': '945901',\n",
       "  'Section FCUE': '1574548993',\n",
       "  'Systèmes de communication': '946228'}}"
      ]
     },
     "execution_count": 85,
     "metadata": {},
     "output_type": "execute_result"
    }
   ],
   "source": [
    "# Get all parameters from the ISA form\n",
    "select_url = base_url +  \".filter?\"\n",
    "select_params = {'ww_i_reportModel' : '133685247'}\n",
    "\n",
    "r  = requests.get(select_url, params=select_params)\n",
    "data = r.text\n",
    "soup = BeautifulSoup(data, \"lxml\")\n",
    "allCodes = {}\n",
    "\n",
    "# For each dropdown on the form get the corresponding codes\n",
    "for dropdown in soup.find_all('select'):\n",
    "   key = dropdown.get('name')\n",
    "   codes = dict([(option.text, option.get('value')) for option in dropdown.find_all('option') if option.text])\n",
    "   allCodes[key] = codes\n",
    "\n",
    "# Dictionary with all the codes\n",
    "allCodes"
   ]
  },
  {
   "cell_type": "code",
   "execution_count": 86,
   "metadata": {
    "collapsed": true
   },
   "outputs": [],
   "source": [
    "def fetch_data (url, args) :\n",
    "    '''GETs a webpage, determined by its url, and optional parameters.\n",
    "       Returns a BeautifulSoup containing the parsed HTML page. '''\n",
    "    req = requests.get(url, params=args)\n",
    "    if req.status_code != requests.codes.ok:\n",
    "        print('Error: code ' + str(req.status_code))\n",
    "        return None\n",
    "    \n",
    "    return BeautifulSoup(req.text, 'html.parser')"
   ]
  },
  {
   "cell_type": "markdown",
   "metadata": {},
   "source": [
    "Parse an ISA table:"
   ]
  },
  {
   "cell_type": "code",
   "execution_count": 87,
   "metadata": {
    "collapsed": true
   },
   "outputs": [],
   "source": [
    "def parse_table(soup) :\n",
    "    table = soup.find(\"table\")\n",
    "    rows = table.find_all(\"tr\")\n",
    "    return rows"
   ]
  },
  {
   "cell_type": "markdown",
   "metadata": {},
   "source": [
    "Define default url and constant parameter"
   ]
  },
  {
   "cell_type": "code",
   "execution_count": 88,
   "metadata": {
    "collapsed": true
   },
   "outputs": [],
   "source": [
    "data_url = base_url + \".html?\"\n",
    "\n",
    "args = {'ww_x_GPS' : '-1', \n",
    "              'ww_i_reportModel' : '133685247',\n",
    "              'ww_i_reportModelXsl':'133685270',\n",
    "              'ww_x_UNITE_ACAD' : 'null',\n",
    "              'ww_x_PERIODE_ACAD' : 'null', \n",
    "              'ww_x_PERIODE_PEDAGO' : 'null', \n",
    "              'ww_x_HIVERETE':'null'}\n",
    "\n",
    "args['ww_x_UNITE_ACAD'] = allCodes['ww_x_UNITE_ACAD']['Informatique']\n"
   ]
  },
  {
   "cell_type": "markdown",
   "metadata": {},
   "source": [
    "Iterate over the years and the semesters codes, fetch and parse data, store the result in a dataFrame only considering useful columns"
   ]
  },
  {
   "cell_type": "code",
   "execution_count": 89,
   "metadata": {
    "collapsed": false
   },
   "outputs": [],
   "source": [
    "def assign_semester (period):\n",
    "    if('Projet' in period) :\n",
    "        semester = ['PDM', 1] if ('automne' in period) else ['PDM' , 2]\n",
    "    else :\n",
    "        semester = [period.split(\" \")[0], int(re.findall(r'\\d+', period)[0])]\n",
    "   \n",
    "    return semester"
   ]
  },
  {
   "cell_type": "code",
   "execution_count": 90,
   "metadata": {
    "collapsed": false
   },
   "outputs": [],
   "source": [
    "def fetch_table() :\n",
    "    rn = []\n",
    "    for year, y_code in allCodes['ww_x_PERIODE_ACAD'].items():\n",
    "        for periode, p_code in allCodes['ww_x_PERIODE_PEDAGO'].items():\n",
    "            if any(degree in periode for degree in ['Bachelor', 'Master']):\n",
    "                args['ww_x_PERIODE_ACAD'] = p_code\n",
    "                args['ww_x_PERIODE_PEDAGO'] = y_code\n",
    "\n",
    "                soup = fetch_data(data_url, args)\n",
    "                rows = parse_table(soup)\n",
    "                \n",
    "                for row in rows:\n",
    "                    cell = row.find_all('td')\n",
    "                    if cell:                      \n",
    "                        rn.append({'title' : cell[0].get_text(),\n",
    "                                   'name'     : cell[1].get_text(),\n",
    "                                   'spec' : cell[4].get_text(),\n",
    "                                   'minor' : cell[6].get_text(),\n",
    "                                   'status' : cell[7].get_text(),\n",
    "                                   'sciper' : cell[10].get_text(),\n",
    "                                   'degree':  assign_semester(periode)[0],\n",
    "                                   'end': year.split(\"-\")[1],\n",
    "                                   'semester':  assign_semester(periode)[1], \n",
    "                                   'start': year.split(\"-\")[0]}) \n",
    "             \n",
    "    return pd.DataFrame(data = rn)"
   ]
  },
  {
   "cell_type": "code",
   "execution_count": 91,
   "metadata": {
    "collapsed": false
   },
   "outputs": [],
   "source": [
    "data = fetch_table()"
   ]
  },
  {
   "cell_type": "markdown",
   "metadata": {},
   "source": [
    "## Part 3 - Statistical analysis"
   ]
  },
  {
   "cell_type": "code",
   "execution_count": 92,
   "metadata": {
    "collapsed": false
   },
   "outputs": [
    {
     "data": {
      "text/html": [
       "<div>\n",
       "<table border=\"1\" class=\"dataframe\">\n",
       "  <thead>\n",
       "    <tr style=\"text-align: right;\">\n",
       "      <th></th>\n",
       "      <th>title</th>\n",
       "      <th>name</th>\n",
       "      <th>start</th>\n",
       "      <th>end</th>\n",
       "      <th>degree</th>\n",
       "      <th>semester</th>\n",
       "      <th>status</th>\n",
       "      <th>spec</th>\n",
       "      <th>minor</th>\n",
       "    </tr>\n",
       "    <tr>\n",
       "      <th>sciper</th>\n",
       "      <th></th>\n",
       "      <th></th>\n",
       "      <th></th>\n",
       "      <th></th>\n",
       "      <th></th>\n",
       "      <th></th>\n",
       "      <th></th>\n",
       "      <th></th>\n",
       "      <th></th>\n",
       "    </tr>\n",
       "  </thead>\n",
       "  <tbody>\n",
       "    <tr>\n",
       "      <th>250700</th>\n",
       "      <td>Monsieur</td>\n",
       "      <td>Chau Alexandre</td>\n",
       "      <td>2016</td>\n",
       "      <td>2017</td>\n",
       "      <td>Bachelor</td>\n",
       "      <td>3</td>\n",
       "      <td>Présent</td>\n",
       "      <td></td>\n",
       "      <td></td>\n",
       "    </tr>\n",
       "    <tr>\n",
       "      <th>213027</th>\n",
       "      <td>Monsieur</td>\n",
       "      <td>Devillard Florent</td>\n",
       "      <td>2014</td>\n",
       "      <td>2015</td>\n",
       "      <td>Bachelor</td>\n",
       "      <td>6</td>\n",
       "      <td>Présent</td>\n",
       "      <td></td>\n",
       "      <td></td>\n",
       "    </tr>\n",
       "    <tr>\n",
       "      <th>201568</th>\n",
       "      <td>Monsieur</td>\n",
       "      <td>Link Jonathan Stéphane Oskar</td>\n",
       "      <td>2014</td>\n",
       "      <td>2015</td>\n",
       "      <td>Bachelor</td>\n",
       "      <td>6</td>\n",
       "      <td>Présent</td>\n",
       "      <td></td>\n",
       "      <td></td>\n",
       "    </tr>\n",
       "    <tr>\n",
       "      <th>223892</th>\n",
       "      <td>Monsieur</td>\n",
       "      <td>Garret Louis-Maxence Thierry Clément Marie</td>\n",
       "      <td>2014</td>\n",
       "      <td>2015</td>\n",
       "      <td>Bachelor</td>\n",
       "      <td>4</td>\n",
       "      <td>Présent</td>\n",
       "      <td></td>\n",
       "      <td></td>\n",
       "    </tr>\n",
       "    <tr>\n",
       "      <th>262598</th>\n",
       "      <td>Monsieur</td>\n",
       "      <td>Leemann Marc Pierre</td>\n",
       "      <td>2015</td>\n",
       "      <td>2016</td>\n",
       "      <td>Bachelor</td>\n",
       "      <td>1</td>\n",
       "      <td>Présent</td>\n",
       "      <td></td>\n",
       "      <td></td>\n",
       "    </tr>\n",
       "  </tbody>\n",
       "</table>\n",
       "</div>"
      ],
      "text/plain": [
       "           title                                        name start   end  \\\n",
       "sciper                                                                     \n",
       "250700  Monsieur                              Chau Alexandre  2016  2017   \n",
       "213027  Monsieur                           Devillard Florent  2014  2015   \n",
       "201568  Monsieur                Link Jonathan Stéphane Oskar  2014  2015   \n",
       "223892  Monsieur  Garret Louis-Maxence Thierry Clément Marie  2014  2015   \n",
       "262598  Monsieur                         Leemann Marc Pierre  2015  2016   \n",
       "\n",
       "          degree  semester   status spec minor  \n",
       "sciper                                          \n",
       "250700  Bachelor         3  Présent             \n",
       "213027  Bachelor         6  Présent             \n",
       "201568  Bachelor         6  Présent             \n",
       "223892  Bachelor         4  Présent             \n",
       "262598  Bachelor         1  Présent             "
      ]
     },
     "execution_count": 92,
     "metadata": {},
     "output_type": "execute_result"
    }
   ],
   "source": [
    "# sort columns\n",
    "data = data[['sciper', 'title', 'name', 'start', 'end', 'degree', 'semester', 'status', 'spec', 'minor']]\n",
    "\n",
    "# 'semester' value is an integer\n",
    "data.semester = data.semester.astype(int)\n",
    "\n",
    "# index by sciper number\n",
    "data = data.set_index('sciper')\n",
    "\n",
    "data.sample(5)"
   ]
  },
  {
   "cell_type": "markdown",
   "metadata": {},
   "source": [
    "### Part 3a - Bachelor data"
   ]
  },
  {
   "cell_type": "markdown",
   "metadata": {},
   "source": [
    "We're keeping only students who were both in BA1 and BA6:"
   ]
  },
  {
   "cell_type": "code",
   "execution_count": 93,
   "metadata": {
    "collapsed": false
   },
   "outputs": [
    {
     "name": "stdout",
     "output_type": "stream",
     "text": [
      "There were 1720 students in IN-BA1 over the years\n",
      "There were 664 students in IN-BA6 over the years\n"
     ]
    }
   ],
   "source": [
    "# filter to keep only bachelor data and appropriate semesters\n",
    "ba_data = data[data.degree == 'Bachelor']\n",
    "ba_1 = ba_data[ba_data.semester == 1]\n",
    "ba_6 = ba_data[ba_data.semester == 6]\n",
    "\n",
    "print('There were', len(ba_1), 'students in IN-BA1 over the years')\n",
    "print('There were', len(ba_6), 'students in IN-BA6 over the years')"
   ]
  },
  {
   "cell_type": "code",
   "execution_count": 94,
   "metadata": {
    "collapsed": true
   },
   "outputs": [],
   "source": [
    "# compute the intersection by using sets\n",
    "def compute_intersection_first_last_semester(df, first, last):\n",
    "    intersection_index = set(first.index).intersection(set(last.index))\n",
    "    intersection = df[df.index.isin(intersection_index)].sort_index()\n",
    "    return intersection"
   ]
  },
  {
   "cell_type": "markdown",
   "metadata": {},
   "source": [
    "Now each semester that every qualifying student has done is in the dataframe.<br>\n",
    "We need to group the students by sciper and count the number of semesters."
   ]
  },
  {
   "cell_type": "code",
   "execution_count": 95,
   "metadata": {
    "collapsed": false
   },
   "outputs": [],
   "source": [
    "def compute_semester_count(intersection):\n",
    "    semester_count = intersection.reset_index()[['sciper', 'semester']].groupby(['sciper']).count()\n",
    "    semester_count = semester_count.rename(columns={'semester' : 'semester_count'})\n",
    "    intersection_counted = intersection.merge(semester_count, left_index=True, right_index=True)\n",
    "    return intersection_counted"
   ]
  },
  {
   "cell_type": "markdown",
   "metadata": {},
   "source": [
    "With use of the two defined functions, we can now get our semester count:"
   ]
  },
  {
   "cell_type": "code",
   "execution_count": 96,
   "metadata": {
    "collapsed": false
   },
   "outputs": [
    {
     "data": {
      "text/html": [
       "<div>\n",
       "<table border=\"1\" class=\"dataframe\">\n",
       "  <thead>\n",
       "    <tr style=\"text-align: right;\">\n",
       "      <th></th>\n",
       "      <th>title</th>\n",
       "      <th>name</th>\n",
       "      <th>start</th>\n",
       "      <th>end</th>\n",
       "      <th>degree</th>\n",
       "      <th>semester</th>\n",
       "      <th>status</th>\n",
       "      <th>spec</th>\n",
       "      <th>minor</th>\n",
       "      <th>semester_count</th>\n",
       "    </tr>\n",
       "    <tr>\n",
       "      <th>sciper</th>\n",
       "      <th></th>\n",
       "      <th></th>\n",
       "      <th></th>\n",
       "      <th></th>\n",
       "      <th></th>\n",
       "      <th></th>\n",
       "      <th></th>\n",
       "      <th></th>\n",
       "      <th></th>\n",
       "      <th></th>\n",
       "    </tr>\n",
       "  </thead>\n",
       "  <tbody>\n",
       "    <tr>\n",
       "      <th>147008</th>\n",
       "      <td>Monsieur</td>\n",
       "      <td>Good Xavier</td>\n",
       "      <td>2008</td>\n",
       "      <td>2009</td>\n",
       "      <td>Bachelor</td>\n",
       "      <td>1</td>\n",
       "      <td>Présent</td>\n",
       "      <td></td>\n",
       "      <td></td>\n",
       "      <td>6</td>\n",
       "    </tr>\n",
       "    <tr>\n",
       "      <th>147008</th>\n",
       "      <td>Monsieur</td>\n",
       "      <td>Good Xavier</td>\n",
       "      <td>2008</td>\n",
       "      <td>2009</td>\n",
       "      <td>Bachelor</td>\n",
       "      <td>2</td>\n",
       "      <td>Présent</td>\n",
       "      <td></td>\n",
       "      <td></td>\n",
       "      <td>6</td>\n",
       "    </tr>\n",
       "    <tr>\n",
       "      <th>147008</th>\n",
       "      <td>Monsieur</td>\n",
       "      <td>Good Xavier</td>\n",
       "      <td>2010</td>\n",
       "      <td>2011</td>\n",
       "      <td>Bachelor</td>\n",
       "      <td>5</td>\n",
       "      <td>Congé</td>\n",
       "      <td></td>\n",
       "      <td></td>\n",
       "      <td>6</td>\n",
       "    </tr>\n",
       "    <tr>\n",
       "      <th>147008</th>\n",
       "      <td>Monsieur</td>\n",
       "      <td>Good Xavier</td>\n",
       "      <td>2009</td>\n",
       "      <td>2010</td>\n",
       "      <td>Bachelor</td>\n",
       "      <td>4</td>\n",
       "      <td>Présent</td>\n",
       "      <td></td>\n",
       "      <td></td>\n",
       "      <td>6</td>\n",
       "    </tr>\n",
       "    <tr>\n",
       "      <th>147008</th>\n",
       "      <td>Monsieur</td>\n",
       "      <td>Good Xavier</td>\n",
       "      <td>2010</td>\n",
       "      <td>2011</td>\n",
       "      <td>Bachelor</td>\n",
       "      <td>6</td>\n",
       "      <td>Congé</td>\n",
       "      <td></td>\n",
       "      <td></td>\n",
       "      <td>6</td>\n",
       "    </tr>\n",
       "    <tr>\n",
       "      <th>147008</th>\n",
       "      <td>Monsieur</td>\n",
       "      <td>Good Xavier</td>\n",
       "      <td>2009</td>\n",
       "      <td>2010</td>\n",
       "      <td>Bachelor</td>\n",
       "      <td>3</td>\n",
       "      <td>Présent</td>\n",
       "      <td></td>\n",
       "      <td></td>\n",
       "      <td>6</td>\n",
       "    </tr>\n",
       "    <tr>\n",
       "      <th>169569</th>\n",
       "      <td>Monsieur</td>\n",
       "      <td>Arévalo Christian</td>\n",
       "      <td>2007</td>\n",
       "      <td>2008</td>\n",
       "      <td>Bachelor</td>\n",
       "      <td>1</td>\n",
       "      <td>Présent</td>\n",
       "      <td></td>\n",
       "      <td></td>\n",
       "      <td>6</td>\n",
       "    </tr>\n",
       "    <tr>\n",
       "      <th>169569</th>\n",
       "      <td>Monsieur</td>\n",
       "      <td>Arévalo Christian</td>\n",
       "      <td>2009</td>\n",
       "      <td>2010</td>\n",
       "      <td>Bachelor</td>\n",
       "      <td>5</td>\n",
       "      <td>Présent</td>\n",
       "      <td></td>\n",
       "      <td></td>\n",
       "      <td>6</td>\n",
       "    </tr>\n",
       "    <tr>\n",
       "      <th>169569</th>\n",
       "      <td>Monsieur</td>\n",
       "      <td>Arévalo Christian</td>\n",
       "      <td>2008</td>\n",
       "      <td>2009</td>\n",
       "      <td>Bachelor</td>\n",
       "      <td>4</td>\n",
       "      <td>Présent</td>\n",
       "      <td></td>\n",
       "      <td></td>\n",
       "      <td>6</td>\n",
       "    </tr>\n",
       "    <tr>\n",
       "      <th>169569</th>\n",
       "      <td>Monsieur</td>\n",
       "      <td>Arévalo Christian</td>\n",
       "      <td>2009</td>\n",
       "      <td>2010</td>\n",
       "      <td>Bachelor</td>\n",
       "      <td>6</td>\n",
       "      <td>Présent</td>\n",
       "      <td></td>\n",
       "      <td></td>\n",
       "      <td>6</td>\n",
       "    </tr>\n",
       "  </tbody>\n",
       "</table>\n",
       "</div>"
      ],
      "text/plain": [
       "           title               name start   end    degree  semester   status  \\\n",
       "sciper                                                                         \n",
       "147008  Monsieur        Good Xavier  2008  2009  Bachelor         1  Présent   \n",
       "147008  Monsieur        Good Xavier  2008  2009  Bachelor         2  Présent   \n",
       "147008  Monsieur        Good Xavier  2010  2011  Bachelor         5    Congé   \n",
       "147008  Monsieur        Good Xavier  2009  2010  Bachelor         4  Présent   \n",
       "147008  Monsieur        Good Xavier  2010  2011  Bachelor         6    Congé   \n",
       "147008  Monsieur        Good Xavier  2009  2010  Bachelor         3  Présent   \n",
       "169569  Monsieur  Arévalo Christian  2007  2008  Bachelor         1  Présent   \n",
       "169569  Monsieur  Arévalo Christian  2009  2010  Bachelor         5  Présent   \n",
       "169569  Monsieur  Arévalo Christian  2008  2009  Bachelor         4  Présent   \n",
       "169569  Monsieur  Arévalo Christian  2009  2010  Bachelor         6  Présent   \n",
       "\n",
       "       spec minor  semester_count  \n",
       "sciper                             \n",
       "147008                          6  \n",
       "147008                          6  \n",
       "147008                          6  \n",
       "147008                          6  \n",
       "147008                          6  \n",
       "147008                          6  \n",
       "169569                          6  \n",
       "169569                          6  \n",
       "169569                          6  \n",
       "169569                          6  "
      ]
     },
     "execution_count": 96,
     "metadata": {},
     "output_type": "execute_result"
    }
   ],
   "source": [
    "ba_counted = compute_semester_count(compute_intersection_first_last_semester(ba_data, ba_1, ba_6))\n",
    "ba_counted.head(10)"
   ]
  },
  {
   "cell_type": "markdown",
   "metadata": {},
   "source": [
    "We want to keep one row per person and drop the columns that aren't useful for the analysis."
   ]
  },
  {
   "cell_type": "code",
   "execution_count": 97,
   "metadata": {
    "collapsed": false
   },
   "outputs": [
    {
     "data": {
      "text/html": [
       "<div>\n",
       "<table border=\"1\" class=\"dataframe\">\n",
       "  <thead>\n",
       "    <tr style=\"text-align: right;\">\n",
       "      <th></th>\n",
       "      <th>title</th>\n",
       "      <th>name</th>\n",
       "      <th>semester_count</th>\n",
       "    </tr>\n",
       "    <tr>\n",
       "      <th>sciper</th>\n",
       "      <th></th>\n",
       "      <th></th>\n",
       "      <th></th>\n",
       "    </tr>\n",
       "  </thead>\n",
       "  <tbody>\n",
       "    <tr>\n",
       "      <th>147008</th>\n",
       "      <td>Monsieur</td>\n",
       "      <td>Good Xavier</td>\n",
       "      <td>6</td>\n",
       "    </tr>\n",
       "    <tr>\n",
       "      <th>169569</th>\n",
       "      <td>Monsieur</td>\n",
       "      <td>Arévalo Christian</td>\n",
       "      <td>6</td>\n",
       "    </tr>\n",
       "    <tr>\n",
       "      <th>169731</th>\n",
       "      <td>Monsieur</td>\n",
       "      <td>Knecht Mathieu</td>\n",
       "      <td>8</td>\n",
       "    </tr>\n",
       "    <tr>\n",
       "      <th>169795</th>\n",
       "      <td>Monsieur</td>\n",
       "      <td>Scheiben Pascal</td>\n",
       "      <td>9</td>\n",
       "    </tr>\n",
       "    <tr>\n",
       "      <th>171195</th>\n",
       "      <td>Monsieur</td>\n",
       "      <td>Richter Arnaud</td>\n",
       "      <td>6</td>\n",
       "    </tr>\n",
       "  </tbody>\n",
       "</table>\n",
       "</div>"
      ],
      "text/plain": [
       "           title               name  semester_count\n",
       "sciper                                             \n",
       "147008  Monsieur        Good Xavier               6\n",
       "169569  Monsieur  Arévalo Christian               6\n",
       "169731  Monsieur     Knecht Mathieu               8\n",
       "169795  Monsieur    Scheiben Pascal               9\n",
       "171195  Monsieur     Richter Arnaud               6"
      ]
     },
     "execution_count": 97,
     "metadata": {},
     "output_type": "execute_result"
    }
   ],
   "source": [
    "ba_counted = ba_counted.groupby(ba_counted.index).agg('first')\n",
    "ba_counted = ba_counted[['title', 'name', 'semester_count']]\n",
    "ba_counted.head()"
   ]
  },
  {
   "cell_type": "markdown",
   "metadata": {},
   "source": [
    "We can now group by sex and compute the required stats:"
   ]
  },
  {
   "cell_type": "code",
   "execution_count": 98,
   "metadata": {
    "collapsed": false
   },
   "outputs": [
    {
     "data": {
      "text/html": [
       "<div>\n",
       "<table border=\"1\" class=\"dataframe\">\n",
       "  <thead>\n",
       "    <tr style=\"text-align: right;\">\n",
       "      <th></th>\n",
       "      <th></th>\n",
       "      <th>semester_count</th>\n",
       "    </tr>\n",
       "    <tr>\n",
       "      <th>title</th>\n",
       "      <th></th>\n",
       "      <th></th>\n",
       "    </tr>\n",
       "  </thead>\n",
       "  <tbody>\n",
       "    <tr>\n",
       "      <th rowspan=\"8\" valign=\"top\">Madame</th>\n",
       "      <th>count</th>\n",
       "      <td>29.000000</td>\n",
       "    </tr>\n",
       "    <tr>\n",
       "      <th>mean</th>\n",
       "      <td>6.793103</td>\n",
       "    </tr>\n",
       "    <tr>\n",
       "      <th>std</th>\n",
       "      <td>1.346406</td>\n",
       "    </tr>\n",
       "    <tr>\n",
       "      <th>min</th>\n",
       "      <td>6.000000</td>\n",
       "    </tr>\n",
       "    <tr>\n",
       "      <th>25%</th>\n",
       "      <td>6.000000</td>\n",
       "    </tr>\n",
       "    <tr>\n",
       "      <th>50%</th>\n",
       "      <td>6.000000</td>\n",
       "    </tr>\n",
       "    <tr>\n",
       "      <th>75%</th>\n",
       "      <td>8.000000</td>\n",
       "    </tr>\n",
       "    <tr>\n",
       "      <th>max</th>\n",
       "      <td>11.000000</td>\n",
       "    </tr>\n",
       "    <tr>\n",
       "      <th rowspan=\"8\" valign=\"top\">Monsieur</th>\n",
       "      <th>count</th>\n",
       "      <td>368.000000</td>\n",
       "    </tr>\n",
       "    <tr>\n",
       "      <th>mean</th>\n",
       "      <td>7.105978</td>\n",
       "    </tr>\n",
       "    <tr>\n",
       "      <th>std</th>\n",
       "      <td>1.536891</td>\n",
       "    </tr>\n",
       "    <tr>\n",
       "      <th>min</th>\n",
       "      <td>4.000000</td>\n",
       "    </tr>\n",
       "    <tr>\n",
       "      <th>25%</th>\n",
       "      <td>6.000000</td>\n",
       "    </tr>\n",
       "    <tr>\n",
       "      <th>50%</th>\n",
       "      <td>6.000000</td>\n",
       "    </tr>\n",
       "    <tr>\n",
       "      <th>75%</th>\n",
       "      <td>8.000000</td>\n",
       "    </tr>\n",
       "    <tr>\n",
       "      <th>max</th>\n",
       "      <td>12.000000</td>\n",
       "    </tr>\n",
       "  </tbody>\n",
       "</table>\n",
       "</div>"
      ],
      "text/plain": [
       "                semester_count\n",
       "title                         \n",
       "Madame   count       29.000000\n",
       "         mean         6.793103\n",
       "         std          1.346406\n",
       "         min          6.000000\n",
       "         25%          6.000000\n",
       "         50%          6.000000\n",
       "         75%          8.000000\n",
       "         max         11.000000\n",
       "Monsieur count      368.000000\n",
       "         mean         7.105978\n",
       "         std          1.536891\n",
       "         min          4.000000\n",
       "         25%          6.000000\n",
       "         50%          6.000000\n",
       "         75%          8.000000\n",
       "         max         12.000000"
      ]
     },
     "execution_count": 98,
     "metadata": {},
     "output_type": "execute_result"
    }
   ],
   "source": [
    "ba_counted.groupby('title').describe()"
   ]
  },
  {
   "cell_type": "markdown",
   "metadata": {},
   "source": [
    "### Discussion:\n",
    "TODO !!!!!"
   ]
  },
  {
   "cell_type": "markdown",
   "metadata": {},
   "source": [
    "## Part 3b - Master data"
   ]
  },
  {
   "cell_type": "markdown",
   "metadata": {},
   "source": [
    "<p>We will perform the same kind of computation as before to compute the number of semesters per student. We need to mind the fact that some students don't start in the first semester, but in the second one. Also, we need to distinguish between students with a specialization or a minor, and those without.</p>\n",
    "<p><b>Assumptions:</b><br>\n",
    "- Some students have a MA3 registered even though they don't do either a specialization or a minor. We will consider them anyways.<br>\n",
    "</p>"
   ]
  },
  {
   "cell_type": "code",
   "execution_count": 99,
   "metadata": {
    "collapsed": false
   },
   "outputs": [
    {
     "name": "stdout",
     "output_type": "stream",
     "text": [
      "There were 948 students in IN-MA1 over the years\n",
      "There were 1062 students in IN-MA2 over the years\n",
      "There were 706 students in IN-MA3 over the years\n"
     ]
    }
   ],
   "source": [
    "# Proceed as before to filter into semesters\n",
    "ma_data = data[data.degree == 'Master']\n",
    "ma_1 = ma_data[ma_data.semester == 1]\n",
    "ma_2 = ma_data[ma_data.semester == 2]\n",
    "ma_3 = ma_data[ma_data.semester == 3]\n",
    "\n",
    "print('There were', len(ma_1), 'students in IN-MA1 over the years')\n",
    "print('There were', len(ma_2), 'students in IN-MA2 over the years')\n",
    "print('There were', len(ma_3), 'students in IN-MA3 over the years')"
   ]
  },
  {
   "cell_type": "markdown",
   "metadata": {},
   "source": [
    "In the bachelor analysis, we needed to compute the semester count between the first BA1 and the last BA6.<br>\n",
    "Here, it is not that simple, since the last semester of MA is not the same for everyone: some students finish in MA2, some finish in MA3, and they can very well succeed in both cases.<br>\n",
    "=&gt; The problem here is then to figure out, for which student, if their last semester is MA2 or MA3. This is done with the following index:"
   ]
  },
  {
   "cell_type": "code",
   "execution_count": 100,
   "metadata": {
    "collapsed": false
   },
   "outputs": [
    {
     "data": {
      "text/html": [
       "<div>\n",
       "<table border=\"1\" class=\"dataframe\">\n",
       "  <thead>\n",
       "    <tr style=\"text-align: right;\">\n",
       "      <th></th>\n",
       "      <th>semester</th>\n",
       "    </tr>\n",
       "    <tr>\n",
       "      <th>sciper</th>\n",
       "      <th></th>\n",
       "    </tr>\n",
       "  </thead>\n",
       "  <tbody>\n",
       "    <tr>\n",
       "      <th>128911</th>\n",
       "      <td>3</td>\n",
       "    </tr>\n",
       "    <tr>\n",
       "      <th>129093</th>\n",
       "      <td>3</td>\n",
       "    </tr>\n",
       "    <tr>\n",
       "      <th>129326</th>\n",
       "      <td>3</td>\n",
       "    </tr>\n",
       "    <tr>\n",
       "      <th>138088</th>\n",
       "      <td>1</td>\n",
       "    </tr>\n",
       "    <tr>\n",
       "      <th>145546</th>\n",
       "      <td>3</td>\n",
       "    </tr>\n",
       "  </tbody>\n",
       "</table>\n",
       "</div>"
      ],
      "text/plain": [
       "        semester\n",
       "sciper          \n",
       "128911         3\n",
       "129093         3\n",
       "129326         3\n",
       "138088         1\n",
       "145546         3"
      ]
     },
     "execution_count": 100,
     "metadata": {},
     "output_type": "execute_result"
    }
   ],
   "source": [
    "last_index = ma_data.groupby(ma_data.index).agg({'semester' : np.max})\n",
    "\n",
    "# 'semester' column here indicates the last semester number of the given student.\n",
    "last_index.head(5)"
   ]
  },
  {
   "cell_type": "markdown",
   "metadata": {},
   "source": [
    "Now, we merge this table back with all the master data. This is a typical `inner join`:"
   ]
  },
  {
   "cell_type": "code",
   "execution_count": 101,
   "metadata": {
    "collapsed": false
   },
   "outputs": [
    {
     "data": {
      "text/html": [
       "<div>\n",
       "<table border=\"1\" class=\"dataframe\">\n",
       "  <thead>\n",
       "    <tr style=\"text-align: right;\">\n",
       "      <th></th>\n",
       "      <th>title</th>\n",
       "      <th>name</th>\n",
       "      <th>start</th>\n",
       "      <th>end</th>\n",
       "      <th>degree</th>\n",
       "      <th>semester</th>\n",
       "      <th>status</th>\n",
       "      <th>spec</th>\n",
       "      <th>minor</th>\n",
       "    </tr>\n",
       "    <tr>\n",
       "      <th>sciper</th>\n",
       "      <th></th>\n",
       "      <th></th>\n",
       "      <th></th>\n",
       "      <th></th>\n",
       "      <th></th>\n",
       "      <th></th>\n",
       "      <th></th>\n",
       "      <th></th>\n",
       "      <th></th>\n",
       "    </tr>\n",
       "  </thead>\n",
       "  <tbody>\n",
       "    <tr>\n",
       "      <th>128911</th>\n",
       "      <td>Monsieur</td>\n",
       "      <td>Gulati Asheesh</td>\n",
       "      <td>2007</td>\n",
       "      <td>2008</td>\n",
       "      <td>Master</td>\n",
       "      <td>3</td>\n",
       "      <td>Présent</td>\n",
       "      <td>Internet computing</td>\n",
       "      <td></td>\n",
       "    </tr>\n",
       "    <tr>\n",
       "      <th>129093</th>\n",
       "      <td>Monsieur</td>\n",
       "      <td>Zhou Maoan</td>\n",
       "      <td>2007</td>\n",
       "      <td>2008</td>\n",
       "      <td>Master</td>\n",
       "      <td>3</td>\n",
       "      <td>Stage</td>\n",
       "      <td></td>\n",
       "      <td></td>\n",
       "    </tr>\n",
       "    <tr>\n",
       "      <th>129326</th>\n",
       "      <td>Monsieur</td>\n",
       "      <td>Ni Zhong Zhong</td>\n",
       "      <td>2007</td>\n",
       "      <td>2008</td>\n",
       "      <td>Master</td>\n",
       "      <td>3</td>\n",
       "      <td>Présent</td>\n",
       "      <td></td>\n",
       "      <td></td>\n",
       "    </tr>\n",
       "    <tr>\n",
       "      <th>138088</th>\n",
       "      <td>Monsieur</td>\n",
       "      <td>Droz-dit-Busset Arnault</td>\n",
       "      <td>2007</td>\n",
       "      <td>2008</td>\n",
       "      <td>Master</td>\n",
       "      <td>1</td>\n",
       "      <td>Présent</td>\n",
       "      <td></td>\n",
       "      <td></td>\n",
       "    </tr>\n",
       "    <tr>\n",
       "      <th>145546</th>\n",
       "      <td>Monsieur</td>\n",
       "      <td>Clivaz Jean-Philippe</td>\n",
       "      <td>2007</td>\n",
       "      <td>2008</td>\n",
       "      <td>Master</td>\n",
       "      <td>3</td>\n",
       "      <td>Présent</td>\n",
       "      <td></td>\n",
       "      <td></td>\n",
       "    </tr>\n",
       "  </tbody>\n",
       "</table>\n",
       "</div>"
      ],
      "text/plain": [
       "           title                     name start   end  degree  semester  \\\n",
       "sciper                                                                    \n",
       "128911  Monsieur           Gulati Asheesh  2007  2008  Master         3   \n",
       "129093  Monsieur               Zhou Maoan  2007  2008  Master         3   \n",
       "129326  Monsieur           Ni Zhong Zhong  2007  2008  Master         3   \n",
       "138088  Monsieur  Droz-dit-Busset Arnault  2007  2008  Master         1   \n",
       "145546  Monsieur     Clivaz Jean-Philippe  2007  2008  Master         3   \n",
       "\n",
       "         status                spec minor  \n",
       "sciper                                     \n",
       "128911  Présent  Internet computing        \n",
       "129093    Stage                            \n",
       "129326  Présent                            \n",
       "138088  Présent                            \n",
       "145546  Présent                            "
      ]
     },
     "execution_count": 101,
     "metadata": {},
     "output_type": "execute_result"
    }
   ],
   "source": [
    "ma_last = ma_data.reset_index().merge(last_index.reset_index(), how='inner', on=['sciper','semester']).set_index('sciper')\n",
    "ma_last.sort_index().head(5)"
   ]
  },
  {
   "cell_type": "markdown",
   "metadata": {},
   "source": [
    "We need to <b>not consider</b> students whose maximal semester number is 1: this would be an indication that the student did not graduate at EPFL:"
   ]
  },
  {
   "cell_type": "code",
   "execution_count": 102,
   "metadata": {
    "collapsed": false
   },
   "outputs": [
    {
     "data": {
      "text/html": [
       "<div>\n",
       "<table border=\"1\" class=\"dataframe\">\n",
       "  <thead>\n",
       "    <tr style=\"text-align: right;\">\n",
       "      <th></th>\n",
       "      <th>title</th>\n",
       "      <th>name</th>\n",
       "      <th>start</th>\n",
       "      <th>end</th>\n",
       "      <th>degree</th>\n",
       "      <th>semester</th>\n",
       "      <th>status</th>\n",
       "      <th>spec</th>\n",
       "      <th>minor</th>\n",
       "    </tr>\n",
       "    <tr>\n",
       "      <th>sciper</th>\n",
       "      <th></th>\n",
       "      <th></th>\n",
       "      <th></th>\n",
       "      <th></th>\n",
       "      <th></th>\n",
       "      <th></th>\n",
       "      <th></th>\n",
       "      <th></th>\n",
       "      <th></th>\n",
       "    </tr>\n",
       "  </thead>\n",
       "  <tbody>\n",
       "    <tr>\n",
       "      <th>128911</th>\n",
       "      <td>Monsieur</td>\n",
       "      <td>Gulati Asheesh</td>\n",
       "      <td>2007</td>\n",
       "      <td>2008</td>\n",
       "      <td>Master</td>\n",
       "      <td>3</td>\n",
       "      <td>Présent</td>\n",
       "      <td>Internet computing</td>\n",
       "      <td></td>\n",
       "    </tr>\n",
       "    <tr>\n",
       "      <th>129093</th>\n",
       "      <td>Monsieur</td>\n",
       "      <td>Zhou Maoan</td>\n",
       "      <td>2007</td>\n",
       "      <td>2008</td>\n",
       "      <td>Master</td>\n",
       "      <td>3</td>\n",
       "      <td>Stage</td>\n",
       "      <td></td>\n",
       "      <td></td>\n",
       "    </tr>\n",
       "    <tr>\n",
       "      <th>129326</th>\n",
       "      <td>Monsieur</td>\n",
       "      <td>Ni Zhong Zhong</td>\n",
       "      <td>2007</td>\n",
       "      <td>2008</td>\n",
       "      <td>Master</td>\n",
       "      <td>3</td>\n",
       "      <td>Présent</td>\n",
       "      <td></td>\n",
       "      <td></td>\n",
       "    </tr>\n",
       "    <tr>\n",
       "      <th>145546</th>\n",
       "      <td>Monsieur</td>\n",
       "      <td>Clivaz Jean-Philippe</td>\n",
       "      <td>2007</td>\n",
       "      <td>2008</td>\n",
       "      <td>Master</td>\n",
       "      <td>3</td>\n",
       "      <td>Présent</td>\n",
       "      <td></td>\n",
       "      <td></td>\n",
       "    </tr>\n",
       "    <tr>\n",
       "      <th>145957</th>\n",
       "      <td>Monsieur</td>\n",
       "      <td>Hügli Michael</td>\n",
       "      <td>2007</td>\n",
       "      <td>2008</td>\n",
       "      <td>Master</td>\n",
       "      <td>3</td>\n",
       "      <td>Présent</td>\n",
       "      <td></td>\n",
       "      <td></td>\n",
       "    </tr>\n",
       "  </tbody>\n",
       "</table>\n",
       "</div>"
      ],
      "text/plain": [
       "           title                  name start   end  degree  semester   status  \\\n",
       "sciper                                                                          \n",
       "128911  Monsieur        Gulati Asheesh  2007  2008  Master         3  Présent   \n",
       "129093  Monsieur            Zhou Maoan  2007  2008  Master         3    Stage   \n",
       "129326  Monsieur        Ni Zhong Zhong  2007  2008  Master         3  Présent   \n",
       "145546  Monsieur  Clivaz Jean-Philippe  2007  2008  Master         3  Présent   \n",
       "145957  Monsieur         Hügli Michael  2007  2008  Master         3  Présent   \n",
       "\n",
       "                      spec minor  \n",
       "sciper                            \n",
       "128911  Internet computing        \n",
       "129093                            \n",
       "129326                            \n",
       "145546                            \n",
       "145957                            "
      ]
     },
     "execution_count": 102,
     "metadata": {},
     "output_type": "execute_result"
    }
   ],
   "source": [
    "ma_last = ma_last[ma_last.semester != 1]\n",
    "ma_last.sort_index().head(5)"
   ]
  },
  {
   "cell_type": "markdown",
   "metadata": {},
   "source": [
    "Now, we can use the functions that we defined in the Bachelor part, to compute the now usual intersection between students who were in the MA1 and then subsequently in their respective last semester of Master (MA2 or MA3)."
   ]
  },
  {
   "cell_type": "code",
   "execution_count": 103,
   "metadata": {
    "collapsed": false
   },
   "outputs": [
    {
     "data": {
      "text/html": [
       "<div>\n",
       "<table border=\"1\" class=\"dataframe\">\n",
       "  <thead>\n",
       "    <tr style=\"text-align: right;\">\n",
       "      <th></th>\n",
       "      <th>title</th>\n",
       "      <th>name</th>\n",
       "      <th>semester_count</th>\n",
       "      <th>minor</th>\n",
       "      <th>spec</th>\n",
       "    </tr>\n",
       "    <tr>\n",
       "      <th>sciper</th>\n",
       "      <th></th>\n",
       "      <th></th>\n",
       "      <th></th>\n",
       "      <th></th>\n",
       "      <th></th>\n",
       "    </tr>\n",
       "  </thead>\n",
       "  <tbody>\n",
       "    <tr>\n",
       "      <th>223566</th>\n",
       "      <td>Monsieur</td>\n",
       "      <td>Cotofrei Radu-Mihai</td>\n",
       "      <td>3</td>\n",
       "      <td></td>\n",
       "      <td>Signals, Images and Interfaces</td>\n",
       "    </tr>\n",
       "    <tr>\n",
       "      <th>199473</th>\n",
       "      <td>Monsieur</td>\n",
       "      <td>Dan Andrei-Marian</td>\n",
       "      <td>2</td>\n",
       "      <td></td>\n",
       "      <td></td>\n",
       "    </tr>\n",
       "    <tr>\n",
       "      <th>205434</th>\n",
       "      <td>Monsieur</td>\n",
       "      <td>Briant Florian Marcel</td>\n",
       "      <td>5</td>\n",
       "      <td></td>\n",
       "      <td></td>\n",
       "    </tr>\n",
       "    <tr>\n",
       "      <th>205784</th>\n",
       "      <td>Madame</td>\n",
       "      <td>Musso Claire Cécile Hélène</td>\n",
       "      <td>4</td>\n",
       "      <td>Mineur en Ingénierie financière</td>\n",
       "      <td></td>\n",
       "    </tr>\n",
       "    <tr>\n",
       "      <th>181244</th>\n",
       "      <td>Monsieur</td>\n",
       "      <td>Jolidon Fabien</td>\n",
       "      <td>7</td>\n",
       "      <td></td>\n",
       "      <td></td>\n",
       "    </tr>\n",
       "  </tbody>\n",
       "</table>\n",
       "</div>"
      ],
      "text/plain": [
       "           title                        name  semester_count  \\\n",
       "sciper                                                         \n",
       "223566  Monsieur         Cotofrei Radu-Mihai               3   \n",
       "199473  Monsieur           Dan Andrei-Marian               2   \n",
       "205434  Monsieur       Briant Florian Marcel               5   \n",
       "205784    Madame  Musso Claire Cécile Hélène               4   \n",
       "181244  Monsieur              Jolidon Fabien               7   \n",
       "\n",
       "                                  minor                            spec  \n",
       "sciper                                                                   \n",
       "223566                                   Signals, Images and Interfaces  \n",
       "199473                                                                   \n",
       "205434                                                                   \n",
       "205784  Mineur en Ingénierie financière                                  \n",
       "181244                                                                   "
      ]
     },
     "execution_count": 103,
     "metadata": {},
     "output_type": "execute_result"
    }
   ],
   "source": [
    "ma_counted = compute_semester_count(compute_intersection_first_last_semester(ma_data, ma_1, ma_last))\n",
    "ma_counted = ma_counted.groupby(ma_counted.index).agg('first')\n",
    "ma_counted = ma_counted[['title', 'name', 'semester_count', 'minor', 'spec']]\n",
    "ma_counted.sample(5)"
   ]
  },
  {
   "cell_type": "markdown",
   "metadata": {},
   "source": [
    "### Considering Master project (\"PDM\") data"
   ]
  },
  {
   "cell_type": "markdown",
   "metadata": {},
   "source": [
    "It is now time to add the data for the students that did their PDM.<br>\n",
    "All the students present in the `ma_counted` table above are already considered to have graduated successfully from EPFL, but the duration needs to be adjusted to take into account their PDM.<br>\n",
    "We just need to fetch PDM data:"
   ]
  },
  {
   "cell_type": "code",
   "execution_count": 104,
   "metadata": {
    "collapsed": false
   },
   "outputs": [
    {
     "data": {
      "text/html": [
       "<div>\n",
       "<table border=\"1\" class=\"dataframe\">\n",
       "  <thead>\n",
       "    <tr style=\"text-align: right;\">\n",
       "      <th></th>\n",
       "      <th>title</th>\n",
       "      <th>name</th>\n",
       "      <th>start</th>\n",
       "      <th>end</th>\n",
       "      <th>degree</th>\n",
       "      <th>semester</th>\n",
       "      <th>status</th>\n",
       "      <th>spec</th>\n",
       "      <th>minor</th>\n",
       "    </tr>\n",
       "    <tr>\n",
       "      <th>sciper</th>\n",
       "      <th></th>\n",
       "      <th></th>\n",
       "      <th></th>\n",
       "      <th></th>\n",
       "      <th></th>\n",
       "      <th></th>\n",
       "      <th></th>\n",
       "      <th></th>\n",
       "      <th></th>\n",
       "    </tr>\n",
       "  </thead>\n",
       "  <tbody>\n",
       "    <tr>\n",
       "      <th>166075</th>\n",
       "      <td>Monsieur</td>\n",
       "      <td>Amiguet Jérôme</td>\n",
       "      <td>2016</td>\n",
       "      <td>2017</td>\n",
       "      <td>PDM</td>\n",
       "      <td>1</td>\n",
       "      <td>Présent</td>\n",
       "      <td></td>\n",
       "      <td></td>\n",
       "    </tr>\n",
       "    <tr>\n",
       "      <th>243163</th>\n",
       "      <td>Monsieur</td>\n",
       "      <td>Antognini Diego Matteo</td>\n",
       "      <td>2016</td>\n",
       "      <td>2017</td>\n",
       "      <td>PDM</td>\n",
       "      <td>1</td>\n",
       "      <td>Présent</td>\n",
       "      <td></td>\n",
       "      <td></td>\n",
       "    </tr>\n",
       "    <tr>\n",
       "      <th>194182</th>\n",
       "      <td>Monsieur</td>\n",
       "      <td>Antognini Marco</td>\n",
       "      <td>2016</td>\n",
       "      <td>2017</td>\n",
       "      <td>PDM</td>\n",
       "      <td>1</td>\n",
       "      <td>Présent</td>\n",
       "      <td>Foundations of Software</td>\n",
       "      <td></td>\n",
       "    </tr>\n",
       "    <tr>\n",
       "      <th>213664</th>\n",
       "      <td>Monsieur</td>\n",
       "      <td>Bouquet Stéphane</td>\n",
       "      <td>2016</td>\n",
       "      <td>2017</td>\n",
       "      <td>PDM</td>\n",
       "      <td>1</td>\n",
       "      <td>Présent</td>\n",
       "      <td></td>\n",
       "      <td>Mineur en Management, technologie et entrepren...</td>\n",
       "    </tr>\n",
       "    <tr>\n",
       "      <th>214637</th>\n",
       "      <td>Monsieur</td>\n",
       "      <td>Bovet Sidney</td>\n",
       "      <td>2016</td>\n",
       "      <td>2017</td>\n",
       "      <td>PDM</td>\n",
       "      <td>1</td>\n",
       "      <td>Présent</td>\n",
       "      <td></td>\n",
       "      <td></td>\n",
       "    </tr>\n",
       "  </tbody>\n",
       "</table>\n",
       "</div>"
      ],
      "text/plain": [
       "           title                    name start   end degree  semester  \\\n",
       "sciper                                                                  \n",
       "166075  Monsieur          Amiguet Jérôme  2016  2017    PDM         1   \n",
       "243163  Monsieur  Antognini Diego Matteo  2016  2017    PDM         1   \n",
       "194182  Monsieur         Antognini Marco  2016  2017    PDM         1   \n",
       "213664  Monsieur        Bouquet Stéphane  2016  2017    PDM         1   \n",
       "214637  Monsieur            Bovet Sidney  2016  2017    PDM         1   \n",
       "\n",
       "         status                     spec  \\\n",
       "sciper                                     \n",
       "166075  Présent                            \n",
       "243163  Présent                            \n",
       "194182  Présent  Foundations of Software   \n",
       "213664  Présent                            \n",
       "214637  Présent                            \n",
       "\n",
       "                                                    minor  \n",
       "sciper                                                     \n",
       "166075                                                     \n",
       "243163                                                     \n",
       "194182                                                     \n",
       "213664  Mineur en Management, technologie et entrepren...  \n",
       "214637                                                     "
      ]
     },
     "execution_count": 104,
     "metadata": {},
     "output_type": "execute_result"
    }
   ],
   "source": [
    "pdm_data = data[data.degree == 'PDM']\n",
    "pdm_data.head()"
   ]
  },
  {
   "cell_type": "markdown",
   "metadata": {},
   "source": [
    "Some PDMs are longer than one semester. We can now compute the number of semesters of each student in `pdm_data`."
   ]
  },
  {
   "cell_type": "code",
   "execution_count": 105,
   "metadata": {
    "collapsed": false
   },
   "outputs": [
    {
     "data": {
      "text/html": [
       "<div>\n",
       "<table border=\"1\" class=\"dataframe\">\n",
       "  <thead>\n",
       "    <tr style=\"text-align: right;\">\n",
       "      <th></th>\n",
       "      <th>semester_count_pdm</th>\n",
       "    </tr>\n",
       "    <tr>\n",
       "      <th>sciper</th>\n",
       "      <th></th>\n",
       "    </tr>\n",
       "  </thead>\n",
       "  <tbody>\n",
       "    <tr>\n",
       "      <th>145957</th>\n",
       "      <td>1</td>\n",
       "    </tr>\n",
       "    <tr>\n",
       "      <th>146742</th>\n",
       "      <td>2</td>\n",
       "    </tr>\n",
       "    <tr>\n",
       "      <th>153819</th>\n",
       "      <td>1</td>\n",
       "    </tr>\n",
       "    <tr>\n",
       "      <th>154573</th>\n",
       "      <td>1</td>\n",
       "    </tr>\n",
       "    <tr>\n",
       "      <th>159516</th>\n",
       "      <td>1</td>\n",
       "    </tr>\n",
       "  </tbody>\n",
       "</table>\n",
       "</div>"
      ],
      "text/plain": [
       "        semester_count_pdm\n",
       "sciper                    \n",
       "145957                   1\n",
       "146742                   2\n",
       "153819                   1\n",
       "154573                   1\n",
       "159516                   1"
      ]
     },
     "execution_count": 105,
     "metadata": {},
     "output_type": "execute_result"
    }
   ],
   "source": [
    "pdm_counted = pdm_data.reset_index()[['sciper', 'semester']].groupby(['sciper']).count()\n",
    "pdm_counted = pdm_counted.rename(columns={'semester' : 'semester_count_pdm'})\n",
    "pdm_counted.head()"
   ]
  },
  {
   "cell_type": "markdown",
   "metadata": {},
   "source": [
    "Now we concatenate this table with `ma_counted`.<br>\n",
    "It is assumed that every student that did a first and a last semester of courses also did a PDM, even if this is not registered in ISA (some other databases seem to exist). Thus we add one semester to the count of the students who are in that case:"
   ]
  },
  {
   "cell_type": "code",
   "execution_count": 107,
   "metadata": {
    "collapsed": false
   },
   "outputs": [
    {
     "data": {
      "text/html": [
       "<div>\n",
       "<table border=\"1\" class=\"dataframe\">\n",
       "  <thead>\n",
       "    <tr style=\"text-align: right;\">\n",
       "      <th></th>\n",
       "      <th>semester_count_pdm</th>\n",
       "      <th>title</th>\n",
       "      <th>name</th>\n",
       "      <th>semester_count</th>\n",
       "      <th>minor</th>\n",
       "      <th>spec</th>\n",
       "    </tr>\n",
       "    <tr>\n",
       "      <th>sciper</th>\n",
       "      <th></th>\n",
       "      <th></th>\n",
       "      <th></th>\n",
       "      <th></th>\n",
       "      <th></th>\n",
       "      <th></th>\n",
       "    </tr>\n",
       "  </thead>\n",
       "  <tbody>\n",
       "    <tr>\n",
       "      <th>146742</th>\n",
       "      <td>2</td>\n",
       "      <td>Monsieur</td>\n",
       "      <td>Marx Clément</td>\n",
       "      <td>5</td>\n",
       "      <td></td>\n",
       "      <td>Signals, Images and Interfaces</td>\n",
       "    </tr>\n",
       "    <tr>\n",
       "      <th>154573</th>\n",
       "      <td>1</td>\n",
       "      <td>Madame</td>\n",
       "      <td>Benabdallah Zeineb</td>\n",
       "      <td>5</td>\n",
       "      <td></td>\n",
       "      <td>Biocomputing</td>\n",
       "    </tr>\n",
       "    <tr>\n",
       "      <th>159516</th>\n",
       "      <td>1</td>\n",
       "      <td>Monsieur</td>\n",
       "      <td>Raja Yanick</td>\n",
       "      <td>3</td>\n",
       "      <td></td>\n",
       "      <td></td>\n",
       "    </tr>\n",
       "    <tr>\n",
       "      <th>160213</th>\n",
       "      <td>2</td>\n",
       "      <td>Monsieur</td>\n",
       "      <td>Bécholey Alexandre</td>\n",
       "      <td>3</td>\n",
       "      <td></td>\n",
       "      <td></td>\n",
       "    </tr>\n",
       "    <tr>\n",
       "      <th>160225</th>\n",
       "      <td>1</td>\n",
       "      <td>Monsieur</td>\n",
       "      <td>Cassata Alexandre</td>\n",
       "      <td>3</td>\n",
       "      <td></td>\n",
       "      <td></td>\n",
       "    </tr>\n",
       "  </tbody>\n",
       "</table>\n",
       "</div>"
      ],
      "text/plain": [
       "        semester_count_pdm     title                name  semester_count  \\\n",
       "sciper                                                                     \n",
       "146742                   2  Monsieur        Marx Clément               5   \n",
       "154573                   1    Madame  Benabdallah Zeineb               5   \n",
       "159516                   1  Monsieur         Raja Yanick               3   \n",
       "160213                   2  Monsieur  Bécholey Alexandre               3   \n",
       "160225                   1  Monsieur   Cassata Alexandre               3   \n",
       "\n",
       "       minor                            spec  \n",
       "sciper                                        \n",
       "146742        Signals, Images and Interfaces  \n",
       "154573                          Biocomputing  \n",
       "159516                                        \n",
       "160213                                        \n",
       "160225                                        "
      ]
     },
     "execution_count": 107,
     "metadata": {},
     "output_type": "execute_result"
    }
   ],
   "source": [
    "ma_with_pdm = pdm_counted.reset_index().merge(ma_counted.reset_index()).set_index('sciper')\n",
    "ma_with_pdm['semester_count_pdm'].fillna(1, inplace=True)\n",
    "ma_with_pdm.head()"
   ]
  },
  {
   "cell_type": "markdown",
   "metadata": {},
   "source": [
    "The final `semester_count` is given by the sum of itself with the number of semesters for the PDM:"
   ]
  },
  {
   "cell_type": "code",
   "execution_count": 108,
   "metadata": {
    "collapsed": false
   },
   "outputs": [
    {
     "data": {
      "text/html": [
       "<div>\n",
       "<table border=\"1\" class=\"dataframe\">\n",
       "  <thead>\n",
       "    <tr style=\"text-align: right;\">\n",
       "      <th></th>\n",
       "      <th>title</th>\n",
       "      <th>name</th>\n",
       "      <th>semester_count</th>\n",
       "      <th>minor</th>\n",
       "      <th>spec</th>\n",
       "    </tr>\n",
       "    <tr>\n",
       "      <th>sciper</th>\n",
       "      <th></th>\n",
       "      <th></th>\n",
       "      <th></th>\n",
       "      <th></th>\n",
       "      <th></th>\n",
       "    </tr>\n",
       "  </thead>\n",
       "  <tbody>\n",
       "    <tr>\n",
       "      <th>146742</th>\n",
       "      <td>Monsieur</td>\n",
       "      <td>Marx Clément</td>\n",
       "      <td>7</td>\n",
       "      <td></td>\n",
       "      <td>Signals, Images and Interfaces</td>\n",
       "    </tr>\n",
       "    <tr>\n",
       "      <th>154573</th>\n",
       "      <td>Madame</td>\n",
       "      <td>Benabdallah Zeineb</td>\n",
       "      <td>6</td>\n",
       "      <td></td>\n",
       "      <td>Biocomputing</td>\n",
       "    </tr>\n",
       "    <tr>\n",
       "      <th>159516</th>\n",
       "      <td>Monsieur</td>\n",
       "      <td>Raja Yanick</td>\n",
       "      <td>4</td>\n",
       "      <td></td>\n",
       "      <td></td>\n",
       "    </tr>\n",
       "    <tr>\n",
       "      <th>160213</th>\n",
       "      <td>Monsieur</td>\n",
       "      <td>Bécholey Alexandre</td>\n",
       "      <td>5</td>\n",
       "      <td></td>\n",
       "      <td></td>\n",
       "    </tr>\n",
       "    <tr>\n",
       "      <th>160225</th>\n",
       "      <td>Monsieur</td>\n",
       "      <td>Cassata Alexandre</td>\n",
       "      <td>4</td>\n",
       "      <td></td>\n",
       "      <td></td>\n",
       "    </tr>\n",
       "  </tbody>\n",
       "</table>\n",
       "</div>"
      ],
      "text/plain": [
       "           title                name  semester_count minor  \\\n",
       "sciper                                                       \n",
       "146742  Monsieur        Marx Clément               7         \n",
       "154573    Madame  Benabdallah Zeineb               6         \n",
       "159516  Monsieur         Raja Yanick               4         \n",
       "160213  Monsieur  Bécholey Alexandre               5         \n",
       "160225  Monsieur   Cassata Alexandre               4         \n",
       "\n",
       "                                  spec  \n",
       "sciper                                  \n",
       "146742  Signals, Images and Interfaces  \n",
       "154573                    Biocomputing  \n",
       "159516                                  \n",
       "160213                                  \n",
       "160225                                  "
      ]
     },
     "execution_count": 108,
     "metadata": {},
     "output_type": "execute_result"
    }
   ],
   "source": [
    "ma_with_pdm.semester_count = ma_with_pdm.semester_count + ma_with_pdm.semester_count_pdm\n",
    "ma_with_pdm = ma_with_pdm.drop('semester_count_pdm', axis=1)\n",
    "ma_with_pdm.head()"
   ]
  },
  {
   "cell_type": "markdown",
   "metadata": {},
   "source": [
    "### Students with a specialization"
   ]
  },
  {
   "cell_type": "code",
   "execution_count": null,
   "metadata": {
    "collapsed": false
   },
   "outputs": [],
   "source": [
    "students_with_spec = intersection_counted.groupby('spec').mean()\n",
    "students_with_spec"
   ]
  },
  {
   "cell_type": "code",
   "execution_count": null,
   "metadata": {
    "collapsed": false
   },
   "outputs": [],
   "source": []
  },
  {
   "cell_type": "code",
   "execution_count": null,
   "metadata": {
    "collapsed": true
   },
   "outputs": [],
   "source": []
  }
 ],
 "metadata": {
  "anaconda-cloud": {},
  "kernelspec": {
   "display_name": "Python [conda root]",
   "language": "python",
   "name": "conda-root-py"
  },
  "language_info": {
   "codemirror_mode": {
    "name": "ipython",
    "version": 3
   },
   "file_extension": ".py",
   "mimetype": "text/x-python",
   "name": "python",
   "nbconvert_exporter": "python",
   "pygments_lexer": "ipython3",
   "version": "3.5.2"
  }
 },
 "nbformat": 4,
 "nbformat_minor": 1
}
