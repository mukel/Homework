{
 "cells": [
  {
   "cell_type": "markdown",
   "metadata": {},
   "source": [
    "# Homework 2 - Montero, Peterssen, Brousse"
   ]
  },
  {
   "cell_type": "code",
   "execution_count": 83,
   "metadata": {
    "collapsed": false
   },
   "outputs": [],
   "source": [
    "from bs4 import BeautifulSoup\n",
    "import requests\n",
    "import re\n",
    "import numpy as np\n",
    "import pandas as pd"
   ]
  },
  {
   "cell_type": "markdown",
   "metadata": {
    "collapsed": true
   },
   "source": [
    "## Fetching all students enrolled in CS in Bachelor from 2007 to 2017"
   ]
  },
  {
   "cell_type": "code",
   "execution_count": 84,
   "metadata": {
    "collapsed": true
   },
   "outputs": [],
   "source": [
    "# Base url of isa\n",
    "base_url = \"http://isa.epfl.ch/imoniteur_ISAP/!GEDPUBLICREPORTS\""
   ]
  },
  {
   "cell_type": "markdown",
   "metadata": {
    "collapsed": true
   },
   "source": [
    "## Part 1 - Fetch from ISA all codes used as parameters for fetching data"
   ]
  },
  {
   "cell_type": "code",
   "execution_count": 85,
   "metadata": {
    "collapsed": false
   },
   "outputs": [
    {
     "data": {
      "text/plain": [
       "{'ww_x_HIVERETE': {\"Semestre d'automne\": '2936286',\n",
       "  'Semestre de printemps': '2936295'},\n",
       " 'ww_x_PERIODE_ACAD': {'2007-2008': '978181',\n",
       "  '2008-2009': '978187',\n",
       "  '2009-2010': '978195',\n",
       "  '2010-2011': '39486325',\n",
       "  '2011-2012': '123455150',\n",
       "  '2012-2013': '123456101',\n",
       "  '2013-2014': '213637754',\n",
       "  '2014-2015': '213637922',\n",
       "  '2015-2016': '213638028',\n",
       "  '2016-2017': '355925344'},\n",
       " 'ww_x_PERIODE_PEDAGO': {'Bachelor semestre 1': '249108',\n",
       "  'Bachelor semestre 2': '249114',\n",
       "  'Bachelor semestre 3': '942155',\n",
       "  'Bachelor semestre 4': '942163',\n",
       "  'Bachelor semestre 5': '942120',\n",
       "  'Bachelor semestre 5b': '2226768',\n",
       "  'Bachelor semestre 6': '942175',\n",
       "  'Bachelor semestre 6b': '2226785',\n",
       "  'Master semestre 1': '2230106',\n",
       "  'Master semestre 2': '942192',\n",
       "  'Master semestre 3': '2230128',\n",
       "  'Master semestre 4': '2230140',\n",
       "  'Mineur semestre 1': '2335667',\n",
       "  'Mineur semestre 2': '2335676',\n",
       "  'Mise à niveau': '2063602308',\n",
       "  'Projet Master automne': '249127',\n",
       "  'Projet Master printemps': '3781783',\n",
       "  'Semestre automne': '953159',\n",
       "  'Semestre printemps': '2754553',\n",
       "  'Stage automne 3ème année': '953137',\n",
       "  'Stage automne 4ème année': '2226616',\n",
       "  'Stage printemps 3ème année': '983606',\n",
       "  'Stage printemps 4ème année': '2226626',\n",
       "  'Stage printemps master': '2227132'},\n",
       " 'ww_x_UNITE_ACAD': {'Architecture': '942293',\n",
       "  'Chimie et génie chimique': '246696',\n",
       "  'Cours de mathématiques spéciales': '943282',\n",
       "  'EME (EPFL Middle East)': '637841336',\n",
       "  'Génie civil': '942623',\n",
       "  'Génie mécanique': '944263',\n",
       "  'Génie électrique et électronique ': '943936',\n",
       "  'Humanités digitales': '2054839157',\n",
       "  'Informatique': '249847',\n",
       "  'Ingénierie financière': '120623110',\n",
       "  'Management de la technologie': '946882',\n",
       "  'Mathématiques': '944590',\n",
       "  'Microtechnique': '945244',\n",
       "  'Physique': '945571',\n",
       "  'Science et génie des matériaux': '944917',\n",
       "  \"Sciences et ingénierie de l'environnement\": '942953',\n",
       "  'Sciences et technologies du vivant': '945901',\n",
       "  'Section FCUE': '1574548993',\n",
       "  'Systèmes de communication': '946228'}}"
      ]
     },
     "execution_count": 85,
     "metadata": {},
     "output_type": "execute_result"
    }
   ],
   "source": [
    "# Get all parameters from the ISA form\n",
    "select_url = base_url +  \".filter?\"\n",
    "select_params = {'ww_i_reportModel' : '133685247'}\n",
    "\n",
    "r  = requests.get(select_url, params=select_params)\n",
    "data = r.text\n",
    "soup = BeautifulSoup(data, \"lxml\")\n",
    "allCodes = {}\n",
    "\n",
    "# For each dropdown on the form get the corresponding codes\n",
    "for dropdown in soup.find_all('select'):\n",
    "   key = dropdown.get('name')\n",
    "   codes = dict([(option.text, option.get('value')) for option in dropdown.find_all('option') if option.text])\n",
    "   allCodes[key] = codes\n",
    "\n",
    "# Dictionary with all the codes\n",
    "allCodes"
   ]
  },
  {
   "cell_type": "code",
   "execution_count": 86,
   "metadata": {
    "collapsed": true
   },
   "outputs": [],
   "source": [
    "def fetch_data (url, args) :\n",
    "    '''GETs a webpage, determined by its url, and optional parameters.\n",
    "       Returns a BeautifulSoup containing the parsed HTML page. '''\n",
    "    req = requests.get(url, params=args)\n",
    "    if req.status_code != requests.codes.ok:\n",
    "        print('Error: code ' + str(req.status_code))\n",
    "        return None\n",
    "    \n",
    "    return BeautifulSoup(req.text, 'html.parser')"
   ]
  },
  {
   "cell_type": "markdown",
   "metadata": {},
   "source": [
    "Parse an ISA table:"
   ]
  },
  {
   "cell_type": "code",
   "execution_count": 87,
   "metadata": {
    "collapsed": true
   },
   "outputs": [],
   "source": [
    "def parse_table(soup) :\n",
    "    table = soup.find(\"table\")\n",
    "    rows = table.find_all(\"tr\")\n",
    "    return rows"
   ]
  },
  {
   "cell_type": "markdown",
   "metadata": {},
   "source": [
    "Define default url and constant parameter"
   ]
  },
  {
   "cell_type": "code",
   "execution_count": 88,
   "metadata": {
    "collapsed": true
   },
   "outputs": [],
   "source": [
    "data_url = base_url + \".html?\"\n",
    "\n",
    "args = {'ww_x_GPS' : '-1', \n",
    "              'ww_i_reportModel' : '133685247',\n",
    "              'ww_i_reportModelXsl':'133685270',\n",
    "              'ww_x_UNITE_ACAD' : 'null',\n",
    "              'ww_x_PERIODE_ACAD' : 'null', \n",
    "              'ww_x_PERIODE_PEDAGO' : 'null', \n",
    "              'ww_x_HIVERETE':'null'}\n",
    "\n",
    "args['ww_x_UNITE_ACAD'] = allCodes['ww_x_UNITE_ACAD']['Informatique']\n"
   ]
  },
  {
   "cell_type": "markdown",
   "metadata": {},
   "source": [
    "Iterate over the years and the semesters codes, fetch and parse data, store the result in a dataFrame only considering useful columns"
   ]
  },
  {
   "cell_type": "code",
   "execution_count": 89,
   "metadata": {
    "collapsed": false
   },
   "outputs": [],
   "source": [
    "def assign_semester (period):\n",
    "    if('Projet' in period) :\n",
    "        semester = ['PDM', 1] if ('automne' in period) else ['PDM' , 2]\n",
    "    else :\n",
    "        semester = [period.split(\" \")[0], int(re.findall(r'\\d+', period)[0])]\n",
    "   \n",
    "    return semester"
   ]
  },
  {
   "cell_type": "code",
   "execution_count": 90,
   "metadata": {
    "collapsed": false
   },
   "outputs": [],
   "source": [
    "def fetch_table() :\n",
    "    rn = []\n",
    "    for year, y_code in allCodes['ww_x_PERIODE_ACAD'].items():\n",
    "        for periode, p_code in allCodes['ww_x_PERIODE_PEDAGO'].items():\n",
    "            if any(degree in periode for degree in ['Bachelor', 'Master']):\n",
    "                args['ww_x_PERIODE_ACAD'] = p_code\n",
    "                args['ww_x_PERIODE_PEDAGO'] = y_code\n",
    "\n",
    "                soup = fetch_data(data_url, args)\n",
    "                rows = parse_table(soup)\n",
    "                \n",
    "                for row in rows:\n",
    "                    cell = row.find_all('td')\n",
    "                    if cell:                      \n",
    "                        rn.append({'title' : cell[0].get_text(),\n",
    "                                   'name'     : cell[1].get_text(),\n",
    "                                   'spec' : cell[4].get_text(),\n",
    "                                   'minor' : cell[6].get_text(),\n",
    "                                   'status' : cell[7].get_text(),\n",
    "                                   'sciper' : cell[10].get_text(),\n",
    "                                   'degree':  assign_semester(periode)[0],\n",
    "                                   'end': year.split(\"-\")[1],\n",
    "                                   'semester':  assign_semester(periode)[1], \n",
    "                                   'start': year.split(\"-\")[0]}) \n",
    "             \n",
    "    return pd.DataFrame(data = rn)"
   ]
  },
  {
   "cell_type": "code",
   "execution_count": 91,
   "metadata": {
    "collapsed": false
   },
   "outputs": [],
   "source": [
    "data = fetch_table()"
   ]
  },
  {
   "cell_type": "markdown",
   "metadata": {},
   "source": [
    "## Part 3 - Statistical analysis"
   ]
  },
  {
   "cell_type": "code",
   "execution_count": 92,
   "metadata": {
    "collapsed": false
   },
   "outputs": [
    {
     "data": {
      "text/html": [
       "<div>\n",
       "<table border=\"1\" class=\"dataframe\">\n",
       "  <thead>\n",
       "    <tr style=\"text-align: right;\">\n",
       "      <th></th>\n",
       "      <th>title</th>\n",
       "      <th>name</th>\n",
       "      <th>start</th>\n",
       "      <th>end</th>\n",
       "      <th>degree</th>\n",
       "      <th>semester</th>\n",
       "      <th>status</th>\n",
       "      <th>spec</th>\n",
       "      <th>minor</th>\n",
       "    </tr>\n",
       "    <tr>\n",
       "      <th>sciper</th>\n",
       "      <th></th>\n",
       "      <th></th>\n",
       "      <th></th>\n",
       "      <th></th>\n",
       "      <th></th>\n",
       "      <th></th>\n",
       "      <th></th>\n",
       "      <th></th>\n",
       "      <th></th>\n",
       "    </tr>\n",
       "  </thead>\n",
       "  <tbody>\n",
       "    <tr>\n",
       "      <th>250700</th>\n",
       "      <td>Monsieur</td>\n",
       "      <td>Chau Alexandre</td>\n",
       "      <td>2016</td>\n",
       "      <td>2017</td>\n",
       "      <td>Bachelor</td>\n",
       "      <td>3</td>\n",
       "      <td>Présent</td>\n",
       "      <td></td>\n",
       "      <td></td>\n",
       "    </tr>\n",
       "    <tr>\n",
       "      <th>213027</th>\n",
       "      <td>Monsieur</td>\n",
       "      <td>Devillard Florent</td>\n",
       "      <td>2014</td>\n",
       "      <td>2015</td>\n",
       "      <td>Bachelor</td>\n",
       "      <td>6</td>\n",
       "      <td>Présent</td>\n",
       "      <td></td>\n",
       "      <td></td>\n",
       "    </tr>\n",
       "    <tr>\n",
       "      <th>201568</th>\n",
       "      <td>Monsieur</td>\n",
       "      <td>Link Jonathan Stéphane Oskar</td>\n",
       "      <td>2014</td>\n",
       "      <td>2015</td>\n",
       "      <td>Bachelor</td>\n",
       "      <td>6</td>\n",
       "      <td>Présent</td>\n",
       "      <td></td>\n",
       "      <td></td>\n",
       "    </tr>\n",
       "    <tr>\n",
       "      <th>223892</th>\n",
       "      <td>Monsieur</td>\n",
       "      <td>Garret Louis-Maxence Thierry Clément Marie</td>\n",
       "      <td>2014</td>\n",
       "      <td>2015</td>\n",
       "      <td>Bachelor</td>\n",
       "      <td>4</td>\n",
       "      <td>Présent</td>\n",
       "      <td></td>\n",
       "      <td></td>\n",
       "    </tr>\n",
       "    <tr>\n",
       "      <th>262598</th>\n",
       "      <td>Monsieur</td>\n",
       "      <td>Leemann Marc Pierre</td>\n",
       "      <td>2015</td>\n",
       "      <td>2016</td>\n",
       "      <td>Bachelor</td>\n",
       "      <td>1</td>\n",
       "      <td>Présent</td>\n",
       "      <td></td>\n",
       "      <td></td>\n",
       "    </tr>\n",
       "  </tbody>\n",
       "</table>\n",
       "</div>"
      ],
      "text/plain": [
       "           title                                        name start   end  \\\n",
       "sciper                                                                     \n",
       "250700  Monsieur                              Chau Alexandre  2016  2017   \n",
       "213027  Monsieur                           Devillard Florent  2014  2015   \n",
       "201568  Monsieur                Link Jonathan Stéphane Oskar  2014  2015   \n",
       "223892  Monsieur  Garret Louis-Maxence Thierry Clément Marie  2014  2015   \n",
       "262598  Monsieur                         Leemann Marc Pierre  2015  2016   \n",
       "\n",
       "          degree  semester   status spec minor  \n",
       "sciper                                          \n",
       "250700  Bachelor         3  Présent             \n",
       "213027  Bachelor         6  Présent             \n",
       "201568  Bachelor         6  Présent             \n",
       "223892  Bachelor         4  Présent             \n",
       "262598  Bachelor         1  Présent             "
      ]
     },
     "execution_count": 92,
     "metadata": {},
     "output_type": "execute_result"
    }
   ],
   "source": [
    "# sort columns\n",
    "data = data[['sciper', 'title', 'name', 'start', 'end', 'degree', 'semester', 'status', 'spec', 'minor']]\n",
    "\n",
    "# 'semester' value is an integer\n",
    "data.semester = data.semester.astype(int)\n",
    "\n",
    "# index by sciper number\n",
    "data = data.set_index('sciper')\n",
    "\n",
    "data.sample(5)"
   ]
  },
  {
   "cell_type": "markdown",
   "metadata": {},
   "source": [
    "### Part 3a - Bachelor data"
   ]
  },
  {
   "cell_type": "markdown",
   "metadata": {},
   "source": [
    "We're keeping only students who were both in BA1 and BA6:"
   ]
  },
  {
   "cell_type": "code",
   "execution_count": 93,
   "metadata": {
    "collapsed": false
   },
   "outputs": [
    {
     "name": "stdout",
     "output_type": "stream",
     "text": [
      "There were 1720 students in IN-BA1 over the years\n",
      "There were 664 students in IN-BA6 over the years\n"
     ]
    }
   ],
   "source": [
    "# filter to keep only bachelor data and appropriate semesters\n",
    "ba_data = data[data.degree == 'Bachelor']\n",
    "ba_1 = ba_data[ba_data.semester == 1]\n",
    "ba_6 = ba_data[ba_data.semester == 6]\n",
    "\n",
    "print('There were', len(ba_1), 'students in IN-BA1 over the years')\n",
    "print('There were', len(ba_6), 'students in IN-BA6 over the years')"
   ]
  },
  {
   "cell_type": "code",
   "execution_count": 94,
   "metadata": {
    "collapsed": true
   },
   "outputs": [],
   "source": [
    "# compute the intersection by using sets\n",
    "def compute_intersection_first_last_semester(df, first, last):\n",
    "    intersection_index = set(first.index).intersection(set(last.index))\n",
    "    intersection = df[df.index.isin(intersection_index)].sort_index()\n",
    "    return intersection"
   ]
  },
  {
   "cell_type": "markdown",
   "metadata": {},
   "source": [
    "Now each semester that every qualifying student has done is in the dataframe.<br>\n",
    "We need to group the students by sciper and count the number of semesters."
   ]
  },
  {
   "cell_type": "code",
   "execution_count": 95,
   "metadata": {
    "collapsed": false
   },
   "outputs": [],
   "source": [
    "def compute_semester_count(intersection):\n",
    "    semester_count = intersection.reset_index()[['sciper', 'semester']].groupby(['sciper']).count()\n",
    "    semester_count = semester_count.rename(columns={'semester' : 'semester_count'})\n",
    "    intersection_counted = intersection.merge(semester_count, left_index=True, right_index=True)\n",
    "    return intersection_counted"
   ]
  },
  {
   "cell_type": "markdown",
   "metadata": {},
   "source": [
    "With use of the two defined functions, we can now get our semester count:"
   ]
  },
  {
   "cell_type": "code",
   "execution_count": 96,
   "metadata": {
    "collapsed": false
   },
   "outputs": [
    {
     "data": {
      "text/html": [
       "<div>\n",
       "<table border=\"1\" class=\"dataframe\">\n",
       "  <thead>\n",
       "    <tr style=\"text-align: right;\">\n",
       "      <th></th>\n",
       "      <th>title</th>\n",
       "      <th>name</th>\n",
       "      <th>start</th>\n",
       "      <th>end</th>\n",
       "      <th>degree</th>\n",
       "      <th>semester</th>\n",
       "      <th>status</th>\n",
       "      <th>spec</th>\n",
       "      <th>minor</th>\n",
       "      <th>semester_count</th>\n",
       "    </tr>\n",
       "    <tr>\n",
       "      <th>sciper</th>\n",
       "      <th></th>\n",
       "      <th></th>\n",
       "      <th></th>\n",
       "      <th></th>\n",
       "      <th></th>\n",
       "      <th></th>\n",
       "      <th></th>\n",
       "      <th></th>\n",
       "      <th></th>\n",
       "      <th></th>\n",
       "    </tr>\n",
       "  </thead>\n",
       "  <tbody>\n",
       "    <tr>\n",
       "      <th>147008</th>\n",
       "      <td>Monsieur</td>\n",
       "      <td>Good Xavier</td>\n",
       "      <td>2008</td>\n",
       "      <td>2009</td>\n",
       "      <td>Bachelor</td>\n",
       "      <td>1</td>\n",
       "      <td>Présent</td>\n",
       "      <td></td>\n",
       "      <td></td>\n",
       "      <td>6</td>\n",
       "    </tr>\n",
       "    <tr>\n",
       "      <th>147008</th>\n",
       "      <td>Monsieur</td>\n",
       "      <td>Good Xavier</td>\n",
       "      <td>2008</td>\n",
       "      <td>2009</td>\n",
       "      <td>Bachelor</td>\n",
       "      <td>2</td>\n",
       "      <td>Présent</td>\n",
       "      <td></td>\n",
       "      <td></td>\n",
       "      <td>6</td>\n",
       "    </tr>\n",
       "    <tr>\n",
       "      <th>147008</th>\n",
       "      <td>Monsieur</td>\n",
       "      <td>Good Xavier</td>\n",
       "      <td>2010</td>\n",
       "      <td>2011</td>\n",
       "      <td>Bachelor</td>\n",
       "      <td>5</td>\n",
       "      <td>Congé</td>\n",
       "      <td></td>\n",
       "      <td></td>\n",
       "      <td>6</td>\n",
       "    </tr>\n",
       "    <tr>\n",
       "      <th>147008</th>\n",
       "      <td>Monsieur</td>\n",
       "      <td>Good Xavier</td>\n",
       "      <td>2009</td>\n",
       "      <td>2010</td>\n",
       "      <td>Bachelor</td>\n",
       "      <td>4</td>\n",
       "      <td>Présent</td>\n",
       "      <td></td>\n",
       "      <td></td>\n",
       "      <td>6</td>\n",
       "    </tr>\n",
       "    <tr>\n",
       "      <th>147008</th>\n",
       "      <td>Monsieur</td>\n",
       "      <td>Good Xavier</td>\n",
       "      <td>2010</td>\n",
       "      <td>2011</td>\n",
       "      <td>Bachelor</td>\n",
       "      <td>6</td>\n",
       "      <td>Congé</td>\n",
       "      <td></td>\n",
       "      <td></td>\n",
       "      <td>6</td>\n",
       "    </tr>\n",
       "    <tr>\n",
       "      <th>147008</th>\n",
       "      <td>Monsieur</td>\n",
       "      <td>Good Xavier</td>\n",
       "      <td>2009</td>\n",
       "      <td>2010</td>\n",
       "      <td>Bachelor</td>\n",
       "      <td>3</td>\n",
       "      <td>Présent</td>\n",
       "      <td></td>\n",
       "      <td></td>\n",
       "      <td>6</td>\n",
       "    </tr>\n",
       "    <tr>\n",
       "      <th>169569</th>\n",
       "      <td>Monsieur</td>\n",
       "      <td>Arévalo Christian</td>\n",
       "      <td>2007</td>\n",
       "      <td>2008</td>\n",
       "      <td>Bachelor</td>\n",
       "      <td>1</td>\n",
       "      <td>Présent</td>\n",
       "      <td></td>\n",
       "      <td></td>\n",
       "      <td>6</td>\n",
       "    </tr>\n",
       "    <tr>\n",
       "      <th>169569</th>\n",
       "      <td>Monsieur</td>\n",
       "      <td>Arévalo Christian</td>\n",
       "      <td>2009</td>\n",
       "      <td>2010</td>\n",
       "      <td>Bachelor</td>\n",
       "      <td>5</td>\n",
       "      <td>Présent</td>\n",
       "      <td></td>\n",
       "      <td></td>\n",
       "      <td>6</td>\n",
       "    </tr>\n",
       "    <tr>\n",
       "      <th>169569</th>\n",
       "      <td>Monsieur</td>\n",
       "      <td>Arévalo Christian</td>\n",
       "      <td>2008</td>\n",
       "      <td>2009</td>\n",
       "      <td>Bachelor</td>\n",
       "      <td>4</td>\n",
       "      <td>Présent</td>\n",
       "      <td></td>\n",
       "      <td></td>\n",
       "      <td>6</td>\n",
       "    </tr>\n",
       "    <tr>\n",
       "      <th>169569</th>\n",
       "      <td>Monsieur</td>\n",
       "      <td>Arévalo Christian</td>\n",
       "      <td>2009</td>\n",
       "      <td>2010</td>\n",
       "      <td>Bachelor</td>\n",
       "      <td>6</td>\n",
       "      <td>Présent</td>\n",
       "      <td></td>\n",
       "      <td></td>\n",
       "      <td>6</td>\n",
       "    </tr>\n",
       "  </tbody>\n",
       "</table>\n",
       "</div>"
      ],
      "text/plain": [
       "           title               name start   end    degree  semester   status  \\\n",
       "sciper                                                                         \n",
       "147008  Monsieur        Good Xavier  2008  2009  Bachelor         1  Présent   \n",
       "147008  Monsieur        Good Xavier  2008  2009  Bachelor         2  Présent   \n",
       "147008  Monsieur        Good Xavier  2010  2011  Bachelor         5    Congé   \n",
       "147008  Monsieur        Good Xavier  2009  2010  Bachelor         4  Présent   \n",
       "147008  Monsieur        Good Xavier  2010  2011  Bachelor         6    Congé   \n",
       "147008  Monsieur        Good Xavier  2009  2010  Bachelor         3  Présent   \n",
       "169569  Monsieur  Arévalo Christian  2007  2008  Bachelor         1  Présent   \n",
       "169569  Monsieur  Arévalo Christian  2009  2010  Bachelor         5  Présent   \n",
       "169569  Monsieur  Arévalo Christian  2008  2009  Bachelor         4  Présent   \n",
       "169569  Monsieur  Arévalo Christian  2009  2010  Bachelor         6  Présent   \n",
       "\n",
       "       spec minor  semester_count  \n",
       "sciper                             \n",
       "147008                          6  \n",
       "147008                          6  \n",
       "147008                          6  \n",
       "147008                          6  \n",
       "147008                          6  \n",
       "147008                          6  \n",
       "169569                          6  \n",
       "169569                          6  \n",
       "169569                          6  \n",
       "169569                          6  "
      ]
     },
     "execution_count": 96,
     "metadata": {},
     "output_type": "execute_result"
    }
   ],
   "source": [
    "ba_counted = compute_semester_count(compute_intersection_first_last_semester(ba_data, ba_1, ba_6))\n",
    "ba_counted.head(10)"
   ]
  },
  {
   "cell_type": "markdown",
   "metadata": {},
   "source": [
    "We want to keep one row per person and drop the columns that aren't useful for the analysis."
   ]
  },
  {
   "cell_type": "code",
   "execution_count": 97,
   "metadata": {
    "collapsed": false
   },
   "outputs": [
    {
     "data": {
      "text/html": [
       "<div>\n",
       "<table border=\"1\" class=\"dataframe\">\n",
       "  <thead>\n",
       "    <tr style=\"text-align: right;\">\n",
       "      <th></th>\n",
       "      <th>title</th>\n",
       "      <th>name</th>\n",
       "      <th>semester_count</th>\n",
       "    </tr>\n",
       "    <tr>\n",
       "      <th>sciper</th>\n",
       "      <th></th>\n",
       "      <th></th>\n",
       "      <th></th>\n",
       "    </tr>\n",
       "  </thead>\n",
       "  <tbody>\n",
       "    <tr>\n",
       "      <th>147008</th>\n",
       "      <td>Monsieur</td>\n",
       "      <td>Good Xavier</td>\n",
       "      <td>6</td>\n",
       "    </tr>\n",
       "    <tr>\n",
       "      <th>169569</th>\n",
       "      <td>Monsieur</td>\n",
       "      <td>Arévalo Christian</td>\n",
       "      <td>6</td>\n",
       "    </tr>\n",
       "    <tr>\n",
       "      <th>169731</th>\n",
       "      <td>Monsieur</td>\n",
       "      <td>Knecht Mathieu</td>\n",
       "      <td>8</td>\n",
       "    </tr>\n",
       "    <tr>\n",
       "      <th>169795</th>\n",
       "      <td>Monsieur</td>\n",
       "      <td>Scheiben Pascal</td>\n",
       "      <td>9</td>\n",
       "    </tr>\n",
       "    <tr>\n",
       "      <th>171195</th>\n",
       "      <td>Monsieur</td>\n",
       "      <td>Richter Arnaud</td>\n",
       "      <td>6</td>\n",
       "    </tr>\n",
       "  </tbody>\n",
       "</table>\n",
       "</div>"
      ],
      "text/plain": [
       "           title               name  semester_count\n",
       "sciper                                             \n",
       "147008  Monsieur        Good Xavier               6\n",
       "169569  Monsieur  Arévalo Christian               6\n",
       "169731  Monsieur     Knecht Mathieu               8\n",
       "169795  Monsieur    Scheiben Pascal               9\n",
       "171195  Monsieur     Richter Arnaud               6"
      ]
     },
     "execution_count": 97,
     "metadata": {},
     "output_type": "execute_result"
    }
   ],
   "source": [
    "ba_counted = ba_counted.groupby(ba_counted.index).agg('first')\n",
    "ba_counted = ba_counted[['title', 'name', 'semester_count']]\n",
    "ba_counted.head()"
   ]
  },
  {
   "cell_type": "markdown",
   "metadata": {},
   "source": [
    "We can now group by sex and compute the required stats:"
   ]
  },
  {
   "cell_type": "code",
   "execution_count": 98,
   "metadata": {
    "collapsed": false
   },
   "outputs": [
    {
     "data": {
      "text/html": [
       "<div>\n",
       "<table border=\"1\" class=\"dataframe\">\n",
       "  <thead>\n",
       "    <tr style=\"text-align: right;\">\n",
       "      <th></th>\n",
       "      <th></th>\n",
       "      <th>semester_count</th>\n",
       "    </tr>\n",
       "    <tr>\n",
       "      <th>title</th>\n",
       "      <th></th>\n",
       "      <th></th>\n",
       "    </tr>\n",
       "  </thead>\n",
       "  <tbody>\n",
       "    <tr>\n",
       "      <th rowspan=\"8\" valign=\"top\">Madame</th>\n",
       "      <th>count</th>\n",
       "      <td>29.000000</td>\n",
       "    </tr>\n",
       "    <tr>\n",
       "      <th>mean</th>\n",
       "      <td>6.793103</td>\n",
       "    </tr>\n",
       "    <tr>\n",
       "      <th>std</th>\n",
       "      <td>1.346406</td>\n",
       "    </tr>\n",
       "    <tr>\n",
       "      <th>min</th>\n",
       "      <td>6.000000</td>\n",
       "    </tr>\n",
       "    <tr>\n",
       "      <th>25%</th>\n",
       "      <td>6.000000</td>\n",
       "    </tr>\n",
       "    <tr>\n",
       "      <th>50%</th>\n",
       "      <td>6.000000</td>\n",
       "    </tr>\n",
       "    <tr>\n",
       "      <th>75%</th>\n",
       "      <td>8.000000</td>\n",
       "    </tr>\n",
       "    <tr>\n",
       "      <th>max</th>\n",
       "      <td>11.000000</td>\n",
       "    </tr>\n",
       "    <tr>\n",
       "      <th rowspan=\"8\" valign=\"top\">Monsieur</th>\n",
       "      <th>count</th>\n",
       "      <td>368.000000</td>\n",
       "    </tr>\n",
       "    <tr>\n",
       "      <th>mean</th>\n",
       "      <td>7.105978</td>\n",
       "    </tr>\n",
       "    <tr>\n",
       "      <th>std</th>\n",
       "      <td>1.536891</td>\n",
       "    </tr>\n",
       "    <tr>\n",
       "      <th>min</th>\n",
       "      <td>4.000000</td>\n",
       "    </tr>\n",
       "    <tr>\n",
       "      <th>25%</th>\n",
       "      <td>6.000000</td>\n",
       "    </tr>\n",
       "    <tr>\n",
       "      <th>50%</th>\n",
       "      <td>6.000000</td>\n",
       "    </tr>\n",
       "    <tr>\n",
       "      <th>75%</th>\n",
       "      <td>8.000000</td>\n",
       "    </tr>\n",
       "    <tr>\n",
       "      <th>max</th>\n",
       "      <td>12.000000</td>\n",
       "    </tr>\n",
       "  </tbody>\n",
       "</table>\n",
       "</div>"
      ],
      "text/plain": [
       "                semester_count\n",
       "title                         \n",
       "Madame   count       29.000000\n",
       "         mean         6.793103\n",
       "         std          1.346406\n",
       "         min          6.000000\n",
       "         25%          6.000000\n",
       "         50%          6.000000\n",
       "         75%          8.000000\n",
       "         max         11.000000\n",
       "Monsieur count      368.000000\n",
       "         mean         7.105978\n",
       "         std          1.536891\n",
       "         min          4.000000\n",
       "         25%          6.000000\n",
       "         50%          6.000000\n",
       "         75%          8.000000\n",
       "         max         12.000000"
      ]
     },
     "execution_count": 98,
     "metadata": {},
     "output_type": "execute_result"
    }
   ],
   "source": [
    "ba_counted.groupby('title').describe()"
   ]
  },
  {
   "cell_type": "markdown",
   "metadata": {},
   "source": [
    "### Discussion:"
   ]
  },
  {
   "cell_type": "markdown",
   "metadata": {},
   "source": [
    "Let's split the dataset into men and women:"
   ]
  },
  {
   "cell_type": "code",
   "execution_count": 157,
   "metadata": {
    "collapsed": false
   },
   "outputs": [
    {
     "name": "stdout",
     "output_type": "stream",
     "text": [
      "Average duration for men is (in semesters): 7.105978260869565\n",
      "Average duration for women is (in semesters): 6.793103448275862\n"
     ]
    }
   ],
   "source": [
    "from scipy import stats\n",
    "ba_men = ba_counted[ba_counted.title == 'Monsieur']['semester_count']\n",
    "ba_women = ba_counted[ba_counted.title == 'Madame']['semester_count']\n",
    "\n",
    "print('Average duration for men is (in semesters):', ba_men.mean())\n",
    "print('Average duration for women is (in semesters):', ba_women.mean())"
   ]
  },
  {
   "cell_type": "markdown",
   "metadata": {},
   "source": [
    "The null hypothesis we are testing against is: <b style=\"color:orange\">H0 = \"The average duration for the bachelor is the same for men and women\"</b>.<br>\n",
    "We will use the <b>two-sample t-test</b> for proving or disproving this hypothesis.<br>\n",
    "This test assumes that the variance of the two random variables are different. We need to check this first:"
   ]
  },
  {
   "cell_type": "code",
   "execution_count": 162,
   "metadata": {
    "collapsed": false
   },
   "outputs": [
    {
     "name": "stdout",
     "output_type": "stream",
     "text": [
      "The difference in variances is 0.549227125927124 != 0, so we can proceed.\n"
     ]
    }
   ],
   "source": [
    "dif_var = ba_men.var() - ba_women.var()\n",
    "print('The difference in variances is', dif_var, '!= 0, so we can proceed.')"
   ]
  },
  {
   "cell_type": "code",
   "execution_count": 165,
   "metadata": {
    "collapsed": false
   },
   "outputs": [
    {
     "data": {
      "text/plain": [
       "Ttest_indResult(statistic=1.191705695448116, pvalue=0.24162457057331926)"
      ]
     },
     "execution_count": 165,
     "metadata": {},
     "output_type": "execute_result"
    }
   ],
   "source": [
    "stats.ttest_ind(\n",
    "    ba_men,\n",
    "    ba_women,\n",
    "    equal_var = False\n",
    ")"
   ]
  },
  {
   "cell_type": "markdown",
   "metadata": {},
   "source": [
    "The p-value that we find is `24.16% >> 5%`, which is the maximal acceptable value to accept H0.<br>\n",
    "So we **reject** H0: the difference in average **is statistically significant**."
   ]
  },
  {
   "cell_type": "markdown",
   "metadata": {},
   "source": [
    "## Part 3b - Master data"
   ]
  },
  {
   "cell_type": "markdown",
   "metadata": {},
   "source": [
    "<p>We will perform the same kind of computation as before to compute the number of semesters per student. We need to mind the fact that some students don't start in the first semester, but in the second one. Also, we need to distinguish between students with a specialization or a minor, and those without.</p>\n",
    "<p><b>Assumptions:</b><br>\n",
    "- Some students have a MA3 registered even though they don't do either a specialization or a minor. We will consider them anyways.<br>\n",
    "</p>"
   ]
  },
  {
   "cell_type": "code",
   "execution_count": 99,
   "metadata": {
    "collapsed": false
   },
   "outputs": [
    {
     "name": "stdout",
     "output_type": "stream",
     "text": [
      "There were 948 students in IN-MA1 over the years\n",
      "There were 1062 students in IN-MA2 over the years\n",
      "There were 706 students in IN-MA3 over the years\n"
     ]
    }
   ],
   "source": [
    "# Proceed as before to filter into semesters\n",
    "ma_data = data[data.degree == 'Master']\n",
    "ma_1 = ma_data[ma_data.semester == 1]\n",
    "ma_2 = ma_data[ma_data.semester == 2]\n",
    "ma_3 = ma_data[ma_data.semester == 3]\n",
    "\n",
    "print('There were', len(ma_1), 'students in IN-MA1 over the years')\n",
    "print('There were', len(ma_2), 'students in IN-MA2 over the years')\n",
    "print('There were', len(ma_3), 'students in IN-MA3 over the years')"
   ]
  },
  {
   "cell_type": "markdown",
   "metadata": {},
   "source": [
    "In the bachelor analysis, we needed to compute the semester count between the first BA1 and the last BA6.<br>\n",
    "Here, it is not that simple, since the last semester of MA is not the same for everyone: some students finish in MA2, some finish in MA3, and they can very well succeed in both cases.<br>\n",
    "=&gt; The problem here is then to figure out, for which student, if their last semester is MA2 or MA3. This is done with the following index:"
   ]
  },
  {
   "cell_type": "code",
   "execution_count": 100,
   "metadata": {
    "collapsed": false
   },
   "outputs": [
    {
     "data": {
      "text/html": [
       "<div>\n",
       "<table border=\"1\" class=\"dataframe\">\n",
       "  <thead>\n",
       "    <tr style=\"text-align: right;\">\n",
       "      <th></th>\n",
       "      <th>semester</th>\n",
       "    </tr>\n",
       "    <tr>\n",
       "      <th>sciper</th>\n",
       "      <th></th>\n",
       "    </tr>\n",
       "  </thead>\n",
       "  <tbody>\n",
       "    <tr>\n",
       "      <th>128911</th>\n",
       "      <td>3</td>\n",
       "    </tr>\n",
       "    <tr>\n",
       "      <th>129093</th>\n",
       "      <td>3</td>\n",
       "    </tr>\n",
       "    <tr>\n",
       "      <th>129326</th>\n",
       "      <td>3</td>\n",
       "    </tr>\n",
       "    <tr>\n",
       "      <th>138088</th>\n",
       "      <td>1</td>\n",
       "    </tr>\n",
       "    <tr>\n",
       "      <th>145546</th>\n",
       "      <td>3</td>\n",
       "    </tr>\n",
       "  </tbody>\n",
       "</table>\n",
       "</div>"
      ],
      "text/plain": [
       "        semester\n",
       "sciper          \n",
       "128911         3\n",
       "129093         3\n",
       "129326         3\n",
       "138088         1\n",
       "145546         3"
      ]
     },
     "execution_count": 100,
     "metadata": {},
     "output_type": "execute_result"
    }
   ],
   "source": [
    "last_index = ma_data.groupby(ma_data.index).agg({'semester' : np.max})\n",
    "\n",
    "# 'semester' column here indicates the last semester number of the given student.\n",
    "last_index.head(5)"
   ]
  },
  {
   "cell_type": "markdown",
   "metadata": {},
   "source": [
    "Now, we merge this table back with all the master data. This is a typical `inner join`:"
   ]
  },
  {
   "cell_type": "code",
   "execution_count": 172,
   "metadata": {
    "collapsed": false
   },
   "outputs": [
    {
     "data": {
      "text/html": [
       "<div>\n",
       "<table border=\"1\" class=\"dataframe\">\n",
       "  <thead>\n",
       "    <tr style=\"text-align: right;\">\n",
       "      <th></th>\n",
       "      <th>title</th>\n",
       "      <th>name</th>\n",
       "      <th>start</th>\n",
       "      <th>end</th>\n",
       "      <th>degree</th>\n",
       "      <th>semester</th>\n",
       "      <th>status</th>\n",
       "      <th>spec</th>\n",
       "      <th>minor</th>\n",
       "    </tr>\n",
       "    <tr>\n",
       "      <th>sciper</th>\n",
       "      <th></th>\n",
       "      <th></th>\n",
       "      <th></th>\n",
       "      <th></th>\n",
       "      <th></th>\n",
       "      <th></th>\n",
       "      <th></th>\n",
       "      <th></th>\n",
       "      <th></th>\n",
       "    </tr>\n",
       "  </thead>\n",
       "  <tbody>\n",
       "    <tr>\n",
       "      <th>128911</th>\n",
       "      <td>Monsieur</td>\n",
       "      <td>Gulati Asheesh</td>\n",
       "      <td>2007</td>\n",
       "      <td>2008</td>\n",
       "      <td>Master</td>\n",
       "      <td>3</td>\n",
       "      <td>Présent</td>\n",
       "      <td>Internet computing</td>\n",
       "      <td></td>\n",
       "    </tr>\n",
       "    <tr>\n",
       "      <th>129093</th>\n",
       "      <td>Monsieur</td>\n",
       "      <td>Zhou Maoan</td>\n",
       "      <td>2007</td>\n",
       "      <td>2008</td>\n",
       "      <td>Master</td>\n",
       "      <td>3</td>\n",
       "      <td>Stage</td>\n",
       "      <td></td>\n",
       "      <td></td>\n",
       "    </tr>\n",
       "    <tr>\n",
       "      <th>129326</th>\n",
       "      <td>Monsieur</td>\n",
       "      <td>Ni Zhong Zhong</td>\n",
       "      <td>2007</td>\n",
       "      <td>2008</td>\n",
       "      <td>Master</td>\n",
       "      <td>3</td>\n",
       "      <td>Présent</td>\n",
       "      <td></td>\n",
       "      <td></td>\n",
       "    </tr>\n",
       "    <tr>\n",
       "      <th>138088</th>\n",
       "      <td>Monsieur</td>\n",
       "      <td>Droz-dit-Busset Arnault</td>\n",
       "      <td>2007</td>\n",
       "      <td>2008</td>\n",
       "      <td>Master</td>\n",
       "      <td>1</td>\n",
       "      <td>Présent</td>\n",
       "      <td></td>\n",
       "      <td></td>\n",
       "    </tr>\n",
       "    <tr>\n",
       "      <th>145546</th>\n",
       "      <td>Monsieur</td>\n",
       "      <td>Clivaz Jean-Philippe</td>\n",
       "      <td>2007</td>\n",
       "      <td>2008</td>\n",
       "      <td>Master</td>\n",
       "      <td>3</td>\n",
       "      <td>Présent</td>\n",
       "      <td></td>\n",
       "      <td></td>\n",
       "    </tr>\n",
       "  </tbody>\n",
       "</table>\n",
       "</div>"
      ],
      "text/plain": [
       "           title                     name start   end  degree  semester  \\\n",
       "sciper                                                                    \n",
       "128911  Monsieur           Gulati Asheesh  2007  2008  Master         3   \n",
       "129093  Monsieur               Zhou Maoan  2007  2008  Master         3   \n",
       "129326  Monsieur           Ni Zhong Zhong  2007  2008  Master         3   \n",
       "138088  Monsieur  Droz-dit-Busset Arnault  2007  2008  Master         1   \n",
       "145546  Monsieur     Clivaz Jean-Philippe  2007  2008  Master         3   \n",
       "\n",
       "         status                spec minor  \n",
       "sciper                                     \n",
       "128911  Présent  Internet computing        \n",
       "129093    Stage                            \n",
       "129326  Présent                            \n",
       "138088  Présent                            \n",
       "145546  Présent                            "
      ]
     },
     "execution_count": 172,
     "metadata": {},
     "output_type": "execute_result"
    }
   ],
   "source": [
    "ma_last = ma_data.reset_index().merge(last_index.reset_index(), how='inner', on=['sciper','semester']).set_index('sciper')\n",
    "ma_last.sort_index().head(5)"
   ]
  },
  {
   "cell_type": "markdown",
   "metadata": {},
   "source": [
    "We need to <b>not consider</b> students whose maximal semester number is 1: this would be an indication that the student did not graduate at EPFL:"
   ]
  },
  {
   "cell_type": "code",
   "execution_count": 173,
   "metadata": {
    "collapsed": false
   },
   "outputs": [
    {
     "data": {
      "text/html": [
       "<div>\n",
       "<table border=\"1\" class=\"dataframe\">\n",
       "  <thead>\n",
       "    <tr style=\"text-align: right;\">\n",
       "      <th></th>\n",
       "      <th>title</th>\n",
       "      <th>name</th>\n",
       "      <th>start</th>\n",
       "      <th>end</th>\n",
       "      <th>degree</th>\n",
       "      <th>semester</th>\n",
       "      <th>status</th>\n",
       "      <th>spec</th>\n",
       "      <th>minor</th>\n",
       "    </tr>\n",
       "    <tr>\n",
       "      <th>sciper</th>\n",
       "      <th></th>\n",
       "      <th></th>\n",
       "      <th></th>\n",
       "      <th></th>\n",
       "      <th></th>\n",
       "      <th></th>\n",
       "      <th></th>\n",
       "      <th></th>\n",
       "      <th></th>\n",
       "    </tr>\n",
       "  </thead>\n",
       "  <tbody>\n",
       "    <tr>\n",
       "      <th>128911</th>\n",
       "      <td>Monsieur</td>\n",
       "      <td>Gulati Asheesh</td>\n",
       "      <td>2007</td>\n",
       "      <td>2008</td>\n",
       "      <td>Master</td>\n",
       "      <td>3</td>\n",
       "      <td>Présent</td>\n",
       "      <td>Internet computing</td>\n",
       "      <td></td>\n",
       "    </tr>\n",
       "    <tr>\n",
       "      <th>129093</th>\n",
       "      <td>Monsieur</td>\n",
       "      <td>Zhou Maoan</td>\n",
       "      <td>2007</td>\n",
       "      <td>2008</td>\n",
       "      <td>Master</td>\n",
       "      <td>3</td>\n",
       "      <td>Stage</td>\n",
       "      <td></td>\n",
       "      <td></td>\n",
       "    </tr>\n",
       "    <tr>\n",
       "      <th>129326</th>\n",
       "      <td>Monsieur</td>\n",
       "      <td>Ni Zhong Zhong</td>\n",
       "      <td>2007</td>\n",
       "      <td>2008</td>\n",
       "      <td>Master</td>\n",
       "      <td>3</td>\n",
       "      <td>Présent</td>\n",
       "      <td></td>\n",
       "      <td></td>\n",
       "    </tr>\n",
       "    <tr>\n",
       "      <th>145546</th>\n",
       "      <td>Monsieur</td>\n",
       "      <td>Clivaz Jean-Philippe</td>\n",
       "      <td>2007</td>\n",
       "      <td>2008</td>\n",
       "      <td>Master</td>\n",
       "      <td>3</td>\n",
       "      <td>Présent</td>\n",
       "      <td></td>\n",
       "      <td></td>\n",
       "    </tr>\n",
       "    <tr>\n",
       "      <th>145957</th>\n",
       "      <td>Monsieur</td>\n",
       "      <td>Hügli Michael</td>\n",
       "      <td>2007</td>\n",
       "      <td>2008</td>\n",
       "      <td>Master</td>\n",
       "      <td>3</td>\n",
       "      <td>Présent</td>\n",
       "      <td></td>\n",
       "      <td></td>\n",
       "    </tr>\n",
       "  </tbody>\n",
       "</table>\n",
       "</div>"
      ],
      "text/plain": [
       "           title                  name start   end  degree  semester   status  \\\n",
       "sciper                                                                          \n",
       "128911  Monsieur        Gulati Asheesh  2007  2008  Master         3  Présent   \n",
       "129093  Monsieur            Zhou Maoan  2007  2008  Master         3    Stage   \n",
       "129326  Monsieur        Ni Zhong Zhong  2007  2008  Master         3  Présent   \n",
       "145546  Monsieur  Clivaz Jean-Philippe  2007  2008  Master         3  Présent   \n",
       "145957  Monsieur         Hügli Michael  2007  2008  Master         3  Présent   \n",
       "\n",
       "                      spec minor  \n",
       "sciper                            \n",
       "128911  Internet computing        \n",
       "129093                            \n",
       "129326                            \n",
       "145546                            \n",
       "145957                            "
      ]
     },
     "execution_count": 173,
     "metadata": {},
     "output_type": "execute_result"
    }
   ],
   "source": [
    "ma_last = ma_last[ma_last.semester != 1]\n",
    "ma_last.sort_index().head(5)"
   ]
  },
  {
   "cell_type": "markdown",
   "metadata": {},
   "source": [
    "Now, we can use the functions that we defined in the Bachelor part, to compute the now usual intersection between students who were in the MA1 and then subsequently in their respective last semester of Master (MA2 or MA3)."
   ]
  },
  {
   "cell_type": "code",
   "execution_count": 175,
   "metadata": {
    "collapsed": false
   },
   "outputs": [
    {
     "data": {
      "text/html": [
       "<div>\n",
       "<table border=\"1\" class=\"dataframe\">\n",
       "  <thead>\n",
       "    <tr style=\"text-align: right;\">\n",
       "      <th></th>\n",
       "      <th>title</th>\n",
       "      <th>name</th>\n",
       "      <th>semester_count</th>\n",
       "      <th>minor</th>\n",
       "      <th>spec</th>\n",
       "    </tr>\n",
       "    <tr>\n",
       "      <th>sciper</th>\n",
       "      <th></th>\n",
       "      <th></th>\n",
       "      <th></th>\n",
       "      <th></th>\n",
       "      <th></th>\n",
       "    </tr>\n",
       "  </thead>\n",
       "  <tbody>\n",
       "    <tr>\n",
       "      <th>224356</th>\n",
       "      <td>Monsieur</td>\n",
       "      <td>Guggenheim Daniel Vincent</td>\n",
       "      <td>3</td>\n",
       "      <td></td>\n",
       "      <td></td>\n",
       "    </tr>\n",
       "    <tr>\n",
       "      <th>205617</th>\n",
       "      <td>Monsieur</td>\n",
       "      <td>Corthésy Sébastien</td>\n",
       "      <td>5</td>\n",
       "      <td>Mineur en Management, technologie et entrepren...</td>\n",
       "      <td></td>\n",
       "    </tr>\n",
       "    <tr>\n",
       "      <th>214805</th>\n",
       "      <td>Monsieur</td>\n",
       "      <td>Elmas Ferhat</td>\n",
       "      <td>4</td>\n",
       "      <td></td>\n",
       "      <td>Internet computing</td>\n",
       "    </tr>\n",
       "    <tr>\n",
       "      <th>192685</th>\n",
       "      <td>Monsieur</td>\n",
       "      <td>Heer Philippe</td>\n",
       "      <td>3</td>\n",
       "      <td></td>\n",
       "      <td></td>\n",
       "    </tr>\n",
       "    <tr>\n",
       "      <th>243164</th>\n",
       "      <td>Monsieur</td>\n",
       "      <td>Brechbühler Gil</td>\n",
       "      <td>4</td>\n",
       "      <td></td>\n",
       "      <td></td>\n",
       "    </tr>\n",
       "  </tbody>\n",
       "</table>\n",
       "</div>"
      ],
      "text/plain": [
       "           title                       name  semester_count  \\\n",
       "sciper                                                        \n",
       "224356  Monsieur  Guggenheim Daniel Vincent               3   \n",
       "205617  Monsieur         Corthésy Sébastien               5   \n",
       "214805  Monsieur               Elmas Ferhat               4   \n",
       "192685  Monsieur              Heer Philippe               3   \n",
       "243164  Monsieur            Brechbühler Gil               4   \n",
       "\n",
       "                                                    minor                spec  \n",
       "sciper                                                                         \n",
       "224356                                                                         \n",
       "205617  Mineur en Management, technologie et entrepren...                      \n",
       "214805                                                     Internet computing  \n",
       "192685                                                                         \n",
       "243164                                                                         "
      ]
     },
     "execution_count": 175,
     "metadata": {},
     "output_type": "execute_result"
    }
   ],
   "source": [
    "ma_counted = compute_semester_count(compute_intersection_first_last_semester(ma_data, ma_1, ma_last))\n",
    "ma_counted = ma_counted.groupby(ma_counted.index).agg('first')\n",
    "ma_counted = ma_counted[['title', 'name', 'semester_count', 'minor', 'spec']]\n",
    "ma_counted.sample(5)"
   ]
  },
  {
   "cell_type": "markdown",
   "metadata": {},
   "source": [
    "### Considering Master project (\"PDM\") data"
   ]
  },
  {
   "cell_type": "markdown",
   "metadata": {},
   "source": [
    "It is now time to add the data for the students that did their PDM.<br>\n",
    "All the students present in the `ma_counted` table above are already considered to have graduated successfully from EPFL, but the duration needs to be adjusted to take into account their PDM.<br>\n",
    "We just need to fetch PDM data:"
   ]
  },
  {
   "cell_type": "code",
   "execution_count": 104,
   "metadata": {
    "collapsed": false
   },
   "outputs": [
    {
     "data": {
      "text/html": [
       "<div>\n",
       "<table border=\"1\" class=\"dataframe\">\n",
       "  <thead>\n",
       "    <tr style=\"text-align: right;\">\n",
       "      <th></th>\n",
       "      <th>title</th>\n",
       "      <th>name</th>\n",
       "      <th>start</th>\n",
       "      <th>end</th>\n",
       "      <th>degree</th>\n",
       "      <th>semester</th>\n",
       "      <th>status</th>\n",
       "      <th>spec</th>\n",
       "      <th>minor</th>\n",
       "    </tr>\n",
       "    <tr>\n",
       "      <th>sciper</th>\n",
       "      <th></th>\n",
       "      <th></th>\n",
       "      <th></th>\n",
       "      <th></th>\n",
       "      <th></th>\n",
       "      <th></th>\n",
       "      <th></th>\n",
       "      <th></th>\n",
       "      <th></th>\n",
       "    </tr>\n",
       "  </thead>\n",
       "  <tbody>\n",
       "    <tr>\n",
       "      <th>166075</th>\n",
       "      <td>Monsieur</td>\n",
       "      <td>Amiguet Jérôme</td>\n",
       "      <td>2016</td>\n",
       "      <td>2017</td>\n",
       "      <td>PDM</td>\n",
       "      <td>1</td>\n",
       "      <td>Présent</td>\n",
       "      <td></td>\n",
       "      <td></td>\n",
       "    </tr>\n",
       "    <tr>\n",
       "      <th>243163</th>\n",
       "      <td>Monsieur</td>\n",
       "      <td>Antognini Diego Matteo</td>\n",
       "      <td>2016</td>\n",
       "      <td>2017</td>\n",
       "      <td>PDM</td>\n",
       "      <td>1</td>\n",
       "      <td>Présent</td>\n",
       "      <td></td>\n",
       "      <td></td>\n",
       "    </tr>\n",
       "    <tr>\n",
       "      <th>194182</th>\n",
       "      <td>Monsieur</td>\n",
       "      <td>Antognini Marco</td>\n",
       "      <td>2016</td>\n",
       "      <td>2017</td>\n",
       "      <td>PDM</td>\n",
       "      <td>1</td>\n",
       "      <td>Présent</td>\n",
       "      <td>Foundations of Software</td>\n",
       "      <td></td>\n",
       "    </tr>\n",
       "    <tr>\n",
       "      <th>213664</th>\n",
       "      <td>Monsieur</td>\n",
       "      <td>Bouquet Stéphane</td>\n",
       "      <td>2016</td>\n",
       "      <td>2017</td>\n",
       "      <td>PDM</td>\n",
       "      <td>1</td>\n",
       "      <td>Présent</td>\n",
       "      <td></td>\n",
       "      <td>Mineur en Management, technologie et entrepren...</td>\n",
       "    </tr>\n",
       "    <tr>\n",
       "      <th>214637</th>\n",
       "      <td>Monsieur</td>\n",
       "      <td>Bovet Sidney</td>\n",
       "      <td>2016</td>\n",
       "      <td>2017</td>\n",
       "      <td>PDM</td>\n",
       "      <td>1</td>\n",
       "      <td>Présent</td>\n",
       "      <td></td>\n",
       "      <td></td>\n",
       "    </tr>\n",
       "  </tbody>\n",
       "</table>\n",
       "</div>"
      ],
      "text/plain": [
       "           title                    name start   end degree  semester  \\\n",
       "sciper                                                                  \n",
       "166075  Monsieur          Amiguet Jérôme  2016  2017    PDM         1   \n",
       "243163  Monsieur  Antognini Diego Matteo  2016  2017    PDM         1   \n",
       "194182  Monsieur         Antognini Marco  2016  2017    PDM         1   \n",
       "213664  Monsieur        Bouquet Stéphane  2016  2017    PDM         1   \n",
       "214637  Monsieur            Bovet Sidney  2016  2017    PDM         1   \n",
       "\n",
       "         status                     spec  \\\n",
       "sciper                                     \n",
       "166075  Présent                            \n",
       "243163  Présent                            \n",
       "194182  Présent  Foundations of Software   \n",
       "213664  Présent                            \n",
       "214637  Présent                            \n",
       "\n",
       "                                                    minor  \n",
       "sciper                                                     \n",
       "166075                                                     \n",
       "243163                                                     \n",
       "194182                                                     \n",
       "213664  Mineur en Management, technologie et entrepren...  \n",
       "214637                                                     "
      ]
     },
     "execution_count": 104,
     "metadata": {},
     "output_type": "execute_result"
    }
   ],
   "source": [
    "pdm_data = data[data.degree == 'PDM']\n",
    "pdm_data.head()"
   ]
  },
  {
   "cell_type": "markdown",
   "metadata": {},
   "source": [
    "Some PDMs are longer than one semester. We can now compute the number of semesters of each student in `pdm_data`."
   ]
  },
  {
   "cell_type": "code",
   "execution_count": 105,
   "metadata": {
    "collapsed": false
   },
   "outputs": [
    {
     "data": {
      "text/html": [
       "<div>\n",
       "<table border=\"1\" class=\"dataframe\">\n",
       "  <thead>\n",
       "    <tr style=\"text-align: right;\">\n",
       "      <th></th>\n",
       "      <th>semester_count_pdm</th>\n",
       "    </tr>\n",
       "    <tr>\n",
       "      <th>sciper</th>\n",
       "      <th></th>\n",
       "    </tr>\n",
       "  </thead>\n",
       "  <tbody>\n",
       "    <tr>\n",
       "      <th>145957</th>\n",
       "      <td>1</td>\n",
       "    </tr>\n",
       "    <tr>\n",
       "      <th>146742</th>\n",
       "      <td>2</td>\n",
       "    </tr>\n",
       "    <tr>\n",
       "      <th>153819</th>\n",
       "      <td>1</td>\n",
       "    </tr>\n",
       "    <tr>\n",
       "      <th>154573</th>\n",
       "      <td>1</td>\n",
       "    </tr>\n",
       "    <tr>\n",
       "      <th>159516</th>\n",
       "      <td>1</td>\n",
       "    </tr>\n",
       "  </tbody>\n",
       "</table>\n",
       "</div>"
      ],
      "text/plain": [
       "        semester_count_pdm\n",
       "sciper                    \n",
       "145957                   1\n",
       "146742                   2\n",
       "153819                   1\n",
       "154573                   1\n",
       "159516                   1"
      ]
     },
     "execution_count": 105,
     "metadata": {},
     "output_type": "execute_result"
    }
   ],
   "source": [
    "pdm_counted = pdm_data.reset_index()[['sciper', 'semester']].groupby(['sciper']).count()\n",
    "pdm_counted = pdm_counted.rename(columns={'semester' : 'semester_count_pdm'})\n",
    "pdm_counted.head()"
   ]
  },
  {
   "cell_type": "markdown",
   "metadata": {},
   "source": [
    "Now we join this table with `ma_counted`.<br>\n",
    "It is assumed that every student that did a first and a last semester of courses also did a PDM, even if this is not registered in ISA (some other databases seem to exist). Thus we add one semester to the count of the students who are in that case."
   ]
  },
  {
   "cell_type": "code",
   "execution_count": 182,
   "metadata": {
    "collapsed": false
   },
   "outputs": [
    {
     "data": {
      "text/html": [
       "<div>\n",
       "<table border=\"1\" class=\"dataframe\">\n",
       "  <thead>\n",
       "    <tr style=\"text-align: right;\">\n",
       "      <th></th>\n",
       "      <th>title</th>\n",
       "      <th>name</th>\n",
       "      <th>semester_count</th>\n",
       "      <th>minor</th>\n",
       "      <th>spec</th>\n",
       "      <th>semester_count_pdm</th>\n",
       "    </tr>\n",
       "    <tr>\n",
       "      <th>sciper</th>\n",
       "      <th></th>\n",
       "      <th></th>\n",
       "      <th></th>\n",
       "      <th></th>\n",
       "      <th></th>\n",
       "      <th></th>\n",
       "    </tr>\n",
       "  </thead>\n",
       "  <tbody>\n",
       "    <tr>\n",
       "      <th>146330</th>\n",
       "      <td>Monsieur</td>\n",
       "      <td>Cardinaux Damien</td>\n",
       "      <td>3</td>\n",
       "      <td></td>\n",
       "      <td></td>\n",
       "      <td>1.0</td>\n",
       "    </tr>\n",
       "    <tr>\n",
       "      <th>146742</th>\n",
       "      <td>Monsieur</td>\n",
       "      <td>Marx Clément</td>\n",
       "      <td>5</td>\n",
       "      <td></td>\n",
       "      <td>Signals, Images and Interfaces</td>\n",
       "      <td>2.0</td>\n",
       "    </tr>\n",
       "    <tr>\n",
       "      <th>146929</th>\n",
       "      <td>Monsieur</td>\n",
       "      <td>Junod Antoine</td>\n",
       "      <td>2</td>\n",
       "      <td></td>\n",
       "      <td></td>\n",
       "      <td>1.0</td>\n",
       "    </tr>\n",
       "    <tr>\n",
       "      <th>147008</th>\n",
       "      <td>Monsieur</td>\n",
       "      <td>Good Xavier</td>\n",
       "      <td>4</td>\n",
       "      <td></td>\n",
       "      <td></td>\n",
       "      <td>1.0</td>\n",
       "    </tr>\n",
       "    <tr>\n",
       "      <th>152232</th>\n",
       "      <td>Monsieur</td>\n",
       "      <td>Anagnostaras David</td>\n",
       "      <td>3</td>\n",
       "      <td></td>\n",
       "      <td></td>\n",
       "      <td>1.0</td>\n",
       "    </tr>\n",
       "  </tbody>\n",
       "</table>\n",
       "</div>"
      ],
      "text/plain": [
       "           title                name  semester_count minor  \\\n",
       "sciper                                                       \n",
       "146330  Monsieur    Cardinaux Damien               3         \n",
       "146742  Monsieur        Marx Clément               5         \n",
       "146929  Monsieur       Junod Antoine               2         \n",
       "147008  Monsieur         Good Xavier               4         \n",
       "152232  Monsieur  Anagnostaras David               3         \n",
       "\n",
       "                                  spec  semester_count_pdm  \n",
       "sciper                                                      \n",
       "146330                                                 1.0  \n",
       "146742  Signals, Images and Interfaces                 2.0  \n",
       "146929                                                 1.0  \n",
       "147008                                                 1.0  \n",
       "152232                                                 1.0  "
      ]
     },
     "execution_count": 182,
     "metadata": {},
     "output_type": "execute_result"
    }
   ],
   "source": [
    "ma_with_pdm = ma_counted.reset_index().merge(pdm_counted.reset_index(), how='left').set_index('sciper')\n",
    "ma_with_pdm['semester_count_pdm'].fillna(1, inplace=True)\n",
    "ma_with_pdm.head()"
   ]
  },
  {
   "cell_type": "markdown",
   "metadata": {},
   "source": [
    "The final `semester_count` is given by the sum of itself with the number of semesters for the PDM:"
   ]
  },
  {
   "cell_type": "code",
   "execution_count": 185,
   "metadata": {
    "collapsed": false
   },
   "outputs": [
    {
     "data": {
      "text/html": [
       "<div>\n",
       "<table border=\"1\" class=\"dataframe\">\n",
       "  <thead>\n",
       "    <tr style=\"text-align: right;\">\n",
       "      <th></th>\n",
       "      <th>title</th>\n",
       "      <th>name</th>\n",
       "      <th>semester_count</th>\n",
       "      <th>minor</th>\n",
       "      <th>spec</th>\n",
       "    </tr>\n",
       "    <tr>\n",
       "      <th>sciper</th>\n",
       "      <th></th>\n",
       "      <th></th>\n",
       "      <th></th>\n",
       "      <th></th>\n",
       "      <th></th>\n",
       "    </tr>\n",
       "  </thead>\n",
       "  <tbody>\n",
       "    <tr>\n",
       "      <th>146330</th>\n",
       "      <td>Monsieur</td>\n",
       "      <td>Cardinaux Damien</td>\n",
       "      <td>4.0</td>\n",
       "      <td></td>\n",
       "      <td></td>\n",
       "    </tr>\n",
       "    <tr>\n",
       "      <th>146742</th>\n",
       "      <td>Monsieur</td>\n",
       "      <td>Marx Clément</td>\n",
       "      <td>7.0</td>\n",
       "      <td></td>\n",
       "      <td>Signals, Images and Interfaces</td>\n",
       "    </tr>\n",
       "    <tr>\n",
       "      <th>146929</th>\n",
       "      <td>Monsieur</td>\n",
       "      <td>Junod Antoine</td>\n",
       "      <td>3.0</td>\n",
       "      <td></td>\n",
       "      <td></td>\n",
       "    </tr>\n",
       "    <tr>\n",
       "      <th>147008</th>\n",
       "      <td>Monsieur</td>\n",
       "      <td>Good Xavier</td>\n",
       "      <td>5.0</td>\n",
       "      <td></td>\n",
       "      <td></td>\n",
       "    </tr>\n",
       "    <tr>\n",
       "      <th>152232</th>\n",
       "      <td>Monsieur</td>\n",
       "      <td>Anagnostaras David</td>\n",
       "      <td>4.0</td>\n",
       "      <td></td>\n",
       "      <td></td>\n",
       "    </tr>\n",
       "  </tbody>\n",
       "</table>\n",
       "</div>"
      ],
      "text/plain": [
       "           title                name  semester_count minor  \\\n",
       "sciper                                                       \n",
       "146330  Monsieur    Cardinaux Damien             4.0         \n",
       "146742  Monsieur        Marx Clément             7.0         \n",
       "146929  Monsieur       Junod Antoine             3.0         \n",
       "147008  Monsieur         Good Xavier             5.0         \n",
       "152232  Monsieur  Anagnostaras David             4.0         \n",
       "\n",
       "                                  spec  \n",
       "sciper                                  \n",
       "146330                                  \n",
       "146742  Signals, Images and Interfaces  \n",
       "146929                                  \n",
       "147008                                  \n",
       "152232                                  "
      ]
     },
     "execution_count": 185,
     "metadata": {},
     "output_type": "execute_result"
    }
   ],
   "source": [
    "ma_with_pdm.semester_count = ma_with_pdm.semester_count + ma_with_pdm.semester_count_pdm\n",
    "ma_with_pdm = ma_with_pdm.drop('semester_count_pdm', axis=1)\n",
    "ma_with_pdm.head()"
   ]
  },
  {
   "cell_type": "markdown",
   "metadata": {},
   "source": [
    "The average stay at EPFL (PDM included) for Master students is (in semesters):"
   ]
  },
  {
   "cell_type": "code",
   "execution_count": 186,
   "metadata": {
    "collapsed": false
   },
   "outputs": [
    {
     "name": "stdout",
     "output_type": "stream",
     "text": [
      "4.2434554973821985 semesters\n"
     ]
    }
   ],
   "source": [
    "print(ma_with_pdm.semester_count.mean(), 'semesters')"
   ]
  },
  {
   "cell_type": "markdown",
   "metadata": {},
   "source": [
    "### Students with a specialization"
   ]
  },
  {
   "cell_type": "markdown",
   "metadata": {},
   "source": [
    "To get the average for each specialization, we need to do the following:"
   ]
  },
  {
   "cell_type": "code",
   "execution_count": 215,
   "metadata": {
    "collapsed": false
   },
   "outputs": [
    {
     "data": {
      "text/html": [
       "<div>\n",
       "<table border=\"1\" class=\"dataframe\">\n",
       "  <thead>\n",
       "    <tr style=\"text-align: right;\">\n",
       "      <th></th>\n",
       "      <th>semester_count</th>\n",
       "    </tr>\n",
       "    <tr>\n",
       "      <th>spec</th>\n",
       "      <th></th>\n",
       "    </tr>\n",
       "  </thead>\n",
       "  <tbody>\n",
       "    <tr>\n",
       "      <th>Biocomputing</th>\n",
       "      <td>5.000000</td>\n",
       "    </tr>\n",
       "    <tr>\n",
       "      <th>Computer Engineering - SP</th>\n",
       "      <td>4.600000</td>\n",
       "    </tr>\n",
       "    <tr>\n",
       "      <th>Computer Science Theory</th>\n",
       "      <td>4.000000</td>\n",
       "    </tr>\n",
       "    <tr>\n",
       "      <th>Data Analytics</th>\n",
       "      <td>3.750000</td>\n",
       "    </tr>\n",
       "    <tr>\n",
       "      <th>Foundations of Software</th>\n",
       "      <td>5.000000</td>\n",
       "    </tr>\n",
       "    <tr>\n",
       "      <th>Information Security - SP</th>\n",
       "      <td>4.200000</td>\n",
       "    </tr>\n",
       "    <tr>\n",
       "      <th>Internet Information Systems</th>\n",
       "      <td>4.000000</td>\n",
       "    </tr>\n",
       "    <tr>\n",
       "      <th>Internet computing</th>\n",
       "      <td>4.718750</td>\n",
       "    </tr>\n",
       "    <tr>\n",
       "      <th>Service science</th>\n",
       "      <td>4.333333</td>\n",
       "    </tr>\n",
       "    <tr>\n",
       "      <th>Signals, Images and Interfaces</th>\n",
       "      <td>4.904762</td>\n",
       "    </tr>\n",
       "    <tr>\n",
       "      <th>Software Systems</th>\n",
       "      <td>4.333333</td>\n",
       "    </tr>\n",
       "  </tbody>\n",
       "</table>\n",
       "</div>"
      ],
      "text/plain": [
       "                                semester_count\n",
       "spec                                          \n",
       "Biocomputing                          5.000000\n",
       "Computer Engineering - SP             4.600000\n",
       "Computer Science Theory               4.000000\n",
       "Data Analytics                        3.750000\n",
       "Foundations of Software               5.000000\n",
       "Information Security - SP             4.200000\n",
       "Internet Information Systems          4.000000\n",
       "Internet computing                    4.718750\n",
       "Service science                       4.333333\n",
       "Signals, Images and Interfaces        4.904762\n",
       "Software Systems                      4.333333"
      ]
     },
     "execution_count": 215,
     "metadata": {},
     "output_type": "execute_result"
    }
   ],
   "source": [
    "students_with_spec = ma_with_pdm[ma_with_pdm.spec != '']\n",
    "grouped = students_with_spec.groupby('spec')\n",
    "grouped.mean()"
   ]
  },
  {
   "cell_type": "markdown",
   "metadata": {},
   "source": [
    "The minimum number of semesters for people with a specialization is 3 semesters of courses + 1 of PDM = 4 semesters.<br>\n",
    "The summary above can be viewed graphically in the following plot:"
   ]
  },
  {
   "cell_type": "code",
   "execution_count": 213,
   "metadata": {
    "collapsed": false
   },
   "outputs": [
    {
     "data": {
      "text/plain": [
       "<matplotlib.axes._subplots.AxesSubplot at 0x1f430defe10>"
      ]
     },
     "execution_count": 213,
     "metadata": {},
     "output_type": "execute_result"
    },
    {
     "data": {
      "image/png": "[encoded data removed]",
      "text/plain": [
       "<matplotlib.figure.Figure at 0x1f4314cc5f8>"
      ]
     },
     "metadata": {},
     "output_type": "display_data"
    }
   ],
   "source": [
    "%matplotlib inline\n",
    "grouped.mean().semester_count.plot(kind='bar')"
   ]
  },
  {
   "cell_type": "markdown",
   "metadata": {
    "collapsed": true
   },
   "source": [
    "### Discussion:"
   ]
  },
  {
   "cell_type": "markdown",
   "metadata": {},
   "source": [
    "For each specialization `s`, we will compare `s.mean` and the general average for people having a specialization.<br><br>\n",
    "For each test, the null hypothesis we are testing against is: <b style=\"color:orange\">H0 = \"The average duration for the stay at EPFL when chosing this specialization is not statistically different from the general average\"</b>.<br>\n",
    "We will use the <b>one-sample t-test</b> for proving or disproving this hypothesis.<br>"
   ]
  },
  {
   "cell_type": "code",
   "execution_count": 239,
   "metadata": {
    "collapsed": false
   },
   "outputs": [
    {
     "name": "stdout",
     "output_type": "stream",
     "text": [
      "The p-values for each specialization are:\n",
      "Biocomputing :    0.825247690928\n",
      "Computer Engineering - SP :    0.588504064409\n",
      "Data Analytics :    0.0304544538648\n",
      "Foundations of Software :    0.0718541658505\n",
      "Information Security - SP :    0.0605590749374\n",
      "Internet computing :    0.997508703962\n",
      "Service science :    0.367389431899\n",
      "Signals, Images and Interfaces :    0.442939194729\n",
      "Software Systems :    0.00854234618811\n"
     ]
    }
   ],
   "source": [
    "print('The p-values for each specialization are:')\n",
    "for s_name, s_data in grouped:\n",
    "    if len(s_data) > 1:\n",
    "        print(s_name, ':   ', stats.ttest_1samp(\n",
    "            s_data.semester_count,\n",
    "            students_with_spec.semester_count.mean()\n",
    "        ).pvalue)"
   ]
  },
  {
   "cell_type": "markdown",
   "metadata": {},
   "source": [
    "So specializations \"Data analytics\" and \"software sytems\", which have a p-value lower than 5%, **satistfy H0**, that is, their average length is not statistically different from the general average.<br>\n",
    "The average length of **all other** specializations (whose p-values are > 5%) **are statistically different**"
   ]
  },
  {
   "cell_type": "code",
   "execution_count": null,
   "metadata": {
    "collapsed": true
   },
   "outputs": [],
   "source": []
  }
 ],
 "metadata": {
  "anaconda-cloud": {},
  "kernelspec": {
   "display_name": "Python [conda root]",
   "language": "python",
   "name": "conda-root-py"
  },
  "language_info": {
   "codemirror_mode": {
    "name": "ipython",
    "version": 3
   },
   "file_extension": ".py",
   "mimetype": "text/x-python",
   "name": "python",
   "nbconvert_exporter": "python",
   "pygments_lexer": "ipython3",
   "version": "3.5.2"
  }
 },
 "nbformat": 4,
 "nbformat_minor": 1
}
